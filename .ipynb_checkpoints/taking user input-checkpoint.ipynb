{
 "cells": [
  {
   "cell_type": "code",
   "execution_count": 3,
   "id": "0617b51d-8a3e-46da-b3dd-1259e930b485",
   "metadata": {},
   "outputs": [
    {
     "data": {
      "text/plain": [
       "113.09733552923254"
      ]
     },
     "execution_count": 3,
     "metadata": {},
     "output_type": "execute_result"
    }
   ],
   "source": [
    "import math\n",
    "r = 3\n",
    "volume = 4 / 3 * math.pi * r ** 3\n",
    "volume"
   ]
  },
  {
   "cell_type": "code",
   "execution_count": 5,
   "id": "e081310d-9371-4f1b-b3f9-f2c9962258d3",
   "metadata": {},
   "outputs": [
    {
     "name": "stdin",
     "output_type": "stream",
     "text": [
      " Hello\n"
     ]
    },
    {
     "data": {
      "text/plain": [
       "'Hello'"
      ]
     },
     "execution_count": 5,
     "metadata": {},
     "output_type": "execute_result"
    }
   ],
   "source": [
    "input()"
   ]
  },
  {
   "cell_type": "code",
   "execution_count": 7,
   "id": "0ffed0cf-f78d-4418-bb6c-4705b4867f0f",
   "metadata": {},
   "outputs": [
    {
     "name": "stdin",
     "output_type": "stream",
     "text": [
      "Enter radius 4\n"
     ]
    }
   ],
   "source": [
    "radius = input(\"Enter radius\")"
   ]
  },
  {
   "cell_type": "code",
   "execution_count": 8,
   "id": "5924cd9c-d51f-46ca-acf9-d15c076e2d7b",
   "metadata": {},
   "outputs": [
    {
     "name": "stdout",
     "output_type": "stream",
     "text": [
      "4\n"
     ]
    }
   ],
   "source": [
    "print(radius)"
   ]
  },
  {
   "cell_type": "code",
   "execution_count": 9,
   "id": "4e3e2d6d-43d2-42f5-98f0-d264dcd1ac14",
   "metadata": {},
   "outputs": [
    {
     "name": "stdin",
     "output_type": "stream",
     "text": [
      "Enter your mesage: Hello World\n"
     ]
    }
   ],
   "source": [
    "msg = input(\"Enter your mesage:\")"
   ]
  },
  {
   "cell_type": "code",
   "execution_count": 10,
   "id": "eaa91d79-2555-403a-9c1f-0240e868dc9e",
   "metadata": {},
   "outputs": [
    {
     "data": {
      "text/plain": [
       "'Hello World'"
      ]
     },
     "execution_count": 10,
     "metadata": {},
     "output_type": "execute_result"
    }
   ],
   "source": [
    "msg"
   ]
  },
  {
   "cell_type": "code",
   "execution_count": 16,
   "id": "b8ca4ec2-250b-4142-8f9e-a45808ce07fd",
   "metadata": {},
   "outputs": [
    {
     "name": "stdin",
     "output_type": "stream",
     "text": [
      "What is your name?/n Rajendra Niroula\n"
     ]
    },
    {
     "name": "stdout",
     "output_type": "stream",
     "text": [
      "My name is Rajendra Niroula.\n"
     ]
    }
   ],
   "source": [
    "name = input(\"What is your name?/n\")\n",
    "print(f\"My name is {name}.\")"
   ]
  },
  {
   "cell_type": "code",
   "execution_count": 13,
   "id": "cd587917-c82c-47c0-9ce4-1e1d65aa420e",
   "metadata": {},
   "outputs": [
    {
     "name": "stdin",
     "output_type": "stream",
     "text": [
      "Enter your first name:  Naresh \n",
      "Enter your last name:  Dhimal\n"
     ]
    }
   ],
   "source": [
    "first_name = input(\"Enter your first name: \")\n",
    "last_name = input(\"Enter your last name: \")"
   ]
  },
  {
   "cell_type": "code",
   "execution_count": 14,
   "id": "089ff9bf-5f2b-4872-9b4a-63a7d19ca2a1",
   "metadata": {},
   "outputs": [
    {
     "name": "stdout",
     "output_type": "stream",
     "text": [
      "My name is Naresh  Dhimal.\n"
     ]
    }
   ],
   "source": [
    "print(f\"My name is {first_name} {last_name}.\")"
   ]
  },
  {
   "cell_type": "code",
   "execution_count": 17,
   "id": "efafa696-3c72-4c51-b7a1-c57bad50baa0",
   "metadata": {},
   "outputs": [
    {
     "data": {
      "text/plain": [
       "str"
      ]
     },
     "execution_count": 17,
     "metadata": {},
     "output_type": "execute_result"
    }
   ],
   "source": [
    "type(first_name)"
   ]
  },
  {
   "cell_type": "code",
   "execution_count": 18,
   "id": "86b01702-a921-4aa7-9810-fa370b9a4e67",
   "metadata": {},
   "outputs": [
    {
     "name": "stdin",
     "output_type": "stream",
     "text": [
      "Enter first number:  4\n"
     ]
    }
   ],
   "source": [
    "a = int(input(\"Enter first number: \"))"
   ]
  },
  {
   "cell_type": "code",
   "execution_count": 19,
   "id": "8dffab7e-f927-4ad6-bd43-badb8354b9ad",
   "metadata": {},
   "outputs": [
    {
     "data": {
      "text/plain": [
       "int"
      ]
     },
     "execution_count": 19,
     "metadata": {},
     "output_type": "execute_result"
    }
   ],
   "source": [
    "type(a)"
   ]
  },
  {
   "cell_type": "code",
   "execution_count": null,
   "id": "2f700fa8-cd58-4b33-85d9-45d73e41a351",
   "metadata": {},
   "outputs": [],
   "source": []
  }
 ],
 "metadata": {
  "kernelspec": {
   "display_name": "Python 3 (ipykernel)",
   "language": "python",
   "name": "python3"
  },
  "language_info": {
   "codemirror_mode": {
    "name": "ipython",
    "version": 3
   },
   "file_extension": ".py",
   "mimetype": "text/x-python",
   "name": "python",
   "nbconvert_exporter": "python",
   "pygments_lexer": "ipython3",
   "version": "3.12.0"
  }
 },
 "nbformat": 4,
 "nbformat_minor": 5
}
