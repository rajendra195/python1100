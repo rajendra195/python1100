{
 "cells": [
  {
   "cell_type": "markdown",
   "id": "c5f1ab3b-a857-402f-8675-ea03d88ec036",
   "metadata": {},
   "source": [
    "# Zip"
   ]
  },
  {
   "cell_type": "code",
   "execution_count": 1,
   "id": "eb386a94-f684-48ee-94c3-371c7c877380",
   "metadata": {},
   "outputs": [
    {
     "data": {
      "text/plain": [
       "<zip at 0x1bb515ba040>"
      ]
     },
     "execution_count": 1,
     "metadata": {},
     "output_type": "execute_result"
    }
   ],
   "source": [
    "emp_id = [\"e01\", \"e02\", \"e03\"]\n",
    "emp_name = [\"Kshitiz\", \"Ram\", \"Rita\"]\n",
    "zip(emp_id, emp_name)"
   ]
  },
  {
   "cell_type": "code",
   "execution_count": 2,
   "id": "cae865d6-c0c7-49d6-9470-a7620ab45764",
   "metadata": {},
   "outputs": [
    {
     "name": "stdout",
     "output_type": "stream",
     "text": [
      "('e01', 'Kshitiz')\n",
      "('e02', 'Ram')\n",
      "('e03', 'Rita')\n"
     ]
    }
   ],
   "source": [
    "for item in zip(emp_id, emp_name):\n",
    "    print(item)"
   ]
  },
  {
   "cell_type": "code",
   "execution_count": 3,
   "id": "4ce98ca8-90a7-4d65-8fb2-270704e85ed1",
   "metadata": {},
   "outputs": [
    {
     "data": {
      "text/plain": [
       "{'e01': 'Kshitiz', 'e02': 'Ram', 'e03': 'Rita'}"
      ]
     },
     "execution_count": 3,
     "metadata": {},
     "output_type": "execute_result"
    }
   ],
   "source": [
    "dict(zip(emp_id, emp_name))"
   ]
  },
  {
   "cell_type": "markdown",
   "id": "c98eff20-a8d4-4d8f-adba-993ec9168475",
   "metadata": {},
   "source": [
    "# iterators vs generators (interview questions)"
   ]
  },
  {
   "cell_type": "markdown",
   "id": "c5fffe35-aa80-409a-ae63-35c9b9cc0f1c",
   "metadata": {},
   "source": [
    "# args vs kwargs (IQ)"
   ]
  },
  {
   "cell_type": "markdown",
   "id": "0da6178e-e391-4526-98f3-8efad7b96a44",
   "metadata": {},
   "source": [
    "# *args"
   ]
  },
  {
   "cell_type": "code",
   "execution_count": 4,
   "id": "67c24cb7-458c-41c0-b3a7-310ea6b91e72",
   "metadata": {},
   "outputs": [],
   "source": [
    "def add(a, b):\n",
    "    return a + b"
   ]
  },
  {
   "cell_type": "code",
   "execution_count": 5,
   "id": "16f8f5bc-fa94-487b-9ff3-31de269f597a",
   "metadata": {},
   "outputs": [
    {
     "data": {
      "text/plain": [
       "6"
      ]
     },
     "execution_count": 5,
     "metadata": {},
     "output_type": "execute_result"
    }
   ],
   "source": [
    "add(a=2, b=4)"
   ]
  },
  {
   "cell_type": "code",
   "execution_count": 8,
   "id": "25dfac7b-f0a3-4499-8875-797fe6a0687e",
   "metadata": {},
   "outputs": [],
   "source": [
    "def add(*args):\n",
    "    print(args, type(args))"
   ]
  },
  {
   "cell_type": "code",
   "execution_count": 9,
   "id": "4ea43dc7-6318-4a86-92b4-30569be895d4",
   "metadata": {},
   "outputs": [
    {
     "name": "stdout",
     "output_type": "stream",
     "text": [
      "() <class 'tuple'>\n"
     ]
    }
   ],
   "source": [
    "add()"
   ]
  },
  {
   "cell_type": "code",
   "execution_count": 10,
   "id": "b7089a78-75e8-4509-92da-e823244ed9ac",
   "metadata": {},
   "outputs": [
    {
     "name": "stdout",
     "output_type": "stream",
     "text": [
      "(4, 5, 34) <class 'tuple'>\n"
     ]
    }
   ],
   "source": [
    "add(4, 5, 34)"
   ]
  },
  {
   "cell_type": "code",
   "execution_count": 11,
   "id": "aee98f05-e448-4f0c-809d-887364da75a9",
   "metadata": {},
   "outputs": [
    {
     "name": "stdout",
     "output_type": "stream",
     "text": [
      "(3, 54, 34, 23, 34) <class 'tuple'>\n"
     ]
    }
   ],
   "source": [
    "add(3, 54, 34, 23, 34)"
   ]
  },
  {
   "cell_type": "code",
   "execution_count": 20,
   "id": "30038379-ea6a-424d-b141-56009fbc6f0c",
   "metadata": {},
   "outputs": [
    {
     "data": {
      "text/plain": [
       "111"
      ]
     },
     "execution_count": 20,
     "metadata": {},
     "output_type": "execute_result"
    }
   ],
   "source": [
    "def add(*args):\n",
    "    total = 0\n",
    "    for item in args:\n",
    "        total += item\n",
    "    return total\n",
    "\n",
    "sum = add(4, 64, 34, 5, 4)\n",
    "sum"
   ]
  },
  {
   "cell_type": "code",
   "execution_count": 16,
   "id": "034777b0-b059-431c-ac73-11f25e90ccd7",
   "metadata": {},
   "outputs": [
    {
     "name": "stdout",
     "output_type": "stream",
     "text": [
      "216\n"
     ]
    }
   ],
   "source": [
    "print(add(4, 45, 34, 23, 10, 100))"
   ]
  },
  {
   "cell_type": "markdown",
   "id": "bfd0ba3f-3796-4ac3-a171-18c49fed177c",
   "metadata": {},
   "source": [
    "# **kwargs"
   ]
  },
  {
   "cell_type": "code",
   "execution_count": 23,
   "id": "eeb3403e-b73b-4c74-a3dd-07187e6d38b1",
   "metadata": {},
   "outputs": [
    {
     "name": "stdout",
     "output_type": "stream",
     "text": [
      "{'name': 'Kshitiz', 'age': 26, 'location': 'Patan'} <class 'dict'>\n"
     ]
    }
   ],
   "source": [
    "def about(**kwargs):\n",
    "    print(kwargs, type(kwargs))\n",
    "\n",
    "about(name=\"Kshitiz\", age=26, location=\"Patan\")"
   ]
  },
  {
   "cell_type": "markdown",
   "id": "72f1b057-714d-48e8-84f4-be74ed30cc9b",
   "metadata": {},
   "source": [
    "# funciton examples"
   ]
  },
  {
   "cell_type": "code",
   "execution_count": 24,
   "id": "f7ea4303-2a94-47a1-a825-2f7f9d7d817c",
   "metadata": {},
   "outputs": [],
   "source": [
    "import math"
   ]
  },
  {
   "cell_type": "code",
   "execution_count": 25,
   "id": "9d266622-36a4-4a12-8b5b-71e206c35762",
   "metadata": {},
   "outputs": [
    {
     "data": {
      "text/plain": [
       "135"
      ]
     },
     "execution_count": 25,
     "metadata": {},
     "output_type": "execute_result"
    }
   ],
   "source": [
    "math.lcm(5, 27)"
   ]
  },
  {
   "cell_type": "code",
   "execution_count": 26,
   "id": "96064474-f969-49a5-afc7-78aa51966fd7",
   "metadata": {},
   "outputs": [
    {
     "data": {
      "text/plain": [
       "5"
      ]
     },
     "execution_count": 26,
     "metadata": {},
     "output_type": "execute_result"
    }
   ],
   "source": [
    "math.gcd(5, 25)"
   ]
  },
  {
   "cell_type": "code",
   "execution_count": 27,
   "id": "0eaf792d-a2b6-48a9-8580-291bbf69f4ee",
   "metadata": {},
   "outputs": [],
   "source": [
    "import math"
   ]
  },
  {
   "cell_type": "code",
   "execution_count": 28,
   "id": "38a75969-2ca9-4d71-8c31-fe43b38a8b6c",
   "metadata": {},
   "outputs": [],
   "source": [
    "def find_gcd_lcm(a, b):\n",
    "    gcd = math.gcd(a, b)\n",
    "    lcm = math.lcm(a, b)\n",
    "    return gcd, lcm\n",
    "\n",
    "gcd, lcm = find_gcd_lcm(a=45, b=9)"
   ]
  },
  {
   "cell_type": "code",
   "execution_count": 29,
   "id": "9977fde0-4bfe-403d-9245-bbba0deaaeb3",
   "metadata": {},
   "outputs": [
    {
     "data": {
      "text/plain": [
       "9"
      ]
     },
     "execution_count": 29,
     "metadata": {},
     "output_type": "execute_result"
    }
   ],
   "source": [
    "gcd"
   ]
  },
  {
   "cell_type": "code",
   "execution_count": 31,
   "id": "489e3b51-0631-440b-a6c9-eac57dda400d",
   "metadata": {},
   "outputs": [
    {
     "data": {
      "text/plain": [
       "45"
      ]
     },
     "execution_count": 31,
     "metadata": {},
     "output_type": "execute_result"
    }
   ],
   "source": [
    "lcm"
   ]
  },
  {
   "cell_type": "markdown",
   "id": "9d9ce539-a8c6-4b4b-90f6-2237a81691a0",
   "metadata": {},
   "source": [
    "# Find the factorial of a given number\n",
    "```python\n",
    "    0! = 1\n",
    "    1! = 1 * 0! = 1\n",
    "    2! = 2 * 1! = 2\n",
    "    3! = 3 * 2! = 6\n",
    "    4! = 4 * 3! = 24\n",
    "    5! = 5 * 4! = 120\n",
    "    \n",
    "```"
   ]
  },
  {
   "cell_type": "code",
   "execution_count": 36,
   "id": "57643043-2167-4a4e-87fd-4014a31b945c",
   "metadata": {},
   "outputs": [
    {
     "name": "stdout",
     "output_type": "stream",
     "text": [
      "120\n"
     ]
    }
   ],
   "source": [
    "num = 5\n",
    "fact = 1\n",
    "\n",
    "for index in range(1, num + 1):\n",
    "    fact = fact * index\n",
    "print(fact)"
   ]
  },
  {
   "cell_type": "code",
   "execution_count": 38,
   "id": "61c9854a-e577-4ef0-ac34-4fecbc47d078",
   "metadata": {},
   "outputs": [
    {
     "name": "stdout",
     "output_type": "stream",
     "text": [
      "120\n"
     ]
    }
   ],
   "source": [
    "def factorial(num):\n",
    "    fact = 1\n",
    "    for index in range(1, num + 1):\n",
    "        fact = fact * index\n",
    "    return fact"
   ]
  },
  {
   "cell_type": "code",
   "execution_count": 39,
   "id": "a59d80e5-509b-497a-8377-83c5ed7f59bf",
   "metadata": {},
   "outputs": [
    {
     "data": {
      "text/plain": [
       "120"
      ]
     },
     "execution_count": 39,
     "metadata": {},
     "output_type": "execute_result"
    }
   ],
   "source": [
    "factorial(num=5) "
   ]
  },
  {
   "cell_type": "code",
   "execution_count": 42,
   "id": "909a9d53-a035-46bc-ac0c-e9629a6bde17",
   "metadata": {},
   "outputs": [
    {
     "data": {
      "text/plain": [
       "720"
      ]
     },
     "execution_count": 42,
     "metadata": {},
     "output_type": "execute_result"
    }
   ],
   "source": [
    "factorial(num=6)"
   ]
  },
  {
   "cell_type": "code",
   "execution_count": 50,
   "id": "ee906b48-0b42-4379-a43e-e61b733e28db",
   "metadata": {},
   "outputs": [
    {
     "data": {
      "text/plain": [
       "1"
      ]
     },
     "execution_count": 50,
     "metadata": {},
     "output_type": "execute_result"
    }
   ],
   "source": [
    "num = 5\n",
    "\n",
    "index = 4 # any number between 2 - 5 means 2, 3, 4\n",
    "num % index"
   ]
  },
  {
   "cell_type": "code",
   "execution_count": 51,
   "id": "dd04d7fa-8f1b-4457-9ab3-8f9db8815dd0",
   "metadata": {},
   "outputs": [
    {
     "name": "stdout",
     "output_type": "stream",
     "text": [
      "num is divisible by 2.\n",
      "num is divisible by 3.\n",
      "num is divisible by 4.\n"
     ]
    }
   ],
   "source": [
    "for index in range(2, num):\n",
    "    if num % index == 0:\n",
    "        print(f\"num is divisible by {index}.\")\n",
    "    else:\n",
    "        print(f\"num is divisible by {index}.\")"
   ]
  },
  {
   "cell_type": "code",
   "execution_count": 58,
   "id": "c4f2bcfc-3ae3-4e42-b38b-1fd0e6d2f09e",
   "metadata": {},
   "outputs": [
    {
     "data": {
      "text/plain": [
       "True"
      ]
     },
     "execution_count": 58,
     "metadata": {},
     "output_type": "execute_result"
    }
   ],
   "source": [
    "def is_prime(num):\n",
    "    for index in range(2, num):\n",
    "        if num % index == 0:\n",
    "            return False\n",
    "    return True\n",
    "\n",
    "is_prime(5)"
   ]
  },
  {
   "cell_type": "code",
   "execution_count": 56,
   "id": "6c4fae0c-6cae-43c0-8c32-26eef514a439",
   "metadata": {},
   "outputs": [
    {
     "data": {
      "text/plain": [
       "[[2, True],\n",
       " [3, True],\n",
       " [4, False],\n",
       " [5, True],\n",
       " [6, False],\n",
       " [7, True],\n",
       " [8, False],\n",
       " [9, False],\n",
       " [10, False],\n",
       " [11, True],\n",
       " [12, False],\n",
       " [13, True],\n",
       " [14, False]]"
      ]
     },
     "execution_count": 56,
     "metadata": {},
     "output_type": "execute_result"
    }
   ],
   "source": [
    "[[item, is_prime(item)] for item in range(2, 15)]"
   ]
  },
  {
   "cell_type": "code",
   "execution_count": null,
   "id": "8475452d-ca8d-40c6-a619-4077949cee1d",
   "metadata": {},
   "outputs": [],
   "source": []
  }
 ],
 "metadata": {
  "kernelspec": {
   "display_name": "Python 3 (ipykernel)",
   "language": "python",
   "name": "python3"
  },
  "language_info": {
   "codemirror_mode": {
    "name": "ipython",
    "version": 3
   },
   "file_extension": ".py",
   "mimetype": "text/x-python",
   "name": "python",
   "nbconvert_exporter": "python",
   "pygments_lexer": "ipython3",
   "version": "3.12.0"
  }
 },
 "nbformat": 4,
 "nbformat_minor": 5
}
