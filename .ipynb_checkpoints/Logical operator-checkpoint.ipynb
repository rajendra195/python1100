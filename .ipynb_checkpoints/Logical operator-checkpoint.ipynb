{
 "cells": [
  {
   "cell_type": "markdown",
   "id": "10076973-ad85-4cee-98f6-b76340c75191",
   "metadata": {},
   "source": [
    "# Logical operators (and, or , not)"
   ]
  },
  {
   "cell_type": "markdown",
   "id": "23525fbe-9dea-43a9-b403-fc24c7651499",
   "metadata": {},
   "source": [
    "# and operator"
   ]
  },
  {
   "cell_type": "code",
   "execution_count": 3,
   "id": "e1a329f1-cd69-4141-8857-44ed997985eb",
   "metadata": {},
   "outputs": [
    {
     "data": {
      "text/plain": [
       "True"
      ]
     },
     "execution_count": 3,
     "metadata": {},
     "output_type": "execute_result"
    }
   ],
   "source": [
    "True and True"
   ]
  },
  {
   "cell_type": "code",
   "execution_count": 4,
   "id": "5c9aacc3-f8fb-4db0-bd35-d287552d4e30",
   "metadata": {},
   "outputs": [
    {
     "data": {
      "text/plain": [
       "False"
      ]
     },
     "execution_count": 4,
     "metadata": {},
     "output_type": "execute_result"
    }
   ],
   "source": [
    "True and False"
   ]
  },
  {
   "cell_type": "code",
   "execution_count": 5,
   "id": "80db2a6b-b306-4260-85dc-9cecc86e6806",
   "metadata": {},
   "outputs": [
    {
     "data": {
      "text/plain": [
       "False"
      ]
     },
     "execution_count": 5,
     "metadata": {},
     "output_type": "execute_result"
    }
   ],
   "source": [
    "False and False"
   ]
  },
  {
   "cell_type": "markdown",
   "id": "da26c6fc-dd5f-4481-b663-8d6eac27d984",
   "metadata": {},
   "source": [
    "and operator gives true if both the operation are True"
   ]
  },
  {
   "cell_type": "code",
   "execution_count": 11,
   "id": "7970261d-bde6-4066-9ddb-a86d34863d16",
   "metadata": {},
   "outputs": [
    {
     "name": "stdin",
     "output_type": "stream",
     "text": [
      "Enter your age?  13\n"
     ]
    },
    {
     "name": "stdout",
     "output_type": "stream",
     "text": [
      "Teenager\n"
     ]
    }
   ],
   "source": [
    "age = int(input(\"Enter your age? \"))\n",
    "if age <= 19 and age >= 13:\n",
    "    print(\"Teenager\")"
   ]
  },
  {
   "cell_type": "markdown",
   "id": "80989fd5-cc94-4b45-a6df-5d840c34dc84",
   "metadata": {},
   "source": [
    "# or operator\n",
    "or operator gives true if any of the operation is True"
   ]
  },
  {
   "cell_type": "code",
   "execution_count": 14,
   "id": "3f523355-7bc1-4336-a9f9-501ad4af33dc",
   "metadata": {},
   "outputs": [
    {
     "data": {
      "text/plain": [
       "True"
      ]
     },
     "execution_count": 14,
     "metadata": {},
     "output_type": "execute_result"
    }
   ],
   "source": [
    "True or True"
   ]
  },
  {
   "cell_type": "code",
   "execution_count": 15,
   "id": "df6aaaca-4e9e-4243-9ee0-273a4e61b9c5",
   "metadata": {},
   "outputs": [
    {
     "data": {
      "text/plain": [
       "True"
      ]
     },
     "execution_count": 15,
     "metadata": {},
     "output_type": "execute_result"
    }
   ],
   "source": [
    "True or False"
   ]
  },
  {
   "cell_type": "code",
   "execution_count": 16,
   "id": "99c5d9ea-cfd5-4dce-8c6e-3370f8978448",
   "metadata": {},
   "outputs": [
    {
     "data": {
      "text/plain": [
       "True"
      ]
     },
     "execution_count": 16,
     "metadata": {},
     "output_type": "execute_result"
    }
   ],
   "source": [
    "False or True"
   ]
  },
  {
   "cell_type": "code",
   "execution_count": 17,
   "id": "48a14349-ca7f-4c42-8f4c-0c9ffd152c2c",
   "metadata": {},
   "outputs": [
    {
     "data": {
      "text/plain": [
       "False"
      ]
     },
     "execution_count": 17,
     "metadata": {},
     "output_type": "execute_result"
    }
   ],
   "source": [
    "False or False"
   ]
  },
  {
   "cell_type": "code",
   "execution_count": 23,
   "id": "a7d37553-5667-4fa1-bfab-862c18ee976e",
   "metadata": {},
   "outputs": [
    {
     "name": "stdout",
     "output_type": "stream",
     "text": [
      "Distinction\n"
     ]
    }
   ],
   "source": [
    "percentage = 82\n",
    "if percentage == 80 or percentage > 80:\n",
    "    print(\"Distinction\")\n",
    "else:\n",
    "    print(\"Not Distinction\")"
   ]
  },
  {
   "cell_type": "markdown",
   "id": "bd39f0b3-c046-47e0-9eaf-10ae70e736e5",
   "metadata": {},
   "source": [
    "# not operator"
   ]
  },
  {
   "cell_type": "code",
   "execution_count": 24,
   "id": "de10375b-aa84-49cc-95ad-beedf3b1ffca",
   "metadata": {},
   "outputs": [
    {
     "data": {
      "text/plain": [
       "False"
      ]
     },
     "execution_count": 24,
     "metadata": {},
     "output_type": "execute_result"
    }
   ],
   "source": [
    "not True"
   ]
  },
  {
   "cell_type": "code",
   "execution_count": 25,
   "id": "fe0b7587-e473-40a7-a230-0b1599360396",
   "metadata": {},
   "outputs": [
    {
     "data": {
      "text/plain": [
       "True"
      ]
     },
     "execution_count": 25,
     "metadata": {},
     "output_type": "execute_result"
    }
   ],
   "source": [
    "not False"
   ]
  },
  {
   "cell_type": "code",
   "execution_count": 39,
   "id": "f255ce35-64f9-4a13-a6f6-494c267def6b",
   "metadata": {},
   "outputs": [
    {
     "name": "stdin",
     "output_type": "stream",
     "text": [
      "Enter your percentage:  456\n"
     ]
    },
    {
     "name": "stdout",
     "output_type": "stream",
     "text": [
      "Error, Please contact head office.\n"
     ]
    }
   ],
   "source": [
    "percentage = float(input(\"Enter your percentage: \"))\n",
    "if percentage <= 45:\n",
    "    print(\"You've failed, work harder.\")\n",
    "elif percentage > 45 and percentage < 60:\n",
    "    print(\"Second Division, You can do better.\")\n",
    "elif percentage >= 60 and percentage < 80:\n",
    "    print(\"First Division.\")\n",
    "elif percentage >= 80 and percentage <= 100:\n",
    "    print(\"Excellent, you're a topper.\")\n",
    "else:\n",
    "    print(\"Error, Please contact head office.\")"
   ]
  },
  {
   "cell_type": "code",
   "execution_count": null,
   "id": "21ccb16b-fc43-4a9f-ae39-df964a878461",
   "metadata": {},
   "outputs": [],
   "source": []
  }
 ],
 "metadata": {
  "kernelspec": {
   "display_name": "Python 3 (ipykernel)",
   "language": "python",
   "name": "python3"
  },
  "language_info": {
   "codemirror_mode": {
    "name": "ipython",
    "version": 3
   },
   "file_extension": ".py",
   "mimetype": "text/x-python",
   "name": "python",
   "nbconvert_exporter": "python",
   "pygments_lexer": "ipython3",
   "version": "3.12.0"
  }
 },
 "nbformat": 4,
 "nbformat_minor": 5
}
