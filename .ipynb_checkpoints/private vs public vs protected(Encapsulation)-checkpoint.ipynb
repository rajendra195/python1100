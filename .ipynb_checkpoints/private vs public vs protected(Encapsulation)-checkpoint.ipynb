{
 "cells": [
  {
   "cell_type": "markdown",
   "id": "a01519a2-8d92-4c96-bc29-7cdb95bb73be",
   "metadata": {},
   "source": [
    "# Are access specifiers used in python? - No but has concept of limiting behaviour of variables: private attribute are not inherited"
   ]
  },
  {
   "cell_type": "code",
   "execution_count": 1,
   "id": "c9503bc6-15ae-4688-a4d7-12ff2a29df58",
   "metadata": {},
   "outputs": [],
   "source": [
    "class Tutor:\n",
    "\n",
    "    # public\n",
    "    name = \"Kshitiz\"\n",
    "\n",
    "    # protected\n",
    "    _address = \"Patan\"\n",
    "\n",
    "    # private\n",
    "    __age = 26"
   ]
  },
  {
   "cell_type": "code",
   "execution_count": 2,
   "id": "cf881005-15c5-4e61-a340-0fc71722592e",
   "metadata": {},
   "outputs": [
    {
     "data": {
      "text/plain": [
       "'Kshitiz'"
      ]
     },
     "execution_count": 2,
     "metadata": {},
     "output_type": "execute_result"
    }
   ],
   "source": [
    "t1 = Tutor()\n",
    "t1.name"
   ]
  },
  {
   "cell_type": "code",
   "execution_count": 4,
   "id": "fa9ae1ef-b091-4040-a785-3ffd938eef8f",
   "metadata": {},
   "outputs": [
    {
     "data": {
      "text/plain": [
       "'Patan'"
      ]
     },
     "execution_count": 4,
     "metadata": {},
     "output_type": "execute_result"
    }
   ],
   "source": [
    "t1._address"
   ]
  },
  {
   "cell_type": "code",
   "execution_count": 5,
   "id": "59728b6f-9570-480a-a1da-f6c9eb013cee",
   "metadata": {},
   "outputs": [
    {
     "ename": "AttributeError",
     "evalue": "'Tutor' object has no attribute '__age'",
     "output_type": "error",
     "traceback": [
      "\u001b[1;31m---------------------------------------------------------------------------\u001b[0m",
      "\u001b[1;31mAttributeError\u001b[0m                            Traceback (most recent call last)",
      "Cell \u001b[1;32mIn[5], line 1\u001b[0m\n\u001b[1;32m----> 1\u001b[0m \u001b[43mt1\u001b[49m\u001b[38;5;241;43m.\u001b[39;49m\u001b[43m__age\u001b[49m\n",
      "\u001b[1;31mAttributeError\u001b[0m: 'Tutor' object has no attribute '__age'"
     ]
    }
   ],
   "source": [
    "t1.__age"
   ]
  },
  {
   "cell_type": "markdown",
   "id": "f1925b2b-5ad5-4ddb-b22f-f961f09fc445",
   "metadata": {},
   "source": [
    "# public vs private vs protected\n",
    "* Public data attributes are accessible by any class and function, protected data attributes should only be accessed inside the class environment and can also be accessed inside the sub-classes and private data attributes are only accessible inside the class."
   ]
  },
  {
   "cell_type": "markdown",
   "id": "45c2b2e8-e1b7-48fb-9ec0-5c3b3b433501",
   "metadata": {},
   "source": [
    "# Polymorphism"
   ]
  },
  {
   "cell_type": "code",
   "execution_count": null,
   "id": "a29f6489-9279-4852-bf93-5735b04d55c5",
   "metadata": {},
   "outputs": [],
   "source": []
  }
 ],
 "metadata": {
  "kernelspec": {
   "display_name": "Python 3 (ipykernel)",
   "language": "python",
   "name": "python3"
  },
  "language_info": {
   "codemirror_mode": {
    "name": "ipython",
    "version": 3
   },
   "file_extension": ".py",
   "mimetype": "text/x-python",
   "name": "python",
   "nbconvert_exporter": "python",
   "pygments_lexer": "ipython3",
   "version": "3.12.0"
  }
 },
 "nbformat": 4,
 "nbformat_minor": 5
}
