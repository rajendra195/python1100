{
 "cells": [
  {
   "cell_type": "markdown",
   "id": "bda4865e-6406-4bb8-bdc9-d41a00edbfa7",
   "metadata": {},
   "source": [
    "# nested loop"
   ]
  },
  {
   "cell_type": "code",
   "execution_count": 3,
   "id": "1b9a89a8-871a-4beb-8db2-7e90b70a415d",
   "metadata": {},
   "outputs": [
    {
     "name": "stdout",
     "output_type": "stream",
     "text": [
      "--------------------\n",
      "i = 0\n",
      "--------------------\n",
      "j = 0\n",
      "j = 1\n",
      "j = 2\n",
      "--------------------\n",
      "i = 1\n",
      "--------------------\n",
      "j = 0\n",
      "j = 1\n",
      "j = 2\n",
      "--------------------\n",
      "i = 2\n",
      "--------------------\n",
      "j = 0\n",
      "j = 1\n",
      "j = 2\n",
      "--------------------\n",
      "i = 3\n",
      "--------------------\n",
      "j = 0\n",
      "j = 1\n",
      "j = 2\n",
      "--------------------\n",
      "i = 4\n",
      "--------------------\n",
      "j = 0\n",
      "j = 1\n",
      "j = 2\n"
     ]
    }
   ],
   "source": [
    "for i in range(5):\n",
    "    print(\"--------------------\")\n",
    "    print(f\"i = {i}\")\n",
    "    print(\"--------------------\")\n",
    "    for j in range(3):\n",
    "        print(f\"j = {j}\")"
   ]
  },
  {
   "cell_type": "code",
   "execution_count": 14,
   "id": "756c0a95-2502-46d5-8be6-9eb2ca93417b",
   "metadata": {},
   "outputs": [],
   "source": [
    "data = [[3, 5], [34, 5, 5, 3], [3, 5, 34, 34, 2]]"
   ]
  },
  {
   "cell_type": "code",
   "execution_count": 15,
   "id": "be729a80-5ea4-4dcb-8d99-e4964e5ef379",
   "metadata": {},
   "outputs": [
    {
     "name": "stdout",
     "output_type": "stream",
     "text": [
      "[3, 5]\n",
      "[34, 5, 5, 3]\n",
      "[3, 5, 34, 34, 2]\n"
     ]
    }
   ],
   "source": [
    "output = []\n",
    "for item in data:\n",
    "    print(item)"
   ]
  },
  {
   "cell_type": "code",
   "execution_count": 16,
   "id": "5a39dd2f-46cd-4557-b0e9-bfd38e9e2bf6",
   "metadata": {},
   "outputs": [
    {
     "data": {
      "text/plain": [
       "8"
      ]
     },
     "execution_count": 16,
     "metadata": {},
     "output_type": "execute_result"
    }
   ],
   "source": [
    "item = data[0]\n",
    "total = 0\n",
    "for i in item:\n",
    "    total += i\n",
    "total"
   ]
  },
  {
   "cell_type": "code",
   "execution_count": 18,
   "id": "02a4cb6b-482b-4354-9326-a31839bb141f",
   "metadata": {},
   "outputs": [
    {
     "data": {
      "text/plain": [
       "[8, 47, 78]"
      ]
     },
     "execution_count": 18,
     "metadata": {},
     "output_type": "execute_result"
    }
   ],
   "source": [
    "data = [[3, 5], [34, 5, 5, 3], [3, 5, 34, 34, 2]]\n",
    "output = []\n",
    "for item in data:\n",
    "    total = 0\n",
    "    for i in item:\n",
    "        total += i\n",
    "    output.append(total)\n",
    "output"
   ]
  },
  {
   "cell_type": "markdown",
   "id": "62f7029f-86f3-4edd-a127-16edd9c73819",
   "metadata": {},
   "source": [
    "# While loop\n",
    "syntax\n",
    "```python\n",
    "    while True:\n",
    "        #body of while\n",
    "```"
   ]
  },
  {
   "cell_type": "code",
   "execution_count": null,
   "id": "f26676b1-f809-4943-9719-945d1313bd38",
   "metadata": {},
   "outputs": [],
   "source": [
    "data = [7, 9, 6]\n",
    "total = 0\n",
    "index = 0\n",
    "while index < len(data):\n",
    "    item = data[index]\n",
    "    total += item\n",
    "    index += 1\n",
    "total"
   ]
  },
  {
   "cell_type": "code",
   "execution_count": null,
   "id": "6d883222-f010-43a7-9baf-a516159dea24",
   "metadata": {},
   "outputs": [],
   "source": []
  }
 ],
 "metadata": {
  "kernelspec": {
   "display_name": "Python 3 (ipykernel)",
   "language": "python",
   "name": "python3"
  },
  "language_info": {
   "codemirror_mode": {
    "name": "ipython",
    "version": 3
   },
   "file_extension": ".py",
   "mimetype": "text/x-python",
   "name": "python",
   "nbconvert_exporter": "python",
   "pygments_lexer": "ipython3",
   "version": "3.12.0"
  }
 },
 "nbformat": 4,
 "nbformat_minor": 5
}
