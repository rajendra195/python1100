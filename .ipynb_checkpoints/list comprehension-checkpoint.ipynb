{
 "cells": [
  {
   "cell_type": "markdown",
   "id": "2d11f006-93be-4cf0-b0aa-231bdcdb1a9b",
   "metadata": {},
   "source": [
    "# list comprehension\n",
    "syntax\n",
    "```python\n",
    "    [Expression for item in iterables]\n",
    "```"
   ]
  },
  {
   "cell_type": "code",
   "execution_count": 6,
   "id": "e7109c69-251d-479c-a3e4-13afa3add295",
   "metadata": {},
   "outputs": [
    {
     "data": {
      "text/plain": [
       "[64, 9, 16, 25]"
      ]
     },
     "execution_count": 6,
     "metadata": {},
     "output_type": "execute_result"
    }
   ],
   "source": [
    "nums = [8, 3, 4, 5]\n",
    "sq = []\n",
    "for item in nums:\n",
    "    sq.append(item ** 2)\n",
    "sq"
   ]
  },
  {
   "cell_type": "code",
   "execution_count": 9,
   "id": "32eb4666-a9ae-4364-b1b6-b57e9ecf75d4",
   "metadata": {},
   "outputs": [
    {
     "data": {
      "text/plain": [
       "[16, 9, 36, 4]"
      ]
     },
     "execution_count": 9,
     "metadata": {},
     "output_type": "execute_result"
    }
   ],
   "source": [
    "nums = [4, 3, 6, 2]\n",
    "sq = [item ** 2 for item in nums]\n",
    "sq"
   ]
  },
  {
   "cell_type": "code",
   "execution_count": 10,
   "id": "cf65922a-19b1-4f40-b581-b239cd643907",
   "metadata": {},
   "outputs": [
    {
     "data": {
      "text/plain": [
       "[512, 27, 64, 125]"
      ]
     },
     "execution_count": 10,
     "metadata": {},
     "output_type": "execute_result"
    }
   ],
   "source": [
    "nums = [8, 3, 4, 5]\n",
    "cube = []\n",
    "for item in nums:\n",
    "    cube.append(item ** 3)\n",
    "cube"
   ]
  },
  {
   "cell_type": "code",
   "execution_count": 11,
   "id": "3be8b0d5-c1cc-48a7-8ba1-02c8570240d1",
   "metadata": {},
   "outputs": [
    {
     "data": {
      "text/plain": [
       "[512, 27, 64, 125]"
      ]
     },
     "execution_count": 11,
     "metadata": {},
     "output_type": "execute_result"
    }
   ],
   "source": [
    "nums = [8, 3, 4, 5]\n",
    "cube = [item ** 3 for item in nums]\n",
    "cube"
   ]
  },
  {
   "cell_type": "code",
   "execution_count": 16,
   "id": "085ba184-61db-4cae-851f-0511546c0223",
   "metadata": {},
   "outputs": [
    {
     "data": {
      "text/plain": [
       "-2"
      ]
     },
     "execution_count": 16,
     "metadata": {},
     "output_type": "execute_result"
    }
   ],
   "source": [
    "# randomly generate 5 numbers between -5 to 5 using list comprehension\n",
    "import random\n",
    "random.randint(-5, 5) # non deterministic "
   ]
  },
  {
   "cell_type": "code",
   "execution_count": 21,
   "id": "7b7b8e79-393e-4aad-9a1c-734a86044fec",
   "metadata": {},
   "outputs": [
    {
     "data": {
      "text/plain": [
       "2"
      ]
     },
     "execution_count": 21,
     "metadata": {},
     "output_type": "execute_result"
    }
   ],
   "source": [
    "import random\n",
    "random.seed(2024) # Deterministic random number generator\n",
    "random.randint(-5, 5)"
   ]
  },
  {
   "cell_type": "code",
   "execution_count": null,
   "id": "f6cce428-9138-4f34-9285-9267ae8ff7a4",
   "metadata": {},
   "outputs": [],
   "source": []
  },
  {
   "cell_type": "markdown",
   "id": "79ece530-053d-4495-98ba-39d7705a36ad",
   "metadata": {},
   "source": [
    "# List comprehension with if statement\n",
    "syntax\n",
    "```python\n",
    "    [expression for item in iterables if True]\n",
    "```"
   ]
  },
  {
   "cell_type": "code",
   "execution_count": 33,
   "id": "41056af3-f6bd-46b0-b40a-e5494f76c8a0",
   "metadata": {},
   "outputs": [
    {
     "data": {
      "text/plain": [
       "[1, 1, -5, -1, 3]"
      ]
     },
     "execution_count": 33,
     "metadata": {},
     "output_type": "execute_result"
    }
   ],
   "source": [
    "random.seed(0)\n",
    "random_numbers = [random.randint(-5, 5) for _ in range(5)]\n",
    "random_numbers"
   ]
  },
  {
   "cell_type": "code",
   "execution_count": 45,
   "id": "60f8410e-3e28-4c8c-a3ab-749964101557",
   "metadata": {},
   "outputs": [
    {
     "name": "stdout",
     "output_type": "stream",
     "text": [
      "[3, 2, -4, -4, 0]\n"
     ]
    },
    {
     "data": {
      "text/plain": [
       "[3, 2]"
      ]
     },
     "execution_count": 45,
     "metadata": {},
     "output_type": "execute_result"
    }
   ],
   "source": [
    "random_numbers = [random.randint(-5, 5) for _ in range(5)]\n",
    "print(random_numbers)\n",
    "# Extract positive numbers\n",
    "pos = []\n",
    "for item in random_numbers:\n",
    "    if item > 0:\n",
    "        pos.append(item)\n",
    "pos"
   ]
  },
  {
   "cell_type": "code",
   "execution_count": 48,
   "id": "dcc7d787-65a4-4318-b428-4698c612aefc",
   "metadata": {},
   "outputs": [],
   "source": [
    "num = [1, 1, -5, -1, 3]\n",
    "pos = [item for item in num if item > 0]"
   ]
  },
  {
   "cell_type": "code",
   "execution_count": 49,
   "id": "2da1cfaa-6797-4587-bec3-d09925447a00",
   "metadata": {},
   "outputs": [
    {
     "data": {
      "text/plain": [
       "[1, 1, 3]"
      ]
     },
     "execution_count": 49,
     "metadata": {},
     "output_type": "execute_result"
    }
   ],
   "source": [
    "pos"
   ]
  },
  {
   "cell_type": "code",
   "execution_count": 54,
   "id": "ffa3deef-b249-44e8-9688-f0c6c739b0a7",
   "metadata": {},
   "outputs": [
    {
     "data": {
      "text/plain": [
       "['name', '1']"
      ]
     },
     "execution_count": 54,
     "metadata": {},
     "output_type": "execute_result"
    }
   ],
   "source": [
    "list1 = [\"name\", True, \"1\", 5]\n",
    "list2 = [item for item in list1 if type(item) == str]\n",
    "list2"
   ]
  },
  {
   "cell_type": "markdown",
   "id": "9016e095-f5f3-4373-ab64-d21c0daadb01",
   "metadata": {},
   "source": [
    "# list comprehension with if else statement\n",
    "syntax\n",
    "```python\n",
    "    [expression if True else expression for item in iterable]\n",
    "```"
   ]
  },
  {
   "cell_type": "markdown",
   "id": "36cae8ea-cc66-4a2c-be41-8b4787b25279",
   "metadata": {},
   "source": [
    "<img src = \"https://www.nomidl.com/wp-content/uploads/2022/04/image-10.png\" height = 400 width = 400>"
   ]
  },
  {
   "cell_type": "code",
   "execution_count": 56,
   "id": "f51797ea-d290-4f05-9c05-aa676b86d0a6",
   "metadata": {},
   "outputs": [
    {
     "data": {
      "text/plain": [
       "[0, 0, 0, 0, 0, 0, 0, 0, 0, 0, 0, 1, 2, 3, 4, 5, 6, 7, 8, 9, 10]"
      ]
     },
     "execution_count": 56,
     "metadata": {},
     "output_type": "execute_result"
    }
   ],
   "source": [
    "x = range(-10, 11)\n",
    "output = []\n",
    "for item in x:\n",
    "    if item <= 0:\n",
    "        output.append(0)\n",
    "    else:\n",
    "        output.append(item)\n",
    "        \n",
    "output"
   ]
  },
  {
   "cell_type": "code",
   "execution_count": 57,
   "id": "19135b9f-bed7-44ea-821b-113c5542dd2f",
   "metadata": {},
   "outputs": [],
   "source": [
    "output = [0 if item <= 0 else item for item in x ]"
   ]
  },
  {
   "cell_type": "code",
   "execution_count": 58,
   "id": "6ac7f321-3f01-4254-b016-c8289678edf8",
   "metadata": {},
   "outputs": [
    {
     "data": {
      "text/plain": [
       "[0, 0, 0, 0, 0, 0, 0, 0, 0, 0, 0, 1, 2, 3, 4, 5, 6, 7, 8, 9, 10]"
      ]
     },
     "execution_count": 58,
     "metadata": {},
     "output_type": "execute_result"
    }
   ],
   "source": [
    "output"
   ]
  },
  {
   "cell_type": "markdown",
   "id": "b6d8d92d-dd80-4c49-9fa1-d0d8e704d496",
   "metadata": {},
   "source": [
    "# Why list comprehension?\n",
    "faster than python for loop"
   ]
  },
  {
   "cell_type": "code",
   "execution_count": null,
   "id": "12822911-668c-4642-83bc-67f658f6135f",
   "metadata": {},
   "outputs": [],
   "source": []
  }
 ],
 "metadata": {
  "kernelspec": {
   "display_name": "Python 3 (ipykernel)",
   "language": "python",
   "name": "python3"
  },
  "language_info": {
   "codemirror_mode": {
    "name": "ipython",
    "version": 3
   },
   "file_extension": ".py",
   "mimetype": "text/x-python",
   "name": "python",
   "nbconvert_exporter": "python",
   "pygments_lexer": "ipython3",
   "version": "3.12.0"
  }
 },
 "nbformat": 4,
 "nbformat_minor": 5
}
