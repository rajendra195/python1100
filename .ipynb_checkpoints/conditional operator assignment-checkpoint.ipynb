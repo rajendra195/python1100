{
 "cells": [
  {
   "cell_type": "code",
   "execution_count": 2,
   "id": "b064d669-7948-4070-902e-590e299f8d9b",
   "metadata": {},
   "outputs": [
    {
     "name": "stdin",
     "output_type": "stream",
     "text": [
      "Enter a number?  44\n"
     ]
    },
    {
     "name": "stdout",
     "output_type": "stream",
     "text": [
      "Number is Positive.\n",
      "Number is Even.\n"
     ]
    }
   ],
   "source": [
    "num = int(input(\"Enter a number? \"))\n",
    "if num == 0:\n",
    "    print(\"Number is Zero.\")\n",
    "elif num < 0:\n",
    "    print(\"Number is Negative.\")\n",
    "elif num > 0:\n",
    "    print(\"Number is Positive.\")\n",
    "    if num % 2 == 0:\n",
    "        print(\"Number is Even.\")\n",
    "    else:\n",
    "        print(\"Number is odd.\")"
   ]
  },
  {
   "cell_type": "markdown",
   "id": "05535ab0-461e-4a88-8815-541882140222",
   "metadata": {},
   "source": [
    "# WAP to calculate a BMI."
   ]
  },
  {
   "cell_type": "code",
   "execution_count": 2,
   "id": "d4b6a278-75fa-4cfb-9218-2171ed065014",
   "metadata": {},
   "outputs": [
    {
     "name": "stdin",
     "output_type": "stream",
     "text": [
      "Enter height(in cm):  180\n",
      "Enter weight(in kg):  65\n"
     ]
    },
    {
     "name": "stdout",
     "output_type": "stream",
     "text": [
      "Your BMI is 20.06. Excellent! Your weight is normal.\n"
     ]
    }
   ],
   "source": [
    "height = float(input(\"Enter height(in cm): \"))\n",
    "weight = float(input(\"Enter weight(in kg): \"))\n",
    "height_in_meter = height / 100\n",
    "BMI = round((weight / height_in_meter ** 2),2)\n",
    "if BMI < 18.5:\n",
    "    print(f\"Your BMI is {BMI}. You're underweight.\")\n",
    "elif BMI >= 18.5 and BMI <= 24.9:\n",
    "    print(f\"Your BMI is {BMI}. Excellent! Your weight is normal.\")\n",
    "elif BMI > 24.9 and BMI <= 29.9: \n",
    "    print(f\"Your BMI is {BMI}. You're overweight, do some exercise regularly with proper diet.\")\n",
    "elif BMI > 29.9:\n",
    "    print(f\"Your BMI is {BMI}. You're obesity, Strokes on the way!\")"
   ]
  },
  {
   "cell_type": "code",
   "execution_count": 49,
   "id": "4fba8319-9b11-45b3-9a14-5ea8a8a52d67",
   "metadata": {},
   "outputs": [
    {
     "name": "stdin",
     "output_type": "stream",
     "text": [
      "Enter any number:  234\n"
     ]
    },
    {
     "name": "stdout",
     "output_type": "stream",
     "text": [
      "Last digit of 234 is not divisible by 3.\n"
     ]
    }
   ],
   "source": [
    "num = int(input(\"Enter any number: \"))\n",
    "last_digit = num % 10\n",
    "if last_digit % 3 == 0:\n",
    "    print(f\"Last digit of {num} is divisible by 3.\")\n",
    "else:\n",
    "    print(f\"Last digit of {num} is not divisible by 3.\")"
   ]
  },
  {
   "cell_type": "code",
   "execution_count": 1,
   "id": "e95c4863-e8c9-4a87-a5a8-2cdfd42c7843",
   "metadata": {},
   "outputs": [
    {
     "data": {
      "text/plain": [
       "True"
      ]
     },
     "execution_count": 1,
     "metadata": {},
     "output_type": "execute_result"
    }
   ],
   "source": [
    "-0 == 0"
   ]
  },
  {
   "cell_type": "code",
   "execution_count": null,
   "id": "e3720773-4c06-413f-9784-2e54fdb580e4",
   "metadata": {},
   "outputs": [],
   "source": []
  }
 ],
 "metadata": {
  "kernelspec": {
   "display_name": "Python 3 (ipykernel)",
   "language": "python",
   "name": "python3"
  },
  "language_info": {
   "codemirror_mode": {
    "name": "ipython",
    "version": 3
   },
   "file_extension": ".py",
   "mimetype": "text/x-python",
   "name": "python",
   "nbconvert_exporter": "python",
   "pygments_lexer": "ipython3",
   "version": "3.12.0"
  }
 },
 "nbformat": 4,
 "nbformat_minor": 5
}
