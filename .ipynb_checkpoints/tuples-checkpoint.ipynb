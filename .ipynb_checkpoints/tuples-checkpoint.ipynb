{
 "cells": [
  {
   "cell_type": "markdown",
   "id": "cfd54d5f-80ee-4c6d-a8e1-a769c1b31575",
   "metadata": {},
   "source": [
    "# tuple\n",
    "* Immutable\n",
    "* ordered\n",
    "* indexed\n",
    "* read only\n",
    "* allows duplicate value\n",
    "* items written inside ( ) separated by comma\n",
    "  "
   ]
  },
  {
   "cell_type": "code",
   "execution_count": 8,
   "id": "2c2fd826-3db6-4f57-968d-5cf587dc2be2",
   "metadata": {},
   "outputs": [
    {
     "data": {
      "text/plain": [
       "('Audi', 'BMW', 'Ferrari')"
      ]
     },
     "execution_count": 8,
     "metadata": {},
     "output_type": "execute_result"
    }
   ],
   "source": [
    "cars = (\"Audi\", \"BMW\", \"Ferrari\")\n",
    "cars"
   ]
  },
  {
   "cell_type": "code",
   "execution_count": 9,
   "id": "70ef91ed-c863-453f-875c-cc60cb3c4ef4",
   "metadata": {},
   "outputs": [
    {
     "data": {
      "text/plain": [
       "tuple"
      ]
     },
     "execution_count": 9,
     "metadata": {},
     "output_type": "execute_result"
    }
   ],
   "source": [
    "type(cars)"
   ]
  },
  {
   "cell_type": "code",
   "execution_count": 11,
   "id": "d0d6f515-eeca-4ca2-842d-62616ae5d06b",
   "metadata": {},
   "outputs": [
    {
     "data": {
      "text/plain": [
       "tuple[-1]"
      ]
     },
     "execution_count": 11,
     "metadata": {},
     "output_type": "execute_result"
    }
   ],
   "source": [
    "tuple[-1]"
   ]
  },
  {
   "cell_type": "code",
   "execution_count": 12,
   "id": "d1a778a5-9849-4d21-8dbc-c977e7371715",
   "metadata": {},
   "outputs": [
    {
     "data": {
      "text/plain": [
       "tuple[0]"
      ]
     },
     "execution_count": 12,
     "metadata": {},
     "output_type": "execute_result"
    }
   ],
   "source": [
    "tuple[0]"
   ]
  },
  {
   "cell_type": "code",
   "execution_count": 20,
   "id": "6a3fec21-9e51-4c33-ab53-6d092d7471a3",
   "metadata": {},
   "outputs": [
    {
     "data": {
      "text/plain": [
       "('BMW', 'Ferrari')"
      ]
     },
     "execution_count": 20,
     "metadata": {},
     "output_type": "execute_result"
    }
   ],
   "source": [
    "cars[1:len(cars)]"
   ]
  },
  {
   "cell_type": "code",
   "execution_count": 17,
   "id": "41690bc4-3abb-4e85-9be9-f66254846756",
   "metadata": {},
   "outputs": [
    {
     "data": {
      "text/plain": [
       "('BMW', 'Ferrari')"
      ]
     },
     "execution_count": 17,
     "metadata": {},
     "output_type": "execute_result"
    }
   ],
   "source": [
    "cars[1:]"
   ]
  },
  {
   "cell_type": "code",
   "execution_count": 18,
   "id": "e55cc79a-fe23-4471-b2ce-0d824314ae45",
   "metadata": {},
   "outputs": [
    {
     "data": {
      "text/plain": [
       "('Audi', 'BMW')"
      ]
     },
     "execution_count": 18,
     "metadata": {},
     "output_type": "execute_result"
    }
   ],
   "source": [
    "cars[:2]"
   ]
  },
  {
   "cell_type": "code",
   "execution_count": 19,
   "id": "c7aa75fb-3f73-484a-a6f5-d256218195de",
   "metadata": {},
   "outputs": [
    {
     "data": {
      "text/plain": [
       "('BMW', 'Ferrari')"
      ]
     },
     "execution_count": 19,
     "metadata": {},
     "output_type": "execute_result"
    }
   ],
   "source": [
    "cars[-2:]"
   ]
  },
  {
   "cell_type": "code",
   "execution_count": 22,
   "id": "34c58a76-79c3-466d-beec-dcf23325856a",
   "metadata": {},
   "outputs": [
    {
     "name": "stdout",
     "output_type": "stream",
     "text": [
      "index: 0, item: Audi.\n",
      "index: 1, item: BMW.\n",
      "index: 2, item: Ferrari.\n"
     ]
    }
   ],
   "source": [
    "for index in range(len(cars)):\n",
    "    item = cars[index]\n",
    "    print(f\"index: {index}, item: {item}.\")"
   ]
  },
  {
   "cell_type": "code",
   "execution_count": 23,
   "id": "f618c343-d704-4dcc-8936-4c5ad9957b3a",
   "metadata": {},
   "outputs": [
    {
     "ename": "TypeError",
     "evalue": "'tuple' object does not support item assignment",
     "output_type": "error",
     "traceback": [
      "\u001b[1;31m---------------------------------------------------------------------------\u001b[0m",
      "\u001b[1;31mTypeError\u001b[0m                                 Traceback (most recent call last)",
      "Cell \u001b[1;32mIn[23], line 1\u001b[0m\n\u001b[1;32m----> 1\u001b[0m \u001b[43mcars\u001b[49m\u001b[43m[\u001b[49m\u001b[38;5;241;43m0\u001b[39;49m\u001b[43m]\u001b[49m \u001b[38;5;241m=\u001b[39m \u001b[38;5;124m\"\u001b[39m\u001b[38;5;124mThar\u001b[39m\u001b[38;5;124m\"\u001b[39m\n",
      "\u001b[1;31mTypeError\u001b[0m: 'tuple' object does not support item assignment"
     ]
    }
   ],
   "source": [
    "cars[0] = \"Thar\""
   ]
  },
  {
   "cell_type": "markdown",
   "id": "2de60684-d671-4816-b1ed-f63520d8596a",
   "metadata": {},
   "source": [
    "# Tuple is immutable (read only)"
   ]
  },
  {
   "cell_type": "code",
   "execution_count": 24,
   "id": "6b98fe24-97bc-4bec-a9d2-0dda65d69f19",
   "metadata": {},
   "outputs": [
    {
     "ename": "TypeError",
     "evalue": "'tuple' object does not support item assignment",
     "output_type": "error",
     "traceback": [
      "\u001b[1;31m---------------------------------------------------------------------------\u001b[0m",
      "\u001b[1;31mTypeError\u001b[0m                                 Traceback (most recent call last)",
      "Cell \u001b[1;32mIn[24], line 1\u001b[0m\n\u001b[1;32m----> 1\u001b[0m \u001b[43mcars\u001b[49m\u001b[43m[\u001b[49m\u001b[38;5;241;43m2\u001b[39;49m\u001b[43m]\u001b[49m \u001b[38;5;241m=\u001b[39m \u001b[38;5;124m\"\u001b[39m\u001b[38;5;124mMercedes\u001b[39m\u001b[38;5;124m\"\u001b[39m\n",
      "\u001b[1;31mTypeError\u001b[0m: 'tuple' object does not support item assignment"
     ]
    }
   ],
   "source": [
    "cars[2] = \"Mercedes\""
   ]
  },
  {
   "cell_type": "code",
   "execution_count": 27,
   "id": "6eb74bf7-666b-468a-b4a2-4f0d2c6d21b6",
   "metadata": {},
   "outputs": [
    {
     "data": {
      "text/plain": [
       "['Mercedes', 'BMW', 'Ferrari']"
      ]
     },
     "execution_count": 27,
     "metadata": {},
     "output_type": "execute_result"
    }
   ],
   "source": [
    "cars = [\"Audi\", \"BMW\", \"Ferrari\"]\n",
    "cars[0] = \"Mercedes\"\n",
    "cars"
   ]
  },
  {
   "cell_type": "markdown",
   "id": "589dbd1a-6d57-4dfe-8d1d-a7f1e25f4482",
   "metadata": {},
   "source": [
    "# list is a mutable and tuple is immutable data type"
   ]
  },
  {
   "cell_type": "markdown",
   "id": "9c855c21-7ea3-4ca6-998b-d36e625e9f9f",
   "metadata": {},
   "source": [
    "# You can convert tuple into list and viceversa using the idea of type casting"
   ]
  },
  {
   "cell_type": "code",
   "execution_count": 37,
   "id": "c58a21a2-d4a2-4ff3-ac55-ffba0fc0961e",
   "metadata": {},
   "outputs": [
    {
     "name": "stdout",
     "output_type": "stream",
     "text": [
      "2214884744384\n",
      "('Audi', 'BMW', 'Ferrari', 'Mercedes')\n"
     ]
    },
    {
     "data": {
      "text/plain": [
       "2214884700336"
      ]
     },
     "execution_count": 37,
     "metadata": {},
     "output_type": "execute_result"
    }
   ],
   "source": [
    "cars = (\"Audi\", \"BMW\", \"Ferrari\")\n",
    "print(id(cars))\n",
    "cars = list(cars) # type casting to list\n",
    "cars.append(\"Mercedes\") # list method\n",
    "cars = tuple(cars) # type casting to tuple\n",
    "print(cars)\n",
    "id(cars)"
   ]
  },
  {
   "cell_type": "markdown",
   "id": "39317144-b19b-4816-81d5-a32badb0ef3f",
   "metadata": {},
   "source": [
    "# tuple unpacking"
   ]
  },
  {
   "cell_type": "code",
   "execution_count": 38,
   "id": "188763cd-ce55-4a1d-be73-8b4744610d88",
   "metadata": {},
   "outputs": [],
   "source": [
    "first_name, last_name = (\"Rajendra\", \"Niroula\")"
   ]
  },
  {
   "cell_type": "code",
   "execution_count": 39,
   "id": "a4becf33-5ece-408a-a539-9cec6038b8c5",
   "metadata": {},
   "outputs": [
    {
     "data": {
      "text/plain": [
       "'Rajendra'"
      ]
     },
     "execution_count": 39,
     "metadata": {},
     "output_type": "execute_result"
    }
   ],
   "source": [
    "first_name"
   ]
  },
  {
   "cell_type": "code",
   "execution_count": 40,
   "id": "a4fb5d89-4bcd-46fe-aee6-eb0fa3565c56",
   "metadata": {},
   "outputs": [
    {
     "data": {
      "text/plain": [
       "'Niroula'"
      ]
     },
     "execution_count": 40,
     "metadata": {},
     "output_type": "execute_result"
    }
   ],
   "source": [
    "last_name"
   ]
  },
  {
   "cell_type": "code",
   "execution_count": 42,
   "id": "f762b567-a1a1-4fe3-8b4d-e91d1f6f8bab",
   "metadata": {},
   "outputs": [
    {
     "name": "stdout",
     "output_type": "stream",
     "text": [
      "Audi\n",
      "BMW\n",
      "Ferrari\n",
      "Mercedes\n"
     ]
    }
   ],
   "source": [
    "for item in cars:\n",
    "    print(item)"
   ]
  },
  {
   "cell_type": "code",
   "execution_count": null,
   "id": "00926184-3573-48a4-be18-113051ce2e40",
   "metadata": {},
   "outputs": [],
   "source": []
  }
 ],
 "metadata": {
  "kernelspec": {
   "display_name": "Python 3 (ipykernel)",
   "language": "python",
   "name": "python3"
  },
  "language_info": {
   "codemirror_mode": {
    "name": "ipython",
    "version": 3
   },
   "file_extension": ".py",
   "mimetype": "text/x-python",
   "name": "python",
   "nbconvert_exporter": "python",
   "pygments_lexer": "ipython3",
   "version": "3.12.0"
  }
 },
 "nbformat": 4,
 "nbformat_minor": 5
}
