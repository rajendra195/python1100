{
 "cells": [
  {
   "cell_type": "code",
   "execution_count": 1,
   "id": "d766683e-fd5e-45ee-ba18-61a0ab8ff5b4",
   "metadata": {},
   "outputs": [
    {
     "data": {
      "text/plain": [
       "'R@jendr@'"
      ]
     },
     "execution_count": 1,
     "metadata": {},
     "output_type": "execute_result"
    }
   ],
   "source": [
    "name = \"R@jendr@\"\n",
    "name"
   ]
  },
  {
   "cell_type": "code",
   "execution_count": 2,
   "id": "efd233f1-d8f2-4be1-8a5c-aa52face26b0",
   "metadata": {},
   "outputs": [
    {
     "data": {
      "text/plain": [
       "'@'"
      ]
     },
     "execution_count": 2,
     "metadata": {},
     "output_type": "execute_result"
    }
   ],
   "source": [
    "name[1]"
   ]
  },
  {
   "cell_type": "code",
   "execution_count": 3,
   "id": "47fb5382-d2d0-4537-968f-b8909f00201f",
   "metadata": {},
   "outputs": [
    {
     "data": {
      "text/plain": [
       "'@'"
      ]
     },
     "execution_count": 3,
     "metadata": {},
     "output_type": "execute_result"
    }
   ],
   "source": [
    "name[7]"
   ]
  },
  {
   "cell_type": "code",
   "execution_count": 4,
   "id": "e1e7d7af-a379-411a-ae30-b058a3be6485",
   "metadata": {},
   "outputs": [
    {
     "ename": "NameError",
     "evalue": "name 'a' is not defined",
     "output_type": "error",
     "traceback": [
      "\u001b[1;31m---------------------------------------------------------------------------\u001b[0m",
      "\u001b[1;31mNameError\u001b[0m                                 Traceback (most recent call last)",
      "Cell \u001b[1;32mIn[4], line 1\u001b[0m\n\u001b[1;32m----> 1\u001b[0m name[\u001b[38;5;241m1\u001b[39m] \u001b[38;5;241m=\u001b[39m \u001b[43ma\u001b[49m\n",
      "\u001b[1;31mNameError\u001b[0m: name 'a' is not defined"
     ]
    }
   ],
   "source": [
    "name[1] = a"
   ]
  },
  {
   "cell_type": "markdown",
   "id": "b398d4f7-3602-4413-aedf-5334c2a24009",
   "metadata": {},
   "source": [
    "# string is immutable object; same memory location ma value update garna mildaina"
   ]
  },
  {
   "cell_type": "markdown",
   "id": "07437419-8748-44d2-acdb-e16906ec8c2d",
   "metadata": {},
   "source": [
    "# .replace()"
   ]
  },
  {
   "cell_type": "code",
   "execution_count": 5,
   "id": "5edc31b9-170a-42af-8757-2852c4b02ac0",
   "metadata": {},
   "outputs": [
    {
     "data": {
      "text/plain": [
       "1532149816496"
      ]
     },
     "execution_count": 5,
     "metadata": {},
     "output_type": "execute_result"
    }
   ],
   "source": [
    "id(name) # memory location"
   ]
  },
  {
   "cell_type": "code",
   "execution_count": 10,
   "id": "855d255e-e808-4969-ba1c-113a01c46ae8",
   "metadata": {},
   "outputs": [],
   "source": [
    "name = name.replace(\"@\", \"a\")"
   ]
  },
  {
   "cell_type": "code",
   "execution_count": 9,
   "id": "088da5b6-d007-4862-8603-9a1f20b9a746",
   "metadata": {},
   "outputs": [
    {
     "name": "stdout",
     "output_type": "stream",
     "text": [
      "R@jendr@\n"
     ]
    }
   ],
   "source": [
    "print(name)"
   ]
  },
  {
   "cell_type": "code",
   "execution_count": null,
   "id": "650e314b-a526-4e93-a8b0-eb8fc7becf26",
   "metadata": {},
   "outputs": [],
   "source": []
  }
 ],
 "metadata": {
  "kernelspec": {
   "display_name": "Python 3 (ipykernel)",
   "language": "python",
   "name": "python3"
  },
  "language_info": {
   "codemirror_mode": {
    "name": "ipython",
    "version": 3
   },
   "file_extension": ".py",
   "mimetype": "text/x-python",
   "name": "python",
   "nbconvert_exporter": "python",
   "pygments_lexer": "ipython3",
   "version": "3.12.0"
  }
 },
 "nbformat": 4,
 "nbformat_minor": 5
}
