{
 "cells": [
  {
   "cell_type": "code",
   "execution_count": 14,
   "id": "2d4b0c01-572d-483a-8b71-899f53786fec",
   "metadata": {},
   "outputs": [
    {
     "data": {
      "text/plain": [
       "'l'"
      ]
     },
     "execution_count": 14,
     "metadata": {},
     "output_type": "execute_result"
    }
   ],
   "source": [
    "import random\n",
    "letter = \"sldjfldsj\"\n",
    "digit = \"0123456789\"\n",
    "symbol = \"#%^&@$%^&*\"\n",
    "random_index_letter = random.randrange(len(letter))\n",
    "random_letter = letter[random_index_letter]\n",
    "random_letter"
   ]
  },
  {
   "cell_type": "markdown",
   "id": "9e980989-3911-440b-8989-17c72f474513",
   "metadata": {},
   "source": [
    "# how to write code in markdown"
   ]
  },
  {
   "cell_type": "markdown",
   "id": "3e97590f-0a42-4133-a175-41a067990823",
   "metadata": {},
   "source": [
    "```python\n",
    "for index in range(start, stop, step):\n",
    "    # body of for loop\n",
    "```\n",
    "```python\n",
    "for item in iterables:\n",
    "    # body of for loop\n",
    "```"
   ]
  },
  {
   "cell_type": "code",
   "execution_count": 15,
   "id": "c53e7faa-8a28-42d4-938e-3913b9ba9584",
   "metadata": {},
   "outputs": [
    {
     "name": "stdout",
     "output_type": "stream",
     "text": [
      "0\n",
      "1\n",
      "2\n",
      "3\n",
      "4\n",
      "5\n",
      "6\n",
      "7\n",
      "8\n",
      "9\n"
     ]
    }
   ],
   "source": [
    "for index in range(10):\n",
    "    print(index)"
   ]
  },
  {
   "cell_type": "code",
   "execution_count": 17,
   "id": "40bcd562-182f-49b4-8975-3cb03b174333",
   "metadata": {},
   "outputs": [
    {
     "name": "stdout",
     "output_type": "stream",
     "text": [
      "0\n",
      "9\n",
      "18\n",
      "27\n",
      "36\n",
      "45\n",
      "54\n",
      "63\n",
      "72\n",
      "81\n",
      "90\n",
      "99\n"
     ]
    }
   ],
   "source": [
    "for item in range(0,100,9):\n",
    "    print(item)"
   ]
  },
  {
   "cell_type": "code",
   "execution_count": 23,
   "id": "98127012-855f-42c0-8c46-1da75ffc80c9",
   "metadata": {},
   "outputs": [
    {
     "name": "stdout",
     "output_type": "stream",
     "text": [
      "9 N\n",
      "10 i\n",
      "11 r\n",
      "12 o\n",
      "13 u\n",
      "14 l\n",
      "15 a\n"
     ]
    }
   ],
   "source": [
    "name = \"Rajendra Niroula\"\n",
    "for index in range(9, len(name)):\n",
    "    letter = name[index]\n",
    "    print(index, letter)"
   ]
  },
  {
   "cell_type": "code",
   "execution_count": 24,
   "id": "493c6ed0-1d15-40fb-8c81-e9fd68ea1a5b",
   "metadata": {},
   "outputs": [],
   "source": [
    "list = [\"orange\", \"banana\", \"apple\", \"pineapple\", \"gwavo\"]\n",
    "list.append(\"mango\")"
   ]
  },
  {
   "cell_type": "code",
   "execution_count": 25,
   "id": "9813940e-941e-4c19-a829-e4f171f2ffb5",
   "metadata": {},
   "outputs": [
    {
     "data": {
      "text/plain": [
       "['orange', 'banana', 'apple', 'pineapple', 'gwavo', 'mango']"
      ]
     },
     "execution_count": 25,
     "metadata": {},
     "output_type": "execute_result"
    }
   ],
   "source": [
    "list"
   ]
  },
  {
   "cell_type": "code",
   "execution_count": 26,
   "id": "08ca124e-5c6d-4142-b367-d69a77180728",
   "metadata": {},
   "outputs": [
    {
     "data": {
      "text/plain": [
       "'mango'"
      ]
     },
     "execution_count": 26,
     "metadata": {},
     "output_type": "execute_result"
    }
   ],
   "source": [
    "list.pop()"
   ]
  },
  {
   "cell_type": "code",
   "execution_count": 27,
   "id": "89a14af5-0651-4864-a2e9-f14a700bb13a",
   "metadata": {},
   "outputs": [
    {
     "data": {
      "text/plain": [
       "['orange', 'banana', 'apple', 'pineapple', 'gwavo']"
      ]
     },
     "execution_count": 27,
     "metadata": {},
     "output_type": "execute_result"
    }
   ],
   "source": [
    "list"
   ]
  },
  {
   "cell_type": "code",
   "execution_count": 28,
   "id": "3ef42a08-9513-4b18-9002-0caa8fc554c6",
   "metadata": {},
   "outputs": [],
   "source": [
    "list.insert(0, \"litchi\")"
   ]
  },
  {
   "cell_type": "code",
   "execution_count": 29,
   "id": "b44bbe76-1544-4ef7-928c-cf1a6e2adcac",
   "metadata": {},
   "outputs": [
    {
     "data": {
      "text/plain": [
       "['litchi', 'orange', 'banana', 'apple', 'pineapple', 'gwavo']"
      ]
     },
     "execution_count": 29,
     "metadata": {},
     "output_type": "execute_result"
    }
   ],
   "source": [
    "list"
   ]
  },
  {
   "cell_type": "code",
   "execution_count": 30,
   "id": "7ddece30-a6b2-4f4d-a6f4-9db2df02306d",
   "metadata": {},
   "outputs": [],
   "source": [
    "list.remove(\"apple\")"
   ]
  },
  {
   "cell_type": "code",
   "execution_count": 31,
   "id": "c082f191-632a-4831-a802-c147382d836c",
   "metadata": {},
   "outputs": [
    {
     "data": {
      "text/plain": [
       "['litchi', 'orange', 'banana', 'pineapple', 'gwavo']"
      ]
     },
     "execution_count": 31,
     "metadata": {},
     "output_type": "execute_result"
    }
   ],
   "source": [
    "list"
   ]
  },
  {
   "cell_type": "code",
   "execution_count": 33,
   "id": "fc9a860f-b56c-44b7-97a7-fc09597895d4",
   "metadata": {},
   "outputs": [
    {
     "data": {
      "text/plain": [
       "'pineapple'"
      ]
     },
     "execution_count": 33,
     "metadata": {},
     "output_type": "execute_result"
    }
   ],
   "source": [
    "list.pop(-2)"
   ]
  },
  {
   "cell_type": "code",
   "execution_count": 34,
   "id": "ec358de9-729d-4295-96fc-68051a027162",
   "metadata": {},
   "outputs": [
    {
     "data": {
      "text/plain": [
       "['litchi', 'orange', 'banana', 'gwavo']"
      ]
     },
     "execution_count": 34,
     "metadata": {},
     "output_type": "execute_result"
    }
   ],
   "source": [
    "list"
   ]
  },
  {
   "cell_type": "code",
   "execution_count": 35,
   "id": "f10d9efc-7fa6-4d0b-b64b-3aa4c2161976",
   "metadata": {},
   "outputs": [],
   "source": [
    "fruits = ['litchi', 'orange', 'banana', 'apple', 'pineapple', 'gwavo']"
   ]
  },
  {
   "cell_type": "code",
   "execution_count": 38,
   "id": "71ff459a-f737-4620-aebc-d161f72e7047",
   "metadata": {},
   "outputs": [
    {
     "data": {
      "text/plain": [
       "True"
      ]
     },
     "execution_count": 38,
     "metadata": {},
     "output_type": "execute_result"
    }
   ],
   "source": [
    "\"litchi\" in fruits"
   ]
  },
  {
   "cell_type": "code",
   "execution_count": 39,
   "id": "8fce734c-528b-4fec-b76d-2e76a756cdbf",
   "metadata": {},
   "outputs": [
    {
     "data": {
      "text/plain": [
       "False"
      ]
     },
     "execution_count": 39,
     "metadata": {},
     "output_type": "execute_result"
    }
   ],
   "source": [
    "\"litchi\" not in fruits"
   ]
  },
  {
   "cell_type": "code",
   "execution_count": 42,
   "id": "0de2a1d8-3f0c-4b32-80a6-526b942247e5",
   "metadata": {},
   "outputs": [
    {
     "name": "stdout",
     "output_type": "stream",
     "text": [
      "litchi\n",
      "What fruit am I ? Orange!!\n",
      "banana\n",
      "apple\n",
      "Pineapple is in your list.\n",
      "gwavo\n"
     ]
    }
   ],
   "source": [
    "for fruit in fruits:\n",
    "    if fruit == \"pineapple\":\n",
    "        print(\"Pineapple is in your list.\")\n",
    "    elif \"ran\" in fruit:\n",
    "        print(\"What fruit am I ? Orange!!\")\n",
    "    else:\n",
    "        print(fruit)"
   ]
  },
  {
   "cell_type": "code",
   "execution_count": 57,
   "id": "8bd79fa8-036c-4620-978d-7c2cda967855",
   "metadata": {},
   "outputs": [],
   "source": [
    "cars = [\"Lamborgini\", \"Mercedes\", \"Audi\"]"
   ]
  },
  {
   "cell_type": "code",
   "execution_count": 58,
   "id": "bfa6c430-c2fb-4a93-bf30-1857fd89b734",
   "metadata": {},
   "outputs": [
    {
     "data": {
      "text/plain": [
       "'Lamborgini'"
      ]
     },
     "execution_count": 58,
     "metadata": {},
     "output_type": "execute_result"
    }
   ],
   "source": [
    "cars[0]"
   ]
  },
  {
   "cell_type": "code",
   "execution_count": 59,
   "id": "42161a95-e93a-488d-99bf-672c31eb9b6d",
   "metadata": {},
   "outputs": [
    {
     "data": {
      "text/plain": [
       "3"
      ]
     },
     "execution_count": 59,
     "metadata": {},
     "output_type": "execute_result"
    }
   ],
   "source": [
    "len(cars)"
   ]
  },
  {
   "cell_type": "code",
   "execution_count": 60,
   "id": "ee4e9d9d-b560-494d-9540-46558375a2d0",
   "metadata": {},
   "outputs": [],
   "source": [
    "cars[1] = \"BMW\""
   ]
  },
  {
   "cell_type": "code",
   "execution_count": 61,
   "id": "19e2967f-03a3-447d-a228-3823bebabec1",
   "metadata": {},
   "outputs": [
    {
     "data": {
      "text/plain": [
       "['Lamborgini', 'BMW', 'Audi']"
      ]
     },
     "execution_count": 61,
     "metadata": {},
     "output_type": "execute_result"
    }
   ],
   "source": [
    "cars"
   ]
  },
  {
   "cell_type": "code",
   "execution_count": 62,
   "id": "6712c05c-29b5-4a92-999d-96685efb4eb3",
   "metadata": {},
   "outputs": [],
   "source": [
    "cars[2] = \"Mercedes\""
   ]
  },
  {
   "cell_type": "code",
   "execution_count": 63,
   "id": "098aac5a-742b-443f-804a-2ecf2922ef2c",
   "metadata": {},
   "outputs": [
    {
     "data": {
      "text/plain": [
       "['Lamborgini', 'BMW', 'Mercedes']"
      ]
     },
     "execution_count": 63,
     "metadata": {},
     "output_type": "execute_result"
    }
   ],
   "source": [
    "cars"
   ]
  },
  {
   "cell_type": "code",
   "execution_count": 64,
   "id": "20010fa7-7fcf-49b6-8def-2985365006cb",
   "metadata": {},
   "outputs": [
    {
     "name": "stdout",
     "output_type": "stream",
     "text": [
      "Lamborgini\n",
      "BMW\n",
      "Mercedes\n"
     ]
    }
   ],
   "source": [
    "for index in range(len(cars)):\n",
    "    items = cars[index]\n",
    "    print(items)"
   ]
  },
  {
   "cell_type": "code",
   "execution_count": 65,
   "id": "c76aa6fc-7236-480a-920f-05fb97b5387e",
   "metadata": {},
   "outputs": [],
   "source": [
    "list = [4, 32, 54]\n",
    "list2 = [item * 2 for item in list]"
   ]
  },
  {
   "cell_type": "code",
   "execution_count": 66,
   "id": "ea32a56d-2e8e-443e-8616-9a0694b330f6",
   "metadata": {},
   "outputs": [
    {
     "data": {
      "text/plain": [
       "[8, 64, 108]"
      ]
     },
     "execution_count": 66,
     "metadata": {},
     "output_type": "execute_result"
    }
   ],
   "source": [
    "list2"
   ]
  },
  {
   "cell_type": "code",
   "execution_count": null,
   "id": "32b9cf54-b190-4776-b74f-4b4cec2967a0",
   "metadata": {},
   "outputs": [],
   "source": []
  }
 ],
 "metadata": {
  "kernelspec": {
   "display_name": "Python 3 (ipykernel)",
   "language": "python",
   "name": "python3"
  },
  "language_info": {
   "codemirror_mode": {
    "name": "ipython",
    "version": 3
   },
   "file_extension": ".py",
   "mimetype": "text/x-python",
   "name": "python",
   "nbconvert_exporter": "python",
   "pygments_lexer": "ipython3",
   "version": "3.12.0"
  }
 },
 "nbformat": 4,
 "nbformat_minor": 5
}
