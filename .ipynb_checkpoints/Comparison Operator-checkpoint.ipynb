{
 "cells": [
  {
   "cell_type": "markdown",
   "id": "aa5cbc61-0d31-410c-ac6f-c379765872e0",
   "metadata": {},
   "source": [
    "# Comparison operator\n",
    "* =\n",
    "* ==\n",
    "* <\n",
    "* >\n",
    "* <=\n",
    "* >="
   ]
  },
  {
   "cell_type": "code",
   "execution_count": 1,
   "id": "d1b3b7ce-477b-4d71-981e-c8919ec06513",
   "metadata": {},
   "outputs": [
    {
     "data": {
      "text/plain": [
       "True"
      ]
     },
     "execution_count": 1,
     "metadata": {},
     "output_type": "execute_result"
    }
   ],
   "source": [
    "num1 = 50\n",
    "num2 = 50\n",
    "num1 == num2 # == means equals to; = means assignment operator"
   ]
  },
  {
   "cell_type": "code",
   "execution_count": 2,
   "id": "b04e0788-dce8-4ef4-9293-506502483f11",
   "metadata": {},
   "outputs": [
    {
     "data": {
      "text/plain": [
       "False"
      ]
     },
     "execution_count": 2,
     "metadata": {},
     "output_type": "execute_result"
    }
   ],
   "source": [
    "5 == 4"
   ]
  },
  {
   "cell_type": "markdown",
   "id": "2aa89c9c-e2af-4e85-aabc-9ca15cf198ea",
   "metadata": {},
   "source": [
    "# comparison operator le Boolean value dinxa"
   ]
  },
  {
   "cell_type": "code",
   "execution_count": 3,
   "id": "070b4b11-68d5-4314-8f66-2f35dbc9ef01",
   "metadata": {},
   "outputs": [
    {
     "data": {
      "text/plain": [
       "True"
      ]
     },
     "execution_count": 3,
     "metadata": {},
     "output_type": "execute_result"
    }
   ],
   "source": [
    "5 != 3  # != means Not equals to \n",
    "# 5 is not equal ot 3"
   ]
  },
  {
   "cell_type": "code",
   "execution_count": 4,
   "id": "4947e9cd-1f33-44d9-b5ce-d07d6dbc9b2d",
   "metadata": {},
   "outputs": [
    {
     "data": {
      "text/plain": [
       "True"
      ]
     },
     "execution_count": 4,
     "metadata": {},
     "output_type": "execute_result"
    }
   ],
   "source": [
    "2 > 1 # > means greater than\n",
    "# 2 is greater than 1"
   ]
  },
  {
   "cell_type": "code",
   "execution_count": 5,
   "id": "6cc43a9b-c74e-4030-81b8-be4be76d5687",
   "metadata": {},
   "outputs": [
    {
     "data": {
      "text/plain": [
       "True"
      ]
     },
     "execution_count": 5,
     "metadata": {},
     "output_type": "execute_result"
    }
   ],
   "source": [
    "1 < 2 # < means less than\n",
    "# 1 is less than 2"
   ]
  },
  {
   "cell_type": "code",
   "execution_count": 6,
   "id": "9dfa5fd6-2529-425c-82ee-7a8c10e6a516",
   "metadata": {},
   "outputs": [
    {
     "data": {
      "text/plain": [
       "False"
      ]
     },
     "execution_count": 6,
     "metadata": {},
     "output_type": "execute_result"
    }
   ],
   "source": [
    "44 < 22 # 44 is less than 22?"
   ]
  },
  {
   "cell_type": "code",
   "execution_count": 7,
   "id": "ea9c7b56-7c5d-4439-8d24-913f40795b8f",
   "metadata": {},
   "outputs": [
    {
     "data": {
      "text/plain": [
       "True"
      ]
     },
     "execution_count": 7,
     "metadata": {},
     "output_type": "execute_result"
    }
   ],
   "source": [
    "2 <= 2 # <= less than or equals to"
   ]
  },
  {
   "cell_type": "code",
   "execution_count": 8,
   "id": "34d8b3a4-fe9b-4bed-95d9-f3d50c0ad168",
   "metadata": {},
   "outputs": [
    {
     "data": {
      "text/plain": [
       "True"
      ]
     },
     "execution_count": 8,
     "metadata": {},
     "output_type": "execute_result"
    }
   ],
   "source": [
    "5 >= 2 # >= means greater than or equal to"
   ]
  },
  {
   "cell_type": "code",
   "execution_count": null,
   "id": "e220b2bb-0891-4064-8761-7becec589063",
   "metadata": {},
   "outputs": [],
   "source": []
  }
 ],
 "metadata": {
  "kernelspec": {
   "display_name": "Python 3 (ipykernel)",
   "language": "python",
   "name": "python3"
  },
  "language_info": {
   "codemirror_mode": {
    "name": "ipython",
    "version": 3
   },
   "file_extension": ".py",
   "mimetype": "text/x-python",
   "name": "python",
   "nbconvert_exporter": "python",
   "pygments_lexer": "ipython3",
   "version": "3.12.0"
  }
 },
 "nbformat": 4,
 "nbformat_minor": 5
}
