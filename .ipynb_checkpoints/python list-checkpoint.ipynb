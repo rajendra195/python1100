{
 "cells": [
  {
   "cell_type": "markdown",
   "id": "caec4fa1-5fcb-408a-a4e5-8f54b13ab89f",
   "metadata": {},
   "source": [
    "# List\n",
    "* list is a collection of items under one variable name\n",
    "* list can hold multiple values with multiple data types\n",
    "* allows dublicate values\n",
    "* mutable\n",
    "* written inside [ ] with items separated by comma(,)\n",
    "* ordered, indexed"
   ]
  },
  {
   "cell_type": "code",
   "execution_count": 3,
   "id": "75197e10-8268-42f2-b9af-c01bcbb2060c",
   "metadata": {},
   "outputs": [
    {
     "name": "stdout",
     "output_type": "stream",
     "text": [
      "[5, 0.3, 'Hello', True]\n",
      "<class 'list'>\n"
     ]
    }
   ],
   "source": [
    "list_1 = [5, 0.3, \"Hello\", True]\n",
    "print(list_1)\n",
    "print(type(list_1))"
   ]
  },
  {
   "cell_type": "code",
   "execution_count": 4,
   "id": "c7e8de97-9af1-470f-a99d-8e5f7662e8be",
   "metadata": {},
   "outputs": [],
   "source": [
    "gift = [\"Iphone\", \"PS5\", \"Guitar\", \"Usa Visa\", \"DV\", \"Car\", \"Flower\", \"Chocolate\"]"
   ]
  },
  {
   "cell_type": "code",
   "execution_count": 5,
   "id": "372fe52d-8ae9-4290-96f5-e5760fda6762",
   "metadata": {},
   "outputs": [
    {
     "name": "stdout",
     "output_type": "stream",
     "text": [
      "['Iphone', 'PS5', 'Guitar', 'Usa Visa', 'DV', 'Car', 'Flower', 'Chocolate']\n"
     ]
    }
   ],
   "source": [
    "print(gift)"
   ]
  },
  {
   "cell_type": "code",
   "execution_count": 6,
   "id": "3d1ddd45-9d8b-4917-bd75-1c906324e05b",
   "metadata": {},
   "outputs": [
    {
     "data": {
      "text/plain": [
       "'PS5'"
      ]
     },
     "execution_count": 6,
     "metadata": {},
     "output_type": "execute_result"
    }
   ],
   "source": [
    "gift[1]"
   ]
  },
  {
   "cell_type": "code",
   "execution_count": 7,
   "id": "dea6903c-bd21-4473-ba22-8a3ba68fb05f",
   "metadata": {},
   "outputs": [
    {
     "data": {
      "text/plain": [
       "'Iphone'"
      ]
     },
     "execution_count": 7,
     "metadata": {},
     "output_type": "execute_result"
    }
   ],
   "source": [
    "gift[0]"
   ]
  },
  {
   "cell_type": "code",
   "execution_count": 8,
   "id": "3edb790a-d2dd-4681-be1f-0dfb54313ee3",
   "metadata": {},
   "outputs": [
    {
     "ename": "IndexError",
     "evalue": "list index out of range",
     "output_type": "error",
     "traceback": [
      "\u001b[1;31m---------------------------------------------------------------------------\u001b[0m",
      "\u001b[1;31mIndexError\u001b[0m                                Traceback (most recent call last)",
      "Cell \u001b[1;32mIn[8], line 1\u001b[0m\n\u001b[1;32m----> 1\u001b[0m \u001b[43mgift\u001b[49m\u001b[43m[\u001b[49m\u001b[38;5;241;43m9\u001b[39;49m\u001b[43m]\u001b[49m\n",
      "\u001b[1;31mIndexError\u001b[0m: list index out of range"
     ]
    }
   ],
   "source": [
    "gift[9]"
   ]
  },
  {
   "cell_type": "code",
   "execution_count": 9,
   "id": "92fb9cc3-df94-4e54-a7aa-102daaa7c82c",
   "metadata": {},
   "outputs": [
    {
     "data": {
      "text/plain": [
       "'Chocolate'"
      ]
     },
     "execution_count": 9,
     "metadata": {},
     "output_type": "execute_result"
    }
   ],
   "source": [
    "gift[7]"
   ]
  },
  {
   "cell_type": "markdown",
   "id": "3d627a49-96af-43d0-ab9d-60a5349f4e07",
   "metadata": {},
   "source": [
    "# Negative indexing\n",
    "start from the end"
   ]
  },
  {
   "cell_type": "code",
   "execution_count": 10,
   "id": "12c80f6c-76c6-45f6-8de6-4b2c11a81d3f",
   "metadata": {},
   "outputs": [
    {
     "data": {
      "text/plain": [
       "'Chocolate'"
      ]
     },
     "execution_count": 10,
     "metadata": {},
     "output_type": "execute_result"
    }
   ],
   "source": [
    "gift[-1]"
   ]
  },
  {
   "cell_type": "code",
   "execution_count": 12,
   "id": "a6787807-c616-4f8a-a131-42054989d6d2",
   "metadata": {},
   "outputs": [
    {
     "data": {
      "text/plain": [
       "'Flower'"
      ]
     },
     "execution_count": 12,
     "metadata": {},
     "output_type": "execute_result"
    }
   ],
   "source": [
    "gift[-2]"
   ]
  },
  {
   "cell_type": "code",
   "execution_count": 13,
   "id": "bb3c4244-bdbd-44f7-990c-172a8fcb2700",
   "metadata": {},
   "outputs": [
    {
     "data": {
      "text/plain": [
       "'Iphone'"
      ]
     },
     "execution_count": 13,
     "metadata": {},
     "output_type": "execute_result"
    }
   ],
   "source": [
    "gift[-8]"
   ]
  },
  {
   "cell_type": "code",
   "execution_count": 14,
   "id": "2eefd802-a9b6-47bb-994f-920fad0bcad2",
   "metadata": {},
   "outputs": [
    {
     "data": {
      "text/plain": [
       "['Usa Visa', 'DV']"
      ]
     },
     "execution_count": 14,
     "metadata": {},
     "output_type": "execute_result"
    }
   ],
   "source": [
    "gift[3:5]"
   ]
  },
  {
   "cell_type": "code",
   "execution_count": 16,
   "id": "f6582624-4947-4d20-9077-026d7d5bb754",
   "metadata": {},
   "outputs": [
    {
     "data": {
      "text/plain": [
       "['Car', 'Flower', 'Chocolate']"
      ]
     },
     "execution_count": 16,
     "metadata": {},
     "output_type": "execute_result"
    }
   ],
   "source": [
    "gift[5:9]"
   ]
  },
  {
   "cell_type": "code",
   "execution_count": 17,
   "id": "01a4589a-45a5-4b50-bf8d-723a7bd91846",
   "metadata": {},
   "outputs": [
    {
     "data": {
      "text/plain": [
       "['Car', 'Flower', 'Chocolate']"
      ]
     },
     "execution_count": 17,
     "metadata": {},
     "output_type": "execute_result"
    }
   ],
   "source": [
    "gift[5:]"
   ]
  },
  {
   "cell_type": "code",
   "execution_count": 23,
   "id": "ab1169bb-82d7-44f4-a95c-11ef885145ff",
   "metadata": {},
   "outputs": [
    {
     "data": {
      "text/plain": [
       "['Car', 'Flower', 'Chocolate']"
      ]
     },
     "execution_count": 23,
     "metadata": {},
     "output_type": "execute_result"
    }
   ],
   "source": [
    "gift[-3:] # -3 index bata right side ko sabai aauxa"
   ]
  },
  {
   "cell_type": "code",
   "execution_count": 20,
   "id": "a413b639-bce7-40df-8f5e-a4fe20322896",
   "metadata": {},
   "outputs": [
    {
     "data": {
      "text/plain": [
       "['Usa Visa', 'DV', 'Car', 'Flower', 'Chocolate']"
      ]
     },
     "execution_count": 20,
     "metadata": {},
     "output_type": "execute_result"
    }
   ],
   "source": [
    "gift[-5:] "
   ]
  },
  {
   "cell_type": "code",
   "execution_count": 22,
   "id": "935d1d04-3209-473a-aaec-1c92e0a7c0ef",
   "metadata": {},
   "outputs": [
    {
     "data": {
      "text/plain": [
       "['Iphone', 'PS5', 'Guitar', 'Usa Visa', 'DV']"
      ]
     },
     "execution_count": 22,
     "metadata": {},
     "output_type": "execute_result"
    }
   ],
   "source": [
    "gift[:-3] # start bata -3 index samma sabai aauxa"
   ]
  },
  {
   "cell_type": "code",
   "execution_count": 25,
   "id": "2c97bea1-c3b7-45e9-8da1-a340f40823bc",
   "metadata": {},
   "outputs": [
    {
     "data": {
      "text/plain": [
       "['Car', 'Chocolate']"
      ]
     },
     "execution_count": 25,
     "metadata": {},
     "output_type": "execute_result"
    }
   ],
   "source": [
    "gift[-3::2]"
   ]
  },
  {
   "cell_type": "markdown",
   "id": "7a2329c7-4d39-4a54-9ddd-04bcca52512e",
   "metadata": {},
   "source": [
    "# [ ] => list ra indexing, slicing\n",
    "# { } => f-string, dictionary, set\n",
    "# ( ) => function call, Object creation, method call, tuples"
   ]
  },
  {
   "cell_type": "code",
   "execution_count": 26,
   "id": "56c382ee-ee3f-4fc6-b59c-8e1a0a9081dd",
   "metadata": {},
   "outputs": [
    {
     "data": {
      "text/plain": [
       "['Iphone', 'PS5', 'Guitar', 'Usa Visa', 'DV', 'Car', 'Flower', 'Chocolate']"
      ]
     },
     "execution_count": 26,
     "metadata": {},
     "output_type": "execute_result"
    }
   ],
   "source": [
    "gift"
   ]
  },
  {
   "cell_type": "code",
   "execution_count": 27,
   "id": "5b0d6f24-fb77-4f84-90b4-f897c20e679f",
   "metadata": {},
   "outputs": [
    {
     "data": {
      "text/plain": [
       "8"
      ]
     },
     "execution_count": 27,
     "metadata": {},
     "output_type": "execute_result"
    }
   ],
   "source": [
    "len(gift)"
   ]
  },
  {
   "cell_type": "code",
   "execution_count": 28,
   "id": "141bbfc8-b435-4e4e-a1e4-2446457df34d",
   "metadata": {},
   "outputs": [
    {
     "data": {
      "text/plain": [
       "'Iphone'"
      ]
     },
     "execution_count": 28,
     "metadata": {},
     "output_type": "execute_result"
    }
   ],
   "source": [
    "gift[0]"
   ]
  },
  {
   "cell_type": "code",
   "execution_count": 29,
   "id": "2c76a682-9b24-4e31-8b96-cffe7585c083",
   "metadata": {},
   "outputs": [
    {
     "data": {
      "text/plain": [
       "'PS5'"
      ]
     },
     "execution_count": 29,
     "metadata": {},
     "output_type": "execute_result"
    }
   ],
   "source": [
    "gift[1]"
   ]
  },
  {
   "cell_type": "code",
   "execution_count": 30,
   "id": "3f35fa21-a47c-4ec3-a75d-6b2d3423e555",
   "metadata": {},
   "outputs": [
    {
     "name": "stdout",
     "output_type": "stream",
     "text": [
      "index 0, item Iphone\n",
      "index 1, item PS5\n",
      "index 2, item Guitar\n",
      "index 3, item Usa Visa\n",
      "index 4, item DV\n",
      "index 5, item Car\n",
      "index 6, item Flower\n",
      "index 7, item Chocolate\n"
     ]
    }
   ],
   "source": [
    "for index in range(len(gift)):\n",
    "    item = gift[index]\n",
    "    print(f\"index {index}, item {item}\")"
   ]
  },
  {
   "cell_type": "code",
   "execution_count": 36,
   "id": "4a534bf4-2de7-41ad-b65d-e58ef5a83f9b",
   "metadata": {},
   "outputs": [
    {
     "name": "stdout",
     "output_type": "stream",
     "text": [
      "Iphone\n",
      "PS5\n",
      "Guitar\n",
      "Usa Visa\n",
      "DV\n",
      "Car\n",
      "Flower\n",
      "Chocolate\n"
     ]
    }
   ],
   "source": [
    "for item in gift:\n",
    "    print(item)"
   ]
  },
  {
   "cell_type": "code",
   "execution_count": 48,
   "id": "c6747925-5040-49bd-9e50-132574a3a511",
   "metadata": {},
   "outputs": [
    {
     "name": "stdout",
     "output_type": "stream",
     "text": [
      "Sum of all items is 54.\n",
      "Mean is 7.71.\n"
     ]
    }
   ],
   "source": [
    "num = [1, 2, 6, 7, 4, 23, 11]\n",
    "total = 0\n",
    "for item in num:\n",
    "    total = total + item\n",
    "print(f\"Sum of all items is {total}.\")\n",
    "mean = round(total / len(num), 2)\n",
    "print(f\"Mean is {mean}.\")"
   ]
  },
  {
   "cell_type": "code",
   "execution_count": 50,
   "id": "2c591a4b-c4a7-449c-b00b-45932e28652c",
   "metadata": {},
   "outputs": [
    {
     "name": "stdout",
     "output_type": "stream",
     "text": [
      "Sum of all items in list is 54.\n",
      "Mean: 7.71\n"
     ]
    }
   ],
   "source": [
    "total_sum = 0\n",
    "for index in range(len(num)):\n",
    "    number = num[index]\n",
    "    total_sum = total_sum + number\n",
    "print(f\"Sum of all items in list is {total_sum}.\")\n",
    "mean = round(total_sum / len(num), 2)\n",
    "print(f\"Mean: {mean}\")"
   ]
  },
  {
   "cell_type": "markdown",
   "id": "acf615b9-20fb-484f-85a5-a320409a4ffa",
   "metadata": {},
   "source": [
    "# Membership operator"
   ]
  },
  {
   "cell_type": "code",
   "execution_count": 52,
   "id": "38a3cbbb-cdab-4411-86aa-fd915a800d35",
   "metadata": {},
   "outputs": [],
   "source": [
    "fruits = [\"apple\", \"banana\", \"mango\", \"orange\", \"pear\"]"
   ]
  },
  {
   "cell_type": "code",
   "execution_count": 53,
   "id": "657bab62-24c7-4bc0-b2f3-03521f787f7a",
   "metadata": {},
   "outputs": [
    {
     "data": {
      "text/plain": [
       "True"
      ]
     },
     "execution_count": 53,
     "metadata": {},
     "output_type": "execute_result"
    }
   ],
   "source": [
    "\"mango\" in fruits"
   ]
  },
  {
   "cell_type": "code",
   "execution_count": 54,
   "id": "8e184f7f-f11c-443a-bcc9-298c1fc314a3",
   "metadata": {},
   "outputs": [
    {
     "data": {
      "text/plain": [
       "False"
      ]
     },
     "execution_count": 54,
     "metadata": {},
     "output_type": "execute_result"
    }
   ],
   "source": [
    "\"mango\" not in fruits"
   ]
  },
  {
   "cell_type": "code",
   "execution_count": 55,
   "id": "05ac2885-d7c9-41fc-822b-a02fd66e1f27",
   "metadata": {},
   "outputs": [
    {
     "data": {
      "text/plain": [
       "True"
      ]
     },
     "execution_count": 55,
     "metadata": {},
     "output_type": "execute_result"
    }
   ],
   "source": [
    "\"pineapple\" not in fruits"
   ]
  },
  {
   "cell_type": "code",
   "execution_count": 56,
   "id": "6c8ad142-3f98-4eae-b09e-a3641ffe0691",
   "metadata": {},
   "outputs": [
    {
     "data": {
      "text/plain": [
       "False"
      ]
     },
     "execution_count": 56,
     "metadata": {},
     "output_type": "execute_result"
    }
   ],
   "source": [
    "\"peach\" in fruits"
   ]
  },
  {
   "cell_type": "code",
   "execution_count": 57,
   "id": "42ecbb7a-2e8c-4f5a-8772-b3763c2f0bd5",
   "metadata": {},
   "outputs": [
    {
     "data": {
      "text/plain": [
       "True"
      ]
     },
     "execution_count": 57,
     "metadata": {},
     "output_type": "execute_result"
    }
   ],
   "source": [
    "\"peach\" not in fruits"
   ]
  },
  {
   "cell_type": "code",
   "execution_count": 58,
   "id": "b2952ad3-6644-4252-9bf3-5818b40b9eab",
   "metadata": {},
   "outputs": [
    {
     "name": "stdout",
     "output_type": "stream",
     "text": [
      "Wow, mango is in the fruit list.\n"
     ]
    }
   ],
   "source": [
    "if \"mango\" in fruits:\n",
    "    print(\"Wow, mango is in the fruit list.\")"
   ]
  },
  {
   "cell_type": "code",
   "execution_count": null,
   "id": "e3db0e16-2ddd-4ad0-b39c-42f8ab31ddde",
   "metadata": {},
   "outputs": [],
   "source": []
  }
 ],
 "metadata": {
  "kernelspec": {
   "display_name": "Python 3 (ipykernel)",
   "language": "python",
   "name": "python3"
  },
  "language_info": {
   "codemirror_mode": {
    "name": "ipython",
    "version": 3
   },
   "file_extension": ".py",
   "mimetype": "text/x-python",
   "name": "python",
   "nbconvert_exporter": "python",
   "pygments_lexer": "ipython3",
   "version": "3.12.0"
  }
 },
 "nbformat": 4,
 "nbformat_minor": 5
}
