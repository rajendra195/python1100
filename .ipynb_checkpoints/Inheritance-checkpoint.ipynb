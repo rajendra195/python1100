{
 "cells": [
  {
   "cell_type": "markdown",
   "id": "bca8f521-1db4-499b-a89a-8383ecda30d2",
   "metadata": {},
   "source": [
    "# assignment"
   ]
  },
  {
   "cell_type": "code",
   "execution_count": 7,
   "id": "6b88af28-bb06-45d4-8ce7-c59f6d1e377f",
   "metadata": {},
   "outputs": [
    {
     "name": "stdin",
     "output_type": "stream",
     "text": [
      "Enter a radius:  45\n"
     ]
    },
    {
     "data": {
      "text/plain": [
       "6361.725"
      ]
     },
     "execution_count": 7,
     "metadata": {},
     "output_type": "execute_result"
    }
   ],
   "source": [
    "import math\n",
    "\n",
    "class Circle:\n",
    "    def __init__(self, radius):\n",
    "        self.radius = radius\n",
    "\n",
    "    def area(self):\n",
    "        return round((math.pi * self.radius ** 2), 3)\n",
    "\n",
    "radius = float(input(\"Enter a radius: \"))\n",
    "circle1_area = Circle(radius=radius)\n",
    "circle1_area.area()"
   ]
  },
  {
   "cell_type": "code",
   "execution_count": 9,
   "id": "b06ca044-1cb8-4b93-b0d4-eecbd4189e85",
   "metadata": {},
   "outputs": [
    {
     "name": "stdin",
     "output_type": "stream",
     "text": [
      "Enter a radius:  5\n"
     ]
    },
    {
     "data": {
      "text/plain": [
       "78.54"
      ]
     },
     "execution_count": 9,
     "metadata": {},
     "output_type": "execute_result"
    }
   ],
   "source": [
    "r = float(input(\"Enter a radius: \"))\n",
    "circle2 = Circle(radius=r)\n",
    "circle2.area()"
   ]
  },
  {
   "cell_type": "markdown",
   "id": "47e910c2-58fd-433c-85b7-2b36a8b399bf",
   "metadata": {},
   "source": [
    "# Inheritance\n",
    "allows us to define a class that inherits all the method and properties from another class\n",
    "* single\n",
    "* multiple\n",
    "* multilevel\n",
    "* hierarchical"
   ]
  },
  {
   "cell_type": "code",
   "execution_count": 10,
   "id": "da5991e6-3c27-4950-85cb-6a4a730a13b2",
   "metadata": {},
   "outputs": [],
   "source": [
    "class Parent:\n",
    "    eyes = \"Brown\" # class attribute\n",
    "\n",
    "class Child:\n",
    "    hair = \"white\"\n",
    "    "
   ]
  },
  {
   "cell_type": "code",
   "execution_count": 12,
   "id": "7edbcba2-1a53-46f6-abe8-a25d85876a62",
   "metadata": {},
   "outputs": [
    {
     "ename": "AttributeError",
     "evalue": "'Child' object has no attribute 'eyes'",
     "output_type": "error",
     "traceback": [
      "\u001b[1;31m---------------------------------------------------------------------------\u001b[0m",
      "\u001b[1;31mAttributeError\u001b[0m                            Traceback (most recent call last)",
      "Cell \u001b[1;32mIn[12], line 2\u001b[0m\n\u001b[0;32m      1\u001b[0m c1 \u001b[38;5;241m=\u001b[39m Child()\n\u001b[1;32m----> 2\u001b[0m \u001b[43mc1\u001b[49m\u001b[38;5;241;43m.\u001b[39;49m\u001b[43meyes\u001b[49m   \u001b[38;5;66;03m# yo garna paudaina because eyes is an attribute of Parent class\u001b[39;00m\n",
      "\u001b[1;31mAttributeError\u001b[0m: 'Child' object has no attribute 'eyes'"
     ]
    }
   ],
   "source": [
    "c1 = Child()\n",
    "c1.eyes   # yo garna paudaina because eyes is an attribute of Parent class"
   ]
  },
  {
   "cell_type": "markdown",
   "id": "c8f05519-1072-42d7-ad9f-d611daa6bd4a",
   "metadata": {},
   "source": [
    "# single inheritance"
   ]
  },
  {
   "cell_type": "code",
   "execution_count": 17,
   "id": "7c0a99b1-451f-4955-817a-847ea78e3a65",
   "metadata": {},
   "outputs": [],
   "source": [
    "# example"
   ]
  },
  {
   "cell_type": "code",
   "execution_count": 14,
   "id": "af86bcfc-9fa0-4fec-ab34-49f430d873c1",
   "metadata": {},
   "outputs": [],
   "source": [
    "class Parent:\n",
    "    eyes = \"brown\"\n",
    "\n",
    "class Child(Parent): # step 1 pass Parent class as an argument on Child class\n",
    "    hair = \"white\"\n",
    "    def __init__(self):\n",
    "        super().__init__() # step 2 user super "
   ]
  },
  {
   "cell_type": "code",
   "execution_count": 15,
   "id": "6c473d40-f9ad-44e4-9d55-d5faa5488251",
   "metadata": {},
   "outputs": [
    {
     "data": {
      "text/plain": [
       "'brown'"
      ]
     },
     "execution_count": 15,
     "metadata": {},
     "output_type": "execute_result"
    }
   ],
   "source": [
    "c1 = Child()\n",
    "c1.eyes"
   ]
  },
  {
   "cell_type": "code",
   "execution_count": 16,
   "id": "ac4e501e-f01c-44fb-9834-c6f4bfaa7d2c",
   "metadata": {},
   "outputs": [],
   "source": [
    "# example"
   ]
  },
  {
   "cell_type": "code",
   "execution_count": 35,
   "id": "aa755c98-2fa6-488e-8869-f5009ac9b75d",
   "metadata": {},
   "outputs": [],
   "source": [
    "class Computer:\n",
    "    def __init__(self, model):\n",
    "        self.model = model\n",
    "\n",
    "    def show_model(self):\n",
    "        print(f\"Your model is {self.model}.\")\n",
    "\n",
    "class Mobile(Computer): # step1\n",
    "    def __init__(self, has_flash, model):\n",
    "        self.has_flash = has_flash\n",
    "        super().__init__(model) # step 2"
   ]
  },
  {
   "cell_type": "code",
   "execution_count": 36,
   "id": "97748c9b-1c00-4c1c-ab54-4874c944ddb1",
   "metadata": {},
   "outputs": [
    {
     "data": {
      "text/plain": [
       "True"
      ]
     },
     "execution_count": 36,
     "metadata": {},
     "output_type": "execute_result"
    }
   ],
   "source": [
    "m1 = Mobile(has_flash=True, model=\"Iphone\")\n",
    "m1.has_flash"
   ]
  },
  {
   "cell_type": "code",
   "execution_count": 37,
   "id": "9bd2857d-146b-43b0-8f97-ee20b57b7015",
   "metadata": {},
   "outputs": [
    {
     "data": {
      "text/plain": [
       "'Iphone'"
      ]
     },
     "execution_count": 37,
     "metadata": {},
     "output_type": "execute_result"
    }
   ],
   "source": [
    "m1.model"
   ]
  },
  {
   "cell_type": "code",
   "execution_count": 38,
   "id": "92a9027e-054c-4d42-a11b-6d514049db45",
   "metadata": {},
   "outputs": [
    {
     "name": "stdout",
     "output_type": "stream",
     "text": [
      "Your model is Iphone.\n"
     ]
    }
   ],
   "source": [
    "m1.show_model()"
   ]
  },
  {
   "cell_type": "markdown",
   "id": "afb9ac4e-b75e-429f-9c9d-948d79ab3518",
   "metadata": {},
   "source": [
    "# Multiple inheritance"
   ]
  },
  {
   "cell_type": "code",
   "execution_count": 47,
   "id": "cdb31455-f591-40d4-a6b8-436a4a2b91cf",
   "metadata": {},
   "outputs": [],
   "source": [
    "class Father:\n",
    "    father_name = \"Ram\"\n",
    "\n",
    "class Mother:\n",
    "    mother_name = \"Sita\"\n",
    "\n",
    "class Child(Father, Mother): # step1\n",
    "    child_name = \"Lov-Kush\"\n",
    "    def __init__(self):\n",
    "        Father.__init__(self) # step 2\n",
    "        Mother.__init__(self) # step 3"
   ]
  },
  {
   "cell_type": "code",
   "execution_count": 48,
   "id": "494f1800-f4e9-43ba-8215-8601eb50c4bd",
   "metadata": {},
   "outputs": [
    {
     "data": {
      "text/plain": [
       "'Ram'"
      ]
     },
     "execution_count": 48,
     "metadata": {},
     "output_type": "execute_result"
    }
   ],
   "source": [
    "c1 = Child()\n",
    "c1.father_name"
   ]
  },
  {
   "cell_type": "code",
   "execution_count": 49,
   "id": "569003ca-a239-48e8-9ef2-e268833b4547",
   "metadata": {},
   "outputs": [
    {
     "data": {
      "text/plain": [
       "'Sita'"
      ]
     },
     "execution_count": 49,
     "metadata": {},
     "output_type": "execute_result"
    }
   ],
   "source": [
    "c1.mother_name"
   ]
  },
  {
   "cell_type": "code",
   "execution_count": 50,
   "id": "6b263148-1757-4168-b83c-88a129b0a87b",
   "metadata": {},
   "outputs": [
    {
     "data": {
      "text/plain": [
       "'Lov-Kush'"
      ]
     },
     "execution_count": 50,
     "metadata": {},
     "output_type": "execute_result"
    }
   ],
   "source": [
    "c1.child_name"
   ]
  },
  {
   "cell_type": "markdown",
   "id": "78d1a2a8-ff48-46de-b218-714cdbbba0c7",
   "metadata": {},
   "source": [
    "# Multilevel inheritance"
   ]
  },
  {
   "cell_type": "code",
   "execution_count": 51,
   "id": "ebb9169d-a8be-4239-ae2c-7d625fea68d1",
   "metadata": {},
   "outputs": [],
   "source": [
    "# example"
   ]
  },
  {
   "cell_type": "code",
   "execution_count": 62,
   "id": "fae05107-889e-41ea-bdfa-2529b2ebfe38",
   "metadata": {},
   "outputs": [],
   "source": [
    "class Grandfather:\n",
    "    g_name = \"Dasarath\"\n",
    "\n",
    "class Father(Grandfather):\n",
    "    f_name = \"Ram\"\n",
    "    def __init__(self):\n",
    "        Grandfather.__init__(self)\n",
    "\n",
    "class Child(Father):\n",
    "    c_name = \"Lovkush\"\n",
    "    def __init__(self):\n",
    "        Father.__init__(self)"
   ]
  },
  {
   "cell_type": "code",
   "execution_count": 63,
   "id": "a82a22a8-b700-48f1-9aec-ac47f9fcdabc",
   "metadata": {},
   "outputs": [
    {
     "data": {
      "text/plain": [
       "'Dasarath'"
      ]
     },
     "execution_count": 63,
     "metadata": {},
     "output_type": "execute_result"
    }
   ],
   "source": [
    "c1 = Child()\n",
    "c1.g_name"
   ]
  },
  {
   "cell_type": "code",
   "execution_count": null,
   "id": "67b81061-5f4d-4bb9-a310-625a03997e82",
   "metadata": {},
   "outputs": [],
   "source": []
  }
 ],
 "metadata": {
  "kernelspec": {
   "display_name": "Python 3 (ipykernel)",
   "language": "python",
   "name": "python3"
  },
  "language_info": {
   "codemirror_mode": {
    "name": "ipython",
    "version": 3
   },
   "file_extension": ".py",
   "mimetype": "text/x-python",
   "name": "python",
   "nbconvert_exporter": "python",
   "pygments_lexer": "ipython3",
   "version": "3.12.0"
  }
 },
 "nbformat": 4,
 "nbformat_minor": 5
}
