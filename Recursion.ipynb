{
 "cells": [
  {
   "cell_type": "code",
   "execution_count": 1,
   "id": "2e283009-b58a-4ab0-bed6-0d7ece3118bf",
   "metadata": {},
   "outputs": [],
   "source": [
    "def test():\n",
    "    test()\n",
    "# test() "
   ]
  },
  {
   "cell_type": "markdown",
   "id": "1ab06afa-4248-4f84-9157-cfa5a37b980d",
   "metadata": {},
   "source": [
    "# Recursion\n",
    "a funciton calls itself"
   ]
  },
  {
   "cell_type": "code",
   "execution_count": 4,
   "id": "00c54022-d839-4bb7-a5a4-8a11cc864e2b",
   "metadata": {},
   "outputs": [
    {
     "data": {
      "text/plain": [
       "120"
      ]
     },
     "execution_count": 4,
     "metadata": {},
     "output_type": "execute_result"
    }
   ],
   "source": [
    "def factorial(num):\n",
    "    if num < 0:\n",
    "        return None\n",
    "    if num == 0:\n",
    "        return 1\n",
    "    else:\n",
    "        return num * factorial(num - 1)\n",
    "factorial(5)"
   ]
  },
  {
   "cell_type": "markdown",
   "id": "c5a96318-009e-43c6-b2cd-b49e1520c9f7",
   "metadata": {},
   "source": [
    "# assignment fibonacci series (fifth fibonacci number)"
   ]
  },
  {
   "cell_type": "code",
   "execution_count": null,
   "id": "729fa305-f41a-4a5d-a5fb-1e6f246992ed",
   "metadata": {},
   "outputs": [],
   "source": [
    "a = [0, 1]\n",
    "def fibo(a):\n",
    "    if "
   ]
  }
 ],
 "metadata": {
  "kernelspec": {
   "display_name": "Python 3 (ipykernel)",
   "language": "python",
   "name": "python3"
  },
  "language_info": {
   "codemirror_mode": {
    "name": "ipython",
    "version": 3
   },
   "file_extension": ".py",
   "mimetype": "text/x-python",
   "name": "python",
   "nbconvert_exporter": "python",
   "pygments_lexer": "ipython3",
   "version": "3.12.0"
  }
 },
 "nbformat": 4,
 "nbformat_minor": 5
}
