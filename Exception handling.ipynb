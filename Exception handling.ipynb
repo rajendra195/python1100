{
 "cells": [
  {
   "cell_type": "code",
   "execution_count": 4,
   "id": "0a483c52-5c72-49b8-b321-d20ba19635ec",
   "metadata": {},
   "outputs": [
    {
     "name": "stdout",
     "output_type": "stream",
     "text": [
      "3.0\n"
     ]
    }
   ],
   "source": [
    "a = 6 \n",
    "b = 2 \n",
    "c = a / b\n",
    "print(c)"
   ]
  },
  {
   "cell_type": "code",
   "execution_count": 5,
   "id": "530ad53a-68c7-40ef-ba54-3e9eca6378e0",
   "metadata": {},
   "outputs": [
    {
     "ename": "ZeroDivisionError",
     "evalue": "division by zero",
     "output_type": "error",
     "traceback": [
      "\u001b[1;31m---------------------------------------------------------------------------\u001b[0m",
      "\u001b[1;31mZeroDivisionError\u001b[0m                         Traceback (most recent call last)",
      "Cell \u001b[1;32mIn[5], line 3\u001b[0m\n\u001b[0;32m      1\u001b[0m a \u001b[38;5;241m=\u001b[39m \u001b[38;5;241m6\u001b[39m \n\u001b[0;32m      2\u001b[0m b \u001b[38;5;241m=\u001b[39m \u001b[38;5;241m0\u001b[39m\n\u001b[1;32m----> 3\u001b[0m c \u001b[38;5;241m=\u001b[39m \u001b[43ma\u001b[49m\u001b[43m \u001b[49m\u001b[38;5;241;43m/\u001b[39;49m\u001b[43m \u001b[49m\u001b[43mb\u001b[49m\n\u001b[0;32m      4\u001b[0m \u001b[38;5;28mprint\u001b[39m(c)\n\u001b[0;32m      5\u001b[0m \u001b[38;5;28mprint\u001b[39m(\u001b[38;5;124m\"\u001b[39m\u001b[38;5;124mThe value of c is calculated.\u001b[39m\u001b[38;5;124m\"\u001b[39m)\n",
      "\u001b[1;31mZeroDivisionError\u001b[0m: division by zero"
     ]
    }
   ],
   "source": [
    "a = 6 \n",
    "b = 0\n",
    "c = a / b\n",
    "print(c)\n",
    "print(\"The value of c is calculated.\")"
   ]
  },
  {
   "cell_type": "code",
   "execution_count": 6,
   "id": "f44a32ce-1fc2-4d71-9d7e-ddc1952f7b94",
   "metadata": {},
   "outputs": [],
   "source": [
    "# ZeroDivisionError is an exception"
   ]
  },
  {
   "cell_type": "markdown",
   "id": "4c6f54f6-d51a-4d65-8c26-4b8e07fedb39",
   "metadata": {},
   "source": [
    "# use try: .. except: .. to handle exception"
   ]
  },
  {
   "cell_type": "code",
   "execution_count": 9,
   "id": "f3c6407c-8f85-4112-9ec1-4ebb40e3daf0",
   "metadata": {},
   "outputs": [
    {
     "name": "stdout",
     "output_type": "stream",
     "text": [
      "Error\n"
     ]
    }
   ],
   "source": [
    "a = 6\n",
    "b = 0\n",
    "try:\n",
    "    c = a / b\n",
    "    print(c)\n",
    "except:\n",
    "    print(\"Error\")"
   ]
  },
  {
   "cell_type": "code",
   "execution_count": 12,
   "id": "217d5afa-44a5-4535-9292-4c3ae55c9a00",
   "metadata": {},
   "outputs": [
    {
     "name": "stdout",
     "output_type": "stream",
     "text": [
      "division by zero\n"
     ]
    }
   ],
   "source": [
    "a = 6\n",
    "b = 0\n",
    "try:\n",
    "    c = a / b\n",
    "    print(c)\n",
    "except Exception as e: # this line captures any variants of exceptions\n",
    "    print(e)"
   ]
  },
  {
   "cell_type": "code",
   "execution_count": 14,
   "id": "031cd75f-508e-4988-b975-188836d5aa71",
   "metadata": {},
   "outputs": [
    {
     "name": "stdout",
     "output_type": "stream",
     "text": [
      "division by zero\n"
     ]
    }
   ],
   "source": [
    "a = 6 \n",
    "b = 0\n",
    "try:\n",
    "    c = a / b\n",
    "    print(c)\n",
    "except ZeroDivisionError as e: # preferred way\n",
    "    print(e)"
   ]
  },
  {
   "cell_type": "code",
   "execution_count": 17,
   "id": "9de33396-f16e-47a3-ac17-91ed934aea5f",
   "metadata": {},
   "outputs": [
    {
     "ename": "ValueError",
     "evalue": "B cannot be zero",
     "output_type": "error",
     "traceback": [
      "\u001b[1;31m---------------------------------------------------------------------------\u001b[0m",
      "\u001b[1;31mValueError\u001b[0m                                Traceback (most recent call last)",
      "Cell \u001b[1;32mIn[17], line 4\u001b[0m\n\u001b[0;32m      2\u001b[0m b \u001b[38;5;241m=\u001b[39m \u001b[38;5;241m0\u001b[39m\n\u001b[0;32m      3\u001b[0m \u001b[38;5;28;01mif\u001b[39;00m b \u001b[38;5;241m==\u001b[39m \u001b[38;5;241m0\u001b[39m:\n\u001b[1;32m----> 4\u001b[0m     \u001b[38;5;28;01mraise\u001b[39;00m \u001b[38;5;167;01mValueError\u001b[39;00m(\u001b[38;5;124m\"\u001b[39m\u001b[38;5;124mB cannot be zero\u001b[39m\u001b[38;5;124m\"\u001b[39m)\n",
      "\u001b[1;31mValueError\u001b[0m: B cannot be zero"
     ]
    }
   ],
   "source": [
    "a = 6 \n",
    "b = 0\n",
    "if b == 0:\n",
    "    raise ValueError(\"B cannot be zero\")"
   ]
  },
  {
   "cell_type": "markdown",
   "id": "2f4930b6-3894-48ed-88cf-373f50397918",
   "metadata": {},
   "source": [
    "# Raising your custom exception"
   ]
  },
  {
   "cell_type": "code",
   "execution_count": 19,
   "id": "0acaab3f-de01-4de0-a92f-9b77d2d0bb8c",
   "metadata": {},
   "outputs": [],
   "source": [
    "class MyError(Exception):\n",
    "    pass"
   ]
  },
  {
   "cell_type": "code",
   "execution_count": 23,
   "id": "e51a3cd2-d67f-46cb-9f15-0d3ee2260796",
   "metadata": {},
   "outputs": [
    {
     "ename": "MyError",
     "evalue": "B ko value 0 vayo hai",
     "output_type": "error",
     "traceback": [
      "\u001b[1;31m---------------------------------------------------------------------------\u001b[0m",
      "\u001b[1;31mMyError\u001b[0m                                   Traceback (most recent call last)",
      "Cell \u001b[1;32mIn[23], line 4\u001b[0m\n\u001b[0;32m      2\u001b[0m b \u001b[38;5;241m=\u001b[39m \u001b[38;5;241m0\u001b[39m\n\u001b[0;32m      3\u001b[0m \u001b[38;5;28;01mif\u001b[39;00m b \u001b[38;5;241m==\u001b[39m \u001b[38;5;241m0\u001b[39m:\n\u001b[1;32m----> 4\u001b[0m     \u001b[38;5;28;01mraise\u001b[39;00m MyError(\u001b[38;5;124m\"\u001b[39m\u001b[38;5;124mB ko value 0 vayo hai\u001b[39m\u001b[38;5;124m\"\u001b[39m)\n",
      "\u001b[1;31mMyError\u001b[0m: B ko value 0 vayo hai"
     ]
    }
   ],
   "source": [
    "a = 6\n",
    "b = 0\n",
    "if b == 0:\n",
    "    raise MyError(\"B ko value 0 vayo hai\")"
   ]
  },
  {
   "cell_type": "code",
   "execution_count": null,
   "id": "13dddd23-b15d-4324-b733-bb73773dba94",
   "metadata": {},
   "outputs": [],
   "source": []
  }
 ],
 "metadata": {
  "kernelspec": {
   "display_name": "Python 3 (ipykernel)",
   "language": "python",
   "name": "python3"
  },
  "language_info": {
   "codemirror_mode": {
    "name": "ipython",
    "version": 3
   },
   "file_extension": ".py",
   "mimetype": "text/x-python",
   "name": "python",
   "nbconvert_exporter": "python",
   "pygments_lexer": "ipython3",
   "version": "3.12.0"
  }
 },
 "nbformat": 4,
 "nbformat_minor": 5
}
