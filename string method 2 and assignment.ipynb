{
 "cells": [
  {
   "cell_type": "code",
   "execution_count": 4,
   "id": "4b573b05-4df5-46c1-adc0-7d9bb15cf9d9",
   "metadata": {},
   "outputs": [],
   "source": [
    "word = \"Broadway\"\n",
    "word = word.lower()"
   ]
  },
  {
   "cell_type": "code",
   "execution_count": 5,
   "id": "6245368e-35f8-4310-acd0-6239d43eeb8d",
   "metadata": {},
   "outputs": [
    {
     "data": {
      "text/plain": [
       "'broadway'"
      ]
     },
     "execution_count": 5,
     "metadata": {},
     "output_type": "execute_result"
    }
   ],
   "source": [
    "word"
   ]
  },
  {
   "cell_type": "code",
   "execution_count": 10,
   "id": "df68f82f-69ba-4e2e-b4ed-2c65947a084b",
   "metadata": {},
   "outputs": [
    {
     "name": "stdout",
     "output_type": "stream",
     "text": [
      "vowel 5, consonent 10\n"
     ]
    }
   ],
   "source": [
    "word = \"Broadway Infosys\"\n",
    "word = word.lower()\n",
    "vowel = 0\n",
    "consonent = 0\n",
    "for index in range(len(word)):\n",
    "    letter = word[index]\n",
    "    if letter == \"a\" or letter == \"e\" or letter == \"i\" or letter == \"o\" or letter == \"u\":\n",
    "        vowel += 1\n",
    "    elif letter == \" \":\n",
    "        continue\n",
    "    else:\n",
    "        consonent += 1\n",
    "print(f\"vowel {vowel}, consonent {consonent}\") "
   ]
  },
  {
   "cell_type": "markdown",
   "id": "d22814c7-6d28-4c87-af57-40ceb911bb63",
   "metadata": {},
   "source": [
    "# membership operator"
   ]
  },
  {
   "cell_type": "code",
   "execution_count": 11,
   "id": "a28cd226-6daf-4a52-a701-364e95f5fb6c",
   "metadata": {},
   "outputs": [],
   "source": [
    "s = \"hello\""
   ]
  },
  {
   "cell_type": "code",
   "execution_count": 13,
   "id": "fc3f5ca0-dbd0-4f9f-a3d0-6c6d2866fcda",
   "metadata": {},
   "outputs": [
    {
     "data": {
      "text/plain": [
       "True"
      ]
     },
     "execution_count": 13,
     "metadata": {},
     "output_type": "execute_result"
    }
   ],
   "source": [
    "\"e\" in s"
   ]
  },
  {
   "cell_type": "code",
   "execution_count": 14,
   "id": "a30424cf-0a06-4a2a-b946-3216a306351c",
   "metadata": {},
   "outputs": [
    {
     "data": {
      "text/plain": [
       "False"
      ]
     },
     "execution_count": 14,
     "metadata": {},
     "output_type": "execute_result"
    }
   ],
   "source": [
    "\"z\" in s"
   ]
  },
  {
   "cell_type": "code",
   "execution_count": 15,
   "id": "8bf2eee1-865b-432e-ad26-f2a62f19939a",
   "metadata": {},
   "outputs": [
    {
     "data": {
      "text/plain": [
       "False"
      ]
     },
     "execution_count": 15,
     "metadata": {},
     "output_type": "execute_result"
    }
   ],
   "source": [
    "\"elo\" in s"
   ]
  },
  {
   "cell_type": "code",
   "execution_count": 16,
   "id": "3304b306-df7c-46d4-b699-63347287af27",
   "metadata": {},
   "outputs": [
    {
     "data": {
      "text/plain": [
       "True"
      ]
     },
     "execution_count": 16,
     "metadata": {},
     "output_type": "execute_result"
    }
   ],
   "source": [
    "\"el\" in s"
   ]
  },
  {
   "cell_type": "code",
   "execution_count": 17,
   "id": "936a467b-6132-45f5-901a-3d42af1d10b9",
   "metadata": {},
   "outputs": [
    {
     "data": {
      "text/plain": [
       "True"
      ]
     },
     "execution_count": 17,
     "metadata": {},
     "output_type": "execute_result"
    }
   ],
   "source": [
    "\"z\" not in s"
   ]
  },
  {
   "cell_type": "code",
   "execution_count": 25,
   "id": "3f935d60-8dc0-4f73-9e58-9f42cde5c197",
   "metadata": {},
   "outputs": [
    {
     "name": "stdout",
     "output_type": "stream",
     "text": [
      "vowel 7, consonent 8.\n"
     ]
    }
   ],
   "source": [
    "name = \"rajendra niroula\"\n",
    "vowel = 0\n",
    "consonent = 0\n",
    "for index in range(len(name)):\n",
    "    letter = name[index]\n",
    "    if letter in \"aeiou\":\n",
    "        vowel = vowel + 1\n",
    "    elif letter == \" \":\n",
    "        continue\n",
    "    else:\n",
    "        consonent = consonent + 1\n",
    "print(f\"vowel {vowel}, consonent {consonent}.\")"
   ]
  },
  {
   "cell_type": "code",
   "execution_count": 26,
   "id": "4a907815-595b-4d82-b8a1-678ee83faad7",
   "metadata": {},
   "outputs": [
    {
     "data": {
      "text/plain": [
       "7"
      ]
     },
     "execution_count": 26,
     "metadata": {},
     "output_type": "execute_result"
    }
   ],
   "source": [
    "vowel"
   ]
  },
  {
   "cell_type": "code",
   "execution_count": 27,
   "id": "1adf0d75-ff60-44de-9643-c6f4248256d4",
   "metadata": {},
   "outputs": [
    {
     "data": {
      "text/plain": [
       "8"
      ]
     },
     "execution_count": 27,
     "metadata": {},
     "output_type": "execute_result"
    }
   ],
   "source": [
    "consonent"
   ]
  },
  {
   "cell_type": "code",
   "execution_count": 28,
   "id": "0b60bfb2-b8ae-4598-8405-daf3b64264a3",
   "metadata": {},
   "outputs": [],
   "source": [
    "letter = \"H\""
   ]
  },
  {
   "cell_type": "code",
   "execution_count": 29,
   "id": "d410bd87-379a-4015-b5f4-d3b0fe975c72",
   "metadata": {},
   "outputs": [
    {
     "data": {
      "text/plain": [
       "True"
      ]
     },
     "execution_count": 29,
     "metadata": {},
     "output_type": "execute_result"
    }
   ],
   "source": [
    "letter.isupper()"
   ]
  },
  {
   "cell_type": "code",
   "execution_count": 31,
   "id": "c2380ec0-c254-4840-ab33-f3206b6d69f8",
   "metadata": {},
   "outputs": [
    {
     "name": "stdout",
     "output_type": "stream",
     "text": [
      "lower 24, upper 4\n"
     ]
    }
   ],
   "source": [
    "word = \"I'am a Student of Broadway Infosys.\"\n",
    "upper = 0\n",
    "lower = 0\n",
    "for index in range(len(word)):\n",
    "    letter = word[index]\n",
    "    if letter.isupper():\n",
    "        upper = upper + 1\n",
    "    elif letter.islower():\n",
    "        lower += 1\n",
    "    else:\n",
    "        continue\n",
    "print(f\"lower {lower}, upper {upper}\")"
   ]
  },
  {
   "cell_type": "code",
   "execution_count": 32,
   "id": "7060eb82-09ab-4e16-a36a-6123f60d06a6",
   "metadata": {},
   "outputs": [
    {
     "data": {
      "text/plain": [
       "'isha'"
      ]
     },
     "execution_count": 32,
     "metadata": {},
     "output_type": "execute_result"
    }
   ],
   "source": [
    "name = \"!$h@\"\n",
    "name = name.replace(\"!\", \"i\")\n",
    "name = name.replace(\"$\", \"s\")\n",
    "name = name.replace(\"@\", \"a\")\n",
    "name"
   ]
  },
  {
   "cell_type": "code",
   "execution_count": null,
   "id": "3ad5c521-fd83-4980-b1bb-3d56d5755a35",
   "metadata": {},
   "outputs": [],
   "source": []
  }
 ],
 "metadata": {
  "kernelspec": {
   "display_name": "Python 3 (ipykernel)",
   "language": "python",
   "name": "python3"
  },
  "language_info": {
   "codemirror_mode": {
    "name": "ipython",
    "version": 3
   },
   "file_extension": ".py",
   "mimetype": "text/x-python",
   "name": "python",
   "nbconvert_exporter": "python",
   "pygments_lexer": "ipython3",
   "version": "3.12.0"
  }
 },
 "nbformat": 4,
 "nbformat_minor": 5
}
