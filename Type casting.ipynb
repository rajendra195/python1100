{
 "cells": [
  {
   "cell_type": "code",
   "execution_count": 1,
   "id": "e44236e4-e76c-4b94-a24b-58579c198ee3",
   "metadata": {},
   "outputs": [
    {
     "name": "stdin",
     "output_type": "stream",
     "text": [
      "Enter first number:  33\n"
     ]
    }
   ],
   "source": [
    "num1 = input(\"Enter first number: \")"
   ]
  },
  {
   "cell_type": "code",
   "execution_count": 2,
   "id": "0591a687-616f-41bd-be8f-eba400d785e9",
   "metadata": {},
   "outputs": [
    {
     "data": {
      "text/plain": [
       "str"
      ]
     },
     "execution_count": 2,
     "metadata": {},
     "output_type": "execute_result"
    }
   ],
   "source": [
    "type(num1)"
   ]
  },
  {
   "cell_type": "code",
   "execution_count": 3,
   "id": "1cf5fba5-eb84-4921-a183-45230bbd3359",
   "metadata": {},
   "outputs": [],
   "source": [
    "num1_casted = int(num1)"
   ]
  },
  {
   "cell_type": "code",
   "execution_count": 5,
   "id": "f11ce7de-e5f3-427a-abdc-0a7798dcc39c",
   "metadata": {},
   "outputs": [
    {
     "data": {
      "text/plain": [
       "int"
      ]
     },
     "execution_count": 5,
     "metadata": {},
     "output_type": "execute_result"
    }
   ],
   "source": [
    "type(num1_casted)"
   ]
  },
  {
   "cell_type": "markdown",
   "id": "42e6e511-3789-42da-9582-72893cddb868",
   "metadata": {},
   "source": [
    "# Type Casting\n",
    "We use the predefined functions like int() , float() , str() , etc to perform explicit type conversion. This type of conversion is also called typecasting because the user casts (changes) the data type of the objects. Typecasting can be done by assigning the required data type function to the expression."
   ]
  },
  {
   "cell_type": "code",
   "execution_count": 14,
   "id": "32961eeb-13e5-4b23-91bf-88deb7a01679",
   "metadata": {},
   "outputs": [
    {
     "name": "stdin",
     "output_type": "stream",
     "text": [
      "Enter second number: 34\n"
     ]
    }
   ],
   "source": [
    "num2 = int(input(\"Enter second number:\"))"
   ]
  },
  {
   "cell_type": "code",
   "execution_count": 12,
   "id": "dc09143c-45bf-4d08-845a-6461db51e622",
   "metadata": {},
   "outputs": [
    {
     "data": {
      "text/plain": [
       "int"
      ]
     },
     "execution_count": 12,
     "metadata": {},
     "output_type": "execute_result"
    }
   ],
   "source": [
    "type(num2)"
   ]
  },
  {
   "cell_type": "code",
   "execution_count": 13,
   "id": "87cba7de-b31e-489d-8c13-e4251aa2e277",
   "metadata": {},
   "outputs": [],
   "source": [
    "a = int(\"4\")"
   ]
  },
  {
   "cell_type": "code",
   "execution_count": 9,
   "id": "2929264d-b963-46d1-b4e2-875a1dd8633a",
   "metadata": {},
   "outputs": [
    {
     "data": {
      "text/plain": [
       "int"
      ]
     },
     "execution_count": 9,
     "metadata": {},
     "output_type": "execute_result"
    }
   ],
   "source": [
    "type(a)"
   ]
  },
  {
   "cell_type": "code",
   "execution_count": 15,
   "id": "9f14bca6-6627-40a9-a9e9-63bf3e3c3ff4",
   "metadata": {},
   "outputs": [
    {
     "name": "stdin",
     "output_type": "stream",
     "text": [
      "Enter radius: 4.3\n"
     ]
    }
   ],
   "source": [
    "radius = float(input(\"Enter radius:\"))"
   ]
  },
  {
   "cell_type": "code",
   "execution_count": 17,
   "id": "8909f7b3-5999-4c26-987f-c5914844edd4",
   "metadata": {},
   "outputs": [
    {
     "name": "stdout",
     "output_type": "stream",
     "text": [
      "The volume of sphere is 333.038.\n"
     ]
    }
   ],
   "source": [
    "import math\n",
    "volume = 4 / 3 * math.pi * radius ** 3\n",
    "volume = round(volume, 3)\n",
    "print(f\"The volume of sphere is {volume}.\")"
   ]
  },
  {
   "cell_type": "code",
   "execution_count": 26,
   "id": "19fc404f-da48-460b-8502-5773f1745942",
   "metadata": {},
   "outputs": [
    {
     "name": "stdin",
     "output_type": "stream",
     "text": [
      "Enter a num:  sdf\n"
     ]
    },
    {
     "ename": "ValueError",
     "evalue": "invalid literal for int() with base 10: 'sdf'",
     "output_type": "error",
     "traceback": [
      "\u001b[1;31m---------------------------------------------------------------------------\u001b[0m",
      "\u001b[1;31mValueError\u001b[0m                                Traceback (most recent call last)",
      "Cell \u001b[1;32mIn[26], line 1\u001b[0m\n\u001b[1;32m----> 1\u001b[0m a \u001b[38;5;241m=\u001b[39m \u001b[38;5;28;43mint\u001b[39;49m\u001b[43m(\u001b[49m\u001b[38;5;28;43minput\u001b[39;49m\u001b[43m(\u001b[49m\u001b[38;5;124;43m\"\u001b[39;49m\u001b[38;5;124;43mEnter a num: \u001b[39;49m\u001b[38;5;124;43m\"\u001b[39;49m\u001b[43m)\u001b[49m\u001b[43m)\u001b[49m \u001b[38;5;66;03m# Explicit type conversion\u001b[39;00m\n",
      "\u001b[1;31mValueError\u001b[0m: invalid literal for int() with base 10: 'sdf'"
     ]
    }
   ],
   "source": [
    "a = int(input(\"Enter a num: \")) # Explicit type conversion"
   ]
  },
  {
   "cell_type": "code",
   "execution_count": 24,
   "id": "47cfc933-b5e5-4201-90f2-e2ffa92995ed",
   "metadata": {},
   "outputs": [
    {
     "name": "stdin",
     "output_type": "stream",
     "text": [
      "Enter first number: 45.3\n",
      "Enter second number:  54.7\n"
     ]
    },
    {
     "name": "stdout",
     "output_type": "stream",
     "text": [
      "The sum of 45.3 and 54.7 is 100.0.\n"
     ]
    }
   ],
   "source": [
    "# Addition\n",
    "num1 = float(input(\"Enter first number:\"))\n",
    "num2 = float(input(\"Enter second number: \"))\n",
    "sum = num1 + num2\n",
    "print(f\"The sum of {num1} and {num2} is {sum}.\")"
   ]
  },
  {
   "cell_type": "code",
   "execution_count": 1,
   "id": "260d9fc1-aa58-4ba9-bbb5-eac434b1ef47",
   "metadata": {},
   "outputs": [
    {
     "name": "stdin",
     "output_type": "stream",
     "text": [
      "Enter first number: 45\n",
      "Enter second number: 34\n"
     ]
    },
    {
     "ename": "NameError",
     "evalue": "name 'div' is not defined",
     "output_type": "error",
     "traceback": [
      "\u001b[1;31m---------------------------------------------------------------------------\u001b[0m",
      "\u001b[1;31mNameError\u001b[0m                                 Traceback (most recent call last)",
      "Cell \u001b[1;32mIn[1], line 5\u001b[0m\n\u001b[0;32m      3\u001b[0m num2 \u001b[38;5;241m=\u001b[39m \u001b[38;5;28mfloat\u001b[39m(\u001b[38;5;28minput\u001b[39m(\u001b[38;5;124m\"\u001b[39m\u001b[38;5;124mEnter second number:\u001b[39m\u001b[38;5;124m\"\u001b[39m))\n\u001b[0;32m      4\u001b[0m dif \u001b[38;5;241m=\u001b[39m num1 \u001b[38;5;241m-\u001b[39m num2\n\u001b[1;32m----> 5\u001b[0m \u001b[38;5;28mprint\u001b[39m(\u001b[38;5;124mf\u001b[39m\u001b[38;5;124m\"\u001b[39m\u001b[38;5;124mThe substraction of \u001b[39m\u001b[38;5;132;01m{\u001b[39;00mnum1\u001b[38;5;132;01m}\u001b[39;00m\u001b[38;5;124m and \u001b[39m\u001b[38;5;132;01m{\u001b[39;00mnum2\u001b[38;5;132;01m}\u001b[39;00m\u001b[38;5;124m is \u001b[39m\u001b[38;5;132;01m{\u001b[39;00m\u001b[43mdiv\u001b[49m\u001b[38;5;132;01m}\u001b[39;00m\u001b[38;5;124m.\u001b[39m\u001b[38;5;124m\"\u001b[39m)\n",
      "\u001b[1;31mNameError\u001b[0m: name 'div' is not defined"
     ]
    }
   ],
   "source": [
    "# Substraction\n",
    "num1 = float(input(\"Enter first number:\"))\n",
    "num2 = float(input(\"Enter second number:\"))\n",
    "dif = num1 - num2\n",
    "print(f\"The substraction of {num1} and {num2} is {div}.\")"
   ]
  },
  {
   "cell_type": "code",
   "execution_count": 2,
   "id": "f05a5199-c348-4094-8835-9dad052fdd73",
   "metadata": {},
   "outputs": [
    {
     "name": "stdin",
     "output_type": "stream",
     "text": [
      "Enter first number: 4\n",
      "Enter second number: 3\n"
     ]
    },
    {
     "name": "stdout",
     "output_type": "stream",
     "text": [
      "The multiplication of 4.0 and 3.0 is 12.0.\n"
     ]
    }
   ],
   "source": [
    "# Multiplication\n",
    "num1 = float(input(\"Enter first number:\"))\n",
    "num2 = float(input(\"Enter second number:\"))\n",
    "mul = num1 * num2\n",
    "print(f\"The multiplication of {num1} and {num2} is {mul}.\")"
   ]
  },
  {
   "cell_type": "code",
   "execution_count": 4,
   "id": "cf898a1f-20e0-4aca-985a-dd114446e430",
   "metadata": {},
   "outputs": [
    {
     "name": "stdin",
     "output_type": "stream",
     "text": [
      "Enter first number: 45\n",
      "Enter second number: 33\n"
     ]
    },
    {
     "name": "stdout",
     "output_type": "stream",
     "text": [
      "The division of 45.0 and 33.0 is 1.364.\n"
     ]
    }
   ],
   "source": [
    "# Division \n",
    "num1 = float(input(\"Enter first number:\"))\n",
    "num2 = float(input(\"Enter second number:\"))\n",
    "div = round((num1 / num2), 3)\n",
    "print(f\"The division of {num1} and {num2} is {div}.\")"
   ]
  },
  {
   "cell_type": "code",
   "execution_count": 25,
   "id": "64e7492d-9e12-4dbf-97ac-598253ef2972",
   "metadata": {},
   "outputs": [
    {
     "name": "stdin",
     "output_type": "stream",
     "text": [
      "Enter a number: 4.5\n",
      "Enter exponentiation number: 4\n"
     ]
    },
    {
     "name": "stdout",
     "output_type": "stream",
     "text": [
      "The exponentiation is 410.062.\n"
     ]
    }
   ],
   "source": [
    "# Exponentiation\n",
    "number = float(input(\"Enter a number:\"))\n",
    "exp_num = float(input(\"Enter exponentiation number:\"))\n",
    "exp = round((number ** exp_num), 3)\n",
    "print(f\"The exponentiation is {exp}.\")"
   ]
  },
  {
   "cell_type": "code",
   "execution_count": 17,
   "id": "42a36295-1250-48c3-a9d5-8a2c163cfb0c",
   "metadata": {},
   "outputs": [
    {
     "name": "stdin",
     "output_type": "stream",
     "text": [
      "Enter first number: 45\n",
      "Enter second number: 34\n"
     ]
    },
    {
     "name": "stdout",
     "output_type": "stream",
     "text": [
      "The remainder is 11.\n"
     ]
    }
   ],
   "source": [
    "# modulus\n",
    "first_number = int(input(\"Enter first number:\"))\n",
    "second_number = int(input(\"Enter second number:\"))\n",
    "rem = first_number % second_number\n",
    "print(f\"The remainder is {rem}.\")"
   ]
  },
  {
   "cell_type": "code",
   "execution_count": 21,
   "id": "1f3b1ef6-2368-4bae-9c72-5bf1fada2cfd",
   "metadata": {},
   "outputs": [
    {
     "name": "stdin",
     "output_type": "stream",
     "text": [
      "Enter first number: 567\n",
      "Enter second number: 45\n"
     ]
    },
    {
     "name": "stdout",
     "output_type": "stream",
     "text": [
      "The integer value is 12.0.\n"
     ]
    }
   ],
   "source": [
    "# floor division\n",
    "first_number = float(input(\"Enter first number:\"))\n",
    "second_number = float(input(\"Enter second number:\"))\n",
    "int_value = first_number // second_number\n",
    "print(f\"The integer value is {int_value}.\")"
   ]
  },
  {
   "cell_type": "code",
   "execution_count": 29,
   "id": "b45424a9-c59a-4b07-b5f0-4a16b3db4b85",
   "metadata": {},
   "outputs": [
    {
     "data": {
      "text/plain": [
       "(222, 44)"
      ]
     },
     "execution_count": 29,
     "metadata": {},
     "output_type": "execute_result"
    }
   ],
   "source": [
    "# swap using addition and substraction\n",
    "a = 44\n",
    "b = 222\n",
    "c = a + b\n",
    "a = c - a\n",
    "b = c - b\n",
    "a, b"
   ]
  },
  {
   "cell_type": "code",
   "execution_count": null,
   "id": "b37b2846-f391-47a6-947f-37d00d8dbfc7",
   "metadata": {},
   "outputs": [],
   "source": []
  }
 ],
 "metadata": {
  "kernelspec": {
   "display_name": "Python 3 (ipykernel)",
   "language": "python",
   "name": "python3"
  },
  "language_info": {
   "codemirror_mode": {
    "name": "ipython",
    "version": 3
   },
   "file_extension": ".py",
   "mimetype": "text/x-python",
   "name": "python",
   "nbconvert_exporter": "python",
   "pygments_lexer": "ipython3",
   "version": "3.12.0"
  }
 },
 "nbformat": 4,
 "nbformat_minor": 5
}
