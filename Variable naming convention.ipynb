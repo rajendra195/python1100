{
 "cells": [
  {
   "cell_type": "code",
   "execution_count": 2,
   "id": "963c33cb-e482-4cef-a056-f2fc11f135e2",
   "metadata": {},
   "outputs": [],
   "source": [
    "first_name = \"Radhe\"\n",
    "last_name = \"Shyam\""
   ]
  },
  {
   "cell_type": "code",
   "execution_count": 12,
   "id": "1b8ff24c-1ebe-4eae-a79e-a1aab4e76bd0",
   "metadata": {},
   "outputs": [
    {
     "ename": "SyntaxError",
     "evalue": "cannot assign to literal here. Maybe you meant '==' instead of '='? (1847416582.py, line 1)",
     "output_type": "error",
     "traceback": [
      "\u001b[1;36m  Cell \u001b[1;32mIn[12], line 1\u001b[1;36m\u001b[0m\n\u001b[1;33m    40 = c\u001b[0m\n\u001b[1;37m    ^\u001b[0m\n\u001b[1;31mSyntaxError\u001b[0m\u001b[1;31m:\u001b[0m cannot assign to literal here. Maybe you meant '==' instead of '='?\n"
     ]
    }
   ],
   "source": [
    "40 = c\n",
    "first name = \"Radhe\""
   ]
  },
  {
   "cell_type": "markdown",
   "id": "80d1935a-30eb-4e12-9137-348a65838977",
   "metadata": {},
   "source": [
    "# You cannot assign any name to variable\n",
    "# Variable naming convention\n",
    "# Rule 1: Keywords cannot be variable names \n",
    "Keywords are the reserved words in Python. We cannot use a keyword as as variable name, function name or any other identifier. They are used to define the syntax and structure of the Python language. In Python, keywords are case sensitive."
   ]
  },
  {
   "cell_type": "code",
   "execution_count": 4,
   "id": "e61b82c5-9381-4575-9b55-fdf14ec72672",
   "metadata": {},
   "outputs": [
    {
     "name": "stdout",
     "output_type": "stream",
     "text": [
      "\n",
      "Here is a list of the Python keywords.  Enter any keyword to get more help.\n",
      "\n",
      "False               class               from                or\n",
      "None                continue            global              pass\n",
      "True                def                 if                  raise\n",
      "and                 del                 import              return\n",
      "as                  elif                in                  try\n",
      "assert              else                is                  while\n",
      "async               except              lambda              with\n",
      "await               finally             nonlocal            yield\n",
      "break               for                 not                 \n",
      "\n"
     ]
    }
   ],
   "source": [
    "help(\"keywords\")"
   ]
  },
  {
   "cell_type": "code",
   "execution_count": 5,
   "id": "12b1ecce-6aa0-4e99-b19b-f12fdb5f2dad",
   "metadata": {},
   "outputs": [
    {
     "ename": "SyntaxError",
     "evalue": "cannot assign to False (1768322505.py, line 1)",
     "output_type": "error",
     "traceback": [
      "\u001b[1;36m  Cell \u001b[1;32mIn[5], line 1\u001b[1;36m\u001b[0m\n\u001b[1;33m    False = 0 # False is a keyword\u001b[0m\n\u001b[1;37m    ^\u001b[0m\n\u001b[1;31mSyntaxError\u001b[0m\u001b[1;31m:\u001b[0m cannot assign to False\n"
     ]
    }
   ],
   "source": [
    "False = 0 # False is a keyword"
   ]
  },
  {
   "cell_type": "markdown",
   "id": "218d74ae-1ffb-424a-ab56-b155e203effd",
   "metadata": {},
   "source": [
    "global = \"hello\""
   ]
  },
  {
   "cell_type": "code",
   "execution_count": 6,
   "id": "82ba36f7-cdf2-4a41-bba3-c3fd695fba6c",
   "metadata": {},
   "outputs": [],
   "source": [
    "false = 0 # Lowercase ko false keyword haina"
   ]
  },
  {
   "cell_type": "markdown",
   "id": "8d17aa02-6645-4075-976c-a3956d28e015",
   "metadata": {},
   "source": [
    "# Jun language le uppercase ra lowercase ma farak garxa tyo case sensative language ho\n",
    "* Python keyword are case sensative\n",
    "* Python is case sensative language\n",
    "* sql is case insensative language"
   ]
  },
  {
   "cell_type": "code",
   "execution_count": 7,
   "id": "a350b4aa-46d9-4eab-b61a-a364425d4573",
   "metadata": {},
   "outputs": [
    {
     "name": "stdout",
     "output_type": "stream",
     "text": [
      "30\n"
     ]
    }
   ],
   "source": [
    "weight = 60\n",
    "weight = 30\n",
    "print(weight) # esma weight ko value update vayo"
   ]
  },
  {
   "cell_type": "code",
   "execution_count": 8,
   "id": "01bc4ece-6449-406b-90a5-a8e220cfc5cc",
   "metadata": {},
   "outputs": [],
   "source": [
    "weight = 60\n",
    "Weight = 30"
   ]
  },
  {
   "cell_type": "code",
   "execution_count": 9,
   "id": "a2ce3d0c-3ebf-437b-ba1f-33e15b0fe486",
   "metadata": {},
   "outputs": [
    {
     "name": "stdout",
     "output_type": "stream",
     "text": [
      "60\n"
     ]
    }
   ],
   "source": [
    "print(weight)"
   ]
  },
  {
   "cell_type": "code",
   "execution_count": 10,
   "id": "943c7118-c4d0-45f4-86c6-d60fcf897304",
   "metadata": {},
   "outputs": [
    {
     "name": "stdout",
     "output_type": "stream",
     "text": [
      "30\n"
     ]
    }
   ],
   "source": [
    "print(Weight)"
   ]
  },
  {
   "cell_type": "markdown",
   "id": "2131453f-f899-4c21-8e87-076d2a2a69a0",
   "metadata": {},
   "source": [
    "# f-string or .format()"
   ]
  },
  {
   "cell_type": "code",
   "execution_count": 11,
   "id": "b1165d89-53f2-424b-a112-72bb050cc81c",
   "metadata": {},
   "outputs": [
    {
     "name": "stdout",
     "output_type": "stream",
     "text": [
      "The value of a is 40.\n"
     ]
    }
   ],
   "source": [
    "a = 40\n",
    "print(f\"The value of a is {a}.\") # format"
   ]
  },
  {
   "cell_type": "code",
   "execution_count": 14,
   "id": "0d5755a4-31c9-4260-901b-91862f49b40c",
   "metadata": {},
   "outputs": [
    {
     "name": "stdout",
     "output_type": "stream",
     "text": [
      "The value of a is 40.\n"
     ]
    }
   ],
   "source": [
    "print(\"The value of a is {}.\".format(a))"
   ]
  },
  {
   "cell_type": "code",
   "execution_count": 19,
   "id": "670e5098-587d-4960-af9b-42075428ab08",
   "metadata": {},
   "outputs": [
    {
     "name": "stdout",
     "output_type": "stream",
     "text": [
      "I am learning Data Science from Broadway.\n"
     ]
    }
   ],
   "source": [
    "language =\"Data Science\"\n",
    "school = \"Broadway\"\n",
    "text = f\"I am learning {language} from {school}.\"\n",
    "print(text)"
   ]
  },
  {
   "cell_type": "markdown",
   "id": "58467b6c-ddd1-4b93-95e7-ed7d0369c36a",
   "metadata": {},
   "source": [
    "# Rule 2: You cannot use space bar in variable name"
   ]
  },
  {
   "cell_type": "code",
   "execution_count": 20,
   "id": "4d97e147-d055-405c-b152-b29dfe6bc208",
   "metadata": {},
   "outputs": [
    {
     "ename": "SyntaxError",
     "evalue": "invalid syntax (467723225.py, line 1)",
     "output_type": "error",
     "traceback": [
      "\u001b[1;36m  Cell \u001b[1;32mIn[20], line 1\u001b[1;36m\u001b[0m\n\u001b[1;33m    first name = \"Radhe\"\u001b[0m\n\u001b[1;37m          ^\u001b[0m\n\u001b[1;31mSyntaxError\u001b[0m\u001b[1;31m:\u001b[0m invalid syntax\n"
     ]
    }
   ],
   "source": [
    "first name = \"Radhe\""
   ]
  },
  {
   "cell_type": "code",
   "execution_count": 21,
   "id": "53485a87-a4c5-45da-ae6e-1a9f05789127",
   "metadata": {},
   "outputs": [],
   "source": [
    "name = \"Ram\" #allowed"
   ]
  },
  {
   "cell_type": "markdown",
   "id": "5d8b0b63-eee4-4abf-a23a-43f882078b88",
   "metadata": {},
   "source": [
    "# Rule 3: You cannot use - or dash on variable name"
   ]
  },
  {
   "cell_type": "code",
   "execution_count": 22,
   "id": "6f7eca41-f18c-4cf4-a065-fa21db1f2735",
   "metadata": {},
   "outputs": [
    {
     "ename": "SyntaxError",
     "evalue": "cannot assign to expression here. Maybe you meant '==' instead of '='? (2985452142.py, line 1)",
     "output_type": "error",
     "traceback": [
      "\u001b[1;36m  Cell \u001b[1;32mIn[22], line 1\u001b[1;36m\u001b[0m\n\u001b[1;33m    first-name = \"Suman\"\u001b[0m\n\u001b[1;37m    ^\u001b[0m\n\u001b[1;31mSyntaxError\u001b[0m\u001b[1;31m:\u001b[0m cannot assign to expression here. Maybe you meant '==' instead of '='?\n"
     ]
    }
   ],
   "source": [
    "first-name = \"Suman\""
   ]
  },
  {
   "cell_type": "markdown",
   "id": "ccaeaaf7-3f22-4dfe-8227-03cec4b0797f",
   "metadata": {},
   "source": [
    "# Rule 4: You cannot use special symbol in variable names"
   ]
  },
  {
   "cell_type": "code",
   "execution_count": 23,
   "id": "48d632fa-614d-4446-9950-ced55c59e0b1",
   "metadata": {},
   "outputs": [
    {
     "ename": "SyntaxError",
     "evalue": "invalid syntax. Maybe you meant '==' or ':=' instead of '='? (631467492.py, line 1)",
     "output_type": "error",
     "traceback": [
      "\u001b[1;36m  Cell \u001b[1;32mIn[23], line 1\u001b[1;36m\u001b[0m\n\u001b[1;33m    @name = \"Radhe\"\u001b[0m\n\u001b[1;37m     ^\u001b[0m\n\u001b[1;31mSyntaxError\u001b[0m\u001b[1;31m:\u001b[0m invalid syntax. Maybe you meant '==' or ':=' instead of '='?\n"
     ]
    }
   ],
   "source": [
    "@name = \"Radhe\""
   ]
  },
  {
   "cell_type": "code",
   "execution_count": 24,
   "id": "63907f09-3239-4af3-a9a5-c1d5d0cc51ea",
   "metadata": {},
   "outputs": [
    {
     "ename": "SyntaxError",
     "evalue": "invalid syntax (1880331083.py, line 1)",
     "output_type": "error",
     "traceback": [
      "\u001b[1;36m  Cell \u001b[1;32mIn[24], line 1\u001b[1;36m\u001b[0m\n\u001b[1;33m    $name = \"Champa\"\u001b[0m\n\u001b[1;37m    ^\u001b[0m\n\u001b[1;31mSyntaxError\u001b[0m\u001b[1;31m:\u001b[0m invalid syntax\n"
     ]
    }
   ],
   "source": [
    "$name = \"Champa\""
   ]
  },
  {
   "cell_type": "markdown",
   "id": "54fe0638-7cbf-4523-b3d1-6859e7bf713a",
   "metadata": {},
   "source": [
    "# Rule 5: You can use underscore in variables names(_)"
   ]
  },
  {
   "cell_type": "code",
   "execution_count": 25,
   "id": "7e7f75fe-33f0-4439-abd3-a4ef2b26a870",
   "metadata": {},
   "outputs": [],
   "source": [
    "first_name = \"Radhe\""
   ]
  },
  {
   "cell_type": "code",
   "execution_count": 26,
   "id": "514c0799-409d-4c66-bf19-9c4437e72a81",
   "metadata": {},
   "outputs": [],
   "source": [
    "last_name = \"Shyam\""
   ]
  },
  {
   "cell_type": "markdown",
   "id": "83a82865-868e-49b2-a032-79d618e6455c",
   "metadata": {},
   "source": [
    "# Rule 6: Numbers cannot come at the first letter of variable name."
   ]
  },
  {
   "cell_type": "code",
   "execution_count": 27,
   "id": "8347b72f-3b9f-4d55-84c4-6d6e6646db54",
   "metadata": {},
   "outputs": [
    {
     "ename": "SyntaxError",
     "evalue": "invalid decimal literal (1822432260.py, line 1)",
     "output_type": "error",
     "traceback": [
      "\u001b[1;36m  Cell \u001b[1;32mIn[27], line 1\u001b[1;36m\u001b[0m\n\u001b[1;33m    2name = \"Radhe\"\u001b[0m\n\u001b[1;37m    ^\u001b[0m\n\u001b[1;31mSyntaxError\u001b[0m\u001b[1;31m:\u001b[0m invalid decimal literal\n"
     ]
    }
   ],
   "source": [
    "2name = \"Radhe\""
   ]
  },
  {
   "cell_type": "code",
   "execution_count": 28,
   "id": "5cdbf0ca-35ec-4d72-bde4-7d7d02806849",
   "metadata": {},
   "outputs": [],
   "source": [
    "name1 = \"Radhe\" #allowed"
   ]
  },
  {
   "cell_type": "markdown",
   "id": "55ae4171-1df6-4c1b-8d28-95e27161270d",
   "metadata": {},
   "source": [
    "<img src = \"https://khalilstemmler.com/img/blog/camel-snake-pascal-case/camel-case-snake-case-pascal-case.png\">"
   ]
  },
  {
   "cell_type": "markdown",
   "id": "8175abcb-bd3c-444a-b257-bd593f6f3834",
   "metadata": {},
   "source": [
    "# variable name and funciton name haru  snake_case ma lekhne ho\n",
    "# class PascalCase ma lekhne ho"
   ]
  },
  {
   "cell_type": "markdown",
   "id": "ce1f8fc5-eb8c-468a-ac7a-66990dfc6dd5",
   "metadata": {},
   "source": [
    "# Url kasari halne markdown ma\n",
    "[PEP 8 – Style Guide for Python Code](https://peps.python.org/pep-0008/)"
   ]
  },
  {
   "cell_type": "markdown",
   "id": "ac88b1f3-3b53-490b-82ec-e325bd3f2fe6",
   "metadata": {},
   "source": [
    "# Assignment"
   ]
  },
  {
   "cell_type": "code",
   "execution_count": 4,
   "id": "e5174f5a-086b-42af-94a0-a818c8dfe747",
   "metadata": {},
   "outputs": [
    {
     "name": "stdout",
     "output_type": "stream",
     "text": [
      "4.2 3.2\n",
      "After swapping num1 is 4.2 and num2 is 3.2.\n"
     ]
    }
   ],
   "source": [
    "# Assignment 1\n",
    "num1 = 3.2\n",
    "num2 = 4.2\n",
    "num3 = num1\n",
    "num1 = num2\n",
    "num2 = num3\n",
    "print(num1, num2)\n",
    "print(f\"After swapping num1 is {num1} and num2 is {num2}.\")"
   ]
  },
  {
   "cell_type": "markdown",
   "id": "6ffa031f-6ea2-4e4e-a549-83005d5ff010",
   "metadata": {},
   "source": [
    "# Alternative way\n",
    "Pythonic way"
   ]
  },
  {
   "cell_type": "code",
   "execution_count": 6,
   "id": "9c50e1d7-421a-465e-8747-f242016d9ecc",
   "metadata": {},
   "outputs": [
    {
     "name": "stdout",
     "output_type": "stream",
     "text": [
      "43 4\n"
     ]
    }
   ],
   "source": [
    "num1 = 4\n",
    "num2 = 43\n",
    "num1, num2 = num2, num1\n",
    "print(num1, num2)"
   ]
  },
  {
   "cell_type": "markdown",
   "id": "2dccbd4d-b4ba-4bad-b127-7e633aabd11b",
   "metadata": {},
   "source": [
    "# with addition and substraction"
   ]
  },
  {
   "cell_type": "code",
   "execution_count": null,
   "id": "8b8cb570-c787-4de2-b3f6-be1226ee5d93",
   "metadata": {},
   "outputs": [],
   "source": []
  },
  {
   "cell_type": "code",
   "execution_count": 3,
   "id": "77ae9200-c380-4c58-b7d8-3bf5d6799b8a",
   "metadata": {},
   "outputs": [
    {
     "name": "stdout",
     "output_type": "stream",
     "text": [
      "There are 2562 seconds in 42 minutes 42 seconds.\n"
     ]
    }
   ],
   "source": [
    "# Assignment 2\n",
    "# 1.\n",
    "# How many seconds are there in 42 minutes 42 seconds?\n",
    "# Given\n",
    "minutes = 42\n",
    "seconds = 42\n",
    "# minutes_to_second = minutes * 60\n",
    "time_in_seconds = minutes * 60 + seconds\n",
    "print(f\"There are {time_in_seconds} seconds in {minutes} minutes {seconds} seconds.\")"
   ]
  },
  {
   "cell_type": "code",
   "execution_count": 7,
   "id": "9b527e4a-e338-4410-979c-c0116976deee",
   "metadata": {},
   "outputs": [
    {
     "name": "stdout",
     "output_type": "stream",
     "text": [
      "There are 6.215 miles in 10 kilometers. \n"
     ]
    }
   ],
   "source": [
    "# How many miles are there in 10 kilometers? (1 miles = 1.609 kilometers)\n",
    "# 1 km = 1 / 1.609 miles\n",
    "distance_in_km = 10\n",
    "km_to_mile = 1 / 1.609\n",
    "miles = round((distance_in_km * km_to_mile), 3)\n",
    "print(f\"There are {miles} miles in {distance_in_km} kilometers. \")"
   ]
  },
  {
   "cell_type": "code",
   "execution_count": 31,
   "id": "44068057-65b1-48e8-be2c-ca1605d2d966",
   "metadata": {},
   "outputs": [
    {
     "data": {
      "text/plain": [
       "42.7"
      ]
     },
     "execution_count": 31,
     "metadata": {},
     "output_type": "execute_result"
    }
   ],
   "source": [
    "# If you can run 10 km race in 42 minutes 42 seconds, what is your avarage pace?\n",
    "# time in minutes\n",
    "\n"
   ]
  },
  {
   "cell_type": "code",
   "execution_count": 3,
   "id": "26760bd0-533b-4967-965c-00be276d4d9e",
   "metadata": {},
   "outputs": [
    {
     "name": "stdout",
     "output_type": "stream",
     "text": [
      "Avagare miles in minutes is 0.146.\n"
     ]
    }
   ],
   "source": [
    "# minutes\n",
    "# 6.215 miles = 42.7 minutes\n",
    "# 1 minutes = 6.215 miles / 42.7 minutes\n",
    "distance = 6.215\n",
    "time_in_minute = 42 + 42 / 60\n",
    "avarage_mile_in_minute = round((distance / time_in_minute), 3)\n",
    "print(f\"Avagare miles in minutes is {avarage_mile_in_minute}.\")"
   ]
  },
  {
   "cell_type": "code",
   "execution_count": 10,
   "id": "8a96db0e-1060-4bba-abd9-f679b64b3755",
   "metadata": {},
   "outputs": [
    {
     "data": {
      "text/plain": [
       "0.0023"
      ]
     },
     "execution_count": 10,
     "metadata": {},
     "output_type": "execute_result"
    }
   ],
   "source": [
    "# seconds\n",
    "# 6.215 miles = 2562 seconds\n",
    "# 1 seconds = 6.215 miles / 2562 seconds\n",
    "round((6.215 / 2662), 4)"
   ]
  },
  {
   "cell_type": "markdown",
   "id": "c6567c21-e8e5-4a27-b38f-e6e482412960",
   "metadata": {},
   "source": [
    "<img src = \"data:image/png;base64,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\">\n",
    "\n",
    "[Data Science with Python Training in Nepal](https://broadwayinfosys.com/data-science-with-python-training-in-nepal)\n"
   ]
  },
  {
   "attachments": {
    "4d8ae366-edb8-4104-b80b-fc50e98413ae.png": {
     "image/png": "[encoded data removed]"
    }
   },
   "cell_type": "markdown",
   "id": "3d8a370f-16e2-4a05-85b7-30fa3993d8d4",
   "metadata": {},
   "source": [
    "![image.png](attachment:4d8ae366-edb8-4104-b80b-fc50e98413ae.png)"
   ]
  },
  {
   "cell_type": "code",
   "execution_count": null,
   "id": "1fa0f941-054a-46e7-adc7-d8ac1d81980c",
   "metadata": {},
   "outputs": [],
   "source": []
  }
 ],
 "metadata": {
  "kernelspec": {
   "display_name": "Python 3 (ipykernel)",
   "language": "python",
   "name": "python3"
  },
  "language_info": {
   "codemirror_mode": {
    "name": "ipython",
    "version": 3
   },
   "file_extension": ".py",
   "mimetype": "text/x-python",
   "name": "python",
   "nbconvert_exporter": "python",
   "pygments_lexer": "ipython3",
   "version": "3.12.0"
  }
 },
 "nbformat": 4,
 "nbformat_minor": 5
}
