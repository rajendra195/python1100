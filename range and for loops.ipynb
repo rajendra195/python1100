{
 "cells": [
  {
   "cell_type": "markdown",
   "id": "25780a17-56a8-47e1-9d86-d9ca41cb00fc",
   "metadata": {},
   "source": [
    "# range(start, stop, step)"
   ]
  },
  {
   "cell_type": "code",
   "execution_count": 1,
   "id": "84ba3712-c6d8-47e2-a1c5-79b61adf5587",
   "metadata": {},
   "outputs": [
    {
     "data": {
      "text/plain": [
       "range(0, 11)"
      ]
     },
     "execution_count": 1,
     "metadata": {},
     "output_type": "execute_result"
    }
   ],
   "source": [
    "range(0, 11, 1) # 0 start; 11 is stop; step is 1; step is default 1"
   ]
  },
  {
   "cell_type": "code",
   "execution_count": 13,
   "id": "c45cc443-6cb5-4be8-a780-3a4d1527c42d",
   "metadata": {},
   "outputs": [
    {
     "name": "stdout",
     "output_type": "stream",
     "text": [
      "0\n",
      "23\n",
      "46\n",
      "69\n",
      "92\n"
     ]
    }
   ],
   "source": [
    "for index in range(0, 100, 23):\n",
    "    print(index)"
   ]
  },
  {
   "cell_type": "code",
   "execution_count": 7,
   "id": "b5119d4b-dafd-4b96-bbd5-fa7adb4b3a36",
   "metadata": {},
   "outputs": [
    {
     "name": "stdout",
     "output_type": "stream",
     "text": [
      "10\n",
      "11\n",
      "12\n",
      "13\n",
      "14\n",
      "15\n"
     ]
    }
   ],
   "source": [
    "for index in range(10, 16):\n",
    "    print(index)"
   ]
  },
  {
   "cell_type": "code",
   "execution_count": 11,
   "id": "469cd8f6-1e8b-4cd3-9b04-ecef9e61964f",
   "metadata": {},
   "outputs": [
    {
     "name": "stdout",
     "output_type": "stream",
     "text": [
      "0\n",
      "2\n",
      "4\n",
      "6\n",
      "8\n"
     ]
    }
   ],
   "source": [
    "for index in range(0, 10, 2):\n",
    "    print(index)"
   ]
  },
  {
   "cell_type": "code",
   "execution_count": 14,
   "id": "1ed4a60b-0964-4e79-94ae-a5482ef2214a",
   "metadata": {},
   "outputs": [],
   "source": [
    "s = \"Hello World\""
   ]
  },
  {
   "cell_type": "code",
   "execution_count": 16,
   "id": "d1890f20-12ec-4823-9f97-9e91e6b8e49a",
   "metadata": {},
   "outputs": [
    {
     "data": {
      "text/plain": [
       "'W'"
      ]
     },
     "execution_count": 16,
     "metadata": {},
     "output_type": "execute_result"
    }
   ],
   "source": [
    "index = 6\n",
    "s[index]"
   ]
  },
  {
   "cell_type": "code",
   "execution_count": 17,
   "id": "961e0b2e-2937-486a-ad3d-f882375a902c",
   "metadata": {},
   "outputs": [
    {
     "data": {
      "text/plain": [
       "'W'"
      ]
     },
     "execution_count": 17,
     "metadata": {},
     "output_type": "execute_result"
    }
   ],
   "source": [
    "s[6]"
   ]
  },
  {
   "cell_type": "code",
   "execution_count": 18,
   "id": "4d0b342e-7274-4546-9b9c-b2efcbef0224",
   "metadata": {},
   "outputs": [
    {
     "data": {
      "text/plain": [
       "'l'"
      ]
     },
     "execution_count": 18,
     "metadata": {},
     "output_type": "execute_result"
    }
   ],
   "source": [
    "index = 2\n",
    "letter = s[index]\n",
    "letter"
   ]
  },
  {
   "cell_type": "code",
   "execution_count": 20,
   "id": "4ffc521f-5541-49a1-8167-9db1aa681b96",
   "metadata": {},
   "outputs": [
    {
     "data": {
      "text/plain": [
       "11"
      ]
     },
     "execution_count": 20,
     "metadata": {},
     "output_type": "execute_result"
    }
   ],
   "source": [
    "len(s)"
   ]
  },
  {
   "cell_type": "code",
   "execution_count": 21,
   "id": "41f1cad6-7b84-4ac4-a13a-9f9458ffc3ee",
   "metadata": {},
   "outputs": [
    {
     "data": {
      "text/plain": [
       "range(0, 11)"
      ]
     },
     "execution_count": 21,
     "metadata": {},
     "output_type": "execute_result"
    }
   ],
   "source": [
    "range(0, len(s))"
   ]
  },
  {
   "cell_type": "code",
   "execution_count": 24,
   "id": "87d2e6b9-cd12-4517-b7fb-dfd61fdbf964",
   "metadata": {},
   "outputs": [
    {
     "name": "stdout",
     "output_type": "stream",
     "text": [
      "Index = 0, letter = H\n",
      "Index = 1, letter = e\n",
      "Index = 2, letter = l\n",
      "Index = 3, letter = l\n",
      "Index = 4, letter = o\n",
      "Index = 5, letter =  \n",
      "Index = 6, letter = W\n",
      "Index = 7, letter = o\n",
      "Index = 8, letter = r\n",
      "Index = 9, letter = l\n",
      "Index = 10, letter = d\n"
     ]
    }
   ],
   "source": [
    "for index in range(0, len(s)):\n",
    "    letter = s[index]\n",
    "    print(f\"Index = {index}, letter = {letter}\")"
   ]
  },
  {
   "cell_type": "code",
   "execution_count": 40,
   "id": "751c68d4-0548-49c0-a8f4-075267f5c0cf",
   "metadata": {},
   "outputs": [
    {
     "name": "stdout",
     "output_type": "stream",
     "text": [
      "index = 10, letter = d\n",
      "index = 9, letter = l\n",
      "index = 8, letter = r\n",
      "index = 7, letter = o\n",
      "index = 6, letter = W\n",
      "index = 5, letter =  \n",
      "index = 4, letter = o\n",
      "index = 3, letter = l\n",
      "index = 2, letter = l\n",
      "index = 1, letter = e\n",
      "index = 0, letter = H\n"
     ]
    }
   ],
   "source": [
    "for index in range(len(s)-1, -1, -1):\n",
    "    letter = s[index]\n",
    "    print(f\"index = {index}, letter = {letter}\")"
   ]
  },
  {
   "cell_type": "code",
   "execution_count": 42,
   "id": "fff6147d-ae3d-421b-9a84-4f4e6d53c38a",
   "metadata": {},
   "outputs": [
    {
     "name": "stdout",
     "output_type": "stream",
     "text": [
      "R\n",
      "a\n",
      "j\n",
      "e\n",
      "n\n",
      "d\n",
      "r\n",
      "a\n",
      " \n",
      "N\n",
      "i\n",
      "r\n",
      "o\n",
      "u\n",
      "l\n",
      "a\n"
     ]
    }
   ],
   "source": [
    "name = \"Rajendra Niroula\"\n",
    "for index in range(0, len(name)):\n",
    "    letter = name[index]\n",
    "    print(letter)"
   ]
  },
  {
   "cell_type": "code",
   "execution_count": 43,
   "id": "ef9e9b9d-3b6d-43e3-9961-7f342c5c759c",
   "metadata": {},
   "outputs": [
    {
     "name": "stdout",
     "output_type": "stream",
     "text": [
      "R\n",
      "a\n",
      "j\n",
      "e\n",
      "n\n",
      "d\n",
      "r\n",
      "a\n",
      " \n",
      "N\n",
      "i\n",
      "r\n",
      "o\n",
      "u\n",
      "l\n",
      "a\n"
     ]
    }
   ],
   "source": [
    "for letter in name:\n",
    "    print(letter)"
   ]
  },
  {
   "cell_type": "code",
   "execution_count": 50,
   "id": "80617611-b0bd-46b0-9a92-9c14c7d47193",
   "metadata": {},
   "outputs": [
    {
     "name": "stdout",
     "output_type": "stream",
     "text": [
      "index 15, letter a\n",
      "index 14, letter l\n",
      "index 13, letter u\n",
      "index 12, letter o\n",
      "index 11, letter r\n",
      "index 10, letter i\n",
      "index 9, letter N\n",
      "index 8, space\n",
      "index 7, letter a\n",
      "index 6, letter r\n",
      "index 5, letter d\n",
      "index 4, letter n\n",
      "index 3, letter e\n",
      "index 2, letter j\n",
      "index 1, letter a\n",
      "index 0, letter R\n"
     ]
    }
   ],
   "source": [
    "for index in range(len(name) - 1, -1, -1):\n",
    "    letter = name[index]\n",
    "    if letter == \" \":\n",
    "        print(f\"index {index}, space\")\n",
    "    else:\n",
    "        print(f\"index {index}, letter {letter}\")"
   ]
  },
  {
   "cell_type": "code",
   "execution_count": 61,
   "id": "8ae9b337-aec3-4a76-b3bd-a6bcfef3ab56",
   "metadata": {},
   "outputs": [
    {
     "name": "stdout",
     "output_type": "stream",
     "text": [
      "letter r is consonant.\n",
      "letter a is vowel.\n",
      "letter j is consonant.\n",
      "letter e is vowel.\n",
      "letter n is consonant.\n",
      "letter d is consonant.\n",
      "letter r is consonant.\n",
      "letter a is vowel.\n"
     ]
    }
   ],
   "source": [
    "name = \"rajendra\"\n",
    "for index in range(0, len(name)):\n",
    "    letter = name[index]\n",
    "    if letter == \"a\" or letter == \"e\" or letter == \"i\" or letter == \"o\" or letter == \"u\":\n",
    "        print(f\"letter {letter} is vowel.\")\n",
    "    else:\n",
    "        print(f\"letter {letter} is consonant.\")"
   ]
  },
  {
   "cell_type": "code",
   "execution_count": null,
   "id": "48ebbb15-4cc4-4563-aa5c-ebe1df07cadc",
   "metadata": {},
   "outputs": [],
   "source": []
  }
 ],
 "metadata": {
  "kernelspec": {
   "display_name": "Python 3 (ipykernel)",
   "language": "python",
   "name": "python3"
  },
  "language_info": {
   "codemirror_mode": {
    "name": "ipython",
    "version": 3
   },
   "file_extension": ".py",
   "mimetype": "text/x-python",
   "name": "python",
   "nbconvert_exporter": "python",
   "pygments_lexer": "ipython3",
   "version": "3.12.0"
  }
 },
 "nbformat": 4,
 "nbformat_minor": 5
}
