{
 "cells": [
  {
   "cell_type": "markdown",
   "id": "2785362b-df3d-4701-88b6-afe446f18e14",
   "metadata": {},
   "source": [
    "# list method"
   ]
  },
  {
   "cell_type": "markdown",
   "id": "0eff64bc-cd92-4529-b604-4838ed73b8ad",
   "metadata": {},
   "source": [
    " creating empty list"
   ]
  },
  {
   "cell_type": "code",
   "execution_count": 5,
   "id": "ac20cbcc-0c8f-47fe-8587-24454e0bc50a",
   "metadata": {},
   "outputs": [],
   "source": [
    "cars = []"
   ]
  },
  {
   "cell_type": "code",
   "execution_count": 6,
   "id": "a3fe0617-195e-40e6-b344-b70e2d0e707b",
   "metadata": {},
   "outputs": [
    {
     "data": {
      "text/plain": [
       "[]"
      ]
     },
     "execution_count": 6,
     "metadata": {},
     "output_type": "execute_result"
    }
   ],
   "source": [
    "cars"
   ]
  },
  {
   "cell_type": "code",
   "execution_count": 7,
   "id": "7a4b38f4-fa84-4c75-bd5f-cc82556345fa",
   "metadata": {},
   "outputs": [],
   "source": [
    "gift = list()"
   ]
  },
  {
   "cell_type": "code",
   "execution_count": 8,
   "id": "0d1c8150-ca1e-4d02-a93b-c0d9f0ca2e1f",
   "metadata": {},
   "outputs": [
    {
     "data": {
      "text/plain": [
       "[]"
      ]
     },
     "execution_count": 8,
     "metadata": {},
     "output_type": "execute_result"
    }
   ],
   "source": [
    "gift"
   ]
  },
  {
   "cell_type": "markdown",
   "id": "2f3b4b3a-6e18-4eef-9e8c-83b37e71f499",
   "metadata": {},
   "source": [
    "# .append()"
   ]
  },
  {
   "cell_type": "code",
   "execution_count": 9,
   "id": "6401a0df-8a7d-4b8b-9ad2-47ff3d4b6365",
   "metadata": {},
   "outputs": [],
   "source": [
    "gift.append(\"Flower\")"
   ]
  },
  {
   "cell_type": "code",
   "execution_count": 10,
   "id": "edc4f3e0-7360-417c-9e8e-e1d9173760cf",
   "metadata": {},
   "outputs": [
    {
     "data": {
      "text/plain": [
       "['Flower']"
      ]
     },
     "execution_count": 10,
     "metadata": {},
     "output_type": "execute_result"
    }
   ],
   "source": [
    "gift"
   ]
  },
  {
   "cell_type": "code",
   "execution_count": 11,
   "id": "2146ece9-0e3b-4342-9713-99cadff8fdf9",
   "metadata": {},
   "outputs": [],
   "source": [
    "gift.append(\"Iphone\")"
   ]
  },
  {
   "cell_type": "code",
   "execution_count": 12,
   "id": "81cf71a8-8d42-4683-bd01-2bae59b47446",
   "metadata": {},
   "outputs": [
    {
     "data": {
      "text/plain": [
       "['Flower', 'Iphone']"
      ]
     },
     "execution_count": 12,
     "metadata": {},
     "output_type": "execute_result"
    }
   ],
   "source": [
    "gift"
   ]
  },
  {
   "cell_type": "code",
   "execution_count": 13,
   "id": "dae28033-251c-4148-a3be-64aadedd0afc",
   "metadata": {},
   "outputs": [],
   "source": [
    "gift.append(\"Laptop\")"
   ]
  },
  {
   "cell_type": "code",
   "execution_count": 29,
   "id": "525084f1-6bfe-4c7d-816d-e2e25af5f0b7",
   "metadata": {},
   "outputs": [
    {
     "data": {
      "text/plain": [
       "[]"
      ]
     },
     "execution_count": 29,
     "metadata": {},
     "output_type": "execute_result"
    }
   ],
   "source": [
    "gift"
   ]
  },
  {
   "cell_type": "markdown",
   "id": "53d2211c-eb84-462d-90fd-33dd8ee524de",
   "metadata": {},
   "source": [
    "# .pop()"
   ]
  },
  {
   "cell_type": "code",
   "execution_count": 30,
   "id": "cbe4ef94-ed57-4d01-93ea-d2bf3fc535f4",
   "metadata": {},
   "outputs": [],
   "source": [
    "gift = [\"Flower\", \"Iphone\", \"Laptop\"]"
   ]
  },
  {
   "cell_type": "code",
   "execution_count": 31,
   "id": "cb22926e-1d55-45be-876d-70a33d0ea85f",
   "metadata": {},
   "outputs": [
    {
     "data": {
      "text/plain": [
       "'Laptop'"
      ]
     },
     "execution_count": 31,
     "metadata": {},
     "output_type": "execute_result"
    }
   ],
   "source": [
    "gift.pop() # pop leftmost item"
   ]
  },
  {
   "cell_type": "code",
   "execution_count": 17,
   "id": "70774555-56db-4b85-afd5-846b903a54c4",
   "metadata": {},
   "outputs": [
    {
     "data": {
      "text/plain": [
       "['Flower', 'Iphone']"
      ]
     },
     "execution_count": 17,
     "metadata": {},
     "output_type": "execute_result"
    }
   ],
   "source": [
    "gift"
   ]
  },
  {
   "cell_type": "code",
   "execution_count": 24,
   "id": "f237fd9f-05e1-4c89-8b6a-b90343d3052c",
   "metadata": {},
   "outputs": [
    {
     "data": {
      "text/plain": [
       "'Iphone'"
      ]
     },
     "execution_count": 24,
     "metadata": {},
     "output_type": "execute_result"
    }
   ],
   "source": [
    "gift.pop(0) # pop item of index 0"
   ]
  },
  {
   "cell_type": "code",
   "execution_count": 19,
   "id": "d5cad50f-31ee-4207-8630-70aaeea09ce6",
   "metadata": {},
   "outputs": [
    {
     "data": {
      "text/plain": [
       "['Iphone']"
      ]
     },
     "execution_count": 19,
     "metadata": {},
     "output_type": "execute_result"
    }
   ],
   "source": [
    "gift"
   ]
  },
  {
   "cell_type": "code",
   "execution_count": 20,
   "id": "787a4504-baf4-41ba-b2fa-d268f1dbaedb",
   "metadata": {},
   "outputs": [],
   "source": [
    "gift.append(\"Guitar\")"
   ]
  },
  {
   "cell_type": "code",
   "execution_count": 21,
   "id": "5cf37133-3a5b-4240-8d52-73b645a9de6a",
   "metadata": {},
   "outputs": [
    {
     "data": {
      "text/plain": [
       "['Iphone', 'Guitar']"
      ]
     },
     "execution_count": 21,
     "metadata": {},
     "output_type": "execute_result"
    }
   ],
   "source": [
    "gift"
   ]
  },
  {
   "cell_type": "code",
   "execution_count": 23,
   "id": "f754a5e4-9e82-4f8d-8e11-263b30d3135d",
   "metadata": {},
   "outputs": [
    {
     "data": {
      "text/plain": [
       "'Guitar'"
      ]
     },
     "execution_count": 23,
     "metadata": {},
     "output_type": "execute_result"
    }
   ],
   "source": [
    "gift.pop()"
   ]
  },
  {
   "cell_type": "markdown",
   "id": "a6dcf582-bc21-43fa-865b-3ed57fd26a62",
   "metadata": {},
   "source": [
    "# .extend()"
   ]
  },
  {
   "cell_type": "code",
   "execution_count": 36,
   "id": "a0a4699d-42c2-4d97-82ee-d7d5e6e80500",
   "metadata": {},
   "outputs": [
    {
     "data": {
      "text/plain": [
       "['Cheeseball', 'Biryani', 'Momo', 'Chowmin', 'Burger']"
      ]
     },
     "execution_count": 36,
     "metadata": {},
     "output_type": "execute_result"
    }
   ],
   "source": [
    "list_A = [\"Cheeseball\", \"Biryani\", \"Momo\"]\n",
    "list_B = [\"Chowmin\", \"Burger\"]\n",
    "list_A + list_B"
   ]
  },
  {
   "cell_type": "code",
   "execution_count": 37,
   "id": "bae72a0e-0770-4a47-82ed-5d7f5aac9223",
   "metadata": {},
   "outputs": [
    {
     "data": {
      "text/plain": [
       "['Chowmin', 'Burger', 'Cheeseball', 'Biryani', 'Momo']"
      ]
     },
     "execution_count": 37,
     "metadata": {},
     "output_type": "execute_result"
    }
   ],
   "source": [
    "list_B + list_A"
   ]
  },
  {
   "cell_type": "code",
   "execution_count": 38,
   "id": "98dc7ab4-5aac-414c-94fb-364c589c1f8c",
   "metadata": {},
   "outputs": [],
   "source": [
    "list_A.extend(list_B)"
   ]
  },
  {
   "cell_type": "code",
   "execution_count": 39,
   "id": "d957bfa2-02a3-48d4-b921-7cd3a4c9a348",
   "metadata": {},
   "outputs": [
    {
     "data": {
      "text/plain": [
       "['Cheeseball', 'Biryani', 'Momo', 'Chowmin', 'Burger']"
      ]
     },
     "execution_count": 39,
     "metadata": {},
     "output_type": "execute_result"
    }
   ],
   "source": [
    "list_A"
   ]
  },
  {
   "cell_type": "code",
   "execution_count": 40,
   "id": "8cde2b89-b521-4aaa-974f-12acd65a1671",
   "metadata": {},
   "outputs": [
    {
     "data": {
      "text/plain": [
       "['Chowmin', 'Burger']"
      ]
     },
     "execution_count": 40,
     "metadata": {},
     "output_type": "execute_result"
    }
   ],
   "source": [
    "list_B"
   ]
  },
  {
   "cell_type": "code",
   "execution_count": 41,
   "id": "5ce59537-6e71-4fa1-9b1c-468b208eee85",
   "metadata": {},
   "outputs": [],
   "source": [
    "a = [\"Cheeseball\", \"Biryani\", \"Momo\"]\n",
    "b = [\"Chowmin\", \"Burger\"]"
   ]
  },
  {
   "cell_type": "code",
   "execution_count": 42,
   "id": "d5cc5315-a0ae-4902-b3f4-8bdd8b80c245",
   "metadata": {},
   "outputs": [],
   "source": [
    "b.extend(a)"
   ]
  },
  {
   "cell_type": "code",
   "execution_count": 43,
   "id": "8ccab9e4-79e1-4818-a9e5-dfa2c85083fa",
   "metadata": {},
   "outputs": [
    {
     "data": {
      "text/plain": [
       "['Chowmin', 'Burger', 'Cheeseball', 'Biryani', 'Momo']"
      ]
     },
     "execution_count": 43,
     "metadata": {},
     "output_type": "execute_result"
    }
   ],
   "source": [
    "b"
   ]
  },
  {
   "cell_type": "markdown",
   "id": "2a0c187d-a6b1-46be-9f6e-5195e5403b70",
   "metadata": {},
   "source": [
    "# .insert(), .remove()"
   ]
  },
  {
   "cell_type": "code",
   "execution_count": 44,
   "id": "c90f6518-362a-4aba-90c2-9378e11e1d08",
   "metadata": {},
   "outputs": [],
   "source": [
    "bikes = [\"VR\", \"Bullet\", \"Duke\", \"MT\"]"
   ]
  },
  {
   "cell_type": "code",
   "execution_count": 45,
   "id": "528dad9d-64fe-4148-9d97-59ba88341185",
   "metadata": {},
   "outputs": [],
   "source": [
    "bikes.insert(1, \"R15\")"
   ]
  },
  {
   "cell_type": "code",
   "execution_count": 46,
   "id": "5daa01fd-3cd0-4459-8e6c-a4ecdff0cbb1",
   "metadata": {},
   "outputs": [
    {
     "data": {
      "text/plain": [
       "['VR', 'R15', 'Bullet', 'Duke', 'MT']"
      ]
     },
     "execution_count": 46,
     "metadata": {},
     "output_type": "execute_result"
    }
   ],
   "source": [
    "bikes"
   ]
  },
  {
   "cell_type": "code",
   "execution_count": 59,
   "id": "113a74ea-6747-4661-be05-6e9e0424ea46",
   "metadata": {},
   "outputs": [],
   "source": [
    "bikes.insert(-1, \"BMW\")"
   ]
  },
  {
   "cell_type": "code",
   "execution_count": 61,
   "id": "00fd9f63-277c-4947-8943-89a568aa728f",
   "metadata": {},
   "outputs": [
    {
     "data": {
      "text/plain": [
       "['VR', 'R15', 'Bullet', 'Duke', 'BMW', 'MT']"
      ]
     },
     "execution_count": 61,
     "metadata": {},
     "output_type": "execute_result"
    }
   ],
   "source": [
    "bikes"
   ]
  },
  {
   "cell_type": "code",
   "execution_count": 62,
   "id": "90dacc32-e787-4f55-86fd-7d5fd65fd756",
   "metadata": {},
   "outputs": [],
   "source": [
    "bikes.remove(\"BMW\")"
   ]
  },
  {
   "cell_type": "code",
   "execution_count": 63,
   "id": "dfb1f340-992c-49da-90c0-e467a928db79",
   "metadata": {},
   "outputs": [
    {
     "data": {
      "text/plain": [
       "['VR', 'R15', 'Bullet', 'Duke', 'MT']"
      ]
     },
     "execution_count": 63,
     "metadata": {},
     "output_type": "execute_result"
    }
   ],
   "source": [
    "bikes"
   ]
  },
  {
   "cell_type": "markdown",
   "id": "0ff522fa-2579-4322-b296-0f6b50ef2405",
   "metadata": {},
   "source": [
    "# List is a mutable data types"
   ]
  },
  {
   "cell_type": "code",
   "execution_count": 86,
   "id": "8ffab0c1-66b3-4893-8d4e-0239a198d02a",
   "metadata": {},
   "outputs": [],
   "source": [
    "cars = [\"Audi\", \"Tesla\", \"Thar\", \"Mercedes\", \"BMW\"]"
   ]
  },
  {
   "cell_type": "code",
   "execution_count": 87,
   "id": "122b133a-28d6-4df9-a179-8053f4055998",
   "metadata": {},
   "outputs": [
    {
     "data": {
      "text/plain": [
       "2883923746240"
      ]
     },
     "execution_count": 87,
     "metadata": {},
     "output_type": "execute_result"
    }
   ],
   "source": [
    "id(cars)"
   ]
  },
  {
   "cell_type": "code",
   "execution_count": 88,
   "id": "a0a3fecf-0b32-43fb-8c15-044c48c9d7ee",
   "metadata": {},
   "outputs": [],
   "source": [
    "cars[0] = \"Lamborghini\""
   ]
  },
  {
   "cell_type": "code",
   "execution_count": 89,
   "id": "e6b5506f-dc48-4f11-a419-c7ce0e765dd1",
   "metadata": {},
   "outputs": [
    {
     "data": {
      "text/plain": [
       "['Lamborghini', 'Tesla', 'Thar', 'Mercedes', 'BMW']"
      ]
     },
     "execution_count": 89,
     "metadata": {},
     "output_type": "execute_result"
    }
   ],
   "source": [
    "cars"
   ]
  },
  {
   "cell_type": "code",
   "execution_count": 90,
   "id": "b65d44b2-f479-4399-bb7d-6a4b5ba6d7ee",
   "metadata": {},
   "outputs": [
    {
     "data": {
      "text/plain": [
       "2883923746240"
      ]
     },
     "execution_count": 90,
     "metadata": {},
     "output_type": "execute_result"
    }
   ],
   "source": [
    "id(cars)"
   ]
  },
  {
   "cell_type": "code",
   "execution_count": 91,
   "id": "45ce8316-01eb-499d-8d98-b7b5ff413643",
   "metadata": {},
   "outputs": [],
   "source": [
    "cars[1:3] = [\"Honda\", \"Land cruiser\"]"
   ]
  },
  {
   "cell_type": "code",
   "execution_count": 92,
   "id": "6a0aaa9e-c260-46fc-ad7c-b65a251b309b",
   "metadata": {},
   "outputs": [
    {
     "data": {
      "text/plain": [
       "['Lamborghini', 'Honda', 'Land cruiser', 'Mercedes', 'BMW']"
      ]
     },
     "execution_count": 92,
     "metadata": {},
     "output_type": "execute_result"
    }
   ],
   "source": [
    "cars"
   ]
  },
  {
   "cell_type": "markdown",
   "id": "f7972915-78c5-4e71-921b-9ca23bf81b88",
   "metadata": {},
   "source": [
    "# .sort(), .reverse() "
   ]
  },
  {
   "cell_type": "code",
   "execution_count": 93,
   "id": "6e848633-9077-4719-8787-9e45a5c426c2",
   "metadata": {},
   "outputs": [],
   "source": [
    "cars.sort()"
   ]
  },
  {
   "cell_type": "code",
   "execution_count": 94,
   "id": "35aa7b47-a71f-47b8-8a11-9de536ef6ab5",
   "metadata": {},
   "outputs": [
    {
     "data": {
      "text/plain": [
       "['BMW', 'Honda', 'Lamborghini', 'Land cruiser', 'Mercedes']"
      ]
     },
     "execution_count": 94,
     "metadata": {},
     "output_type": "execute_result"
    }
   ],
   "source": [
    "cars"
   ]
  },
  {
   "cell_type": "code",
   "execution_count": 95,
   "id": "5005081d-55d1-4134-8e4a-57a15c1ebc38",
   "metadata": {},
   "outputs": [],
   "source": [
    "cars.reverse()"
   ]
  },
  {
   "cell_type": "code",
   "execution_count": 96,
   "id": "e8156950-a4f3-49f5-b6c1-7a5476b10919",
   "metadata": {},
   "outputs": [
    {
     "data": {
      "text/plain": [
       "['Mercedes', 'Land cruiser', 'Lamborghini', 'Honda', 'BMW']"
      ]
     },
     "execution_count": 96,
     "metadata": {},
     "output_type": "execute_result"
    }
   ],
   "source": [
    "cars"
   ]
  },
  {
   "cell_type": "code",
   "execution_count": 101,
   "id": "2bac4ced-07b6-4bc2-bf44-570068d24be9",
   "metadata": {},
   "outputs": [
    {
     "data": {
      "text/plain": [
       "2883916471616"
      ]
     },
     "execution_count": 101,
     "metadata": {},
     "output_type": "execute_result"
    }
   ],
   "source": [
    "cars = ['BMW', 'Honda', 'Lamborghini', 'Land cruiser', 'Mercedes']\n",
    "cars.sort(reverse=True)\n",
    "id(cars)"
   ]
  },
  {
   "cell_type": "code",
   "execution_count": 114,
   "id": "9ed639a9-d193-4fbd-8f38-3e0b8ff97a3f",
   "metadata": {},
   "outputs": [
    {
     "data": {
      "text/plain": [
       "2883922659008"
      ]
     },
     "execution_count": 114,
     "metadata": {},
     "output_type": "execute_result"
    }
   ],
   "source": [
    "cars = ['BMW', 'Honda', 'Lamborghini', 'Land cruiser', 'Mercedes']\n",
    "id(cars)"
   ]
  },
  {
   "cell_type": "code",
   "execution_count": 115,
   "id": "46a64617-2058-4a0a-ac93-1dca5605bffb",
   "metadata": {},
   "outputs": [],
   "source": [
    "cars = cars.reverse"
   ]
  },
  {
   "cell_type": "code",
   "execution_count": 117,
   "id": "a67b2337-b00d-4764-9df9-0bb614a42579",
   "metadata": {},
   "outputs": [
    {
     "name": "stdout",
     "output_type": "stream",
     "text": [
      "None\n"
     ]
    }
   ],
   "source": [
    "print(cars)"
   ]
  },
  {
   "cell_type": "markdown",
   "id": "478fb039-593c-4779-a2df-22114d779b0e",
   "metadata": {},
   "source": [
    "# sorted()"
   ]
  },
  {
   "cell_type": "code",
   "execution_count": 119,
   "id": "27e35cdd-3948-4a38-a2e0-ac97325f466d",
   "metadata": {},
   "outputs": [],
   "source": [
    "cars = ['BMW', 'Honda', 'Lamborghini', 'Land cruiser', 'Mercedes']\n",
    "sorted_fruits = sorted(cars)"
   ]
  },
  {
   "cell_type": "code",
   "execution_count": 120,
   "id": "d0701f92-8917-49ef-b24e-7dc1bd71de44",
   "metadata": {},
   "outputs": [
    {
     "data": {
      "text/plain": [
       "['BMW', 'Honda', 'Lamborghini', 'Land cruiser', 'Mercedes']"
      ]
     },
     "execution_count": 120,
     "metadata": {},
     "output_type": "execute_result"
    }
   ],
   "source": [
    "sorted_fruits"
   ]
  },
  {
   "cell_type": "code",
   "execution_count": 122,
   "id": "946cc80b-2f87-4d44-a87c-e990486a4099",
   "metadata": {},
   "outputs": [
    {
     "name": "stdout",
     "output_type": "stream",
     "text": [
      "BMW\n"
     ]
    }
   ],
   "source": [
    "new = cars[0]\n",
    "print(new)"
   ]
  },
  {
   "cell_type": "code",
   "execution_count": null,
   "id": "9ee2338d-d45a-461e-8984-6942fa854285",
   "metadata": {},
   "outputs": [],
   "source": []
  }
 ],
 "metadata": {
  "kernelspec": {
   "display_name": "Python 3 (ipykernel)",
   "language": "python",
   "name": "python3"
  },
  "language_info": {
   "codemirror_mode": {
    "name": "ipython",
    "version": 3
   },
   "file_extension": ".py",
   "mimetype": "text/x-python",
   "name": "python",
   "nbconvert_exporter": "python",
   "pygments_lexer": "ipython3",
   "version": "3.12.0"
  }
 },
 "nbformat": 4,
 "nbformat_minor": 5
}
