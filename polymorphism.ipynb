{
 "cells": [
  {
   "cell_type": "markdown",
   "id": "8e52fc29-6567-4ee9-8978-8c34ab00be5e",
   "metadata": {},
   "source": [
    "# polymorphism\n",
    "* having many forms like (+)\n",
    "* example operator overloading"
   ]
  },
  {
   "cell_type": "code",
   "execution_count": 1,
   "id": "5585fed1-fce1-4c18-a86b-ddeac43b2a72",
   "metadata": {},
   "outputs": [
    {
     "data": {
      "text/plain": [
       "4"
      ]
     },
     "execution_count": 1,
     "metadata": {},
     "output_type": "execute_result"
    }
   ],
   "source": [
    "2 + 2"
   ]
  },
  {
   "cell_type": "code",
   "execution_count": 2,
   "id": "b4135296-a470-47aa-b7c0-aa2810a91eaa",
   "metadata": {},
   "outputs": [
    {
     "data": {
      "text/plain": [
       "'radheradhe'"
      ]
     },
     "execution_count": 2,
     "metadata": {},
     "output_type": "execute_result"
    }
   ],
   "source": [
    "\"radhe\" + \"radhe\""
   ]
  },
  {
   "cell_type": "code",
   "execution_count": 3,
   "id": "49b65cad-c265-43d7-9098-7dcb5fa0fd90",
   "metadata": {},
   "outputs": [
    {
     "data": {
      "text/plain": [
       "5"
      ]
     },
     "execution_count": 3,
     "metadata": {},
     "output_type": "execute_result"
    }
   ],
   "source": [
    "len(\"hello\")"
   ]
  },
  {
   "cell_type": "code",
   "execution_count": 4,
   "id": "d738fc38-9bda-47e8-ac2e-06d8e5100482",
   "metadata": {},
   "outputs": [
    {
     "data": {
      "text/plain": [
       "2"
      ]
     },
     "execution_count": 4,
     "metadata": {},
     "output_type": "execute_result"
    }
   ],
   "source": [
    "len([3, 5])"
   ]
  },
  {
   "cell_type": "code",
   "execution_count": 15,
   "id": "8cbc4edf-57b6-41a7-8997-2888a3c2a386",
   "metadata": {},
   "outputs": [],
   "source": [
    "class Point:\n",
    "    def __init__(self, p):\n",
    "        self.p = p\n",
    "    def __add__(self, other_obj):\n",
    "        return self.p + other_obj.p"
   ]
  },
  {
   "cell_type": "code",
   "execution_count": 16,
   "id": "91f7d544-4b4d-4338-a313-c826c23446ad",
   "metadata": {},
   "outputs": [],
   "source": [
    "p1 = Point(p=2)\n",
    "p2 = Point(p=9)"
   ]
  },
  {
   "cell_type": "code",
   "execution_count": 17,
   "id": "29532af8-95cb-4405-a14e-a9ed4b6905db",
   "metadata": {},
   "outputs": [
    {
     "data": {
      "text/plain": [
       "(__main__.Point, __main__.Point)"
      ]
     },
     "execution_count": 17,
     "metadata": {},
     "output_type": "execute_result"
    }
   ],
   "source": [
    "type(p1), type(p2)"
   ]
  },
  {
   "cell_type": "code",
   "execution_count": 14,
   "id": "ecf453a8-e69d-4517-a6a8-5abdeec13040",
   "metadata": {},
   "outputs": [
    {
     "ename": "TypeError",
     "evalue": "unsupported operand type(s) for +: 'Point' and 'Point'",
     "output_type": "error",
     "traceback": [
      "\u001b[1;31m---------------------------------------------------------------------------\u001b[0m",
      "\u001b[1;31mTypeError\u001b[0m                                 Traceback (most recent call last)",
      "Cell \u001b[1;32mIn[14], line 1\u001b[0m\n\u001b[1;32m----> 1\u001b[0m \u001b[43mp1\u001b[49m\u001b[43m \u001b[49m\u001b[38;5;241;43m+\u001b[39;49m\u001b[43m \u001b[49m\u001b[43mp2\u001b[49m \u001b[38;5;66;03m# p1 and p2 are object of user defined class, yo  object ma + ko kam k ho define vako xaina\u001b[39;00m\n",
      "\u001b[1;31mTypeError\u001b[0m: unsupported operand type(s) for +: 'Point' and 'Point'"
     ]
    }
   ],
   "source": [
    "p1 + p2 # p1 and p2 are object of user defined class, yo  object ma + ko kam k ho define vako xaina"
   ]
  },
  {
   "cell_type": "code",
   "execution_count": 33,
   "id": "fd883110-335a-41ca-811a-634b742997fd",
   "metadata": {},
   "outputs": [],
   "source": [
    "class Point:\n",
    "    def __init__(self, p):\n",
    "        self.p = p\n",
    "    def __add__(self, other_obj):\n",
    "        return self.p + other_obj.p\n",
    "\n",
    "    def __lt__(self, other_obj):\n",
    "        return self.p < other_obj.p\n",
    "\n",
    "    def __gt__(self, other_obj):\n",
    "        return self.p > other_obj.p\n",
    "\n",
    "    def __str__(self):\n",
    "        return f\"point: {self.p}\""
   ]
  },
  {
   "cell_type": "code",
   "execution_count": 35,
   "id": "955a0ee8-c917-4097-9972-d2e31348cc9b",
   "metadata": {},
   "outputs": [
    {
     "data": {
      "text/plain": [
       "11"
      ]
     },
     "execution_count": 35,
     "metadata": {},
     "output_type": "execute_result"
    }
   ],
   "source": [
    "p1 = Point(p=2)\n",
    "p2 = Point(p=9)\n",
    "p1 + p2"
   ]
  },
  {
   "cell_type": "code",
   "execution_count": 26,
   "id": "25383b95-64dd-4992-b52d-b1da0206d6c3",
   "metadata": {},
   "outputs": [
    {
     "data": {
      "text/plain": [
       "True"
      ]
     },
     "execution_count": 26,
     "metadata": {},
     "output_type": "execute_result"
    }
   ],
   "source": [
    "p1 < p2"
   ]
  },
  {
   "cell_type": "code",
   "execution_count": 27,
   "id": "8e179173-3cf5-4519-8ccf-a550d5098605",
   "metadata": {},
   "outputs": [
    {
     "data": {
      "text/plain": [
       "False"
      ]
     },
     "execution_count": 27,
     "metadata": {},
     "output_type": "execute_result"
    }
   ],
   "source": [
    "p1 > p2"
   ]
  },
  {
   "cell_type": "code",
   "execution_count": 28,
   "id": "26dc015b-766a-4069-a395-02cfc2eb81a2",
   "metadata": {},
   "outputs": [
    {
     "data": {
      "text/plain": [
       "True"
      ]
     },
     "execution_count": 28,
     "metadata": {},
     "output_type": "execute_result"
    }
   ],
   "source": [
    "p2 > p1"
   ]
  },
  {
   "cell_type": "code",
   "execution_count": 29,
   "id": "78e063d6-0318-4a20-b70c-d830a3586323",
   "metadata": {},
   "outputs": [
    {
     "data": {
      "text/plain": [
       "True"
      ]
     },
     "execution_count": 29,
     "metadata": {},
     "output_type": "execute_result"
    }
   ],
   "source": [
    "p1 < p2"
   ]
  },
  {
   "cell_type": "code",
   "execution_count": 30,
   "id": "56751cbc-383c-4588-b2d0-13e91a66fa31",
   "metadata": {},
   "outputs": [
    {
     "data": {
      "text/plain": [
       "False"
      ]
     },
     "execution_count": 30,
     "metadata": {},
     "output_type": "execute_result"
    }
   ],
   "source": [
    "p1 > p2"
   ]
  },
  {
   "cell_type": "code",
   "execution_count": 36,
   "id": "393d855e-14ac-4b6a-b37e-4e1746484ee8",
   "metadata": {},
   "outputs": [
    {
     "name": "stdout",
     "output_type": "stream",
     "text": [
      "point: 2\n"
     ]
    }
   ],
   "source": [
    "print(p1)"
   ]
  },
  {
   "cell_type": "code",
   "execution_count": 1,
   "id": "f77b0d78-6f7a-472f-b4a7-560609b079b0",
   "metadata": {},
   "outputs": [
    {
     "name": "stdout",
     "output_type": "stream",
     "text": [
      "HEllo world!!\n"
     ]
    }
   ],
   "source": [
    "print(\"HEllo world!!\")"
   ]
  },
  {
   "cell_type": "code",
   "execution_count": null,
   "id": "6b04055d-c86c-4eb8-b31d-05164c408906",
   "metadata": {},
   "outputs": [],
   "source": []
  }
 ],
 "metadata": {
  "kernelspec": {
   "display_name": "Python 3 (ipykernel)",
   "language": "python",
   "name": "python3"
  },
  "language_info": {
   "codemirror_mode": {
    "name": "ipython",
    "version": 3
   },
   "file_extension": ".py",
   "mimetype": "text/x-python",
   "name": "python",
   "nbconvert_exporter": "python",
   "pygments_lexer": "ipython3",
   "version": "3.12.0"
  }
 },
 "nbformat": 4,
 "nbformat_minor": 5
}
