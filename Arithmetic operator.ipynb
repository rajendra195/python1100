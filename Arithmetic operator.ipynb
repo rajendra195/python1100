{
 "cells": [
  {
   "cell_type": "markdown",
   "id": "b077f4eb-565b-458a-8149-fd68c35e7b70",
   "metadata": {},
   "source": [
    "# Arithmatic Operator\n",
    "Arithmatic operators are used with numeric values to perform common mathematical operations:\n",
    "* Addition (+)\n",
    "* Subtraction (-)\n",
    "* Multiplication (*)\n",
    "* Division (/)\n",
    "* Modulus (%)\n",
    "* Exponentiation (**)\n",
    "* Floor division (//)"
   ]
  },
  {
   "cell_type": "code",
   "execution_count": 1,
   "id": "0a6c6a0d-5e9b-41b2-bfae-bcf10b231923",
   "metadata": {},
   "outputs": [
    {
     "data": {
      "text/plain": [
       "4"
      ]
     },
     "execution_count": 1,
     "metadata": {},
     "output_type": "execute_result"
    }
   ],
   "source": [
    "19 % 5 # modulus operators gives Remainder"
   ]
  },
  {
   "cell_type": "code",
   "execution_count": 7,
   "id": "c95b6602-4363-46f1-a385-71fee8336ec8",
   "metadata": {},
   "outputs": [
    {
     "data": {
      "text/plain": [
       "256"
      ]
     },
     "execution_count": 7,
     "metadata": {},
     "output_type": "execute_result"
    }
   ],
   "source": [
    "4 ** 4 # Exponentiation operator gives square of a number (4 ko power 4, 4 * 4 * 4 * 4)"
   ]
  },
  {
   "cell_type": "code",
   "execution_count": 8,
   "id": "3025117a-b4f4-4ab0-8793-c69658bd60e3",
   "metadata": {},
   "outputs": [
    {
     "data": {
      "text/plain": [
       "39304"
      ]
     },
     "execution_count": 8,
     "metadata": {},
     "output_type": "execute_result"
    }
   ],
   "source": [
    "34 ** 3"
   ]
  },
  {
   "cell_type": "code",
   "execution_count": 4,
   "id": "3e6cd29e-82cf-4836-b137-9382a071b4e4",
   "metadata": {},
   "outputs": [
    {
     "data": {
      "text/plain": [
       "0"
      ]
     },
     "execution_count": 4,
     "metadata": {},
     "output_type": "execute_result"
    }
   ],
   "source": [
    "20 % 2"
   ]
  },
  {
   "cell_type": "code",
   "execution_count": 5,
   "id": "cbaba775-d944-4792-9e07-fc4224fce577",
   "metadata": {},
   "outputs": [
    {
     "data": {
      "text/plain": [
       "9"
      ]
     },
     "execution_count": 5,
     "metadata": {},
     "output_type": "execute_result"
    }
   ],
   "source": [
    "55 % 23"
   ]
  },
  {
   "cell_type": "code",
   "execution_count": 11,
   "id": "141e8bc9-8791-4deb-921e-7ee2ab4ba7b5",
   "metadata": {},
   "outputs": [
    {
     "data": {
      "text/plain": [
       "3"
      ]
     },
     "execution_count": 11,
     "metadata": {},
     "output_type": "execute_result"
    }
   ],
   "source": [
    "34 // 11 # decimal paxi ko value neglect garxa"
   ]
  },
  {
   "cell_type": "code",
   "execution_count": 10,
   "id": "5f9c65bb-2fae-45b3-adf4-80c2df548cde",
   "metadata": {},
   "outputs": [
    {
     "data": {
      "text/plain": [
       "2"
      ]
     },
     "execution_count": 10,
     "metadata": {},
     "output_type": "execute_result"
    }
   ],
   "source": [
    "12 // 5"
   ]
  },
  {
   "cell_type": "markdown",
   "id": "889259b4-b975-413c-8c31-924c129799ae",
   "metadata": {},
   "source": [
    "# Example\n",
    "The radius  of a sphere is 5 cm what is the volume?"
   ]
  },
  {
   "cell_type": "code",
   "execution_count": 18,
   "id": "a6c6900e-3882-45da-b8de-ac7e2a96e142",
   "metadata": {},
   "outputs": [
    {
     "name": "stdout",
     "output_type": "stream",
     "text": [
      "523.333\n"
     ]
    }
   ],
   "source": [
    "r = 5\n",
    "volume = 4 / 3 * 3.14 * r ** 3\n",
    "print(round(volume, 3))"
   ]
  },
  {
   "cell_type": "code",
   "execution_count": 21,
   "id": "25b4c1d8-3ca8-45c2-9602-535df9ee9f6c",
   "metadata": {},
   "outputs": [
    {
     "name": "stdout",
     "output_type": "stream",
     "text": [
      "523.5987755982989\n"
     ]
    }
   ],
   "source": [
    "import math\n",
    "r = 5\n",
    "volume = 4 / 3 * math.pi * r ** 3\n",
    "print(volume)"
   ]
  },
  {
   "cell_type": "code",
   "execution_count": 23,
   "id": "686d4535-59a5-4848-997a-d38583e1a3aa",
   "metadata": {},
   "outputs": [
    {
     "data": {
      "text/plain": [
       "523.599"
      ]
     },
     "execution_count": 23,
     "metadata": {},
     "output_type": "execute_result"
    }
   ],
   "source": [
    "round(volume, 3)"
   ]
  },
  {
   "cell_type": "markdown",
   "id": "0e33cffc-a9a5-4042-9dbe-c79e0a732e30",
   "metadata": {},
   "source": [
    "# Operator Precedence"
   ]
  },
  {
   "cell_type": "code",
   "execution_count": 24,
   "id": "d2987983-40f3-4f2b-b8e3-3fef8d8e1e6f",
   "metadata": {},
   "outputs": [
    {
     "data": {
      "text/plain": [
       "18"
      ]
     },
     "execution_count": 24,
     "metadata": {},
     "output_type": "execute_result"
    }
   ],
   "source": [
    "2 * 3 ** 2"
   ]
  },
  {
   "cell_type": "code",
   "execution_count": 25,
   "id": "c7906085-ee91-4b50-8292-23bcbda9a853",
   "metadata": {},
   "outputs": [
    {
     "data": {
      "text/plain": [
       "18"
      ]
     },
     "execution_count": 25,
     "metadata": {},
     "output_type": "execute_result"
    }
   ],
   "source": [
    "# calculation\n",
    "2 * 9"
   ]
  },
  {
   "cell_type": "code",
   "execution_count": 26,
   "id": "144f4edc-7713-4fdc-9a25-8bd607fcc635",
   "metadata": {},
   "outputs": [
    {
     "data": {
      "text/plain": [
       "0.2222222222222222"
      ]
     },
     "execution_count": 26,
     "metadata": {},
     "output_type": "execute_result"
    }
   ],
   "source": [
    "2 / 3 ** 2"
   ]
  },
  {
   "cell_type": "code",
   "execution_count": 27,
   "id": "b5610381-a4f0-4301-8e8a-2a7da18f9194",
   "metadata": {},
   "outputs": [
    {
     "data": {
      "text/plain": [
       "0.2222222222222222"
      ]
     },
     "execution_count": 27,
     "metadata": {},
     "output_type": "execute_result"
    }
   ],
   "source": [
    "2 / 9"
   ]
  },
  {
   "cell_type": "code",
   "execution_count": 29,
   "id": "fb9b1572-dd64-4d07-8605-e85266def1e0",
   "metadata": {},
   "outputs": [
    {
     "data": {
      "text/plain": [
       "36"
      ]
     },
     "execution_count": 29,
     "metadata": {},
     "output_type": "execute_result"
    }
   ],
   "source": [
    "(2 * 3) ** 2"
   ]
  },
  {
   "cell_type": "code",
   "execution_count": null,
   "id": "f5cd83ca-58fe-45e2-8cd8-f696ade428c6",
   "metadata": {},
   "outputs": [],
   "source": []
  }
 ],
 "metadata": {
  "kernelspec": {
   "display_name": "Python 3 (ipykernel)",
   "language": "python",
   "name": "python3"
  },
  "language_info": {
   "codemirror_mode": {
    "name": "ipython",
    "version": 3
   },
   "file_extension": ".py",
   "mimetype": "text/x-python",
   "name": "python",
   "nbconvert_exporter": "python",
   "pygments_lexer": "ipython3",
   "version": "3.12.0"
  }
 },
 "nbformat": 4,
 "nbformat_minor": 5
}
