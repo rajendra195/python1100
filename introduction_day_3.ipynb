{
 "cells": [
  {
   "cell_type": "code",
   "execution_count": 1,
   "id": "8332d27c-5d17-4e35-939c-0946797e92fb",
   "metadata": {},
   "outputs": [
    {
     "name": "stdout",
     "output_type": "stream",
     "text": [
      "You're 23, You can vote.\n",
      "You're 53, You can vote.\n",
      "You're 33, You can vote.\n",
      "You're 10, You cannot vote.\n"
     ]
    }
   ],
   "source": [
    "ages = [23, 53, 33, 10]\n",
    "for age in ages:\n",
    "    if age >= 18:\n",
    "        print(f\"You're {age}, You can vote.\")\n",
    "    else:\n",
    "        print(f\"You're {age}, You cannot vote.\")"
   ]
  },
  {
   "cell_type": "code",
   "execution_count": 12,
   "id": "533a0630-0191-4a17-b125-ab36aa24c1c3",
   "metadata": {},
   "outputs": [
    {
     "data": {
      "text/plain": [
       "4"
      ]
     },
     "execution_count": 12,
     "metadata": {},
     "output_type": "execute_result"
    }
   ],
   "source": [
    "len(ages)"
   ]
  },
  {
   "cell_type": "code",
   "execution_count": 13,
   "id": "2f43b9ea-2b6c-4138-ab64-cbca3170a4a1",
   "metadata": {},
   "outputs": [
    {
     "data": {
      "text/plain": [
       "16"
      ]
     },
     "execution_count": 13,
     "metadata": {},
     "output_type": "execute_result"
    }
   ],
   "source": [
    "name = \"Rajendra Niroula\"\n",
    "len(name)"
   ]
  },
  {
   "cell_type": "code",
   "execution_count": 2,
   "id": "8660abfe-60fd-4e0c-8172-79a25dbeb5c5",
   "metadata": {},
   "outputs": [],
   "source": []
  }
 ],
 "metadata": {
  "kernelspec": {
   "display_name": "Python 3 (ipykernel)",
   "language": "python",
   "name": "python3"
  },
  "language_info": {
   "codemirror_mode": {
    "name": "ipython",
    "version": 3
   },
   "file_extension": ".py",
   "mimetype": "text/x-python",
   "name": "python",
   "nbconvert_exporter": "python",
   "pygments_lexer": "ipython3",
   "version": "3.12.0"
  }
 },
 "nbformat": 4,
 "nbformat_minor": 5
}
