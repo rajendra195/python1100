{
 "cells": [
  {
   "cell_type": "markdown",
   "id": "cc002f09-c2ed-40c9-beb3-63e2432fb2da",
   "metadata": {},
   "source": [
    "# WAP to calculate mean"
   ]
  },
  {
   "cell_type": "code",
   "execution_count": 3,
   "id": "ca4ae70e-740d-43ab-8c2a-1b0e9be85976",
   "metadata": {},
   "outputs": [
    {
     "name": "stdout",
     "output_type": "stream",
     "text": [
      "260 10\n"
     ]
    },
    {
     "data": {
      "text/plain": [
       "26.0"
      ]
     },
     "execution_count": 3,
     "metadata": {},
     "output_type": "execute_result"
    }
   ],
   "source": [
    "num = [4, 5, 34, 5, 32, 9, 8, 85, 76, 2]\n",
    "num_of_items = len(num)\n",
    "total = 0\n",
    "for item in num:\n",
    "    total += item\n",
    "print(total, num_of_items)\n",
    "mean = total / num_of_items\n",
    "mean"
   ]
  },
  {
   "cell_type": "code",
   "execution_count": 4,
   "id": "98d2e975-ef0d-47cf-8683-ea7c81ce0348",
   "metadata": {},
   "outputs": [
    {
     "name": "stdout",
     "output_type": "stream",
     "text": [
      "260 10\n"
     ]
    },
    {
     "data": {
      "text/plain": [
       "26.0"
      ]
     },
     "execution_count": 4,
     "metadata": {},
     "output_type": "execute_result"
    }
   ],
   "source": [
    "num = [4, 5, 34, 5, 32, 9, 8, 85, 76, 2]\n",
    "no_items = len(num)\n",
    "total = 0\n",
    "for index in range(len(num)):\n",
    "    item = num[index]\n",
    "    total += item\n",
    "print(total, no_items)\n",
    "mean = total / no_items\n",
    "mean"
   ]
  },
  {
   "cell_type": "markdown",
   "id": "b5cbe70b-37af-442a-b906-32179143388a",
   "metadata": {},
   "source": [
    "# WAP to lowercase items in given list using list comprehension."
   ]
  },
  {
   "cell_type": "code",
   "execution_count": 5,
   "id": "0c6236a0-65d2-43ec-9702-8fe7e8962cc6",
   "metadata": {},
   "outputs": [
    {
     "data": {
      "text/plain": [
       "['apple', 'banana', 'mango', 'orange']"
      ]
     },
     "execution_count": 5,
     "metadata": {},
     "output_type": "execute_result"
    }
   ],
   "source": [
    "fruits = [\"APPLE\", \"BANANA\", \"MANGO\", \"ORANGE\"]\n",
    "fruits = [item.lower() for item in fruits]\n",
    "fruits"
   ]
  },
  {
   "cell_type": "code",
   "execution_count": 6,
   "id": "3a295db9-8850-4d51-ba75-2cdecb830bc6",
   "metadata": {},
   "outputs": [
    {
     "data": {
      "text/plain": [
       "['banana', 'mango']"
      ]
     },
     "execution_count": 6,
     "metadata": {},
     "output_type": "execute_result"
    }
   ],
   "source": [
    "fruits =[\"apple\", \"banana\", \"apple\", \"mango\"]\n",
    "# fruits = [expression for item in iterables if condition == True]\n",
    "fruits = [item for item in fruits if item != \"apple\"]\n",
    "fruits"
   ]
  },
  {
   "cell_type": "code",
   "execution_count": 1,
   "id": "9e9603f7-f8ef-4700-ac8c-98d9fcfcc4b6",
   "metadata": {},
   "outputs": [
    {
     "data": {
      "text/plain": [
       "['orange', 'banana', 'orange', 'orange', 'orange', 'banana']"
      ]
     },
     "execution_count": 1,
     "metadata": {},
     "output_type": "execute_result"
    }
   ],
   "source": [
    "fruits = [\"orange\", \"banana\", \"kiwi\", \"pineapple\", \"apple\", \"banana\"]\n",
    "# [expression if condition == True else expression for item in iterables]\n",
    "fruits = [item.replace(item, \"orange\") if item != \"banana\" else item for item in fruits]\n",
    "fruits"
   ]
  },
  {
   "cell_type": "markdown",
   "id": "e758d76c-24fc-4529-b640-6835b3d41a4f",
   "metadata": {},
   "source": [
    "# Accept only numbers lower than 5 from range -5 to 10. "
   ]
  },
  {
   "cell_type": "code",
   "execution_count": 3,
   "id": "798cdaab-06eb-4cf6-b5f7-44f1c0549eeb",
   "metadata": {},
   "outputs": [
    {
     "data": {
      "text/plain": [
       "[-5, -4, -3, -2, -1, 0, 1, 2, 3, 4]"
      ]
     },
     "execution_count": 3,
     "metadata": {},
     "output_type": "execute_result"
    }
   ],
   "source": [
    "num_list = [item for item in range(-5, 10) if item < 5]\n",
    "num_list"
   ]
  },
  {
   "cell_type": "code",
   "execution_count": null,
   "id": "37fc4cd2-6348-4b17-90da-ff59dc9e4ee9",
   "metadata": {},
   "outputs": [],
   "source": []
  }
 ],
 "metadata": {
  "kernelspec": {
   "display_name": "Python 3 (ipykernel)",
   "language": "python",
   "name": "python3"
  },
  "language_info": {
   "codemirror_mode": {
    "name": "ipython",
    "version": 3
   },
   "file_extension": ".py",
   "mimetype": "text/x-python",
   "name": "python",
   "nbconvert_exporter": "python",
   "pygments_lexer": "ipython3",
   "version": "3.12.0"
  }
 },
 "nbformat": 4,
 "nbformat_minor": 5
}
