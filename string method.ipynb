{
 "cells": [
  {
   "cell_type": "code",
   "execution_count": 15,
   "id": "d766683e-fd5e-45ee-ba18-61a0ab8ff5b4",
   "metadata": {},
   "outputs": [
    {
     "data": {
      "text/plain": [
       "'R@jendr@'"
      ]
     },
     "execution_count": 15,
     "metadata": {},
     "output_type": "execute_result"
    }
   ],
   "source": [
    "name = \"R@jendr@\"\n",
    "name"
   ]
  },
  {
   "cell_type": "code",
   "execution_count": 2,
   "id": "efd233f1-d8f2-4be1-8a5c-aa52face26b0",
   "metadata": {},
   "outputs": [
    {
     "data": {
      "text/plain": [
       "'@'"
      ]
     },
     "execution_count": 2,
     "metadata": {},
     "output_type": "execute_result"
    }
   ],
   "source": [
    "name[1]"
   ]
  },
  {
   "cell_type": "code",
   "execution_count": 3,
   "id": "47fb5382-d2d0-4537-968f-b8909f00201f",
   "metadata": {},
   "outputs": [
    {
     "data": {
      "text/plain": [
       "'@'"
      ]
     },
     "execution_count": 3,
     "metadata": {},
     "output_type": "execute_result"
    }
   ],
   "source": [
    "name[7]"
   ]
  },
  {
   "cell_type": "code",
   "execution_count": 4,
   "id": "e1e7d7af-a379-411a-ae30-b058a3be6485",
   "metadata": {},
   "outputs": [
    {
     "ename": "NameError",
     "evalue": "name 'a' is not defined",
     "output_type": "error",
     "traceback": [
      "\u001b[1;31m---------------------------------------------------------------------------\u001b[0m",
      "\u001b[1;31mNameError\u001b[0m                                 Traceback (most recent call last)",
      "Cell \u001b[1;32mIn[4], line 1\u001b[0m\n\u001b[1;32m----> 1\u001b[0m name[\u001b[38;5;241m1\u001b[39m] \u001b[38;5;241m=\u001b[39m \u001b[43ma\u001b[49m\n",
      "\u001b[1;31mNameError\u001b[0m: name 'a' is not defined"
     ]
    }
   ],
   "source": [
    "name[1] = a"
   ]
  },
  {
   "cell_type": "markdown",
   "id": "b398d4f7-3602-4413-aedf-5334c2a24009",
   "metadata": {},
   "source": [
    "# string is immutable object; same memory location ma value update garna mildaina"
   ]
  },
  {
   "cell_type": "markdown",
   "id": "07437419-8748-44d2-acdb-e16906ec8c2d",
   "metadata": {},
   "source": [
    "# .replace()"
   ]
  },
  {
   "cell_type": "code",
   "execution_count": 16,
   "id": "5edc31b9-170a-42af-8757-2852c4b02ac0",
   "metadata": {},
   "outputs": [
    {
     "data": {
      "text/plain": [
       "1997116670640"
      ]
     },
     "execution_count": 16,
     "metadata": {},
     "output_type": "execute_result"
    }
   ],
   "source": [
    "id(name) # memory location"
   ]
  },
  {
   "cell_type": "code",
   "execution_count": 17,
   "id": "855d255e-e808-4969-ba1c-113a01c46ae8",
   "metadata": {},
   "outputs": [],
   "source": [
    "name_copy = name.replace(\"@\", \"a\")"
   ]
  },
  {
   "cell_type": "code",
   "execution_count": 18,
   "id": "088da5b6-d007-4862-8603-9a1f20b9a746",
   "metadata": {},
   "outputs": [
    {
     "name": "stdout",
     "output_type": "stream",
     "text": [
      "Rajendra\n"
     ]
    }
   ],
   "source": [
    "print(name_copy)"
   ]
  },
  {
   "cell_type": "code",
   "execution_count": 19,
   "id": "650e314b-a526-4e93-a8b0-eb8fc7becf26",
   "metadata": {},
   "outputs": [
    {
     "data": {
      "text/plain": [
       "1997116681648"
      ]
     },
     "execution_count": 19,
     "metadata": {},
     "output_type": "execute_result"
    }
   ],
   "source": [
    "id(name_copy)"
   ]
  },
  {
   "cell_type": "code",
   "execution_count": 22,
   "id": "7413cfb5-dc4b-43ad-9583-309f289a2c02",
   "metadata": {},
   "outputs": [
    {
     "data": {
      "text/plain": [
       "'Fantastic New Year'"
      ]
     },
     "execution_count": 22,
     "metadata": {},
     "output_type": "execute_result"
    }
   ],
   "source": [
    "msg = \"Happy New Year\"\n",
    "msg.replace(\"Happy\", \"Fantastic\")"
   ]
  },
  {
   "cell_type": "markdown",
   "id": "0a2c51a1-8c90-477f-a1e7-922a3df19a48",
   "metadata": {},
   "source": [
    "# .upper(), .lower() and .title()"
   ]
  },
  {
   "cell_type": "code",
   "execution_count": 26,
   "id": "826fb9d0-decf-4a2a-aac4-325cda00a974",
   "metadata": {},
   "outputs": [
    {
     "data": {
      "text/plain": [
       "'study data science'"
      ]
     },
     "execution_count": 26,
     "metadata": {},
     "output_type": "execute_result"
    }
   ],
   "source": [
    "msg = \"Study Data science\"\n",
    "msg.lower()"
   ]
  },
  {
   "cell_type": "code",
   "execution_count": 24,
   "id": "b966ec5d-8138-45d0-af17-05be35cabb2c",
   "metadata": {},
   "outputs": [
    {
     "data": {
      "text/plain": [
       "'STUDY DATA SCIENCE'"
      ]
     },
     "execution_count": 24,
     "metadata": {},
     "output_type": "execute_result"
    }
   ],
   "source": [
    "msg.upper()"
   ]
  },
  {
   "cell_type": "code",
   "execution_count": 25,
   "id": "c818b190-dff2-4589-a4a1-a352109fba16",
   "metadata": {},
   "outputs": [
    {
     "data": {
      "text/plain": [
       "'Study Data Science'"
      ]
     },
     "execution_count": 25,
     "metadata": {},
     "output_type": "execute_result"
    }
   ],
   "source": [
    "msg.title()"
   ]
  },
  {
   "cell_type": "markdown",
   "id": "b3559620-a4fd-4c03-bcb4-f5bcb99bd03d",
   "metadata": {},
   "source": [
    "# strip(), lstrip(), .rstrip()"
   ]
  },
  {
   "cell_type": "code",
   "execution_count": 27,
   "id": "27684d30-824e-4e11-b525-ab02c3cf0698",
   "metadata": {},
   "outputs": [
    {
     "data": {
      "text/plain": [
       "'Hello World'"
      ]
     },
     "execution_count": 27,
     "metadata": {},
     "output_type": "execute_result"
    }
   ],
   "source": [
    "msg = \"Hello World\"\n",
    "msg"
   ]
  },
  {
   "cell_type": "code",
   "execution_count": 28,
   "id": "55360ee0-5ef6-4aaa-beb8-5a73fd35a23c",
   "metadata": {},
   "outputs": [
    {
     "data": {
      "text/plain": [
       "'Hello  world '"
      ]
     },
     "execution_count": 28,
     "metadata": {},
     "output_type": "execute_result"
    }
   ],
   "source": [
    "msg = \" Hello  world \"\n",
    "msg.lstrip()"
   ]
  },
  {
   "cell_type": "code",
   "execution_count": 29,
   "id": "5c6f335c-30ef-48db-98d0-15b7cdc67b50",
   "metadata": {},
   "outputs": [
    {
     "data": {
      "text/plain": [
       "' Hello  world'"
      ]
     },
     "execution_count": 29,
     "metadata": {},
     "output_type": "execute_result"
    }
   ],
   "source": [
    "msg.rstrip()"
   ]
  },
  {
   "cell_type": "code",
   "execution_count": 31,
   "id": "93fcc230-9ac9-4126-9230-5b59664ed38e",
   "metadata": {},
   "outputs": [
    {
     "data": {
      "text/plain": [
       "'Hello  world'"
      ]
     },
     "execution_count": 31,
     "metadata": {},
     "output_type": "execute_result"
    }
   ],
   "source": [
    "msg.strip() # both left and right side ko space hatauxa"
   ]
  },
  {
   "cell_type": "markdown",
   "id": "d23fd4fd-3928-4a92-bd54-d0d0e69904ea",
   "metadata": {},
   "source": [
    "# .split() and .join()"
   ]
  },
  {
   "cell_type": "code",
   "execution_count": 42,
   "id": "393236b3-941f-4fed-93db-10e3eb8f8aac",
   "metadata": {},
   "outputs": [
    {
     "data": {
      "text/plain": [
       "['I', 'study', 'Python', 'in', 'Broadway.']"
      ]
     },
     "execution_count": 42,
     "metadata": {},
     "output_type": "execute_result"
    }
   ],
   "source": [
    "msg = \"I study Python in Broadway.\"\n",
    "words = msg.split(\" \")\n",
    "words"
   ]
  },
  {
   "cell_type": "code",
   "execution_count": 43,
   "id": "cc5cc730-9df4-4ad0-83cf-bb5f6d4d506f",
   "metadata": {},
   "outputs": [
    {
     "data": {
      "text/plain": [
       "'I study Python in Broadway.'"
      ]
     },
     "execution_count": 43,
     "metadata": {},
     "output_type": "execute_result"
    }
   ],
   "source": [
    "\" \".join(words)"
   ]
  },
  {
   "cell_type": "code",
   "execution_count": null,
   "id": "742a7347-b0e9-48fc-be93-281e244c5508",
   "metadata": {},
   "outputs": [],
   "source": []
  }
 ],
 "metadata": {
  "kernelspec": {
   "display_name": "Python 3 (ipykernel)",
   "language": "python",
   "name": "python3"
  },
  "language_info": {
   "codemirror_mode": {
    "name": "ipython",
    "version": 3
   },
   "file_extension": ".py",
   "mimetype": "text/x-python",
   "name": "python",
   "nbconvert_exporter": "python",
   "pygments_lexer": "ipython3",
   "version": "3.12.0"
  }
 },
 "nbformat": 4,
 "nbformat_minor": 5
}
