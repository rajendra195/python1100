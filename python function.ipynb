{
 "cells": [
  {
   "cell_type": "code",
   "execution_count": 27,
   "id": "1bc01a90-46f7-459f-b5a3-1a98ac8a78a3",
   "metadata": {},
   "outputs": [
    {
     "name": "stdout",
     "output_type": "stream",
     "text": [
      "8\n"
     ]
    }
   ],
   "source": [
    "a = 5\n",
    "b = 3\n",
    "c = a + b\n",
    "print(c)"
   ]
  },
  {
   "cell_type": "markdown",
   "id": "399076bb-4247-4d9e-a637-3d92408cf43d",
   "metadata": {},
   "source": [
    "# Funciton\n",
    "syntax\n",
    "```python\n",
    "def function_name(arguments):\n",
    "    # funciton body\n",
    "    return Expression\n",
    "function_name(paramenters)\n",
    "```"
   ]
  },
  {
   "cell_type": "code",
   "execution_count": 28,
   "id": "ae70b634-6ad5-4463-89ae-7e224e6da240",
   "metadata": {},
   "outputs": [],
   "source": [
    "def add():\n",
    "    a = 5\n",
    "    b = 3\n",
    "    c = a + b\n",
    "    print(c)"
   ]
  },
  {
   "cell_type": "code",
   "execution_count": 29,
   "id": "66c93973-e8be-4120-af87-7f84430845a6",
   "metadata": {},
   "outputs": [
    {
     "name": "stdout",
     "output_type": "stream",
     "text": [
      "8\n"
     ]
    }
   ],
   "source": [
    "add()"
   ]
  },
  {
   "cell_type": "code",
   "execution_count": 30,
   "id": "295f26a9-c2b9-4c75-a233-6e1c7364642f",
   "metadata": {},
   "outputs": [
    {
     "name": "stdout",
     "output_type": "stream",
     "text": [
      "8\n"
     ]
    }
   ],
   "source": [
    "add()"
   ]
  },
  {
   "cell_type": "code",
   "execution_count": 31,
   "id": "ecfc9077-a89b-4576-af1e-80c3203a1d87",
   "metadata": {},
   "outputs": [],
   "source": [
    "def add(a, b):\n",
    "    c = a + b\n",
    "    print(c)"
   ]
  },
  {
   "cell_type": "code",
   "execution_count": 36,
   "id": "3be35823-8d75-4197-8aab-bbae96fbfc53",
   "metadata": {},
   "outputs": [
    {
     "name": "stdout",
     "output_type": "stream",
     "text": [
      "10\n"
     ]
    }
   ],
   "source": [
    "x = 4\n",
    "y = 6\n",
    "add(a = x, b = y) # esari lekhne ho"
   ]
  },
  {
   "cell_type": "code",
   "execution_count": 35,
   "id": "a5d7bf89-f3ab-4c44-9e94-7b2cd08f6e28",
   "metadata": {},
   "outputs": [
    {
     "name": "stdout",
     "output_type": "stream",
     "text": [
      "10\n"
     ]
    }
   ],
   "source": [
    "add(x, y)"
   ]
  },
  {
   "cell_type": "code",
   "execution_count": 9,
   "id": "e841a448-7791-4002-ba59-219f1aa5fa19",
   "metadata": {},
   "outputs": [],
   "source": [
    "def add(a, b):\n",
    "    c = a + b\n",
    "    return c"
   ]
  },
  {
   "cell_type": "code",
   "execution_count": 10,
   "id": "e1406da4-74f9-450a-b900-cde228fd32c8",
   "metadata": {},
   "outputs": [
    {
     "name": "stdout",
     "output_type": "stream",
     "text": [
      "11\n"
     ]
    }
   ],
   "source": [
    "output = add(a = 9, b = 2)\n",
    "print(output)"
   ]
  },
  {
   "cell_type": "code",
   "execution_count": 11,
   "id": "919a9095-7b61-47a9-bdd6-dd048cfbdbb9",
   "metadata": {},
   "outputs": [
    {
     "data": {
      "text/plain": [
       "7"
      ]
     },
     "execution_count": 11,
     "metadata": {},
     "output_type": "execute_result"
    }
   ],
   "source": [
    "def sub(a, b):\n",
    "    c = a - b\n",
    "    return c\n",
    "    \n",
    "output = sub(a = 9, b = 2)\n",
    "output"
   ]
  },
  {
   "cell_type": "code",
   "execution_count": 12,
   "id": "daf71e98-d940-45b2-a6ac-bcfbf47f0e91",
   "metadata": {},
   "outputs": [
    {
     "data": {
      "text/plain": [
       "18"
      ]
     },
     "execution_count": 12,
     "metadata": {},
     "output_type": "execute_result"
    }
   ],
   "source": [
    "def mul(a, b):\n",
    "    c = a * b\n",
    "    return c\n",
    "    \n",
    "output = mul(a = 9, b = 2)\n",
    "output"
   ]
  },
  {
   "cell_type": "code",
   "execution_count": 13,
   "id": "9934a07f-a04e-4bc2-974b-783ab37ba113",
   "metadata": {},
   "outputs": [
    {
     "name": "stdout",
     "output_type": "stream",
     "text": [
      "4.5\n"
     ]
    }
   ],
   "source": [
    "def div(a, b):\n",
    "    c = a / b\n",
    "    return c\n",
    "    \n",
    "output = div(a = 9, b = 2)\n",
    "print(output)"
   ]
  },
  {
   "cell_type": "markdown",
   "id": "e7cb9c50-fded-4170-a4de-865b6006960d",
   "metadata": {},
   "source": [
    "# Find volume of sphere using function"
   ]
  },
  {
   "cell_type": "code",
   "execution_count": 21,
   "id": "59ae7724-966a-410e-959d-93c6600bd8b4",
   "metadata": {},
   "outputs": [
    {
     "name": "stdin",
     "output_type": "stream",
     "text": [
      "Enter a radius:  5\n"
     ]
    },
    {
     "name": "stdout",
     "output_type": "stream",
     "text": [
      "The volume of sphere is 523.599.\n"
     ]
    }
   ],
   "source": [
    "import math\n",
    "\n",
    "def volume(r):\n",
    "    return 4 / 3 * math.pi * r ** 3\n",
    "    \n",
    "radius = float(input(\"Enter a radius: \"))\n",
    "vol = volume(r = radius)\n",
    "vol = round(vol, 3)\n",
    "print(f\"The volume of sphere is {vol}.\")"
   ]
  },
  {
   "cell_type": "markdown",
   "id": "2f490449-e237-460a-9f29-eec1e6059dd1",
   "metadata": {},
   "source": [
    "# Find area of circle using funciton"
   ]
  },
  {
   "cell_type": "code",
   "execution_count": 30,
   "id": "de26b721-d7d3-4854-962f-d09a2eb268fe",
   "metadata": {},
   "outputs": [
    {
     "name": "stdin",
     "output_type": "stream",
     "text": [
      "Enter radius:  5\n"
     ]
    },
    {
     "name": "stdout",
     "output_type": "stream",
     "text": [
      "The area of circle is 78.54.\n"
     ]
    }
   ],
   "source": [
    "import math\n",
    "\n",
    "def area(r):\n",
    "    return math.pi * r ** 2\n",
    "    \n",
    "radius = float(input(\"Enter radius: \"))\n",
    "total_area = area(radius)\n",
    "total_area = round(total_area, 3)\n",
    "print(f\"The area of circle is {total_area}.\")"
   ]
  },
  {
   "cell_type": "markdown",
   "id": "234709d7-6871-4792-9c0a-83071c913de9",
   "metadata": {},
   "source": [
    "# default vs not default arguments"
   ]
  },
  {
   "cell_type": "code",
   "execution_count": 32,
   "id": "39d51af7-3562-4d29-b8a8-6e471cc739ff",
   "metadata": {},
   "outputs": [
    {
     "name": "stdout",
     "output_type": "stream",
     "text": [
      "Hello Rajendra, Good morning.\n"
     ]
    }
   ],
   "source": [
    "def greet(name, msg):\n",
    "    print(f\"Hello {name}, {msg}.\")\n",
    "greet(name=\"Rajendra\", msg=\"Good morning\")"
   ]
  },
  {
   "cell_type": "code",
   "execution_count": 33,
   "id": "073996a9-046e-4e1b-b0cf-e0c53a075c47",
   "metadata": {},
   "outputs": [
    {
     "name": "stdout",
     "output_type": "stream",
     "text": [
      "Hello Isha, Good morning.\n"
     ]
    }
   ],
   "source": [
    "greet(name=\"Isha\", msg=\"Good morning\")"
   ]
  },
  {
   "cell_type": "code",
   "execution_count": 34,
   "id": "3e7db17c-7182-4d9d-b1d6-24642a73a665",
   "metadata": {},
   "outputs": [
    {
     "name": "stdout",
     "output_type": "stream",
     "text": [
      "Hello Kshitiz, Good morning.\n"
     ]
    }
   ],
   "source": [
    "def greet(name, msg=\"Good morning\"): # msg is a default argument\n",
    "    print(f\"Hello {name}, {msg}.\")\n",
    "greet(name=\"Kshitiz\")"
   ]
  },
  {
   "cell_type": "code",
   "execution_count": 35,
   "id": "5c72aeb5-a2ef-4225-be31-d26e21ecc0d5",
   "metadata": {},
   "outputs": [
    {
     "name": "stdout",
     "output_type": "stream",
     "text": [
      "Hello Donald, Good morning.\n"
     ]
    }
   ],
   "source": [
    "greet(name=\"Donald\")"
   ]
  },
  {
   "cell_type": "code",
   "execution_count": 36,
   "id": "354d3fe1-4ef1-4cdd-8f96-804edc271ec8",
   "metadata": {},
   "outputs": [
    {
     "name": "stdout",
     "output_type": "stream",
     "text": [
      "Hello Bulton, Good afternoon.\n"
     ]
    }
   ],
   "source": [
    "greet(name=\"Bulton\", msg=\"Good afternoon\")"
   ]
  },
  {
   "cell_type": "markdown",
   "id": "a9bbe170-b2a6-40fd-b375-b0ff406a81f2",
   "metadata": {},
   "source": [
    "# default argument chha kunai function ma tyo argument ko value funciton call garda naya dinuvayo vane default value use navayera funcion call ko value use hunxa"
   ]
  },
  {
   "cell_type": "code",
   "execution_count": 38,
   "id": "a04d9c7d-032b-498c-956d-612f7792e06e",
   "metadata": {},
   "outputs": [
    {
     "ename": "SyntaxError",
     "evalue": "parameter without a default follows parameter with a default (3024292843.py, line 1)",
     "output_type": "error",
     "traceback": [
      "\u001b[1;36m  Cell \u001b[1;32mIn[38], line 1\u001b[1;36m\u001b[0m\n\u001b[1;33m    def greet(msg=\"Good Morning\", name): # default argument sadai last ma lekhnu parxa\u001b[0m\n\u001b[1;37m                                  ^\u001b[0m\n\u001b[1;31mSyntaxError\u001b[0m\u001b[1;31m:\u001b[0m parameter without a default follows parameter with a default\n"
     ]
    }
   ],
   "source": [
    "def greet(msg=\"Good Morning\", name): # default argument sadai last ma lekhnu parxa\n",
    "    print(f\"Hello {name}, {msg}.\")"
   ]
  },
  {
   "cell_type": "markdown",
   "id": "e16c53a3-3538-4a40-8ff7-33430cf0fe33",
   "metadata": {},
   "source": [
    "# Global vs local"
   ]
  },
  {
   "cell_type": "code",
   "execution_count": 41,
   "id": "acb0dcde-13fd-4ee7-8d2b-cf9235b1b6b8",
   "metadata": {},
   "outputs": [
    {
     "name": "stdout",
     "output_type": "stream",
     "text": [
      "awesome\n"
     ]
    }
   ],
   "source": [
    "x = \"awesome\"\n",
    "\n",
    "def test():\n",
    "    x = 'fantastic'\n",
    "    print(x)\n",
    "    \n",
    "print(x)"
   ]
  },
  {
   "cell_type": "code",
   "execution_count": 42,
   "id": "6a21347f-b4c4-4e1d-b043-caae061dc947",
   "metadata": {},
   "outputs": [
    {
     "name": "stdout",
     "output_type": "stream",
     "text": [
      "fantastic\n"
     ]
    }
   ],
   "source": [
    "test()"
   ]
  },
  {
   "cell_type": "code",
   "execution_count": 44,
   "id": "ddf8c92c-caa6-49c8-be75-d911f5cbd72f",
   "metadata": {},
   "outputs": [
    {
     "ename": "NameError",
     "evalue": "name 'p' is not defined",
     "output_type": "error",
     "traceback": [
      "\u001b[1;31m---------------------------------------------------------------------------\u001b[0m",
      "\u001b[1;31mNameError\u001b[0m                                 Traceback (most recent call last)",
      "Cell \u001b[1;32mIn[44], line 4\u001b[0m\n\u001b[0;32m      1\u001b[0m \u001b[38;5;28;01mdef\u001b[39;00m \u001b[38;5;21msomething\u001b[39m():\n\u001b[0;32m      2\u001b[0m     p \u001b[38;5;241m=\u001b[39m \u001b[38;5;241m55\u001b[39m \u001b[38;5;66;03m# local variable\u001b[39;00m\n\u001b[1;32m----> 4\u001b[0m \u001b[38;5;28mprint\u001b[39m(\u001b[43mp\u001b[49m)\n",
      "\u001b[1;31mNameError\u001b[0m: name 'p' is not defined"
     ]
    }
   ],
   "source": [
    "def something():\n",
    "    p = 55 # local variable\n",
    "\n",
    "print(p)"
   ]
  },
  {
   "cell_type": "markdown",
   "id": "538d8492-aaba-4577-8a42-db5e75d9bb23",
   "metadata": {},
   "source": [
    "# funciton ko scope bahira variable known hudaina"
   ]
  },
  {
   "cell_type": "code",
   "execution_count": 50,
   "id": "1869fbd5-001a-439f-a4aa-ae34b7c56b20",
   "metadata": {},
   "outputs": [
    {
     "data": {
      "text/plain": [
       "'Bijay'"
      ]
     },
     "execution_count": 50,
     "metadata": {},
     "output_type": "execute_result"
    }
   ],
   "source": [
    "x = \"Bijay\"\n",
    "\n",
    "def viral():\n",
    "    x = \"Hututu\"\n",
    "    print(x)\n",
    "\n",
    "x"
   ]
  },
  {
   "cell_type": "code",
   "execution_count": 51,
   "id": "ac62115e-78ab-4791-9c3a-60cc55d00d12",
   "metadata": {},
   "outputs": [
    {
     "name": "stdout",
     "output_type": "stream",
     "text": [
      "Hututu\n"
     ]
    }
   ],
   "source": [
    "viral()"
   ]
  },
  {
   "cell_type": "code",
   "execution_count": 52,
   "id": "04fab038-ecd2-41bc-b1af-d79e676d72eb",
   "metadata": {},
   "outputs": [],
   "source": [
    "x = \"Bijay\"\n",
    "\n",
    "def viral():\n",
    "    global x\n",
    "    x = \"Hututu\"\n",
    "    print(x)"
   ]
  },
  {
   "cell_type": "code",
   "execution_count": 53,
   "id": "aac4370c-ac7c-4169-b597-380845d841ba",
   "metadata": {},
   "outputs": [
    {
     "data": {
      "text/plain": [
       "'Bijay'"
      ]
     },
     "execution_count": 53,
     "metadata": {},
     "output_type": "execute_result"
    }
   ],
   "source": [
    "x"
   ]
  },
  {
   "cell_type": "code",
   "execution_count": 54,
   "id": "dacc6266-be64-44e3-a992-da135ce5a8aa",
   "metadata": {},
   "outputs": [
    {
     "name": "stdout",
     "output_type": "stream",
     "text": [
      "Hututu\n"
     ]
    }
   ],
   "source": [
    "viral()"
   ]
  },
  {
   "cell_type": "code",
   "execution_count": 55,
   "id": "0b3b718e-5630-496d-a4b8-9d48f330a928",
   "metadata": {},
   "outputs": [
    {
     "data": {
      "text/plain": [
       "'Hututu'"
      ]
     },
     "execution_count": 55,
     "metadata": {},
     "output_type": "execute_result"
    }
   ],
   "source": [
    "x"
   ]
  },
  {
   "cell_type": "code",
   "execution_count": 60,
   "id": "0b3b5ecd-9ffd-4bcb-bdd4-919387f6bf82",
   "metadata": {},
   "outputs": [],
   "source": [
    "def add(a, b):\n",
    "    \"\"\"\n",
    "        Arguments:\n",
    "            a: int - first input variable\n",
    "            b: int - second input variable\n",
    "        Returns:\n",
    "            total of a + b\n",
    "    \"\"\"\n",
    "    print(a + b)"
   ]
  },
  {
   "cell_type": "code",
   "execution_count": 59,
   "id": "0ddaf2fe-612d-46c2-9278-e54c1153bfcd",
   "metadata": {},
   "outputs": [
    {
     "name": "stdout",
     "output_type": "stream",
     "text": [
      "11\n"
     ]
    }
   ],
   "source": [
    "add(5, 6)"
   ]
  },
  {
   "cell_type": "markdown",
   "id": "e7153122-6f46-4a34-8f0d-2edcd00cd405",
   "metadata": {},
   "source": [
    "# python function"
   ]
  },
  {
   "cell_type": "code",
   "execution_count": 6,
   "id": "de38c183-3cad-4ccd-8ad9-26c257341c06",
   "metadata": {},
   "outputs": [
    {
     "name": "stdin",
     "output_type": "stream",
     "text": [
      "Enter first number:  67\n",
      "Enter second number:  34\n"
     ]
    },
    {
     "data": {
      "text/plain": [
       "101"
      ]
     },
     "execution_count": 6,
     "metadata": {},
     "output_type": "execute_result"
    }
   ],
   "source": [
    "a = int(input(\"Enter first number: \"))\n",
    "b = int(input(\"Enter second number: \"))\n",
    "\n",
    "def num_returner(a, b):\n",
    "    return a + b\n",
    "\n",
    "sum = num_returner(a=a, b=b)\n",
    "sum"
   ]
  },
  {
   "cell_type": "code",
   "execution_count": 7,
   "id": "422e5ce3-a5cb-446e-a145-deaded782d4e",
   "metadata": {},
   "outputs": [
    {
     "name": "stdin",
     "output_type": "stream",
     "text": [
      "Enter number 1:  5\n",
      "Enter number 2:  2\n"
     ]
    },
    {
     "data": {
      "text/plain": [
       "25.0"
      ]
     },
     "execution_count": 7,
     "metadata": {},
     "output_type": "execute_result"
    }
   ],
   "source": [
    "num1 = float(input(\"Enter number 1: \"))\n",
    "num2 = float(input(\"Enter number 2: \"))\n",
    "\n",
    "def exponent(a, b):\n",
    "    exp = a ** b\n",
    "    return exp\n",
    "\n",
    "exponentiation = exponent(a=num1, b=num2)\n",
    "exponentiation"
   ]
  },
  {
   "cell_type": "code",
   "execution_count": 31,
   "id": "5affe46a-0484-4353-8454-55463c7c6e3e",
   "metadata": {},
   "outputs": [
    {
     "name": "stdout",
     "output_type": "stream",
     "text": [
      "(2, 'a')\n",
      "(4, 'b')\n",
      "(54, 'c')\n"
     ]
    }
   ],
   "source": [
    "list1 = [2, 4, 54, 64]\n",
    "tuple1 = (\"a\", \"b\", \"c\")\n",
    "for item in zip(list1, tuple1):\n",
    "    print(item)"
   ]
  },
  {
   "cell_type": "code",
   "execution_count": null,
   "id": "5f2615f2-1495-431c-9c38-314d6323e584",
   "metadata": {},
   "outputs": [],
   "source": []
  }
 ],
 "metadata": {
  "kernelspec": {
   "display_name": "Python 3 (ipykernel)",
   "language": "python",
   "name": "python3"
  },
  "language_info": {
   "codemirror_mode": {
    "name": "ipython",
    "version": 3
   },
   "file_extension": ".py",
   "mimetype": "text/x-python",
   "name": "python",
   "nbconvert_exporter": "python",
   "pygments_lexer": "ipython3",
   "version": "3.12.0"
  }
 },
 "nbformat": 4,
 "nbformat_minor": 5
}
