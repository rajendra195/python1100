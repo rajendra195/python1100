{
 "cells": [
  {
   "cell_type": "code",
   "execution_count": 5,
   "id": "ebaa8381-1f04-4902-b251-4ef8346de315",
   "metadata": {},
   "outputs": [
    {
     "name": "stdout",
     "output_type": "stream",
     "text": [
      "4\n",
      "5\n",
      "32\n",
      "sum\n",
      "tori\n",
      "True\n",
      "5.7\n"
     ]
    }
   ],
   "source": [
    "def func_arguments(*args):\n",
    "    args_tuple = args\n",
    "    for i in range(len(args_tuple)):\n",
    "        item = args_tuple[i]\n",
    "        print(item)\n",
    "\n",
    "func_arguments(4, 5, 32, \"sum\", \"tori\", True, 5.7)"
   ]
  },
  {
   "cell_type": "code",
   "execution_count": 10,
   "id": "97bf888d-4180-4792-8e78-9d1a7aa17734",
   "metadata": {},
   "outputs": [
    {
     "name": "stdout",
     "output_type": "stream",
     "text": [
      "{'name': 'Rajendra', 'age': '23', 'address': 'Bhaktapur', 'occupation': 'Student'}\n"
     ]
    }
   ],
   "source": [
    "def func_keyword_arguments(**kwargs):\n",
    "    kwargs.update({\"occupation\":\"Student\"})\n",
    "    print(kwargs)\n",
    "\n",
    "func_keyword_arguments(name=\"Rajendra\", age=\"23\", address=\"Bhaktapur\")"
   ]
  },
  {
   "cell_type": "markdown",
   "id": "faebf1b8-d5ea-4283-8fab-43e2deb59bf6",
   "metadata": {},
   "source": [
    "# factorial of given number "
   ]
  },
  {
   "cell_type": "code",
   "execution_count": 16,
   "id": "1e76d295-8e9f-422b-b1b9-d18a26b6d867",
   "metadata": {},
   "outputs": [
    {
     "name": "stdout",
     "output_type": "stream",
     "text": [
      "5\n",
      "20\n",
      "60\n",
      "120\n",
      "120\n"
     ]
    }
   ],
   "source": [
    "num = 5\n",
    "fact = 1\n",
    "\n",
    "for i in range(num, 0, -1):\n",
    "    fact = fact * i\n",
    "    print(fact)       "
   ]
  },
  {
   "cell_type": "code",
   "execution_count": 4,
   "id": "85c6a93c-a9bb-4840-99d4-dd66ce120bb3",
   "metadata": {},
   "outputs": [
    {
     "data": {
      "text/plain": [
       "720"
      ]
     },
     "execution_count": 4,
     "metadata": {},
     "output_type": "execute_result"
    }
   ],
   "source": [
    "def factorial(num):\n",
    "    fact = 1\n",
    "    for i in range(num, 0, -1):\n",
    "        if i == 0:\n",
    "            break\n",
    "        else:\n",
    "            fact = fact * i\n",
    "    return fact\n",
    "\n",
    "factorial(6)"
   ]
  },
  {
   "cell_type": "markdown",
   "id": "c0db8376-561f-417b-b8b4-5f7b75e9c74d",
   "metadata": {},
   "source": [
    "# Prime number checker"
   ]
  },
  {
   "cell_type": "code",
   "execution_count": 14,
   "id": "85ff754e-2e51-47c3-a66a-eb0c4e045449",
   "metadata": {},
   "outputs": [
    {
     "data": {
      "text/plain": [
       "'prime number'"
      ]
     },
     "execution_count": 14,
     "metadata": {},
     "output_type": "execute_result"
    }
   ],
   "source": [
    "num = 97\n",
    "\n",
    "def prime_number_checker(num):\n",
    "    for i in range(2, num):\n",
    "        if num % i == 0:\n",
    "            return \"Not a prime number\"\n",
    "    return \"prime number\"\n",
    "\n",
    "prime_number_checker(num = num)"
   ]
  },
  {
   "cell_type": "code",
   "execution_count": 19,
   "id": "f53f52bc-cda9-42c6-af4d-102d6f98fafa",
   "metadata": {},
   "outputs": [
    {
     "data": {
      "text/plain": [
       "[34, 2, 4, 54, 23, 56]"
      ]
     },
     "execution_count": 19,
     "metadata": {},
     "output_type": "execute_result"
    }
   ],
   "source": [
    "list1 = [4, 34, 23, 2, 4, 4, 2, 54, 34, 23, 56]\n",
    "def unique_list(l):\n",
    "    set1 = set(l)\n",
    "    unique_list = list(set1)\n",
    "    return unique_list\n",
    "\n",
    "unique_list(l=list1)"
   ]
  },
  {
   "cell_type": "code",
   "execution_count": 21,
   "id": "39a82e9e-ed6f-4795-9e5f-dbe03e4b6dcf",
   "metadata": {},
   "outputs": [
    {
     "name": "stdin",
     "output_type": "stream",
     "text": [
      "Enter a string:  RajendrA NirouLA LalalANd\n"
     ]
    },
    {
     "data": {
      "text/plain": [
       "'Upper case: 8, lower case: 15.'"
      ]
     },
     "execution_count": 21,
     "metadata": {},
     "output_type": "execute_result"
    }
   ],
   "source": [
    "string = input(\"Enter a string: \")\n",
    "\n",
    "def upper_lower_counter(str):\n",
    "    upper_char = 0\n",
    "    lower_char = 0\n",
    "    for char in str:\n",
    "        if char.isupper():\n",
    "            upper_char += 1\n",
    "        elif char.islower():\n",
    "            lower_char += 1\n",
    "    return f\"Upper case: {upper_char}, lower case: {lower_char}.\"\n",
    "\n",
    "upper_lower_counter(str=string)"
   ]
  },
  {
   "cell_type": "code",
   "execution_count": 7,
   "id": "2ea84f04-5e0f-4c18-ab3f-a3ead36a28d7",
   "metadata": {},
   "outputs": [
    {
     "data": {
      "text/plain": [
       "'black-green-red-white-yellow'"
      ]
     },
     "execution_count": 7,
     "metadata": {},
     "output_type": "execute_result"
    }
   ],
   "source": [
    "# hyphen_seperated_word = input(\"Enter string separated by hiphen(-): \")\n",
    "\n",
    "s = \"green-red-yellow-black-white\"\n",
    "t = s.split(\"-\")\n",
    "t.sort()\n",
    "\"-\".join(t)"
   ]
  },
  {
   "cell_type": "code",
   "execution_count": 4,
   "id": "6bceaabd-aae0-4058-bc23-737e0eeaeb6f",
   "metadata": {},
   "outputs": [
    {
     "name": "stdin",
     "output_type": "stream",
     "text": [
      "Enter string separated by hiphen:  s-g-a-c-t-z-g-z\n"
     ]
    },
    {
     "data": {
      "text/plain": [
       "'a-c-g-g-s-t-z-z'"
      ]
     },
     "execution_count": 4,
     "metadata": {},
     "output_type": "execute_result"
    }
   ],
   "source": [
    "string_separated_by_hiphen = input(\"Enter string separated by hiphen: \")\n",
    "\n",
    "def hgsas(str):\n",
    "    l = str.split(\"-\")\n",
    "    l.sort()\n",
    "    m = \"-\".join(l)\n",
    "    return m\n",
    "\n",
    "hgsas(str=string_separated_by_hiphen)"
   ]
  },
  {
   "cell_type": "code",
   "execution_count": 4,
   "id": "ab972dac-0e47-4859-b1d5-f878d0699b1c",
   "metadata": {},
   "outputs": [],
   "source": [
    "# factorial using recursion"
   ]
  },
  {
   "cell_type": "code",
   "execution_count": 7,
   "id": "aeaed848-6f3a-4021-89a5-413e4fb0c7ef",
   "metadata": {},
   "outputs": [],
   "source": [
    "def fact_recursion(n):\n",
    "    if n < 0:\n",
    "        return None\n",
    "    if n == 0 or n == 1:\n",
    "        return 1\n",
    "    else:\n",
    "        return n * fact_recursion(n - 1)"
   ]
  },
  {
   "cell_type": "code",
   "execution_count": 8,
   "id": "ba165ee6-5cd3-47aa-bff9-e0f9b1990bae",
   "metadata": {},
   "outputs": [
    {
     "name": "stdout",
     "output_type": "stream",
     "text": [
      "120\n"
     ]
    }
   ],
   "source": [
    "print(fact_recursion(n=5))"
   ]
  },
  {
   "cell_type": "code",
   "execution_count": 9,
   "id": "1f13bada-832f-4c69-a5c1-994206f774f6",
   "metadata": {},
   "outputs": [
    {
     "data": {
      "text/plain": [
       "5040"
      ]
     },
     "execution_count": 9,
     "metadata": {},
     "output_type": "execute_result"
    }
   ],
   "source": [
    "fact_recursion(7)"
   ]
  },
  {
   "cell_type": "code",
   "execution_count": 6,
   "id": "703983d3-ca5a-45dd-a6e5-8c8cb7f1bc55",
   "metadata": {},
   "outputs": [
    {
     "data": {
      "text/plain": [
       "[0, 1, 1, 2, 3, 5, 8, 13, 21, 34]"
      ]
     },
     "execution_count": 6,
     "metadata": {},
     "output_type": "execute_result"
    }
   ],
   "source": [
    "# fibonacci series using recursion\n",
    "def fibo_recursion(x):\n",
    "    if x <= 1:\n",
    "        return x\n",
    "    else:\n",
    "        return fibo_recursion(x-1) + fibo_recursion(x-2)\n",
    "\n",
    "num_terms = 10\n",
    "fibo_series = [fibo_recursion(i) for i in range(num_terms)]\n",
    "fibo_series"
   ]
  },
  {
   "cell_type": "code",
   "execution_count": 11,
   "id": "5a44c94d-4319-463c-9917-09cadf02be17",
   "metadata": {},
   "outputs": [],
   "source": [
    "# morning"
   ]
  },
  {
   "attachments": {
    "f6833a26-6fab-41e1-a29b-bdf5bd5517cb.png": {
     "image/png": "[encoded data removed]"
    }
   },
   "cell_type": "markdown",
   "id": "f56302a6-0e2d-43f7-b04d-5dae35fb258d",
   "metadata": {},
   "source": [
    "![image.png](attachment:f6833a26-6fab-41e1-a29b-bdf5bd5517cb.png)"
   ]
  },
  {
   "cell_type": "code",
   "execution_count": 12,
   "id": "393184c1-234c-4786-a2ae-22ba8a583b26",
   "metadata": {},
   "outputs": [
    {
     "data": {
      "text/plain": [
       "140"
      ]
     },
     "execution_count": 12,
     "metadata": {},
     "output_type": "execute_result"
    }
   ],
   "source": [
    "def add(*args):\n",
    "    sum = 0\n",
    "    for item in args:\n",
    "        sum += item\n",
    "    return sum\n",
    "\n",
    "add(3, 56, 34, 23, 1, 23)\n"
   ]
  },
  {
   "cell_type": "code",
   "execution_count": 13,
   "id": "9cb3a942-3d7b-448e-a2f7-bfd225544df4",
   "metadata": {},
   "outputs": [
    {
     "data": {
      "text/plain": [
       "20"
      ]
     },
     "execution_count": 13,
     "metadata": {},
     "output_type": "execute_result"
    }
   ],
   "source": [
    "add(3, 5, 2, 1, 9)"
   ]
  },
  {
   "cell_type": "code",
   "execution_count": 14,
   "id": "05c0a00f-d28b-4527-a10a-03161d0e7666",
   "metadata": {},
   "outputs": [
    {
     "data": {
      "text/plain": [
       "-3"
      ]
     },
     "execution_count": 14,
     "metadata": {},
     "output_type": "execute_result"
    }
   ],
   "source": [
    "def sub(a, b):\n",
    "    sub = a - b\n",
    "    return sub\n",
    "sub(a=5, b=8)"
   ]
  },
  {
   "cell_type": "code",
   "execution_count": 15,
   "id": "d9bacbd6-1120-43f7-a230-e41881d504d1",
   "metadata": {},
   "outputs": [
    {
     "data": {
      "text/plain": [
       "40.833333333333336"
      ]
     },
     "execution_count": 15,
     "metadata": {},
     "output_type": "execute_result"
    }
   ],
   "source": [
    "def mean(*args):\n",
    "    total = 0\n",
    "    items = len(args)\n",
    "    for item in args:\n",
    "        total += item\n",
    "    mean = total / items\n",
    "    return mean\n",
    "\n",
    "mean(34, 45, 23, 53, 56, 34)"
   ]
  },
  {
   "cell_type": "code",
   "execution_count": 20,
   "id": "91116aad-6e3c-4290-965a-8af2592519b6",
   "metadata": {},
   "outputs": [
    {
     "data": {
      "text/plain": [
       "25"
      ]
     },
     "execution_count": 20,
     "metadata": {},
     "output_type": "execute_result"
    }
   ],
   "source": [
    "def square(n):\n",
    "    square = n ** 2\n",
    "    return square\n",
    "\n",
    "square(5)"
   ]
  },
  {
   "cell_type": "code",
   "execution_count": 21,
   "id": "f7502cdf-3d60-4d8d-9dab-2287a9bc9383",
   "metadata": {},
   "outputs": [
    {
     "data": {
      "text/plain": [
       "100"
      ]
     },
     "execution_count": 21,
     "metadata": {},
     "output_type": "execute_result"
    }
   ],
   "source": [
    "square(10)"
   ]
  },
  {
   "cell_type": "code",
   "execution_count": 22,
   "id": "0c405e0a-0137-4a17-91c0-4c166ad07c6c",
   "metadata": {},
   "outputs": [
    {
     "data": {
      "text/plain": [
       "121"
      ]
     },
     "execution_count": 22,
     "metadata": {},
     "output_type": "execute_result"
    }
   ],
   "source": [
    "square(11)"
   ]
  },
  {
   "cell_type": "code",
   "execution_count": 28,
   "id": "5eacc91a-8db5-4a45-9a91-101715aecba0",
   "metadata": {},
   "outputs": [],
   "source": [
    "def odd_even(n):\n",
    "    if n % 2 == 0:\n",
    "        print(\"Even\")\n",
    "    else:\n",
    "        print(\"Odd\")"
   ]
  },
  {
   "cell_type": "code",
   "execution_count": 24,
   "id": "abdb4537-bda5-4510-a84e-c2e25f61abb1",
   "metadata": {},
   "outputs": [
    {
     "name": "stdout",
     "output_type": "stream",
     "text": [
      "Even\n"
     ]
    }
   ],
   "source": [
    "odd_even(4)"
   ]
  },
  {
   "cell_type": "code",
   "execution_count": 25,
   "id": "dacd346d-249b-4ffa-bc6b-0255602e86fd",
   "metadata": {},
   "outputs": [
    {
     "name": "stdout",
     "output_type": "stream",
     "text": [
      "ODd\n"
     ]
    }
   ],
   "source": [
    "odd_even(5)"
   ]
  },
  {
   "cell_type": "code",
   "execution_count": 26,
   "id": "852b956d-cd6b-4976-9eae-5e950bc41dc8",
   "metadata": {},
   "outputs": [
    {
     "name": "stdout",
     "output_type": "stream",
     "text": [
      "Even\n"
     ]
    }
   ],
   "source": [
    "odd_even(0)"
   ]
  },
  {
   "cell_type": "code",
   "execution_count": 27,
   "id": "0774444c-03a1-4a78-b5b1-1a7611217c01",
   "metadata": {},
   "outputs": [
    {
     "name": "stdout",
     "output_type": "stream",
     "text": [
      "ODd\n"
     ]
    }
   ],
   "source": [
    "odd_even(2221)"
   ]
  },
  {
   "cell_type": "code",
   "execution_count": 4,
   "id": "907630cc-491c-463b-ac40-1d3e6622e287",
   "metadata": {},
   "outputs": [],
   "source": [
    "import random\n",
    "list = [3, 5, 23, 6, \"Add\"]"
   ]
  },
  {
   "cell_type": "code",
   "execution_count": 8,
   "id": "47f4269b-beda-458c-a6a6-d2a31ca0c3d5",
   "metadata": {},
   "outputs": [],
   "source": [
    "random.shuffle(list)"
   ]
  },
  {
   "cell_type": "code",
   "execution_count": 9,
   "id": "0bfbddde-be23-4f0f-a2cf-b79f637034f5",
   "metadata": {},
   "outputs": [
    {
     "data": {
      "text/plain": [
       "[23, 6, 3, 'Add', 5]"
      ]
     },
     "execution_count": 9,
     "metadata": {},
     "output_type": "execute_result"
    }
   ],
   "source": [
    "list"
   ]
  },
  {
   "cell_type": "code",
   "execution_count": 15,
   "id": "9d8150be-3cc7-400e-9e0c-bba6ed983843",
   "metadata": {},
   "outputs": [
    {
     "data": {
      "text/plain": [
       "['Python', 'is', 'an', 'awesome', 'language']"
      ]
     },
     "execution_count": 15,
     "metadata": {},
     "output_type": "execute_result"
    }
   ],
   "source": [
    "string1 = \"Python-is-an-awesome-language\"\n",
    "string_split = string1.split(\"-\")\n",
    "string_split"
   ]
  },
  {
   "cell_type": "code",
   "execution_count": 16,
   "id": "0a30cfcb-eee9-4e82-9c0a-985d9f25bc49",
   "metadata": {},
   "outputs": [],
   "source": [
    "string_join = \" \".join(string_split)"
   ]
  },
  {
   "cell_type": "code",
   "execution_count": 17,
   "id": "ca6381a0-10d9-456f-9181-75332da20044",
   "metadata": {},
   "outputs": [
    {
     "data": {
      "text/plain": [
       "'Python is an awesome language'"
      ]
     },
     "execution_count": 17,
     "metadata": {},
     "output_type": "execute_result"
    }
   ],
   "source": [
    "string_join"
   ]
  },
  {
   "cell_type": "code",
   "execution_count": 44,
   "id": "49c2b17a-6fe0-4858-9a11-3858e6d6e123",
   "metadata": {},
   "outputs": [
    {
     "data": {
      "text/plain": [
       "{'m': 2, 'i': 6, 's': 6, 'p': 1, 'o': 1, 'u': 1, 'r': 1}"
      ]
     },
     "execution_count": 44,
     "metadata": {},
     "output_type": "execute_result"
    }
   ],
   "source": [
    "string_inp = \"mississipimissouri\"\n",
    "output = {}\n",
    "for char in string_inp:\n",
    "    if char in output:\n",
    "        output.update({char: output[char] + 1})\n",
    "    else:\n",
    "        output.update({char: 1})\n",
    "output"
   ]
  },
  {
   "cell_type": "code",
   "execution_count": 53,
   "id": "cdddee03-8c74-4f4a-b689-ee3d87ce5144",
   "metadata": {},
   "outputs": [],
   "source": [
    "d1 = {\"a\": 100, \"b\": 200, \"c\": 300}\n",
    "d2 = {\"a\": 300, \"b\": 200, \"d\": 400}\n",
    "output = {}\n",
    "for key, value in d2.items():\n",
    "    if key in d1:\n",
    "        d1.update({key: d1[key] + value})\n",
    "    else:\n",
    "        d1.update({key: value})\n",
    "        "
   ]
  },
  {
   "cell_type": "code",
   "execution_count": 54,
   "id": "6b88c2e2-6354-4f8b-8285-5d3f3d50680c",
   "metadata": {},
   "outputs": [
    {
     "data": {
      "text/plain": [
       "{'a': 400, 'b': 400, 'c': 300, 'd': 400}"
      ]
     },
     "execution_count": 54,
     "metadata": {},
     "output_type": "execute_result"
    }
   ],
   "source": [
    "d1"
   ]
  },
  {
   "cell_type": "code",
   "execution_count": 58,
   "id": "8e7003e4-1f45-4435-a521-a232a6eafe90",
   "metadata": {},
   "outputs": [],
   "source": [
    "string1 = \"listen\"\n",
    "string2 = \"silent\"\n",
    "\n",
    "if len(string1) != len(string2):\n",
    "    print(f\"String '{string1}' is not a anagram of String '{string2}'.\")\n",
    "\n",
    "for char in string1:\n",
    "    if char in string2:\n",
    "        "
   ]
  },
  {
   "cell_type": "code",
   "execution_count": 10,
   "id": "0d99c725-45c7-47a6-a93b-0f31e034927a",
   "metadata": {},
   "outputs": [
    {
     "data": {
      "text/plain": [
       "'kcalb'"
      ]
     },
     "execution_count": 10,
     "metadata": {},
     "output_type": "execute_result"
    }
   ],
   "source": [
    "text = \"black\"\n",
    "text[::-1] # reverse string and list"
   ]
  },
  {
   "cell_type": "code",
   "execution_count": 1,
   "id": "731cb3e1-07fd-479f-873b-a6b842969bd2",
   "metadata": {},
   "outputs": [
    {
     "data": {
      "text/plain": [
       "'aluorin ardnejar'"
      ]
     },
     "execution_count": 1,
     "metadata": {},
     "output_type": "execute_result"
    }
   ],
   "source": [
    "text = \"rajendra niroula\"\n",
    "text[::-1]"
   ]
  },
  {
   "cell_type": "code",
   "execution_count": null,
   "id": "88e13e8b-64df-44bd-bdf5-97971692a0e3",
   "metadata": {},
   "outputs": [],
   "source": []
  },
  {
   "cell_type": "code",
   "execution_count": null,
   "id": "2f3f6d79-5011-48f5-bd64-1a76b791d9a4",
   "metadata": {},
   "outputs": [],
   "source": []
  }
 ],
 "metadata": {
  "kernelspec": {
   "display_name": "Python 3 (ipykernel)",
   "language": "python",
   "name": "python3"
  },
  "language_info": {
   "codemirror_mode": {
    "name": "ipython",
    "version": 3
   },
   "file_extension": ".py",
   "mimetype": "text/x-python",
   "name": "python",
   "nbconvert_exporter": "python",
   "pygments_lexer": "ipython3",
   "version": "3.12.0"
  }
 },
 "nbformat": 4,
 "nbformat_minor": 5
}
