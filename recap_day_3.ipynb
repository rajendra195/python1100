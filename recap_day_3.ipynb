{
 "cells": [
  {
   "cell_type": "code",
   "execution_count": 6,
   "id": "d0ee69fa-0c3a-4b2d-bed6-73faa770269f",
   "metadata": {},
   "outputs": [],
   "source": [
    "first_name = \"Rajendra Niroula\""
   ]
  },
  {
   "cell_type": "code",
   "execution_count": 7,
   "id": "e7523b3f-5115-42f5-84c5-44d3382194f0",
   "metadata": {},
   "outputs": [
    {
     "data": {
      "text/plain": [
       "16"
      ]
     },
     "execution_count": 7,
     "metadata": {},
     "output_type": "execute_result"
    }
   ],
   "source": [
    "len(first_name)"
   ]
  },
  {
   "cell_type": "code",
   "execution_count": 9,
   "id": "8ea40538-57be-42e5-b770-cc8dfe9d1de6",
   "metadata": {},
   "outputs": [
    {
     "name": "stdout",
     "output_type": "stream",
     "text": [
      "R\n",
      "a\n",
      "j\n",
      "e\n",
      "n\n",
      "d\n",
      "r\n",
      "a\n",
      " \n",
      "N\n",
      "i\n",
      "r\n",
      "o\n",
      "u\n",
      "l\n",
      "a\n"
     ]
    }
   ],
   "source": [
    "for letter in first_name:\n",
    "    print(letter)"
   ]
  },
  {
   "cell_type": "code",
   "execution_count": 28,
   "id": "30534d9c-4849-4a80-abd5-d88d1917a747",
   "metadata": {},
   "outputs": [],
   "source": [
    "first_name = \"Rajendra\""
   ]
  },
  {
   "cell_type": "code",
   "execution_count": 29,
   "id": "4a15af1e-876e-4019-9599-f72dbe795707",
   "metadata": {},
   "outputs": [
    {
     "name": "stdout",
     "output_type": "stream",
     "text": [
      "['R', 'j', 'e', 'n', 'd', 'r']\n",
      "There are total 2 letter a in your name.\n",
      "Rjendr\n"
     ]
    }
   ],
   "source": [
    "name = []\n",
    "num = 0\n",
    "for letter in first_name:\n",
    "    if letter == \"a\":\n",
    "        num += 1\n",
    "    elif letter != \"a\":\n",
    "        name.append(letter)\n",
    "print(name)\n",
    "print(f\"There are total {num} letter a in your name.\")\n",
    "print(\"\".join(name))\n",
    "        "
   ]
  },
  {
   "cell_type": "code",
   "execution_count": 31,
   "id": "c0c4f48d-593c-414f-9ee3-5fcf49cb6a55",
   "metadata": {},
   "outputs": [
    {
     "name": "stdout",
     "output_type": "stream",
     "text": [
      "340\n"
     ]
    }
   ],
   "source": [
    "def calc(para):\n",
    "    value = 34\n",
    "    return para * value\n",
    "print(calc(10))\n"
   ]
  },
  {
   "cell_type": "code",
   "execution_count": 51,
   "id": "319d244a-494b-4986-825a-9df56bffea13",
   "metadata": {},
   "outputs": [
    {
     "name": "stdin",
     "output_type": "stream",
     "text": [
      "Enter number 1:  45\n",
      "Enter number 2:  34\n",
      "What operation do you want to perform(-, +, *, /)?:  +\n"
     ]
    },
    {
     "name": "stdout",
     "output_type": "stream",
     "text": [
      "The (+) operation is 79.0.\n"
     ]
    }
   ],
   "source": [
    "num1 = float(input(\"Enter number 1: \"))\n",
    "num2 = float(input(\"Enter number 2: \"))\n",
    "opr = input(\"What operation do you want to perform(-, +, *, /)?: \")\n",
    "\n",
    "def calculator(num1, num2, operator):\n",
    "    operation = round((eval(f\"{num1} {operator} {num2}\")), 2)\n",
    "    print(f\"The ({operator}) operation is {operation}.\")\n",
    "    \n",
    "calculator(num1, num2, opr)\n"
   ]
  },
  {
   "cell_type": "code",
   "execution_count": 52,
   "id": "f33ec760-9853-4dda-9df4-26f7bb67b633",
   "metadata": {},
   "outputs": [
    {
     "data": {
      "text/plain": [
       "10.0"
      ]
     },
     "execution_count": 52,
     "metadata": {},
     "output_type": "execute_result"
    }
   ],
   "source": [
    "4 / 2 * 5"
   ]
  },
  {
   "cell_type": "code",
   "execution_count": 55,
   "id": "e24510ba-e03c-459c-99d2-338944d90d8f",
   "metadata": {},
   "outputs": [
    {
     "data": {
      "text/plain": [
       "7.0"
      ]
     },
     "execution_count": 55,
     "metadata": {},
     "output_type": "execute_result"
    }
   ],
   "source": [
    "5 * 6 / 2 // 2"
   ]
  },
  {
   "cell_type": "code",
   "execution_count": 57,
   "id": "2ee09d01-e8ce-4aa7-b7e6-a18bf2fd4a7c",
   "metadata": {},
   "outputs": [
    {
     "data": {
      "text/plain": [
       "10.0"
      ]
     },
     "execution_count": 57,
     "metadata": {},
     "output_type": "execute_result"
    }
   ],
   "source": [
    "5 * 4 / 2"
   ]
  },
  {
   "cell_type": "markdown",
   "id": "0441e076-85a5-4849-9ecb-18e043a75166",
   "metadata": {},
   "source": [
    "# [<img src = \"https://upload.wikimedia.org/wikipedia/commons/thumb/e/e1/Logo_of_YouTube_%282015-2017%29.svg/2560px-Logo_of_YouTube_%282015-2017%29.svg.png\" height=\"200\" width=\"200\">](https://www.youtube.com)"
   ]
  },
  {
   "cell_type": "markdown",
   "id": "8c2829ec-ec0c-4a38-bfe6-287681e82ac6",
   "metadata": {},
   "source": [
    "[<img src = \"data:image/png;base64,iVBORw0KGgoAAAANSUhEUgAAAYIAAACCCAMAAAB8Uz8PAAAA+VBMVEX///8AVMAAR7AAw/8Awf8ARa8AP64APK0AT78ARK//PwAAv/8AQq8AOax3k82+0e0AR7xPb71Tgc8ATbTU3vAAS74ATr6D3v9Z0v/m+v9Oz///OAAARbxHcskANauUq9kvy//f5fL1+f2xweIAMqrD7v//fV/q7/gANrkAQLvY9v+4yOaIotUxXrirt9zx/P+V4v9sisp/mdD/4t3/08f/8O0SWMEbV7daiNJZdsBig8d0mNf/HABOfs4+aLzI1OueuOOp5P9t2P8AM7gkasgTYcX/g23/gWv/yMD/vq7/elv/pZD/akP/3NP/7OU8dMuTs+JpktUAKbalG0/VAAAVgklEQVR4nO1dDVviuNpuhfKxwlChoDIItMhWKYK6Z5CBQaoLe+bsu++i5///mJM8T9KmbYrg+ME6va9rd2yaJu1z5/lK0qIoCRIkSJAgQYKfA3//9tvfX36j+PLet/Kz4t/fvv3x/dvnz5+//eu9b+VnxR+fP//xr8+//PLL54SCd8Kv3779O6HgXfHlyxfle0LBeyPxBe+OL//5z/fv35OI6K3x568cf/6f8uWvv/76//e+o58On338qvxN/p8YorcGdcEISsG3xBe8PQIUfCH2KDFEb40ABQneAwkF746EgndHQsErYjorE0wHhrWuVkLBK2JWzRHU9NqoPI+vlVDwiijnVIacvjLjaiUUvCJ8CggJDVdWxRGz429/vvENfjDY0SKRAlVt9CVXWTPJdQmeA2vlRAuDFKhSPTAaa9xEgs1hL85L0dIQBaoq8wePZ51Xv72fAOaypm9AQfVRcq1dPU84+GGYy5y6CQVqTqYG45rcUyfYHJSBzSioyjxySVf1RA9+CNaipm5IQe5E1oBOuJE48wQbY1ZVN6VAbokWtJrx6vf5cTHV1c0pkEagU6JFuWWSHzwXbkPdgoLqg6wJqkbV8avf6geFzRjYkILaVNJGB/RId1/7XhVr7YztPxWr3HYUXEnaKOnxfoLDufoUQH/g1zYDZ677A4lNM1u3+WaxWdQOWrJuTGz+KhgViM22Bh3xQhfr+z2VSAtXvgywQb+9DrZyxdu4xuNAdzbeRGuNGCTgZmhjd1yWNMIoqM3WdNQ6zQSQLZ7ecr9iFMOnDkLOfX57mi3saXt7mlbIRs4SfGripTeB0nxWaJU0e+PTN4D7OfWD6StyE0V/gOH9nnIKrAtsqnnNCjpwvhkI0ifwHKfbBSZWVd2SApmYHZ356jXZQSu7F0bhlD2AUdDiTuFdfj0tBM9ehSySfcNayAaevxJqN5895ePePqUFGW8YW7SuduO1O6E9all+OG9iC1rFq5ChhxlBs+bQZHFLJZi+CAUdRoG6jLfVEgr2tKYL56IU7O01fR03K5nw2exF0FZ1iuxEJmAawhTQCnk2Ti6ojAu3/I4NkJ83gi3gtPCVt3TFbyHr6UUlT2scCL1BwW2sCKQwdXVbCmSGqMWJ1GXxEqsDFBSyDCj0fAUkwCgoIPIotyZXKSOPKqARC1VkF+5lbgIe4SvXEm1PHAVIQQFMSIFdqTUH/g1pWU4l3l+WD2ETRn3RZYf2HifTZ8UB2osDftyHBjNb5kfj2rYU1GQTdWOv2ihWDeARC7d9hq8ZeKYijCmkIP8VcZEBeRYu8EKrAoda9mbSmjutSSULV2YuhK5MKIPyrGgMgYLC5IpiclDAKzUk10Ah8+pIoidgFxhpcoJcEDcd5VrB4x5MUb7C6phN2npWNoOzBqbAwKZ5gawLoRE3ri+gIHPtHTvAQQb8H1CgFdgZyzgArc+it0YTUMi3uBHvoySLwp3AAMxf7IUNAVDgDXSzhRZNK0AJUMYNl4VDQsszYqHX/AVv6BatVkFUFMUCfc0yF34QNGwb4rq6NQWy+TjTi6rU3CKurzAF+JA46oIUUEOc9wbUHASerwj6XYJHFzwh1m8aN9CMUBMp8E2WfQCDOzPxb4DJjLvb5lxo0btd0BjtZk558nlRnFNQT7gEvJGW2XL5yhqp21MgCcpbApMNSStYKUzBIOsJI0wBqwznYHBpxcCjOSCvzFXgmBiua3pZVugjTIFioYKB10WhFVFHqB5pmmdI0BU0ea+fMnjzF3lfOynAFBWoSbSwK6HvjdDRt6Ygt5AomshkLW6aIkIBGA+M4CIUOFmuIWZBNBccMIC1PLcwE2YgDCrUvB9YRilQ7IrXni06A2JjtAuiRcyODYqia0f5Ng1xaOAJMF/UJKJK3Wybvc9yW1NQldAcZLIRcxdhCjAOR98WoQA0pEAf1RWHqgcWr7D40C5qrA6Yj6KfIUcpYHEL9AWmHdm1TimHlMom3D9KlMsa9IWSA6xpFf9u0BRlTCOrRXR1A5ghE7MRBRI7tAwyGZOeYUQ0KTmIAcQ5RRzdEQrQF1C+UNUjsTZKry82/TXwF0JCgQkD95SWARsYeNEAs2jQy5FA5NJl1xx4bhj69eNQfn9f0VGHdPVpBEfvRhTIzEy/GqiSi7FELC8oMsCoaTJhhSiwb8Fgw5gKBSFep+IoRXlR6iHlFcJGCQXWLdSmD4vZGASexNiTzJh6XVBUbIfrnolelx55+uDdK4QGhTyEDPInXwMxKdhUC6JKUKqGqujy3qLZsXbjJV9g8LUrjN8vmhCi5+l0j3XhiTcAN+uLAuYFmHVAxrxwVUIBJgAwkDEDhsZJRaI8dJoDumWSZja17+uWhWwIQVenyZ+nufVmHmsRlO8GFEiMjKGG0ZCnh1EKCp+4bFh2jNNpMKLoGKSdMQoiq6KO4HjBbrPwCGSX97I2GQVgOrID/8prHPVU1Sg9p7YfASH2PKaY5w9EBxM2dZGVzSGvhxFUgg0o0KMTUHM1mry50u6QAi3PACI/ZQ8pmSPS0E3EaYEgaguyUh7Pw4HnFmO1AClgreAfdGiDMxgw08ZHtSP64BJmCEJ4gDEWoUku5nVwgq7gSQpyEtk+hGiEenJngFMylQuGCoYQyEGEAi3DXe2B3Beg34UpMjcw8HGU8lBGRgF6VCDVBtdMYiByFUySGlm4GF0BlzNw5iUhYCQDY6IDg6sYlxCtwTRkxNdTkGucREzdfKaH5U+xlHbHg1ILYQ/yfhjHfAHM0aGXuOLWDCOOg3BrX317cOFn0vSecMqUSU8WERVYjE8BBBMzl9HQ1lNnoGWZK2A84qy2Z/6v/aSeAdRAy0ifej3GIRMSS0GuVtWrs7A5tp1yNWKEsCFpd/LsGIWLEdHe1WQygSnkvB9yYF6QCS8PYErkKjysybQ6DBhMuVhPQgFqYxEPwNFm+jTNQE2j1DZNEDMPPZn6Dlj7EItpYptIQUHZGtbJhhQsZld9J5QaWaX+4qwhZ0A6hyGhQAE1gPGKFEBMh4PUi8iZgoTnHzG/Ajl8Qm+Y4cEuenrGYWx2zEY4ptO3ZDSw2R0aaWUHVLG80JaZ+izrALsTb+jZFNjLsOTkFEi3TBBYpjvTwwEpNiQNzqIUoHyoggsU4DyPMOxxjig4Cw+5KLMG2eiqDOXQELoQKWBzROxZ0dvnSaqgsZULol55Ni2KVeZNWfviLMizKTAjkovRgtFycTKbOrJQ0+yrEm+gSzfWRShgxoTyJVLAhqk/BQfGvSDGICZM3GPE4i2XBcHCxuhMaUZUEj4TnvesO6QKGK6xW+UxZwhN/yGfT0EkpYp3x7lcVc8tHyT7GqyHXEQT5FMUEQpw7bUQ1gKlBUJtepQzqVX8vQy4iobG5BbXcwTsYQGM0vB6QR7l6S+wewxmXXZXfPmNBbZWljcY7KHgz9W9CQXIQ7U6llh5a9oINSRPDNj0zYChj6snqNABCnCq3h+oNgohX7xolUyz1Loo4jF4Eb5cVvGBgxidKa6aXV0TfDqoZJk4T/0Y12QLkt5E/4BxwkNSCBpIk0IHwIEwc/h8CsImZIPsuCZ91WkeioykC2vhtWNcpGIT7AEK2Mj058JKKHNybbHZLGYxec7jrD3zywErCRUw1KqIWTdXkKbokA7YujTvnKcogfmnfGBrDHoHP1d5Oy3ASivJXLQ9CmRo0g130h0UxLzY3nP720PAuDD/SFEqFiIXajhqQcbCOhYFxkgwFxrdQaEVuMlB9FkI5QX6bDcMGwFzXGULTIFaIVremAK1upB5hIXIgWxNQUqBlmHLkSEKcK1SWIEyb4p58cJ88RZNohPc9sAuxzU1enmIAi2fyd4G4woDbyvr6Ry6Xy2PHXzCzULBayBo2zvlgd/zKYgM8I0oUGsyPbDENYMYQ1QsBJEpZr/aXA60wJ9kmcCxaF5alSJaEk0jF964rPgAKmaCLsq6yUAH5M+9TKDDzM0kHDCzykXfQTehLroiKw8HQS1TDKiS5Q7ZrsCh7KHXwwzLdkMKVF22jUUkVO6OB7cHAXz9NPAe28QiJXh8K6q/1ZncVkj+Vbi5nTh8ENh43UQJogVd0e2SYoeTT9LvOFzL+0bFmmNLoQeyJljHCtyF7KHXY9PULArpCr2w/vNqLz3ZhmGYH+gtho0nKCKQb1Qp19Y1lECG2XMpUBuy9Nfw3LuevPK0IaZbL9l4aiDdxP7I29M/5HsYrwF3yyUbUQ1kBtng7Y1e/dY/CoznUyB3uMyyxW7mShCGPQrJdXMK5JH/A3oDfSA7mUCGVVC+W1CQW8naY7NOMTsoEkgQ2oO1BQXy5WGWaVRf+74/EIznUyAXM9R+cVdg9Xq9YaR0aFnRwsilG9V6TwT3cm1Dwbm0PQhL5WtmBJfter1NBHJ/RHDsFdPDQyLS+pGIehfPHl/WU/sE7fuu0FT3vk1KU+37O9LeIbmyfumf5JcPL4/aaXLl0WVvO7G8JQJveLwABWDZYu3QYTqV2ieib5N/03VeOiSH9OiYlArYv4OThylenE5zVpTh0T4rTe+nLsmVpIWUJ+bLfWy+K1x6f6zsKIL76X6cAvodBPliAYVHAYjlkBfTwygFaUrBcTsdKUPSBK6OlLt9bAKA7fSUS7GSwNCuIRATbUNBQ9ocnaqLj4cCFKTSfEwHKEhzUC1gDKRT7XYa/wJzc0T/TrfbKSxMDZW6zw+cJfW6aXYl6sL+3Y8J6vXQ2f5dM0DMG2WOHjN3AQhSkEox4yBScNT1QM7WUdZ3x8PhMVokylsPZNodDoe9S2rEerwI2usyjQAmDkml4zvyp69zu4fl8yiIsTZEC2JfNYtS0MZigYKgpMC+pLmfPQZCyDV3aX/IkzrwF7U66Xv6VwrN0HFKsE29dnsTWbwT3K1f/UY7JI96HqrynA0RpoAJPJaCdsBlEBdADUoXxe2FRz2hLim8Z60ABUe80vHOemOK0XoKwhPaHPLGprXzNZ9HC1NA5anEU9CjStAWonpqY8hQvwNt6Abb7qGKsH8YBelL5Z+ATmMtBeGVNVYzZo9jWV/3KRaRgqN7MO1UwHEU3IULQA2YmIlnuL/rhRpPX4IyQHEdnXv9MsTVLsJPzyQUWOFdWoBczGy0tZRv6GUQKaiDPGHAiu44ve+hexgwOBRgZYYYEVH57qcOfRZA+r7p6nqZQ/po11kw132PyJVu241zucbZ2u8vBChQetwdyPOC/R4IvBdpoCfmBen9Oq/BZZ5ix0JesJ/a2ZAU8aDHUyC1Q3qcoPuxHz8ABClAGZFhvjUF5I+UT4JX5TDt+xeKLksmoHSHg1KKWS2Ogr5MCaR7WCis5fo3DkMUMIPSk1OQ6skN0T4EN8O7esqjgXlsMG0YmTJ07wkLWGt3UzOAHacFJZkn0GMnIDpPfI0qTMEQhFMX3fH9sYeoO8ZQiq9LD3uEhrQY91xyJfFBKt0jVe2n5fCeKMm/UzqXBKS5WCukWE99ASNMgW++1wSlQgFUPxJbPD5KpfwMTEIBxfAS1GCnUwP+icAQBU4uSkF1FB/3h9+FiiBCAUxqxlKAMY4Q2te5QfGNyjDsgH0Kun5GAR3velgE3+sNUiDxA7nGOF7M9pO73KIU4CxQHAUwQeEHM5BJtIkdOtz3DP5QtDEBCnqptsfGoVw9dgyPepACZxFlQF+u+zL403uHJBQM12kBLCwQ/0CFN7xr82k6Yo/S7UuwK8dHacEDByio8ysJlSnRh+wuxrpAwXylR75D1FDdH+xCQgFObMZRcIxhZ8qfcj7krKVT7fo9umNP6iIFhzhXnarfH6HPvld2H9MGz7jcReR94lxj8ePfxpdRwKJ5OQWEg0CkitH9PXcgLEn2HLRIQZfnBKHIdbfROqMUOI/VsAbkdH38Ej8YJKUArU0MBcISJV04YB71TiRm328pYIiOhSt3edEsiE6/tdL10EbTml6bOS9jR4W1Y3/pGKxN2ssLIhf17nElLVUXQprLNl9cawspVygo7d7zNbjU/T9CByiMkR4a/rXRuPNUpPN0KMQwhIyL/EshFLPDULGPXrfbDY/iXvfy8PIuWGxFGujekUp3ux6OBjHlRoj+rOVy5T69L87uJHvnXhalhV6rEunPpp31P+6KsB/6H+ill12BO30oGRvJ1XbKs0QF3g222RnnXiBQTbA1LNs0nNbjybJxJvtJzAQvB6N/sjiRYDFSq7reOF/21y1RJngR2J1x9Vyv1nIhVPXG8nq++zMuHwTz1nh53mjoVQAd/dXVdININcHLwix13Far5bqus0mcmiBBggQJEsTjpX4c0dqwIaOfuK4QHmU/x+XBWrnsL3Ox7jMipfGoqq+tAa2R/5z/JvNXIYzXbHynb8zybUjGKP5jOtb4vOzO59MnAuM+3W7mnCUUhLCegs0wrW60fjejL94mFERAKSg9Kv2TMR3DVv/khIz2x7n5eHJNZTV2yH+GszLt8Vyxy3ZndoJfV79elY0O+8L7uctbs6al+Yrw0Smf0AnzPt1i5lDJm+P5eLkcTykFrVX5JZZcPwwoBQN9NnUX9Ed5Zwun4yqKOl60WqMRKTgnhig3zY1t48xRzPPyzH08c6mBWrqt0QpfXOhXvYFtLR5VwuVs5DqzmqH0VXJmdUZ/giBn9xeL/oPiNEgqf1JNknkflIIOHcZ2ta+Y7A3xJaXDVontbrTokUGHuqPYDSrz8oKoCZWteY6v9I/hJ73orxEReVOb1AJjc3KiGET6tjojurAibc3o1+ocSqpVjd0D+xMCKaAiWxGBLnAf9hJkOx1ZQMGIHgEF59QItUa2NYJNrEuMph6BguWCfvJoRYsWcLmrm9byQemsOqpi0Y0ggi+YrXvx52eDT8GMSM8u/74gCrCEQeqeMwqoyfcpeFBtO+fSCgukoM8++NUf4WhXkKDS+ZyGvLMH+8x2aBWBgvILBAEfBkEKaPxfJRTA2wp9NY6CoBYY1DsoSMEJvRKVqNMwlHnOqNnKcnBNS0QKTt7yGXccYQqU0u9EZvRHqq0l8wVRCpQx/fle45yldY8N/FI114IptHeyoP6kT9p3Z7CaCh0kFERAnWuH22fzem6cLImFUWclZ5ZjEZFKzRJQcAYU5GzFHi0frpfMEClW+Wza6TwsRswN2MtRxxjDVswx9fTmeZWaqmnNLSnO7wkFIdCUtbSiYpleK2Z5qZZt6gvc5egReCFCH7vkD5OE+/aKSrVDa9j9WZ9EoLyV0uNquZiSoT4FC2VPRyru43Cg6TH4FmtMYqw5FFwnEVE8wLMu495cC+J8zUtUyWTcj+FJCizDIpnweTLX8GpQn/qMmrlcLnJqsmHm9fD0V8Ats5Rs2EiQIEGCBB8A/wNq13niFChtCAAAAABJRU5ErkJggg==\" height = \"200\" width = \"200\"](https://broadwayinfosys.com/data-science-with-python-training-in-nepal)"
   ]
  },
  {
   "cell_type": "code",
   "execution_count": null,
   "id": "19f6a34f-cf8a-46bc-bece-046d7ff7df1a",
   "metadata": {},
   "outputs": [],
   "source": []
  }
 ],
 "metadata": {
  "kernelspec": {
   "display_name": "Python 3 (ipykernel)",
   "language": "python",
   "name": "python3"
  },
  "language_info": {
   "codemirror_mode": {
    "name": "ipython",
    "version": 3
   },
   "file_extension": ".py",
   "mimetype": "text/x-python",
   "name": "python",
   "nbconvert_exporter": "python",
   "pygments_lexer": "ipython3",
   "version": "3.12.0"
  }
 },
 "nbformat": 4,
 "nbformat_minor": 5
}
