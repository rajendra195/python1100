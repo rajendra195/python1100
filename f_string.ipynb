{
 "cells": [
  {
   "cell_type": "code",
   "execution_count": 5,
   "id": "4572f6fa-78b8-4694-964f-ad3274517599",
   "metadata": {},
   "outputs": [
    {
     "name": "stdout",
     "output_type": "stream",
     "text": [
      "2562\n"
     ]
    }
   ],
   "source": [
    "time_in_sec = 42 * 60 + 42\n",
    "print(time_in_sec)"
   ]
  },
  {
   "cell_type": "code",
   "execution_count": 6,
   "id": "10ebe31a-48fc-42b9-bd07-bb4667c5b704",
   "metadata": {},
   "outputs": [
    {
     "name": "stdout",
     "output_type": "stream",
     "text": [
      "ati\n"
     ]
    }
   ],
   "source": [
    "school_name = \"Pratibha school\"\n",
    "print(school_name[2:5])"
   ]
  },
  {
   "cell_type": "code",
   "execution_count": 7,
   "id": "758b4e0d-7192-4337-ba3a-5825006e95dc",
   "metadata": {},
   "outputs": [
    {
     "name": "stdout",
     "output_type": "stream",
     "text": [
      "P\n"
     ]
    }
   ],
   "source": [
    "print(school_name[0])"
   ]
  },
  {
   "cell_type": "code",
   "execution_count": 8,
   "id": "f1ad3273-5ef1-41fd-aa0a-6658f8e94e0e",
   "metadata": {},
   "outputs": [
    {
     "name": "stdout",
     "output_type": "stream",
     "text": [
      "l\n"
     ]
    }
   ],
   "source": [
    "print(school_name[-1])"
   ]
  },
  {
   "cell_type": "code",
   "execution_count": 9,
   "id": "00eb6676-d554-4e85-8ff6-3a916b0d7a14",
   "metadata": {},
   "outputs": [
    {
     "name": "stdout",
     "output_type": "stream",
     "text": [
      "15\n"
     ]
    }
   ],
   "source": [
    "print(len(school_name))"
   ]
  },
  {
   "cell_type": "code",
   "execution_count": 10,
   "id": "e116b2d5-2eea-4619-9e75-c94f25ccfe63",
   "metadata": {},
   "outputs": [
    {
     "name": "stdout",
     "output_type": "stream",
     "text": [
      "P\n",
      "r\n",
      "a\n",
      "t\n",
      "i\n",
      "b\n",
      "h\n",
      "a\n",
      " \n",
      "s\n",
      "c\n",
      "h\n",
      "o\n",
      "o\n",
      "l\n"
     ]
    }
   ],
   "source": [
    "for char in school_name:\n",
    "    print(char)"
   ]
  },
  {
   "cell_type": "code",
   "execution_count": 11,
   "id": "36b3c356-5052-46cd-893b-8697638b956f",
   "metadata": {},
   "outputs": [
    {
     "name": "stdout",
     "output_type": "stream",
     "text": [
      "Pr\n"
     ]
    }
   ],
   "source": [
    "print(school_name[:2])"
   ]
  },
  {
   "cell_type": "code",
   "execution_count": 12,
   "id": "86cd15d1-ed85-4aa2-89d3-853bf00c80f4",
   "metadata": {},
   "outputs": [
    {
     "name": "stdout",
     "output_type": "stream",
     "text": [
      "Paih col\n"
     ]
    }
   ],
   "source": [
    "print(school_name[::2])"
   ]
  },
  {
   "cell_type": "code",
   "execution_count": 13,
   "id": "1fa10b48-898c-4e87-946c-26b3282d91a4",
   "metadata": {},
   "outputs": [
    {
     "name": "stdout",
     "output_type": "stream",
     "text": [
      "ratibha schoo\n"
     ]
    }
   ],
   "source": [
    "print(school_name[1:-1])"
   ]
  },
  {
   "cell_type": "code",
   "execution_count": 14,
   "id": "07485a2a-af0c-4a74-a5a5-48cb89128244",
   "metadata": {},
   "outputs": [
    {
     "name": "stdout",
     "output_type": "stream",
     "text": [
      "PRATIBHA SCHOOL\n"
     ]
    }
   ],
   "source": [
    "print(school_name.upper())"
   ]
  },
  {
   "cell_type": "code",
   "execution_count": 15,
   "id": "c23df994-4b8e-4d48-a38d-e9cb5e5281bf",
   "metadata": {},
   "outputs": [
    {
     "name": "stdout",
     "output_type": "stream",
     "text": [
      "Pratibha school\n"
     ]
    }
   ],
   "source": [
    "print(school_name)"
   ]
  },
  {
   "cell_type": "code",
   "execution_count": 16,
   "id": "25139451-2d9f-48bb-91e8-b95c2a838189",
   "metadata": {},
   "outputs": [
    {
     "name": "stdout",
     "output_type": "stream",
     "text": [
      "pratibha school\n"
     ]
    }
   ],
   "source": [
    "print(school_name.lower())"
   ]
  },
  {
   "cell_type": "code",
   "execution_count": 17,
   "id": "816ad973-76af-485f-aec2-6d7071322735",
   "metadata": {},
   "outputs": [
    {
     "name": "stdout",
     "output_type": "stream",
     "text": [
      "Pratibha boarding\n"
     ]
    }
   ],
   "source": [
    "school_name = school_name.replace(\"school\", \"boarding\")\n",
    "print(school_name)"
   ]
  },
  {
   "cell_type": "code",
   "execution_count": 18,
   "id": "fda6086a-9468-46c3-bed3-7fab9e96f256",
   "metadata": {},
   "outputs": [],
   "source": [
    "school_name = school_name.title()"
   ]
  },
  {
   "cell_type": "code",
   "execution_count": 19,
   "id": "93f01a67-ffa4-4646-9263-d7a31468b017",
   "metadata": {},
   "outputs": [
    {
     "name": "stdout",
     "output_type": "stream",
     "text": [
      "Pratibha Boarding\n"
     ]
    }
   ],
   "source": [
    "print(school_name)"
   ]
  },
  {
   "cell_type": "code",
   "execution_count": 20,
   "id": "c682f554-05d1-4ae0-9381-9e1d54e2a8b0",
   "metadata": {},
   "outputs": [
    {
     "name": "stdout",
     "output_type": "stream",
     "text": [
      "Upper char is P.\n",
      "Lower char is r.\n",
      "Lower char is a.\n",
      "Lower char is t.\n",
      "Lower char is i.\n",
      "Lower char is b.\n",
      "Lower char is h.\n",
      "Lower char is a.\n",
      "Upper char is B.\n",
      "Lower char is o.\n",
      "Lower char is a.\n",
      "Lower char is r.\n",
      "Lower char is d.\n",
      "Lower char is i.\n",
      "Lower char is n.\n",
      "Lower char is g.\n"
     ]
    }
   ],
   "source": [
    "for char in school_name:\n",
    "    if char.isupper():\n",
    "        print(f\"Upper char is {char}.\")\n",
    "    elif char.islower():\n",
    "        print(f\"Lower char is {char}.\")"
   ]
  },
  {
   "cell_type": "markdown",
   "id": "f119d769-3d48-42c3-a80b-72fb005176c0",
   "metadata": {},
   "source": [
    "# List"
   ]
  },
  {
   "cell_type": "code",
   "execution_count": 21,
   "id": "a3555915-dabb-4cd8-9525-8816b5f533d5",
   "metadata": {},
   "outputs": [],
   "source": [
    "name = [\"Manamohan\", \"Saktimohan\", \"Bhanubhakta\", \"Subash\"]"
   ]
  },
  {
   "cell_type": "code",
   "execution_count": 22,
   "id": "6edd0ba5-71d3-4ceb-8acf-89d264d2eed5",
   "metadata": {},
   "outputs": [
    {
     "data": {
      "text/plain": [
       "'Manamohan'"
      ]
     },
     "execution_count": 22,
     "metadata": {},
     "output_type": "execute_result"
    }
   ],
   "source": [
    "name[0]"
   ]
  },
  {
   "cell_type": "code",
   "execution_count": 23,
   "id": "744a5561-bbab-47cd-ba11-4f4747ed47ec",
   "metadata": {},
   "outputs": [
    {
     "data": {
      "text/plain": [
       "'Subash'"
      ]
     },
     "execution_count": 23,
     "metadata": {},
     "output_type": "execute_result"
    }
   ],
   "source": [
    "name[-1]"
   ]
  },
  {
   "cell_type": "markdown",
   "id": "888bcaf2-23db-4c8d-b4ef-42b61f9153f8",
   "metadata": {},
   "source": [
    "# f-string (f --> format)"
   ]
  },
  {
   "cell_type": "code",
   "execution_count": 24,
   "id": "0d3b0532-74d9-4bc3-9649-5e25a8e72580",
   "metadata": {},
   "outputs": [
    {
     "name": "stdin",
     "output_type": "stream",
     "text": [
      "Enter which subject do you study?  Science\n",
      "Enter your institude name?  Morang\n"
     ]
    },
    {
     "name": "stdout",
     "output_type": "stream",
     "text": [
      "I study Science in Morang.\n"
     ]
    }
   ],
   "source": [
    "subject = input(\"Enter which subject do you study? \")\n",
    "institude = input(\"Enter your institude name? \")\n",
    "print(f\"I study {subject} in {institude}.\")"
   ]
  },
  {
   "cell_type": "code",
   "execution_count": 25,
   "id": "def940a8-be26-43b5-b8ed-3b132568ec81",
   "metadata": {},
   "outputs": [
    {
     "name": "stdout",
     "output_type": "stream",
     "text": [
      "I'am ['Manamohan', 'Saktimohan', 'Bhanubhakta', 'Subash'], and I live in Bhaktapur.\n"
     ]
    }
   ],
   "source": [
    "full_name = \"Rajendra Niroula\"\n",
    "location = \"Bhaktapur\"\n",
    "print(f\"I'am {name}, and I live in {location}.\")"
   ]
  },
  {
   "cell_type": "code",
   "execution_count": 26,
   "id": "624efeac-6233-46bd-a494-af51ac78800c",
   "metadata": {},
   "outputs": [
    {
     "data": {
      "text/plain": [
       "4"
      ]
     },
     "execution_count": 26,
     "metadata": {},
     "output_type": "execute_result"
    }
   ],
   "source": [
    "len(name)"
   ]
  },
  {
   "cell_type": "code",
   "execution_count": 27,
   "id": "67da1c74-1267-4a99-8d87-c2a878221443",
   "metadata": {},
   "outputs": [],
   "source": [
    "name[0] = \"Naresh\""
   ]
  },
  {
   "cell_type": "code",
   "execution_count": 28,
   "id": "db7adde4-158d-419d-98f6-8755d2dad7e5",
   "metadata": {},
   "outputs": [
    {
     "data": {
      "text/plain": [
       "['Naresh', 'Saktimohan', 'Bhanubhakta', 'Subash']"
      ]
     },
     "execution_count": 28,
     "metadata": {},
     "output_type": "execute_result"
    }
   ],
   "source": [
    "name"
   ]
  },
  {
   "cell_type": "code",
   "execution_count": 29,
   "id": "2c0097fd-2179-44e0-8a8c-552eec1e97e8",
   "metadata": {},
   "outputs": [
    {
     "data": {
      "text/plain": [
       "['Naresh', 'Saktimohan', 'Bhanubhakta', 'Rajendra']"
      ]
     },
     "execution_count": 29,
     "metadata": {},
     "output_type": "execute_result"
    }
   ],
   "source": [
    "name[-1] = \"Rajendra\"\n",
    "name"
   ]
  },
  {
   "cell_type": "code",
   "execution_count": 30,
   "id": "a22b9853-4cd5-45e8-9e9f-76548eba1d26",
   "metadata": {},
   "outputs": [],
   "source": [
    "name.remove(\"Rajendra\")"
   ]
  },
  {
   "cell_type": "code",
   "execution_count": 31,
   "id": "5ef1fa5b-08fa-431e-9390-b6de1de2631c",
   "metadata": {},
   "outputs": [
    {
     "data": {
      "text/plain": [
       "['Naresh', 'Saktimohan', 'Bhanubhakta']"
      ]
     },
     "execution_count": 31,
     "metadata": {},
     "output_type": "execute_result"
    }
   ],
   "source": [
    "name"
   ]
  },
  {
   "cell_type": "code",
   "execution_count": 32,
   "id": "45bd389a-fbf9-4fb6-b419-da3f7f044af4",
   "metadata": {},
   "outputs": [
    {
     "data": {
      "text/plain": [
       "['Naresh', 'Saktimohan', 'Bhanubhakta', 'Orchastra']"
      ]
     },
     "execution_count": 32,
     "metadata": {},
     "output_type": "execute_result"
    }
   ],
   "source": [
    "name.append(\"Orchastra\")\n",
    "name"
   ]
  },
  {
   "cell_type": "code",
   "execution_count": 33,
   "id": "f2b47827-e53a-4405-aa5b-ab0087d19ba8",
   "metadata": {},
   "outputs": [
    {
     "data": {
      "text/plain": [
       "['Naresh', 'Saktimohan', 'Bhanubhakta']"
      ]
     },
     "execution_count": 33,
     "metadata": {},
     "output_type": "execute_result"
    }
   ],
   "source": [
    "name.pop(-1)\n",
    "name"
   ]
  },
  {
   "cell_type": "code",
   "execution_count": 34,
   "id": "676401dd-2b5e-4bc6-8c92-508f46b988b5",
   "metadata": {},
   "outputs": [],
   "source": [
    "name.insert(0, \"Gangotri\")"
   ]
  },
  {
   "cell_type": "code",
   "execution_count": 35,
   "id": "9e3d3402-3e98-495b-a8f2-84530437b658",
   "metadata": {},
   "outputs": [
    {
     "data": {
      "text/plain": [
       "['Gangotri', 'Naresh', 'Saktimohan', 'Bhanubhakta']"
      ]
     },
     "execution_count": 35,
     "metadata": {},
     "output_type": "execute_result"
    }
   ],
   "source": [
    "name"
   ]
  },
  {
   "cell_type": "code",
   "execution_count": 37,
   "id": "e9879e23-2c1b-42eb-83f2-897feb0ab575",
   "metadata": {},
   "outputs": [
    {
     "name": "stdout",
     "output_type": "stream",
     "text": [
      "['Gangotri', 'Naresh', 'Saktimohan', 'Bhanubhakta', 'Harry', 'Shatyam', 'Onjal']\n"
     ]
    }
   ],
   "source": [
    "print(name)\n",
    "name2 = [\"Harry\", \"Shatyam\", \"Onjal\"]\n",
    "name3 = name.extend(name2)\n",
    "name3"
   ]
  },
  {
   "cell_type": "code",
   "execution_count": 4,
   "id": "b9a6aaf0-d22e-4c59-99dc-571e01b761bc",
   "metadata": {},
   "outputs": [
    {
     "data": {
      "text/plain": [
       "[80, 50, 450, 30, 450]"
      ]
     },
     "execution_count": 4,
     "metadata": {},
     "output_type": "execute_result"
    }
   ],
   "source": [
    "list = [8, 5, 45, 3, 45]\n",
    "list2 = []\n",
    "for num in list:\n",
    "    num *= 10\n",
    "    list2.append(num)\n",
    "list2"
   ]
  },
  {
   "cell_type": "code",
   "execution_count": 5,
   "id": "3db44707-2568-438e-b0c2-382be1316d3e",
   "metadata": {},
   "outputs": [
    {
     "data": {
      "text/plain": [
       "[50, 30, 340, 320, 560]"
      ]
     },
     "execution_count": 5,
     "metadata": {},
     "output_type": "execute_result"
    }
   ],
   "source": [
    "list = [5, 3, 34, 32, 56]\n",
    "list2 = [num * 10 for num in list]\n",
    "list2"
   ]
  },
  {
   "cell_type": "code",
   "execution_count": null,
   "id": "401bb05e-70ee-4893-831f-0fa1b3bb9e54",
   "metadata": {},
   "outputs": [],
   "source": []
  }
 ],
 "metadata": {
  "kernelspec": {
   "display_name": "Python 3 (ipykernel)",
   "language": "python",
   "name": "python3"
  },
  "language_info": {
   "codemirror_mode": {
    "name": "ipython",
    "version": 3
   },
   "file_extension": ".py",
   "mimetype": "text/x-python",
   "name": "python",
   "nbconvert_exporter": "python",
   "pygments_lexer": "ipython3",
   "version": "3.12.0"
  }
 },
 "nbformat": 4,
 "nbformat_minor": 5
}
