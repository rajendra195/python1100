{
 "cells": [
  {
   "cell_type": "code",
   "execution_count": 2,
   "id": "596aa9ac-9cd7-497f-a5f1-db34dfef4c59",
   "metadata": {},
   "outputs": [
    {
     "name": "stdout",
     "output_type": "stream",
     "text": [
      "20\n"
     ]
    }
   ],
   "source": [
    "weight = 20\n",
    "print(weight)"
   ]
  },
  {
   "cell_type": "code",
   "execution_count": 4,
   "id": "efc4d020-d408-41c1-84ff-01cb821ec97e",
   "metadata": {},
   "outputs": [
    {
     "name": "stdout",
     "output_type": "stream",
     "text": [
      "100.0\n"
     ]
    }
   ],
   "source": [
    "weight = 99.5\n",
    "weight = weight + 0.5\n",
    "print(weight)"
   ]
  },
  {
   "cell_type": "markdown",
   "id": "55d22c1d-79ea-424e-98d5-fddc278d8b7d",
   "metadata": {},
   "source": [
    "# Assigning multiple values to multiple variables"
   ]
  },
  {
   "cell_type": "code",
   "execution_count": 5,
   "id": "eef6bb7f-b494-4a9a-90d1-be32b83bff94",
   "metadata": {},
   "outputs": [],
   "source": [
    "a = 2           # int\n",
    "b = 9.3          # float\n",
    "c = 9.3 + 5j     # complex"
   ]
  },
  {
   "cell_type": "code",
   "execution_count": 6,
   "id": "3c01d7a9-cc7c-4ffe-ae8d-0021bb7504c1",
   "metadata": {},
   "outputs": [
    {
     "name": "stdout",
     "output_type": "stream",
     "text": [
      "2\n"
     ]
    }
   ],
   "source": [
    "print(a)"
   ]
  },
  {
   "cell_type": "code",
   "execution_count": 7,
   "id": "0cc26b36-5814-4011-9f3b-64780abaccf6",
   "metadata": {},
   "outputs": [
    {
     "name": "stdout",
     "output_type": "stream",
     "text": [
      "9.3\n"
     ]
    }
   ],
   "source": [
    "print(b)"
   ]
  },
  {
   "cell_type": "code",
   "execution_count": 8,
   "id": "7922a462-a297-4f81-84e4-8b40edd68497",
   "metadata": {},
   "outputs": [
    {
     "name": "stdout",
     "output_type": "stream",
     "text": [
      "(9.3+5j)\n"
     ]
    }
   ],
   "source": [
    "print(c)"
   ]
  },
  {
   "cell_type": "markdown",
   "id": "3d99c999-d582-4c8b-9a1e-de1190581ac0",
   "metadata": {},
   "source": [
    "# Assigning multiple values to multiple variables"
   ]
  },
  {
   "cell_type": "code",
   "execution_count": 13,
   "id": "05a4bced-90f0-40a0-9253-3a56c161ca2a",
   "metadata": {},
   "outputs": [],
   "source": [
    "a, b, c = 3, 35, 4 + 5j"
   ]
  },
  {
   "cell_type": "code",
   "execution_count": 16,
   "id": "c8aaaf3c-eea5-4b1e-abcc-0753c036e04d",
   "metadata": {},
   "outputs": [
    {
     "name": "stdout",
     "output_type": "stream",
     "text": [
      "3\n"
     ]
    }
   ],
   "source": [
    "print(a)"
   ]
  },
  {
   "cell_type": "code",
   "execution_count": 15,
   "id": "02aa9832-9076-4d9d-897c-e441acd1e1fe",
   "metadata": {},
   "outputs": [
    {
     "name": "stdout",
     "output_type": "stream",
     "text": [
      "(4+5j)\n"
     ]
    }
   ],
   "source": [
    "print(c)"
   ]
  },
  {
   "cell_type": "code",
   "execution_count": 14,
   "id": "3061a7f5-5bda-4141-99d9-5f686e7eb5fe",
   "metadata": {},
   "outputs": [
    {
     "name": "stdout",
     "output_type": "stream",
     "text": [
      "35\n"
     ]
    }
   ],
   "source": [
    "print(b)"
   ]
  },
  {
   "cell_type": "markdown",
   "id": "790fb872-69e5-4c1b-930e-79452fa33654",
   "metadata": {},
   "source": [
    "# Note"
   ]
  },
  {
   "cell_type": "code",
   "execution_count": 17,
   "id": "a976b2f2-52f2-48b1-b868-adc810b8618b",
   "metadata": {},
   "outputs": [
    {
     "ename": "ValueError",
     "evalue": "not enough values to unpack (expected 3, got 2)",
     "output_type": "error",
     "traceback": [
      "\u001b[1;31m---------------------------------------------------------------------------\u001b[0m",
      "\u001b[1;31mValueError\u001b[0m                                Traceback (most recent call last)",
      "Cell \u001b[1;32mIn[17], line 1\u001b[0m\n\u001b[1;32m----> 1\u001b[0m Ram, Shyam, Hari \u001b[38;5;241m=\u001b[39m \u001b[38;5;124m\"\u001b[39m\u001b[38;5;124mKit-Kat\u001b[39m\u001b[38;5;124m\"\u001b[39m, \u001b[38;5;124m\"\u001b[39m\u001b[38;5;124mDairy Milk\u001b[39m\u001b[38;5;124m\"\u001b[39m\n",
      "\u001b[1;31mValueError\u001b[0m: not enough values to unpack (expected 3, got 2)"
     ]
    }
   ],
   "source": [
    "Ram, Shyam, Hari = \"Kit-Kat\", \"Dairy Milk\""
   ]
  },
  {
   "cell_type": "code",
   "execution_count": 21,
   "id": "7b5fc3f2-1aaf-4a38-a700-786ab75d493c",
   "metadata": {},
   "outputs": [
    {
     "ename": "ValueError",
     "evalue": "too many values to unpack (expected 2)",
     "output_type": "error",
     "traceback": [
      "\u001b[1;31m---------------------------------------------------------------------------\u001b[0m",
      "\u001b[1;31mValueError\u001b[0m                                Traceback (most recent call last)",
      "Cell \u001b[1;32mIn[21], line 1\u001b[0m\n\u001b[1;32m----> 1\u001b[0m Ram, Shyam \u001b[38;5;241m=\u001b[39m \u001b[38;5;124m\"\u001b[39m\u001b[38;5;124mOrange\u001b[39m\u001b[38;5;124m\"\u001b[39m, \u001b[38;5;124m\"\u001b[39m\u001b[38;5;124mApple\u001b[39m\u001b[38;5;124m\"\u001b[39m, \u001b[38;5;124m\"\u001b[39m\u001b[38;5;124mPineapple\u001b[39m\u001b[38;5;124m\"\u001b[39m\n",
      "\u001b[1;31mValueError\u001b[0m: too many values to unpack (expected 2)"
     ]
    }
   ],
   "source": [
    "Ram, Shyam = \"Orange\", \"Apple\", \"Pineapple\""
   ]
  },
  {
   "cell_type": "code",
   "execution_count": null,
   "id": "504b76ad-048c-432e-a23c-79fddf177e2c",
   "metadata": {},
   "outputs": [],
   "source": []
  }
 ],
 "metadata": {
  "kernelspec": {
   "display_name": "Python 3 (ipykernel)",
   "language": "python",
   "name": "python3"
  },
  "language_info": {
   "codemirror_mode": {
    "name": "ipython",
    "version": 3
   },
   "file_extension": ".py",
   "mimetype": "text/x-python",
   "name": "python",
   "nbconvert_exporter": "python",
   "pygments_lexer": "ipython3",
   "version": "3.12.0"
  }
 },
 "nbformat": 4,
 "nbformat_minor": 5
}
