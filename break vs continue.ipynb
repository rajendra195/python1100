{
 "cells": [
  {
   "cell_type": "markdown",
   "id": "1546d21a-1547-455b-8266-3af1b34160b2",
   "metadata": {},
   "source": [
    "# continue "
   ]
  },
  {
   "cell_type": "code",
   "execution_count": 4,
   "id": "f4778145-7d86-42e3-8e70-1bec1747e8ea",
   "metadata": {},
   "outputs": [
    {
     "name": "stdout",
     "output_type": "stream",
     "text": [
      "0\n",
      "1\n",
      "2\n",
      "3\n",
      "4\n"
     ]
    }
   ],
   "source": [
    "for index in range(5): # 0 - 5(excluded)\n",
    "    print(index)"
   ]
  },
  {
   "cell_type": "code",
   "execution_count": 11,
   "id": "e797c738-a6e3-462c-ba8d-0c9eb838a34d",
   "metadata": {},
   "outputs": [
    {
     "name": "stdout",
     "output_type": "stream",
     "text": [
      "0\n",
      "1\n",
      "3\n",
      "4\n"
     ]
    }
   ],
   "source": [
    "for index in range(5):\n",
    "    if index == 2:\n",
    "        continue\n",
    "        print(\"Continue le yo continue vanda muni ko code run gardaina skip garxa\")\n",
    "    print(index)"
   ]
  },
  {
   "cell_type": "markdown",
   "id": "960dc9a9-67a8-4d42-aa7e-5ebf03cb7ea4",
   "metadata": {},
   "source": [
    "# break"
   ]
  },
  {
   "cell_type": "code",
   "execution_count": 13,
   "id": "ddb75176-73d2-45e5-b346-f0d9f3c0d4bd",
   "metadata": {},
   "outputs": [
    {
     "name": "stdout",
     "output_type": "stream",
     "text": [
      "0\n",
      "1\n",
      "Yo loop bahira aauxa\n"
     ]
    }
   ],
   "source": [
    "for index in range(5):\n",
    "    if index == 2:\n",
    "        break\n",
    "    print(index)\n",
    "print(\"Yo loop bahira aauxa\")"
   ]
  },
  {
   "cell_type": "code",
   "execution_count": null,
   "id": "69e84611-614c-4b36-bd29-742174f6acfc",
   "metadata": {},
   "outputs": [],
   "source": []
  }
 ],
 "metadata": {
  "kernelspec": {
   "display_name": "Python 3 (ipykernel)",
   "language": "python",
   "name": "python3"
  },
  "language_info": {
   "codemirror_mode": {
    "name": "ipython",
    "version": 3
   },
   "file_extension": ".py",
   "mimetype": "text/x-python",
   "name": "python",
   "nbconvert_exporter": "python",
   "pygments_lexer": "ipython3",
   "version": "3.12.0"
  }
 },
 "nbformat": 4,
 "nbformat_minor": 5
}
