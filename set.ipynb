{
 "cells": [
  {
   "cell_type": "code",
   "execution_count": 2,
   "id": "37be2aee-707e-4960-83c6-e21d6595cb73",
   "metadata": {},
   "outputs": [],
   "source": [
    "# while loops\n",
    "nums = (3, 45, 23, 2)"
   ]
  },
  {
   "cell_type": "code",
   "execution_count": 5,
   "id": "b839ea33-4062-46c1-8c88-93e914f6c425",
   "metadata": {},
   "outputs": [
    {
     "data": {
      "text/plain": [
       "73"
      ]
     },
     "execution_count": 5,
     "metadata": {},
     "output_type": "execute_result"
    }
   ],
   "source": [
    "index = 0\n",
    "total = 0\n",
    "# lens(nums) ==> 4\n",
    "while index < len(nums):\n",
    "    num = nums[index]\n",
    "    total += num\n",
    "    index += 1\n",
    "total   "
   ]
  },
  {
   "cell_type": "markdown",
   "id": "e1615242-783f-4b55-9952-84f69e3c7c8d",
   "metadata": {},
   "source": [
    "# SET \n",
    "* unindexed\n",
    "* unordered\n",
    "* don't allow duplicate\n",
    "* one of the built in data types"
   ]
  },
  {
   "cell_type": "code",
   "execution_count": 9,
   "id": "b833f343-ec2f-4a6d-ac12-52ef8b1363d9",
   "metadata": {},
   "outputs": [],
   "source": [
    "thakali_set = {\"Daal\", \"Bhaat\", \"Chatney\", \"Dahi\", \"Salaad\", \"Dahi\", \"Masu\", \"Gheu\"}"
   ]
  },
  {
   "cell_type": "code",
   "execution_count": 10,
   "id": "65735c8e-aae4-431c-a00e-d0caf569eb14",
   "metadata": {},
   "outputs": [
    {
     "name": "stdout",
     "output_type": "stream",
     "text": [
      "{'Dahi', 'Masu', 'Chatney', 'Salaad', 'Bhaat', 'Gheu', 'Daal'}\n"
     ]
    }
   ],
   "source": [
    "print(thakali_set)"
   ]
  },
  {
   "cell_type": "code",
   "execution_count": 11,
   "id": "a5b70d1d-96dd-422d-84a4-109a08def10f",
   "metadata": {},
   "outputs": [
    {
     "ename": "TypeError",
     "evalue": "'set' object is not subscriptable",
     "output_type": "error",
     "traceback": [
      "\u001b[1;31m---------------------------------------------------------------------------\u001b[0m",
      "\u001b[1;31mTypeError\u001b[0m                                 Traceback (most recent call last)",
      "Cell \u001b[1;32mIn[11], line 1\u001b[0m\n\u001b[1;32m----> 1\u001b[0m \u001b[43mthakali_set\u001b[49m\u001b[43m[\u001b[49m\u001b[38;5;241;43m0\u001b[39;49m\u001b[43m]\u001b[49m\n",
      "\u001b[1;31mTypeError\u001b[0m: 'set' object is not subscriptable"
     ]
    }
   ],
   "source": [
    "thakali_set[0]"
   ]
  },
  {
   "cell_type": "markdown",
   "id": "66aef2e8-dc84-46dc-b818-ce67e40c0e75",
   "metadata": {},
   "source": [
    "# SET is a mutable data types"
   ]
  },
  {
   "cell_type": "code",
   "execution_count": 18,
   "id": "c58138ff-ac51-4617-9f5a-e4e94218b28c",
   "metadata": {},
   "outputs": [],
   "source": [
    "thakali_set.add(\"Papadd\")"
   ]
  },
  {
   "cell_type": "code",
   "execution_count": 19,
   "id": "8f7f873b-6434-4d05-adaa-f5d64db7d020",
   "metadata": {},
   "outputs": [
    {
     "data": {
      "text/plain": [
       "{'Bhaat',\n",
       " 'Chatney',\n",
       " 'Daal',\n",
       " 'Dahi',\n",
       " 'Gheu',\n",
       " 'Masu',\n",
       " 'Papad',\n",
       " 'Papadd',\n",
       " 'Salaad'}"
      ]
     },
     "execution_count": 19,
     "metadata": {},
     "output_type": "execute_result"
    }
   ],
   "source": [
    "thakali_set"
   ]
  },
  {
   "cell_type": "code",
   "execution_count": 20,
   "id": "d845176b-0b84-43d9-8a8d-967e95008643",
   "metadata": {},
   "outputs": [
    {
     "data": {
      "text/plain": [
       "{'Bhaat',\n",
       " 'Chatney',\n",
       " 'Daal',\n",
       " 'Dahi',\n",
       " 'Gheu',\n",
       " 'Gundruk',\n",
       " 'Masu',\n",
       " 'Papad',\n",
       " 'Papadd',\n",
       " 'Salaad'}"
      ]
     },
     "execution_count": 20,
     "metadata": {},
     "output_type": "execute_result"
    }
   ],
   "source": [
    "thakali_set.add(\"Gundruk\")\n",
    "thakali_set"
   ]
  },
  {
   "cell_type": "code",
   "execution_count": 23,
   "id": "014869de-fb81-4199-b3d1-560537c7f6c2",
   "metadata": {},
   "outputs": [
    {
     "data": {
      "text/plain": [
       "{'Bhaat',\n",
       " 'Chatney',\n",
       " 'Daal',\n",
       " 'Dahi',\n",
       " 'Gheu',\n",
       " 'Gundruk',\n",
       " 'Masu',\n",
       " 'Papadd',\n",
       " 'Salaad'}"
      ]
     },
     "execution_count": 23,
     "metadata": {},
     "output_type": "execute_result"
    }
   ],
   "source": [
    "thakali_set"
   ]
  },
  {
   "cell_type": "code",
   "execution_count": 24,
   "id": "324cfc4d-00ee-449b-af90-05b02306b112",
   "metadata": {},
   "outputs": [],
   "source": [
    "thakali_set.remove(\"Daal\")"
   ]
  },
  {
   "cell_type": "code",
   "execution_count": 25,
   "id": "5d652996-c521-4459-a93c-8a5030a83641",
   "metadata": {},
   "outputs": [
    {
     "data": {
      "text/plain": [
       "{'Bhaat', 'Chatney', 'Dahi', 'Gheu', 'Gundruk', 'Masu', 'Papadd', 'Salaad'}"
      ]
     },
     "execution_count": 25,
     "metadata": {},
     "output_type": "execute_result"
    }
   ],
   "source": [
    "thakali_set"
   ]
  },
  {
   "cell_type": "code",
   "execution_count": 26,
   "id": "c358293a-e0d7-429c-b70b-4173639bdb96",
   "metadata": {},
   "outputs": [
    {
     "ename": "KeyError",
     "evalue": "'Dhidoo'",
     "output_type": "error",
     "traceback": [
      "\u001b[1;31m---------------------------------------------------------------------------\u001b[0m",
      "\u001b[1;31mKeyError\u001b[0m                                  Traceback (most recent call last)",
      "Cell \u001b[1;32mIn[26], line 1\u001b[0m\n\u001b[1;32m----> 1\u001b[0m \u001b[43mthakali_set\u001b[49m\u001b[38;5;241;43m.\u001b[39;49m\u001b[43mremove\u001b[49m\u001b[43m(\u001b[49m\u001b[38;5;124;43m\"\u001b[39;49m\u001b[38;5;124;43mDhidoo\u001b[39;49m\u001b[38;5;124;43m\"\u001b[39;49m\u001b[43m)\u001b[49m\n",
      "\u001b[1;31mKeyError\u001b[0m: 'Dhidoo'"
     ]
    }
   ],
   "source": [
    "thakali_set.remove(\"Dhidoo\")"
   ]
  },
  {
   "cell_type": "code",
   "execution_count": 28,
   "id": "975dc5bd-b62c-4e0c-b8f2-2294580f5ab2",
   "metadata": {},
   "outputs": [
    {
     "name": "stdout",
     "output_type": "stream",
     "text": [
      "Gundruk\n",
      "Chatney\n",
      "Papadd\n",
      "Masu\n",
      "Salaad\n",
      "Bhaat\n",
      "Dahi\n",
      "Gheu\n"
     ]
    }
   ],
   "source": [
    "for item in thakali_set:\n",
    "    print(item)"
   ]
  },
  {
   "cell_type": "code",
   "execution_count": 29,
   "id": "8e585069-2c80-43b7-a696-083935045364",
   "metadata": {},
   "outputs": [],
   "source": [
    "thakali_set = {'Bhaat', 'Chatney', 'Dahi', 'Gheu', 'Gundruk', 'Masu', 'Papadd', 'Salaad'}\n",
    "thakali_set.discard(\"Dhido\")"
   ]
  },
  {
   "cell_type": "code",
   "execution_count": 31,
   "id": "d8053bb2-5fd7-47d7-9d67-f651366def07",
   "metadata": {},
   "outputs": [
    {
     "data": {
      "text/plain": [
       "{'Chatney', 'Dahi', 'Gheu', 'Gundruk', 'Masu', 'Papadd', 'Salaad'}"
      ]
     },
     "execution_count": 31,
     "metadata": {},
     "output_type": "execute_result"
    }
   ],
   "source": [
    "thakali_set"
   ]
  },
  {
   "cell_type": "code",
   "execution_count": 32,
   "id": "c39bc91c-887a-47ee-bf6b-4e9cfcbb48fe",
   "metadata": {},
   "outputs": [],
   "source": [
    "thakali_set.add(\"Dhido\")"
   ]
  },
  {
   "cell_type": "code",
   "execution_count": 33,
   "id": "92c9cb9e-14c7-4549-824a-071a85a65dfe",
   "metadata": {},
   "outputs": [
    {
     "data": {
      "text/plain": [
       "{'Chatney', 'Dahi', 'Dhido', 'Gheu', 'Gundruk', 'Masu', 'Papadd', 'Salaad'}"
      ]
     },
     "execution_count": 33,
     "metadata": {},
     "output_type": "execute_result"
    }
   ],
   "source": [
    "thakali_set"
   ]
  },
  {
   "cell_type": "code",
   "execution_count": 34,
   "id": "a72705a8-39a6-491c-93da-df2a31a9cbe5",
   "metadata": {},
   "outputs": [],
   "source": [
    "tuple = tuple(thakali_set)"
   ]
  },
  {
   "cell_type": "code",
   "execution_count": 35,
   "id": "6dcad9c5-62da-47ab-a219-f2e522af06ff",
   "metadata": {},
   "outputs": [
    {
     "data": {
      "text/plain": [
       "('Gheu', 'Gundruk', 'Dhido', 'Chatney', 'Salaad', 'Dahi', 'Papadd', 'Masu')"
      ]
     },
     "execution_count": 35,
     "metadata": {},
     "output_type": "execute_result"
    }
   ],
   "source": [
    "tuple"
   ]
  },
  {
   "cell_type": "code",
   "execution_count": 36,
   "id": "60a5b2d4-4c5e-41b1-84da-d85412608329",
   "metadata": {},
   "outputs": [],
   "source": [
    "list = list(thakali_set)"
   ]
  },
  {
   "cell_type": "code",
   "execution_count": 37,
   "id": "5dc15c61-f2d3-49c9-b5e7-ad917e17b9b5",
   "metadata": {},
   "outputs": [
    {
     "data": {
      "text/plain": [
       "['Gheu', 'Gundruk', 'Dhido', 'Chatney', 'Salaad', 'Dahi', 'Papadd', 'Masu']"
      ]
     },
     "execution_count": 37,
     "metadata": {},
     "output_type": "execute_result"
    }
   ],
   "source": [
    "list"
   ]
  },
  {
   "cell_type": "code",
   "execution_count": 38,
   "id": "bb6c292e-39c4-4394-85ce-fd86d28e138d",
   "metadata": {},
   "outputs": [],
   "source": [
    "a = [34, 23, 32, 34, 32, 67, 32]"
   ]
  },
  {
   "cell_type": "code",
   "execution_count": 40,
   "id": "a4432384-b27b-4019-aaba-d5e7beddd293",
   "metadata": {},
   "outputs": [
    {
     "data": {
      "text/plain": [
       "{23, 32, 34, 67}"
      ]
     },
     "execution_count": 40,
     "metadata": {},
     "output_type": "execute_result"
    }
   ],
   "source": [
    "set(a) # duplicate value falxa"
   ]
  },
  {
   "cell_type": "code",
   "execution_count": 42,
   "id": "f4653a8b-35f1-4fd0-a019-ab7d4b11a38e",
   "metadata": {},
   "outputs": [],
   "source": [
    "A = {\"apple\", \"banana\", \"cherry\"}\n",
    "B = {\"google\", \"microsoft\", \"apple\"}"
   ]
  },
  {
   "cell_type": "markdown",
   "id": "4301aee9-6cb0-45ca-9943-d7bf03d498cc",
   "metadata": {},
   "source": [
    "# Interseciton, Union, Difference"
   ]
  },
  {
   "cell_type": "code",
   "execution_count": 44,
   "id": "c35ddacc-b072-4177-ae7c-a11892fc26e3",
   "metadata": {},
   "outputs": [
    {
     "data": {
      "text/plain": [
       "{'apple'}"
      ]
     },
     "execution_count": 44,
     "metadata": {},
     "output_type": "execute_result"
    }
   ],
   "source": [
    "A.intersection(B)"
   ]
  },
  {
   "cell_type": "code",
   "execution_count": 45,
   "id": "13da1e77-ac8d-42da-83cf-8b2596b52bb5",
   "metadata": {},
   "outputs": [
    {
     "data": {
      "text/plain": [
       "{'apple', 'banana', 'cherry', 'google', 'microsoft'}"
      ]
     },
     "execution_count": 45,
     "metadata": {},
     "output_type": "execute_result"
    }
   ],
   "source": [
    "A.union(B)"
   ]
  },
  {
   "cell_type": "code",
   "execution_count": 46,
   "id": "631f7e2a-c599-4761-be57-5e639b453625",
   "metadata": {},
   "outputs": [
    {
     "data": {
      "text/plain": [
       "{'banana', 'cherry'}"
      ]
     },
     "execution_count": 46,
     "metadata": {},
     "output_type": "execute_result"
    }
   ],
   "source": [
    "A.difference(B)"
   ]
  },
  {
   "cell_type": "code",
   "execution_count": 47,
   "id": "9aa64b9c-8bc4-4dac-b451-ae23bf0d7013",
   "metadata": {},
   "outputs": [
    {
     "data": {
      "text/plain": [
       "{'google', 'microsoft'}"
      ]
     },
     "execution_count": 47,
     "metadata": {},
     "output_type": "execute_result"
    }
   ],
   "source": [
    "B.difference(A)"
   ]
  },
  {
   "cell_type": "code",
   "execution_count": 48,
   "id": "91f8a82d-4e4c-43a1-8228-c6fbdb4efabd",
   "metadata": {},
   "outputs": [
    {
     "data": {
      "text/plain": [
       "{'banana', 'cherry'}"
      ]
     },
     "execution_count": 48,
     "metadata": {},
     "output_type": "execute_result"
    }
   ],
   "source": [
    "A - B"
   ]
  },
  {
   "cell_type": "code",
   "execution_count": 49,
   "id": "7b827ebb-9726-42c1-8f5d-0b75e8f712a0",
   "metadata": {},
   "outputs": [
    {
     "data": {
      "text/plain": [
       "{'google', 'microsoft'}"
      ]
     },
     "execution_count": 49,
     "metadata": {},
     "output_type": "execute_result"
    }
   ],
   "source": [
    "B - A"
   ]
  },
  {
   "cell_type": "markdown",
   "id": "08d543a9-8e5f-4f12-bcc1-8f9f176e8502",
   "metadata": {},
   "source": [
    "# Frozenset ==> immutable version of python set"
   ]
  },
  {
   "cell_type": "code",
   "execution_count": 55,
   "id": "cbd10cfc-42a9-43d7-a45c-53f2ddaecd62",
   "metadata": {},
   "outputs": [
    {
     "data": {
      "text/plain": [
       "frozenset({'google', 'microsoft'})"
      ]
     },
     "execution_count": 55,
     "metadata": {},
     "output_type": "execute_result"
    }
   ],
   "source": [
    "s = {\"google\", \"microsoft\"}\n",
    "s_frozen = frozenset(s)\n",
    "s_frozen"
   ]
  },
  {
   "cell_type": "code",
   "execution_count": 51,
   "id": "101b92ec-b0f5-4ee9-af4d-c8afbd70d4f9",
   "metadata": {},
   "outputs": [
    {
     "data": {
      "text/plain": [
       "frozenset"
      ]
     },
     "execution_count": 51,
     "metadata": {},
     "output_type": "execute_result"
    }
   ],
   "source": [
    "type(s_frozen)"
   ]
  },
  {
   "cell_type": "code",
   "execution_count": 53,
   "id": "13d6dd3c-3000-494b-a50f-63bff3484a59",
   "metadata": {},
   "outputs": [
    {
     "ename": "AttributeError",
     "evalue": "'frozenset' object has no attribute 'add'",
     "output_type": "error",
     "traceback": [
      "\u001b[1;31m---------------------------------------------------------------------------\u001b[0m",
      "\u001b[1;31mAttributeError\u001b[0m                            Traceback (most recent call last)",
      "Cell \u001b[1;32mIn[53], line 1\u001b[0m\n\u001b[1;32m----> 1\u001b[0m \u001b[43ms_frozen\u001b[49m\u001b[38;5;241;43m.\u001b[39;49m\u001b[43madd\u001b[49m(\u001b[38;5;124m\"\u001b[39m\u001b[38;5;124mmeta\u001b[39m\u001b[38;5;124m\"\u001b[39m)\n",
      "\u001b[1;31mAttributeError\u001b[0m: 'frozenset' object has no attribute 'add'"
     ]
    }
   ],
   "source": [
    "s_frozen.add(\"meta\")"
   ]
  },
  {
   "cell_type": "code",
   "execution_count": 56,
   "id": "85607740-bc6c-41a1-ae9c-486fb3f12c88",
   "metadata": {},
   "outputs": [
    {
     "data": {
      "text/plain": [
       "frozenset({2, 3, 4, 23})"
      ]
     },
     "execution_count": 56,
     "metadata": {},
     "output_type": "execute_result"
    }
   ],
   "source": [
    "tuple = (3, 4, 23, 2, 4, 3)\n",
    "frozen_set = frozenset(tuple)\n",
    "frozen_set"
   ]
  },
  {
   "cell_type": "code",
   "execution_count": null,
   "id": "e2ab0a4c-f6dd-4067-b756-37331d5e79d0",
   "metadata": {},
   "outputs": [],
   "source": []
  }
 ],
 "metadata": {
  "kernelspec": {
   "display_name": "Python 3 (ipykernel)",
   "language": "python",
   "name": "python3"
  },
  "language_info": {
   "codemirror_mode": {
    "name": "ipython",
    "version": 3
   },
   "file_extension": ".py",
   "mimetype": "text/x-python",
   "name": "python",
   "nbconvert_exporter": "python",
   "pygments_lexer": "ipython3",
   "version": "3.12.0"
  }
 },
 "nbformat": 4,
 "nbformat_minor": 5
}
