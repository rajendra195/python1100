{
 "cells": [
  {
   "cell_type": "code",
   "execution_count": 2,
   "id": "6283fef3-ac4f-4ce0-aef5-86b81e0a858d",
   "metadata": {},
   "outputs": [
    {
     "name": "stdout",
     "output_type": "stream",
     "text": [
      "None\n"
     ]
    }
   ],
   "source": [
    "x = None\n",
    "print(x)"
   ]
  },
  {
   "cell_type": "code",
   "execution_count": 3,
   "id": "dc179ffe-cc96-4c99-be5a-77435c051b78",
   "metadata": {},
   "outputs": [
    {
     "data": {
      "text/plain": [
       "NoneType"
      ]
     },
     "execution_count": 3,
     "metadata": {},
     "output_type": "execute_result"
    }
   ],
   "source": [
    "type(x)"
   ]
  },
  {
   "cell_type": "code",
   "execution_count": 5,
   "id": "571a94cd-72f7-426e-bea4-2bfb0fb5abfd",
   "metadata": {},
   "outputs": [
    {
     "name": "stdout",
     "output_type": "stream",
     "text": [
      "5\n"
     ]
    }
   ],
   "source": [
    "x = None\n",
    "x = 5\n",
    "print(x)"
   ]
  },
  {
   "cell_type": "code",
   "execution_count": 6,
   "id": "f6ede520-5046-4d61-91f5-34b7f003d1c4",
   "metadata": {},
   "outputs": [
    {
     "data": {
      "text/plain": [
       "False"
      ]
     },
     "execution_count": 6,
     "metadata": {},
     "output_type": "execute_result"
    }
   ],
   "source": [
    "x == False"
   ]
  },
  {
   "cell_type": "code",
   "execution_count": 7,
   "id": "e44fd477-99f6-41ae-9c36-73e8a7f21fb5",
   "metadata": {},
   "outputs": [
    {
     "data": {
      "text/plain": [
       "False"
      ]
     },
     "execution_count": 7,
     "metadata": {},
     "output_type": "execute_result"
    }
   ],
   "source": [
    "x == 0"
   ]
  },
  {
   "cell_type": "code",
   "execution_count": 9,
   "id": "70ada9f2-0e76-4a7f-b117-a548c72af793",
   "metadata": {},
   "outputs": [
    {
     "data": {
      "text/plain": [
       "False"
      ]
     },
     "execution_count": 9,
     "metadata": {},
     "output_type": "execute_result"
    }
   ],
   "source": [
    "x == \"\""
   ]
  },
  {
   "cell_type": "markdown",
   "id": "2354006d-a419-40d8-9ad9-dad973a73edf",
   "metadata": {},
   "source": [
    "# Only None can be None\n",
    "# is and is not are identity operator in python"
   ]
  },
  {
   "cell_type": "code",
   "execution_count": 10,
   "id": "11154917-f9e1-4b15-879f-a1c6f694c658",
   "metadata": {},
   "outputs": [],
   "source": [
    "x = None"
   ]
  },
  {
   "cell_type": "code",
   "execution_count": 14,
   "id": "de04c3dc-0321-43f8-b4af-4d8acbb04dd1",
   "metadata": {},
   "outputs": [
    {
     "data": {
      "text/plain": [
       "True"
      ]
     },
     "execution_count": 14,
     "metadata": {},
     "output_type": "execute_result"
    }
   ],
   "source": [
    "x == None # Baaad Practice"
   ]
  },
  {
   "cell_type": "code",
   "execution_count": 12,
   "id": "edf75336-f2f1-4ffb-a54b-19adafd676e0",
   "metadata": {},
   "outputs": [
    {
     "data": {
      "text/plain": [
       "True"
      ]
     },
     "execution_count": 12,
     "metadata": {},
     "output_type": "execute_result"
    }
   ],
   "source": [
    "x is None "
   ]
  },
  {
   "cell_type": "code",
   "execution_count": 13,
   "id": "2e3a5215-8947-4248-b344-26985f9d19b4",
   "metadata": {},
   "outputs": [
    {
     "data": {
      "text/plain": [
       "False"
      ]
     },
     "execution_count": 13,
     "metadata": {},
     "output_type": "execute_result"
    }
   ],
   "source": [
    "x is not None"
   ]
  },
  {
   "cell_type": "code",
   "execution_count": 15,
   "id": "a6c215ff-4f89-4956-b5ca-a98e27f08ded",
   "metadata": {},
   "outputs": [
    {
     "name": "stdout",
     "output_type": "stream",
     "text": [
      "True\n",
      "False\n",
      "True\n"
     ]
    }
   ],
   "source": [
    "x = None\n",
    "print(x is None)\n",
    "print(x is not None)\n",
    "print(x is not float)\n"
   ]
  },
  {
   "cell_type": "markdown",
   "id": "7ac82543-aea8-4664-9ae4-214c7ec55553",
   "metadata": {},
   "source": [
    "# What is identity operator in python?\n",
    "Identity operators are used ot compare the objects, not if they are equal, but if they are actually the same object, with the same memory location:"
   ]
  },
  {
   "cell_type": "code",
   "execution_count": 20,
   "id": "e36c8e96-9db8-4e59-bed7-081bb1f8121b",
   "metadata": {},
   "outputs": [
    {
     "data": {
      "text/plain": [
       "True"
      ]
     },
     "execution_count": 20,
     "metadata": {},
     "output_type": "execute_result"
    }
   ],
   "source": [
    "name = \"Rajendra\"\n",
    "type(name) is str"
   ]
  },
  {
   "cell_type": "code",
   "execution_count": null,
   "id": "da8215cc-af46-451b-9ac8-d141984cd3de",
   "metadata": {},
   "outputs": [],
   "source": []
  }
 ],
 "metadata": {
  "kernelspec": {
   "display_name": "Python 3 (ipykernel)",
   "language": "python",
   "name": "python3"
  },
  "language_info": {
   "codemirror_mode": {
    "name": "ipython",
    "version": 3
   },
   "file_extension": ".py",
   "mimetype": "text/x-python",
   "name": "python",
   "nbconvert_exporter": "python",
   "pygments_lexer": "ipython3",
   "version": "3.12.0"
  }
 },
 "nbformat": 4,
 "nbformat_minor": 5
}
