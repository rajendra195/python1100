{
 "cells": [
  {
   "cell_type": "code",
   "execution_count": 11,
   "id": "52b3b7f6-a49f-4726-be26-17c40f74a6a6",
   "metadata": {},
   "outputs": [
    {
     "name": "stdout",
     "output_type": "stream",
     "text": [
      "Inside Parent\n",
      "Inside Child\n",
      "Inside Child\n"
     ]
    }
   ],
   "source": [
    "class Parent:\n",
    "    def __init__(self):\n",
    "        self.value = \"Inside Parent\"\n",
    "    def show(self):\n",
    "        print(self.value)\n",
    "\n",
    "class Child(Parent):\n",
    "    def __init__(self):\n",
    "        self.val = \"Inside Child\"\n",
    "        Parent.__init__(self)\n",
    "\n",
    "    def show(self):\n",
    "        print(self.val)\n",
    "\n",
    "obj2 = Child()\n",
    "print(obj2.value)\n",
    "print(obj2.val)\n",
    "obj2.show()"
   ]
  },
  {
   "cell_type": "code",
   "execution_count": 12,
   "id": "4740ab90-6b38-497d-b1c8-9b6551c02132",
   "metadata": {},
   "outputs": [
    {
     "data": {
      "text/plain": [
       "'Inside Parent'"
      ]
     },
     "execution_count": 12,
     "metadata": {},
     "output_type": "execute_result"
    }
   ],
   "source": [
    "obj1 = Parent()\n",
    "obj1.value"
   ]
  },
  {
   "cell_type": "code",
   "execution_count": null,
   "id": "4ce82dfa-8123-4104-8230-af4331c78194",
   "metadata": {},
   "outputs": [],
   "source": []
  }
 ],
 "metadata": {
  "kernelspec": {
   "display_name": "Python 3 (ipykernel)",
   "language": "python",
   "name": "python3"
  },
  "language_info": {
   "codemirror_mode": {
    "name": "ipython",
    "version": 3
   },
   "file_extension": ".py",
   "mimetype": "text/x-python",
   "name": "python",
   "nbconvert_exporter": "python",
   "pygments_lexer": "ipython3",
   "version": "3.12.0"
  }
 },
 "nbformat": 4,
 "nbformat_minor": 5
}
