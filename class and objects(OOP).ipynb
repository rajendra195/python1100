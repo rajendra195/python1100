{
 "cells": [
  {
   "cell_type": "markdown",
   "id": "df80c975-47bb-419e-9e98-f82e8e53af1c",
   "metadata": {},
   "source": [
    "# Object oriented programming"
   ]
  },
  {
   "cell_type": "markdown",
   "id": "38bb1119-3d9b-456e-b479-f7dfa3fa2fcd",
   "metadata": {},
   "source": [
    "# OOP concepts\n",
    "* Object\n",
    "* Class\n",
    "* Inheritance\n",
    "* Polymorphism\n",
    "* Abstraction\n",
    "* Encapsulation"
   ]
  },
  {
   "cell_type": "markdown",
   "id": "bd7e4b60-edac-4053-908e-b2748bae1cd7",
   "metadata": {},
   "source": [
    "# Class and Object"
   ]
  },
  {
   "cell_type": "markdown",
   "id": "3688e220-f5bb-4012-83e5-520a0350aefb",
   "metadata": {},
   "source": [
    "# creating an empty class"
   ]
  },
  {
   "cell_type": "code",
   "execution_count": 4,
   "id": "4b1c02d6-ddb1-42f1-ab95-7011b751b1b2",
   "metadata": {},
   "outputs": [],
   "source": [
    "class Mammal:\n",
    "    pass"
   ]
  },
  {
   "cell_type": "markdown",
   "id": "618ede19-58d5-47ac-a1e1-3b2f6f2c968b",
   "metadata": {},
   "source": [
    "# creating object using class"
   ]
  },
  {
   "cell_type": "code",
   "execution_count": 5,
   "id": "a79b6ddd-3340-484e-ae43-a5caec4cc82c",
   "metadata": {},
   "outputs": [],
   "source": [
    "human = Mammal() # creates an object human from Mammal class"
   ]
  },
  {
   "cell_type": "code",
   "execution_count": 7,
   "id": "14c3f573-3ab6-4e47-9128-10bbff5fdc98",
   "metadata": {},
   "outputs": [
    {
     "name": "stdout",
     "output_type": "stream",
     "text": [
      "<class '__main__.Mammal'>\n"
     ]
    }
   ],
   "source": [
    "print(type(human))"
   ]
  },
  {
   "cell_type": "code",
   "execution_count": 9,
   "id": "fad75805-51c3-4f30-b602-b61b4c28e4fb",
   "metadata": {},
   "outputs": [
    {
     "name": "stdout",
     "output_type": "stream",
     "text": [
      "<class '__main__.Mammal'>\n"
     ]
    }
   ],
   "source": [
    "cow = Mammal() # creates an object cow from Mammal class\n",
    "print(type(cow))"
   ]
  },
  {
   "cell_type": "markdown",
   "id": "fd55f445-27b1-4d70-ac64-c81cd67c97b6",
   "metadata": {},
   "source": [
    "# Class: class is a blueprint to create an object."
   ]
  },
  {
   "cell_type": "markdown",
   "id": "130cd4b6-4312-4d43-81ef-a76014f891bd",
   "metadata": {},
   "source": [
    "# Object: object is an instance of a class Objects are real world entity."
   ]
  },
  {
   "cell_type": "code",
   "execution_count": 10,
   "id": "e7a1e021-d8fd-4b77-8235-e49231c39415",
   "metadata": {},
   "outputs": [],
   "source": [
    "class Person:\n",
    "    pass"
   ]
  },
  {
   "cell_type": "code",
   "execution_count": 11,
   "id": "1e0a5d22-86a7-48c9-a478-7f083697feae",
   "metadata": {},
   "outputs": [
    {
     "name": "stdout",
     "output_type": "stream",
     "text": [
      "<class '__main__.Person'>\n"
     ]
    }
   ],
   "source": [
    "p1 = Person()\n",
    "print(type(p1))"
   ]
  },
  {
   "cell_type": "code",
   "execution_count": 12,
   "id": "017934dd-2b06-4d84-b228-b3e77bcc20b6",
   "metadata": {},
   "outputs": [
    {
     "name": "stdout",
     "output_type": "stream",
     "text": [
      "<class '__main__.Person'>\n"
     ]
    }
   ],
   "source": [
    "p2 = Person()\n",
    "print(type(p2))"
   ]
  },
  {
   "cell_type": "code",
   "execution_count": 13,
   "id": "9a4009a7-f275-46e4-a47f-4c58631cae5e",
   "metadata": {},
   "outputs": [],
   "source": [
    "class Person:\n",
    "    pass"
   ]
  },
  {
   "cell_type": "code",
   "execution_count": 14,
   "id": "27228bb9-dae3-4528-a126-de2f43c43f11",
   "metadata": {},
   "outputs": [
    {
     "name": "stdout",
     "output_type": "stream",
     "text": [
      "<class '__main__.Person'> <class '__main__.Person'>\n"
     ]
    }
   ],
   "source": [
    "if __name__ == \"__main__\":\n",
    "    p1 = Person()\n",
    "    p2 = Person()\n",
    "    print(type(p1), type(p2))"
   ]
  },
  {
   "cell_type": "code",
   "execution_count": 15,
   "id": "73fb10a9-c076-4524-aba6-259ed9d42cd3",
   "metadata": {},
   "outputs": [
    {
     "data": {
      "text/plain": [
       "'__main__'"
      ]
     },
     "execution_count": 15,
     "metadata": {},
     "output_type": "execute_result"
    }
   ],
   "source": [
    "__name__"
   ]
  },
  {
   "cell_type": "markdown",
   "id": "e42a4bcc-668b-49b4-b36c-3cac793799d8",
   "metadata": {},
   "source": [
    "# Class attribute vs object attributes"
   ]
  },
  {
   "cell_type": "markdown",
   "id": "4fe1154f-d2d9-46bd-b2ad-b968aed58508",
   "metadata": {},
   "source": [
    "# class attribute"
   ]
  },
  {
   "cell_type": "code",
   "execution_count": 16,
   "id": "8abe4608-26c6-4a1e-9d0a-6d977ba882ef",
   "metadata": {},
   "outputs": [],
   "source": [
    "class Mammal:\n",
    "    has_hair = True"
   ]
  },
  {
   "cell_type": "code",
   "execution_count": 19,
   "id": "da21624e-e3fd-440f-83f1-09f1ba09270b",
   "metadata": {},
   "outputs": [
    {
     "data": {
      "text/plain": [
       "True"
      ]
     },
     "execution_count": 19,
     "metadata": {},
     "output_type": "execute_result"
    }
   ],
   "source": [
    "human = Mammal()\n",
    "human.has_hair"
   ]
  },
  {
   "cell_type": "code",
   "execution_count": 20,
   "id": "ca18cb3e-6bc1-4b83-908f-a3fa6f7c0ad3",
   "metadata": {},
   "outputs": [
    {
     "data": {
      "text/plain": [
       "True"
      ]
     },
     "execution_count": 20,
     "metadata": {},
     "output_type": "execute_result"
    }
   ],
   "source": [
    "cow = Mammal()\n",
    "cow.has_hair"
   ]
  },
  {
   "cell_type": "markdown",
   "id": "00989fbc-cab0-4c54-86e0-89e48d65e023",
   "metadata": {},
   "source": [
    "# class attribute are same for all objects"
   ]
  },
  {
   "cell_type": "markdown",
   "id": "6462977b-02a3-4138-9e29-68c79eba911d",
   "metadata": {},
   "source": [
    "# object attribute"
   ]
  },
  {
   "cell_type": "code",
   "execution_count": 30,
   "id": "a250e41a-f803-427c-a436-2380950df3ea",
   "metadata": {},
   "outputs": [],
   "source": [
    "class Mammal:\n",
    "    def __init__(self, no_of_legs): # __init__ initilizes object attribute\n",
    "        self.no_of_legs = no_of_legs"
   ]
  },
  {
   "cell_type": "code",
   "execution_count": 38,
   "id": "193c1658-339e-40df-ab9e-876505169c37",
   "metadata": {},
   "outputs": [
    {
     "ename": "TypeError",
     "evalue": "Mammal.__init__() missing 1 required positional argument: 'no_of_legs'",
     "output_type": "error",
     "traceback": [
      "\u001b[1;31m---------------------------------------------------------------------------\u001b[0m",
      "\u001b[1;31mTypeError\u001b[0m                                 Traceback (most recent call last)",
      "Cell \u001b[1;32mIn[38], line 1\u001b[0m\n\u001b[1;32m----> 1\u001b[0m human \u001b[38;5;241m=\u001b[39m \u001b[43mMammal\u001b[49m\u001b[43m(\u001b[49m\u001b[43m)\u001b[49m\n",
      "\u001b[1;31mTypeError\u001b[0m: Mammal.__init__() missing 1 required positional argument: 'no_of_legs'"
     ]
    }
   ],
   "source": [
    "human = Mammal()"
   ]
  },
  {
   "cell_type": "code",
   "execution_count": 31,
   "id": "48e501c4-02b1-4084-82c6-1b9d24213d7e",
   "metadata": {},
   "outputs": [
    {
     "data": {
      "text/plain": [
       "2"
      ]
     },
     "execution_count": 31,
     "metadata": {},
     "output_type": "execute_result"
    }
   ],
   "source": [
    "human = Mammal(no_of_legs=2)\n",
    "human.no_of_legs"
   ]
  },
  {
   "cell_type": "code",
   "execution_count": 32,
   "id": "7d9e4818-915f-4270-87c0-d84055f8ff92",
   "metadata": {},
   "outputs": [],
   "source": [
    "dog = Mammal(no_of_legs=4)"
   ]
  },
  {
   "cell_type": "code",
   "execution_count": 35,
   "id": "c79fb929-adc6-4098-8828-d4f43f3ac946",
   "metadata": {},
   "outputs": [
    {
     "data": {
      "text/plain": [
       "4"
      ]
     },
     "execution_count": 35,
     "metadata": {},
     "output_type": "execute_result"
    }
   ],
   "source": [
    "dog.no_of_legs"
   ]
  },
  {
   "cell_type": "code",
   "execution_count": 36,
   "id": "35680c43-c9dc-429a-985d-bdc93d07d16e",
   "metadata": {},
   "outputs": [],
   "source": [
    "class Person:\n",
    "    def __init__(self):\n",
    "        print(type(self))\n",
    "\n"
   ]
  },
  {
   "cell_type": "code",
   "execution_count": 37,
   "id": "11c0a8da-0c65-4fb7-8775-48adaeb91cd1",
   "metadata": {},
   "outputs": [
    {
     "name": "stdout",
     "output_type": "stream",
     "text": [
      "<class '__main__.Person'>\n",
      "<class '__main__.Person'>\n"
     ]
    }
   ],
   "source": [
    "p1 = Person()\n",
    "print(type(p1))"
   ]
  },
  {
   "cell_type": "markdown",
   "id": "75ae68a1-abc0-4ba4-9ecd-c10bd6f46169",
   "metadata": {},
   "source": [
    "# constructer"
   ]
  },
  {
   "cell_type": "markdown",
   "id": "bccdf618-4d5d-4b32-82fe-4d97e279ef43",
   "metadata": {},
   "source": [
    "# constructer is used to create an object"
   ]
  },
  {
   "cell_type": "markdown",
   "id": "fdc0c765-0df2-48fe-be5e-690371ac95df",
   "metadata": {},
   "source": [
    "```python\n",
    "__init__  is not a  constructer because an object self is passed as an argumentobject is created by \n",
    "__new__() in python . __new__ is a constructer\n",
    "```"
   ]
  },
  {
   "cell_type": "markdown",
   "id": "8406d116-8dca-4516-b961-9a0e99b12a9c",
   "metadata": {},
   "source": [
    "# init can only return None"
   ]
  },
  {
   "cell_type": "code",
   "execution_count": 44,
   "id": "f124bb03-95f6-40c3-bc13-14603110b48b",
   "metadata": {},
   "outputs": [],
   "source": [
    "class Person:\n",
    "    def __init__(self):\n",
    "        return 5"
   ]
  },
  {
   "cell_type": "code",
   "execution_count": 45,
   "id": "38c54419-d971-436f-b00f-3d75a5dd9bae",
   "metadata": {},
   "outputs": [
    {
     "ename": "TypeError",
     "evalue": "__init__() should return None, not 'int'",
     "output_type": "error",
     "traceback": [
      "\u001b[1;31m---------------------------------------------------------------------------\u001b[0m",
      "\u001b[1;31mTypeError\u001b[0m                                 Traceback (most recent call last)",
      "Cell \u001b[1;32mIn[45], line 1\u001b[0m\n\u001b[1;32m----> 1\u001b[0m p1 \u001b[38;5;241m=\u001b[39m \u001b[43mPerson\u001b[49m\u001b[43m(\u001b[49m\u001b[43m)\u001b[49m\n",
      "\u001b[1;31mTypeError\u001b[0m: __init__() should return None, not 'int'"
     ]
    }
   ],
   "source": [
    "p1 = Person()"
   ]
  },
  {
   "cell_type": "markdown",
   "id": "28a56d29-2b6f-4017-9a68-b13057fb9dbc",
   "metadata": {},
   "source": [
    "# __init__() should return None, not 'int'\n",
    "# tye vayera init ma return statement lekhne hoina"
   ]
  },
  {
   "cell_type": "code",
   "execution_count": 52,
   "id": "f271c2ba-8f3c-49d6-8834-f4f12dde897d",
   "metadata": {},
   "outputs": [],
   "source": [
    "class Rectangle:\n",
    "    def __init__(self, l, b):\n",
    "        self.l = l\n",
    "        self.b = b\n",
    "        \n",
    "    def area(self):\n",
    "        self.area = self.l * self.b\n",
    "        return self.area\n",
    "\n",
    "    def perimeter(self):\n",
    "        return 2 * (self.l + self.b)\n",
    "    "
   ]
  },
  {
   "cell_type": "code",
   "execution_count": 61,
   "id": "a1293829-541c-4d8b-96a6-cbcb5932c1a8",
   "metadata": {},
   "outputs": [
    {
     "data": {
      "text/plain": [
       "15"
      ]
     },
     "execution_count": 61,
     "metadata": {},
     "output_type": "execute_result"
    }
   ],
   "source": [
    "r1 = Rectangle(l=5, b=3)\n",
    "r1.area()"
   ]
  },
  {
   "cell_type": "code",
   "execution_count": 62,
   "id": "946b6ea6-7575-4b92-852f-587585564f42",
   "metadata": {},
   "outputs": [
    {
     "data": {
      "text/plain": [
       "16"
      ]
     },
     "execution_count": 62,
     "metadata": {},
     "output_type": "execute_result"
    }
   ],
   "source": [
    "r1.perimeter()"
   ]
  },
  {
   "cell_type": "code",
   "execution_count": 71,
   "id": "90cf990f-1b69-4b29-948d-aead4df60399",
   "metadata": {},
   "outputs": [],
   "source": [
    "import math\n",
    "class Circle:\n",
    "    def __init__(self, r):\n",
    "        self.r = r\n",
    "\n",
    "    def area(self):\n",
    "        return math.pi * self.r ** 2\n",
    "\n",
    "    def perimeter(self):\n",
    "        return 2 * math.pi * self.r\n"
   ]
  },
  {
   "cell_type": "code",
   "execution_count": 73,
   "id": "207b5f36-8033-4e20-b335-94331aaaf01e",
   "metadata": {},
   "outputs": [],
   "source": [
    "c1 = Circle(r=4)"
   ]
  },
  {
   "cell_type": "code",
   "execution_count": 68,
   "id": "94fd9d6c-2a78-45df-834c-6e0fcc8022c9",
   "metadata": {},
   "outputs": [
    {
     "data": {
      "text/plain": [
       "50.26548245743669"
      ]
     },
     "execution_count": 68,
     "metadata": {},
     "output_type": "execute_result"
    }
   ],
   "source": [
    "c1.area()"
   ]
  },
  {
   "cell_type": "code",
   "execution_count": 74,
   "id": "f0fe04d3-5c75-445d-a661-65b5370b337d",
   "metadata": {},
   "outputs": [
    {
     "data": {
      "text/plain": [
       "25.132741228718345"
      ]
     },
     "execution_count": 74,
     "metadata": {},
     "output_type": "execute_result"
    }
   ],
   "source": [
    "c1.perimeter()"
   ]
  },
  {
   "cell_type": "markdown",
   "id": "8416dd59-aa2f-4402-8df0-c50121945067",
   "metadata": {},
   "source": [
    "# Volume of sphere"
   ]
  },
  {
   "cell_type": "code",
   "execution_count": 9,
   "id": "d73218d6-4a45-43f0-97f8-9a4050a74de3",
   "metadata": {},
   "outputs": [
    {
     "name": "stdin",
     "output_type": "stream",
     "text": [
      "Enter a radius:  4\n"
     ]
    },
    {
     "data": {
      "text/plain": [
       "268.083"
      ]
     },
     "execution_count": 9,
     "metadata": {},
     "output_type": "execute_result"
    }
   ],
   "source": [
    "import math\n",
    "\n",
    "class Sphere():\n",
    "    def __init__(self, radius):\n",
    "        self.radius = radius\n",
    "\n",
    "    def volume(self):\n",
    "        return round((4 / 3 * math.pi * r ** 3), 3)\n",
    "\n",
    "r = float(input(\"Enter a radius: \"))\n",
    "sphere = Sphere(radius=r)\n",
    "sphere.volume()"
   ]
  },
  {
   "cell_type": "code",
   "execution_count": 7,
   "id": "663cfd96-f0fd-4344-8e10-cf312e5e4092",
   "metadata": {},
   "outputs": [
    {
     "name": "stdout",
     "output_type": "stream",
     "text": [
      "60 50 275 11.0 503284375 0\n"
     ]
    }
   ],
   "source": [
    "class Calculator():\n",
    "    def __init__(self, a, b):\n",
    "        self.a = a\n",
    "        self.b = b\n",
    "\n",
    "    def add(self):\n",
    "        sum = self.a + self.b\n",
    "        return sum\n",
    "\n",
    "    def diff(self):\n",
    "        return self.a - self.b\n",
    "\n",
    "    def mul(self):\n",
    "        return self.a * self.b\n",
    "\n",
    "    def div(self):\n",
    "        return self.a / self.b\n",
    "\n",
    "    def exp(self):\n",
    "        return self.a ** self.b\n",
    "\n",
    "    def mod(self):\n",
    "        return self.a % self.b\n",
    "\n",
    "calc = Calculator(a=55, b=5)\n",
    "print(calc.add(),\n",
    "calc.diff(),\n",
    "calc.mul(),\n",
    "calc.div(),\n",
    "calc.exp(),\n",
    "calc.mod())"
   ]
  },
  {
   "cell_type": "markdown",
   "id": "0586e215-eac4-4879-9681-f11161adf1ac",
   "metadata": {},
   "source": [
    "# Calculator"
   ]
  },
  {
   "cell_type": "code",
   "execution_count": 12,
   "id": "aa8bfbd5-01f6-45c2-b0e2-0e7c1a106125",
   "metadata": {},
   "outputs": [],
   "source": [
    "class Calculator:\n",
    "    def __init__(self):\n",
    "        pass\n",
    "\n",
    "    def add(self, *args):\n",
    "        total = 0\n",
    "        for i in args:\n",
    "            total += i\n",
    "        return total\n",
    "\n",
    "    def sub(self, a, b):\n",
    "        return a - b\n",
    "\n",
    "    def mean(self, *args):\n",
    "        total = 0\n",
    "        no_of_items = len(args)\n",
    "        for i in args:\n",
    "            total += i\n",
    "        mean = total / no_of_items\n",
    "        return mean\n",
    "\n",
    "    def square(self, n):\n",
    "        return n ** 2\n",
    "\n",
    "    def even_odd(self, n):\n",
    "        if n % 2 == 0:\n",
    "            return \"Even Number\"\n",
    "        else:\n",
    "            return \"Odd Number\"      "
   ]
  },
  {
   "cell_type": "code",
   "execution_count": 28,
   "id": "c18ca25f-c7fd-4b3e-af66-5ea1e71f5236",
   "metadata": {},
   "outputs": [
    {
     "name": "stdout",
     "output_type": "stream",
     "text": [
      "\n",
      "Add: 207,\n",
      "Sub: 18.8,\n",
      "Mean: 53.0,\n",
      "Square: 121,\n",
      "Even or Odd: Odd Number\n"
     ]
    }
   ],
   "source": [
    "calc = Calculator()\n",
    "print(f\"\"\"\n",
    "Add: {calc.add(5, 23, 34, 23, 99, 23)},\n",
    "Sub: {calc.sub(44, 25.2)},\n",
    "Mean: {calc.mean(34, 23, 23, 98, 75, 65)},\n",
    "Square: {calc.square(11)},\n",
    "Even or Odd: {calc.even_odd(111)}\"\"\")"
   ]
  },
  {
   "cell_type": "code",
   "execution_count": 2,
   "id": "b89e6cb6-a807-4968-a636-b44ed36e5bdc",
   "metadata": {},
   "outputs": [],
   "source": [
    "num = 121\n",
    "num_str = str(num)"
   ]
  },
  {
   "cell_type": "code",
   "execution_count": 3,
   "id": "aeac8e36-db53-4d2d-ab91-7ea8cd742440",
   "metadata": {},
   "outputs": [
    {
     "data": {
      "text/plain": [
       "'121'"
      ]
     },
     "execution_count": 3,
     "metadata": {},
     "output_type": "execute_result"
    }
   ],
   "source": [
    "num_str"
   ]
  },
  {
   "cell_type": "code",
   "execution_count": 4,
   "id": "090be911-d8e0-4358-95ab-30c5257e6a98",
   "metadata": {},
   "outputs": [
    {
     "data": {
      "text/plain": [
       "str"
      ]
     },
     "execution_count": 4,
     "metadata": {},
     "output_type": "execute_result"
    }
   ],
   "source": [
    "type(num_str)"
   ]
  },
  {
   "cell_type": "code",
   "execution_count": 5,
   "id": "6bba753b-715d-4358-84a8-296624bdc07d",
   "metadata": {},
   "outputs": [
    {
     "data": {
      "text/plain": [
       "'121'"
      ]
     },
     "execution_count": 5,
     "metadata": {},
     "output_type": "execute_result"
    }
   ],
   "source": [
    "num_str_rev = num_str[::-1]\n",
    "num_str_rev"
   ]
  },
  {
   "cell_type": "code",
   "execution_count": 6,
   "id": "bc32c47e-06fb-4cfa-8a8e-b92cedd24ac1",
   "metadata": {},
   "outputs": [],
   "source": [
    "num_str_rev = int(num_str_rev)"
   ]
  },
  {
   "cell_type": "code",
   "execution_count": 7,
   "id": "885f89e2-3928-48ae-93e0-937c23c83961",
   "metadata": {},
   "outputs": [
    {
     "name": "stdout",
     "output_type": "stream",
     "text": [
      "Yes\n"
     ]
    }
   ],
   "source": [
    "if num == num_str_rev:\n",
    "    print(\"Yes\")"
   ]
  },
  {
   "cell_type": "code",
   "execution_count": null,
   "id": "ef1f01d6-8046-4a32-8198-1fc4b117d9f8",
   "metadata": {},
   "outputs": [],
   "source": []
  }
 ],
 "metadata": {
  "kernelspec": {
   "display_name": "Python 3 (ipykernel)",
   "language": "python",
   "name": "python3"
  },
  "language_info": {
   "codemirror_mode": {
    "name": "ipython",
    "version": 3
   },
   "file_extension": ".py",
   "mimetype": "text/x-python",
   "name": "python",
   "nbconvert_exporter": "python",
   "pygments_lexer": "ipython3",
   "version": "3.12.0"
  }
 },
 "nbformat": 4,
 "nbformat_minor": 5
}
