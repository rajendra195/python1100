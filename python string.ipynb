{
 "cells": [
  {
   "cell_type": "code",
   "execution_count": 3,
   "id": "74410a1e-efc9-48f9-b43c-81894fc8b29e",
   "metadata": {},
   "outputs": [
    {
     "data": {
      "text/plain": [
       "'Rajendra Niroula'"
      ]
     },
     "execution_count": 3,
     "metadata": {},
     "output_type": "execute_result"
    }
   ],
   "source": [
    "first_name = \"Rajendra\"\n",
    "last_name = \"Niroula\"\n",
    "name = first_name + \" \" + last_name\n",
    "name"
   ]
  },
  {
   "cell_type": "code",
   "execution_count": 4,
   "id": "d2c7fa36-813a-4a34-87d0-c0bf134be02c",
   "metadata": {},
   "outputs": [
    {
     "data": {
      "text/plain": [
       "str"
      ]
     },
     "execution_count": 4,
     "metadata": {},
     "output_type": "execute_result"
    }
   ],
   "source": [
    "type(first_name)"
   ]
  },
  {
   "cell_type": "code",
   "execution_count": 5,
   "id": "c3a170f4-0349-40b9-a3b2-985182097e0a",
   "metadata": {},
   "outputs": [
    {
     "data": {
      "text/plain": [
       "str"
      ]
     },
     "execution_count": 5,
     "metadata": {},
     "output_type": "execute_result"
    }
   ],
   "source": [
    "type(name)"
   ]
  },
  {
   "cell_type": "code",
   "execution_count": 14,
   "id": "b7ccb49f-66ac-481f-b683-fe0d692a47d1",
   "metadata": {},
   "outputs": [
    {
     "ename": "AssertionError",
     "evalue": "",
     "output_type": "error",
     "traceback": [
      "\u001b[1;31m---------------------------------------------------------------------------\u001b[0m",
      "\u001b[1;31mAssertionError\u001b[0m                            Traceback (most recent call last)",
      "Cell \u001b[1;32mIn[14], line 2\u001b[0m\n\u001b[0;32m      1\u001b[0m time \u001b[38;5;241m=\u001b[39m \u001b[38;5;241m24\u001b[39m\n\u001b[1;32m----> 2\u001b[0m \u001b[38;5;28;01massert\u001b[39;00m time \u001b[38;5;241m==\u001b[39m \u001b[38;5;241m23\u001b[39m\n",
      "\u001b[1;31mAssertionError\u001b[0m: "
     ]
    }
   ],
   "source": [
    "time = 24\n",
    "assert time == 23"
   ]
  },
  {
   "cell_type": "markdown",
   "id": "a7927594-1326-4152-8260-84b235f9e51d",
   "metadata": {},
   "source": [
    "# SINGLE LINE STRING (\" \")"
   ]
  },
  {
   "cell_type": "code",
   "execution_count": 16,
   "id": "60cc6c3d-0476-49b2-94eb-5dc686fad3bc",
   "metadata": {},
   "outputs": [
    {
     "name": "stdout",
     "output_type": "stream",
     "text": [
      "How are you?\n"
     ]
    }
   ],
   "source": [
    "msg = \"How are you?\"\n",
    "print(msg)"
   ]
  },
  {
   "cell_type": "markdown",
   "id": "c1fbc852-aef6-48d6-acdb-4efd577eca34",
   "metadata": {},
   "source": [
    "# MULTI LINE STRING (\"\"\" \"\"\")"
   ]
  },
  {
   "cell_type": "code",
   "execution_count": 22,
   "id": "3159edfc-0dae-41f7-977e-3389c9166bce",
   "metadata": {},
   "outputs": [
    {
     "name": "stdout",
     "output_type": "stream",
     "text": [
      "संसार रुपी सुख स्वर्गभित्र,\n",
      "रमें रमाएँ लिइ भित्र चित्र ।\n",
      "सारा भयो त्यो मरुभूमि तुल्य,\n",
      "रातै परेझैं अब बुझ्छु बल्ल ।\n",
      "रहेछ संसार निशा समान,\n",
      "आएन ज्यूँदै रहँदा नि ज्ञान ।\n",
      "आखीर श्रीकृष्ण रहेछ एक,\n",
      "न भक्ति भो, ज्ञान, नभो विवेक ।\n",
      "महामरुमा कणझैं म तातो,\n",
      "जलेर मर्दो बिनु आश लाटो ।\n",
      "सुकी रहेको तरुझैं छु खाली,\n",
      "चिताग्नि तापी जल डाल्न फाली ।\n",
      "संस्कार आफ्नो सब नै गुमाएँ,\n",
      "म शून्यमा शून्य सरी बिलाएँ ।\n",
      "जन्मेँ म यो स्वर्गविषे पलाएँ,\n",
      "आखीर भै खाक त्यसै बिलाएँ\n"
     ]
    }
   ],
   "source": [
    "poem = \"\"\"संसार रुपी सुख स्वर्गभित्र,\n",
    "रमें रमाएँ लिइ भित्र चित्र ।\n",
    "सारा भयो त्यो मरुभूमि तुल्य,\n",
    "रातै परेझैं अब बुझ्छु बल्ल ।\n",
    "रहेछ संसार निशा समान,\n",
    "आएन ज्यूँदै रहँदा नि ज्ञान ।\n",
    "आखीर श्रीकृष्ण रहेछ एक,\n",
    "न भक्ति भो, ज्ञान, नभो विवेक ।\n",
    "महामरुमा कणझैं म तातो,\n",
    "जलेर मर्दो बिनु आश लाटो ।\n",
    "सुकी रहेको तरुझैं छु खाली,\n",
    "चिताग्नि तापी जल डाल्न फाली ।\n",
    "संस्कार आफ्नो सब नै गुमाएँ,\n",
    "म शून्यमा शून्य सरी बिलाएँ ।\n",
    "जन्मेँ म यो स्वर्गविषे पलाएँ,\n",
    "आखीर भै खाक त्यसै बिलाएँ\"\"\"\n",
    "print(poem)"
   ]
  },
  {
   "cell_type": "code",
   "execution_count": 24,
   "id": "e71cdb8f-fdaa-48e4-be4d-740d89ddf8d3",
   "metadata": {},
   "outputs": [
    {
     "name": "stdout",
     "output_type": "stream",
     "text": [
      "name\n"
     ]
    }
   ],
   "source": [
    "print(\"\"\"name\"\"\")"
   ]
  },
  {
   "cell_type": "code",
   "execution_count": 25,
   "id": "8d7298d1-00a5-4bfa-a695-74095c95cb0b",
   "metadata": {},
   "outputs": [],
   "source": [
    "name = \"\"\"Rajendra\"\"\""
   ]
  },
  {
   "cell_type": "code",
   "execution_count": 26,
   "id": "e69affea-3b1d-4fdb-b79c-7f8bbd298507",
   "metadata": {},
   "outputs": [
    {
     "data": {
      "text/plain": [
       "'Rajendra'"
      ]
     },
     "execution_count": 26,
     "metadata": {},
     "output_type": "execute_result"
    }
   ],
   "source": [
    "name"
   ]
  },
  {
   "cell_type": "code",
   "execution_count": 28,
   "id": "19842b91-54a6-43d6-b97c-af0bc2bc6465",
   "metadata": {},
   "outputs": [
    {
     "data": {
      "text/plain": [
       "str"
      ]
     },
     "execution_count": 28,
     "metadata": {},
     "output_type": "execute_result"
    }
   ],
   "source": [
    "type(poem)"
   ]
  },
  {
   "cell_type": "markdown",
   "id": "64a3190b-e556-4785-8c1b-f95acd2fa145",
   "metadata": {},
   "source": [
    "# indexing and slicing"
   ]
  },
  {
   "cell_type": "code",
   "execution_count": 29,
   "id": "614e5922-35e2-4bad-ba5c-a22245238f62",
   "metadata": {},
   "outputs": [],
   "source": [
    "text = \"Hello World\""
   ]
  },
  {
   "cell_type": "code",
   "execution_count": 37,
   "id": "e22e036e-bbcd-4883-879e-a7e7e3d502d2",
   "metadata": {},
   "outputs": [
    {
     "data": {
      "text/plain": [
       "'H'"
      ]
     },
     "execution_count": 37,
     "metadata": {},
     "output_type": "execute_result"
    }
   ],
   "source": [
    "text[0]"
   ]
  },
  {
   "cell_type": "code",
   "execution_count": 41,
   "id": "6cc23b60-ba57-43ff-8713-6433bbc08373",
   "metadata": {},
   "outputs": [
    {
     "data": {
      "text/plain": [
       "'e'"
      ]
     },
     "execution_count": 41,
     "metadata": {},
     "output_type": "execute_result"
    }
   ],
   "source": [
    "text[1]"
   ]
  },
  {
   "cell_type": "code",
   "execution_count": 39,
   "id": "22bab667-0566-4949-a539-fe8961aefaa1",
   "metadata": {},
   "outputs": [
    {
     "data": {
      "text/plain": [
       "'l'"
      ]
     },
     "execution_count": 39,
     "metadata": {},
     "output_type": "execute_result"
    }
   ],
   "source": [
    "text[2]"
   ]
  },
  {
   "cell_type": "code",
   "execution_count": 40,
   "id": "9eda8c93-a7b1-4a09-9001-8d38e4f06fda",
   "metadata": {},
   "outputs": [
    {
     "data": {
      "text/plain": [
       "'l'"
      ]
     },
     "execution_count": 40,
     "metadata": {},
     "output_type": "execute_result"
    }
   ],
   "source": [
    "text[3]"
   ]
  },
  {
   "cell_type": "code",
   "execution_count": 42,
   "id": "15ace8e9-2be6-4dd8-899c-4194cf8d30f6",
   "metadata": {},
   "outputs": [
    {
     "data": {
      "text/plain": [
       "'o'"
      ]
     },
     "execution_count": 42,
     "metadata": {},
     "output_type": "execute_result"
    }
   ],
   "source": [
    "text[4]"
   ]
  },
  {
   "cell_type": "code",
   "execution_count": 43,
   "id": "7bc310e1-cba4-4478-aa1e-f5f18a80f262",
   "metadata": {},
   "outputs": [
    {
     "data": {
      "text/plain": [
       "' '"
      ]
     },
     "execution_count": 43,
     "metadata": {},
     "output_type": "execute_result"
    }
   ],
   "source": [
    "text[5]"
   ]
  },
  {
   "cell_type": "code",
   "execution_count": 44,
   "id": "d23385e5-aa8e-4859-a677-814578dbf3d8",
   "metadata": {},
   "outputs": [
    {
     "data": {
      "text/plain": [
       "'W'"
      ]
     },
     "execution_count": 44,
     "metadata": {},
     "output_type": "execute_result"
    }
   ],
   "source": [
    "text[6]"
   ]
  },
  {
   "cell_type": "code",
   "execution_count": 45,
   "id": "a7e695ae-a46f-4cc3-af27-a73b47e8a5fc",
   "metadata": {},
   "outputs": [
    {
     "data": {
      "text/plain": [
       "'o'"
      ]
     },
     "execution_count": 45,
     "metadata": {},
     "output_type": "execute_result"
    }
   ],
   "source": [
    "text[7]"
   ]
  },
  {
   "cell_type": "code",
   "execution_count": 46,
   "id": "0e4a75a6-82f6-4045-bedb-50225d16253e",
   "metadata": {},
   "outputs": [
    {
     "data": {
      "text/plain": [
       "'r'"
      ]
     },
     "execution_count": 46,
     "metadata": {},
     "output_type": "execute_result"
    }
   ],
   "source": [
    "text[8]"
   ]
  },
  {
   "cell_type": "code",
   "execution_count": 47,
   "id": "1efac6eb-a2ab-4930-8bdb-1fe5c867a7d9",
   "metadata": {},
   "outputs": [
    {
     "data": {
      "text/plain": [
       "'l'"
      ]
     },
     "execution_count": 47,
     "metadata": {},
     "output_type": "execute_result"
    }
   ],
   "source": [
    "text[9]"
   ]
  },
  {
   "cell_type": "code",
   "execution_count": 48,
   "id": "acfa8381-9d42-4a24-91cb-e99f5e4f8ef5",
   "metadata": {},
   "outputs": [
    {
     "data": {
      "text/plain": [
       "'d'"
      ]
     },
     "execution_count": 48,
     "metadata": {},
     "output_type": "execute_result"
    }
   ],
   "source": [
    "text[10]"
   ]
  },
  {
   "cell_type": "code",
   "execution_count": 49,
   "id": "85a47481-c7da-4a66-8588-482f3992d0fe",
   "metadata": {},
   "outputs": [
    {
     "ename": "IndexError",
     "evalue": "string index out of range",
     "output_type": "error",
     "traceback": [
      "\u001b[1;31m---------------------------------------------------------------------------\u001b[0m",
      "\u001b[1;31mIndexError\u001b[0m                                Traceback (most recent call last)",
      "Cell \u001b[1;32mIn[49], line 1\u001b[0m\n\u001b[1;32m----> 1\u001b[0m \u001b[43mtext\u001b[49m\u001b[43m[\u001b[49m\u001b[38;5;241;43m11\u001b[39;49m\u001b[43m]\u001b[49m\n",
      "\u001b[1;31mIndexError\u001b[0m: string index out of range"
     ]
    }
   ],
   "source": [
    "text[11]"
   ]
  },
  {
   "cell_type": "code",
   "execution_count": 51,
   "id": "9dbb03bf-1fc7-4b28-92f1-9fe8f5f3f958",
   "metadata": {},
   "outputs": [
    {
     "data": {
      "text/plain": [
       "11"
      ]
     },
     "execution_count": 51,
     "metadata": {},
     "output_type": "execute_result"
    }
   ],
   "source": [
    "len(text)"
   ]
  },
  {
   "cell_type": "code",
   "execution_count": 54,
   "id": "6a7ddfe5-e755-4b2d-96a6-206321654534",
   "metadata": {},
   "outputs": [
    {
     "data": {
      "text/plain": [
       "'Hello World'"
      ]
     },
     "execution_count": 54,
     "metadata": {},
     "output_type": "execute_result"
    }
   ],
   "source": [
    "text"
   ]
  },
  {
   "cell_type": "code",
   "execution_count": 55,
   "id": "5c3fce09-8bb1-47e3-9a4b-9b3672c1b3e4",
   "metadata": {},
   "outputs": [
    {
     "data": {
      "text/plain": [
       "'llo'"
      ]
     },
     "execution_count": 55,
     "metadata": {},
     "output_type": "execute_result"
    }
   ],
   "source": [
    "text[2:5]"
   ]
  },
  {
   "cell_type": "code",
   "execution_count": 56,
   "id": "2e9c2c2a-7789-4fce-b23d-e2e91faf49e2",
   "metadata": {},
   "outputs": [
    {
     "data": {
      "text/plain": [
       "'rld'"
      ]
     },
     "execution_count": 56,
     "metadata": {},
     "output_type": "execute_result"
    }
   ],
   "source": [
    "text[8:11]"
   ]
  },
  {
   "cell_type": "markdown",
   "id": "aa75fd54-264b-44fe-ae11-0ba5394d5160",
   "metadata": {},
   "source": [
    "# indexing ma last ko index ko value print hudaina\n"
   ]
  },
  {
   "cell_type": "code",
   "execution_count": 57,
   "id": "db0fb227-bb95-4862-bf8e-29341e972a12",
   "metadata": {},
   "outputs": [
    {
     "data": {
      "text/plain": [
       "'Hello'"
      ]
     },
     "execution_count": 57,
     "metadata": {},
     "output_type": "execute_result"
    }
   ],
   "source": [
    "text[0:5]"
   ]
  },
  {
   "cell_type": "code",
   "execution_count": 59,
   "id": "053f23fb-25d3-471a-9a49-9d999bf7c63f",
   "metadata": {},
   "outputs": [
    {
     "data": {
      "text/plain": [
       "'World'"
      ]
     },
     "execution_count": 59,
     "metadata": {},
     "output_type": "execute_result"
    }
   ],
   "source": [
    "text[6:11]"
   ]
  },
  {
   "cell_type": "code",
   "execution_count": 61,
   "id": "ab034b13-c53d-45c4-8034-06036dac6366",
   "metadata": {},
   "outputs": [
    {
     "data": {
      "text/plain": [
       "'Hello'"
      ]
     },
     "execution_count": 61,
     "metadata": {},
     "output_type": "execute_result"
    }
   ],
   "source": [
    "text[:5]"
   ]
  },
  {
   "cell_type": "code",
   "execution_count": 62,
   "id": "3f93bc3c-97e2-407e-8c5b-5b46221b33f9",
   "metadata": {},
   "outputs": [
    {
     "data": {
      "text/plain": [
       "'HloWrd'"
      ]
     },
     "execution_count": 62,
     "metadata": {},
     "output_type": "execute_result"
    }
   ],
   "source": [
    "# [start: end: step]\n",
    "text[0:11:2]"
   ]
  },
  {
   "cell_type": "code",
   "execution_count": 63,
   "id": "6d56498d-91f1-439d-a5c9-496d829bccbe",
   "metadata": {},
   "outputs": [
    {
     "data": {
      "text/plain": [
       "'HloWrd'"
      ]
     },
     "execution_count": 63,
     "metadata": {},
     "output_type": "execute_result"
    }
   ],
   "source": [
    "text[::2]"
   ]
  },
  {
   "cell_type": "code",
   "execution_count": 70,
   "id": "fe3b5934-c2e7-4c25-b61d-82e37190dd1c",
   "metadata": {},
   "outputs": [
    {
     "data": {
      "text/plain": [
       "'World'"
      ]
     },
     "execution_count": 70,
     "metadata": {},
     "output_type": "execute_result"
    }
   ],
   "source": [
    "text[6:11]"
   ]
  },
  {
   "cell_type": "code",
   "execution_count": 69,
   "id": "5e7e1bac-0f14-469e-ba3c-ab26372bf817",
   "metadata": {},
   "outputs": [
    {
     "data": {
      "text/plain": [
       "'World'"
      ]
     },
     "execution_count": 69,
     "metadata": {},
     "output_type": "execute_result"
    }
   ],
   "source": [
    "text[6:]"
   ]
  },
  {
   "cell_type": "code",
   "execution_count": 71,
   "id": "9a6c9b2d-f909-4f17-aef8-4bb79479b4de",
   "metadata": {},
   "outputs": [
    {
     "data": {
      "text/plain": [
       "'d'"
      ]
     },
     "execution_count": 71,
     "metadata": {},
     "output_type": "execute_result"
    }
   ],
   "source": [
    "text[-1]"
   ]
  },
  {
   "cell_type": "code",
   "execution_count": null,
   "id": "ce68d113-5969-49a7-acdb-beb703ed4466",
   "metadata": {},
   "outputs": [],
   "source": []
  }
 ],
 "metadata": {
  "kernelspec": {
   "display_name": "Python 3 (ipykernel)",
   "language": "python",
   "name": "python3"
  },
  "language_info": {
   "codemirror_mode": {
    "name": "ipython",
    "version": 3
   },
   "file_extension": ".py",
   "mimetype": "text/x-python",
   "name": "python",
   "nbconvert_exporter": "python",
   "pygments_lexer": "ipython3",
   "version": "3.12.0"
  }
 },
 "nbformat": 4,
 "nbformat_minor": 5
}
