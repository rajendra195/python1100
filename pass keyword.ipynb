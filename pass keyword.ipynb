{
 "cells": [
  {
   "cell_type": "code",
   "execution_count": 1,
   "id": "05641ad2-cef7-46cd-8f0e-0ffc708194a6",
   "metadata": {},
   "outputs": [
    {
     "ename": "SyntaxError",
     "evalue": "incomplete input (2073817663.py, line 1)",
     "output_type": "error",
     "traceback": [
      "\u001b[1;36m  Cell \u001b[1;32mIn[1], line 1\u001b[1;36m\u001b[0m\n\u001b[1;33m    if 10 == 10:\u001b[0m\n\u001b[1;37m                ^\u001b[0m\n\u001b[1;31mSyntaxError\u001b[0m\u001b[1;31m:\u001b[0m incomplete input\n"
     ]
    }
   ],
   "source": [
    "if 10 == 10:"
   ]
  },
  {
   "cell_type": "code",
   "execution_count": 6,
   "id": "405d2c48-9b5a-4ab3-8919-213576715ae1",
   "metadata": {},
   "outputs": [],
   "source": [
    "if 10 == 10:\n",
    "    pass # placeholder to write future code"
   ]
  },
  {
   "cell_type": "code",
   "execution_count": 4,
   "id": "77287ca5-3965-4f45-8f32-ecb3fc88ccde",
   "metadata": {},
   "outputs": [],
   "source": [
    "def test():\n",
    "    pass"
   ]
  },
  {
   "cell_type": "code",
   "execution_count": 5,
   "id": "06bb0cdf-826b-488a-b42b-e4734cbbebf7",
   "metadata": {},
   "outputs": [],
   "source": [
    "test()"
   ]
  },
  {
   "cell_type": "markdown",
   "id": "bd9944ef-3577-4b86-a7d9-610c7bec79f4",
   "metadata": {},
   "source": [
    "# pass is a placeholder to write future code"
   ]
  },
  {
   "cell_type": "code",
   "execution_count": null,
   "id": "2d87dde5-81cf-447d-916c-469bde286411",
   "metadata": {},
   "outputs": [],
   "source": []
  }
 ],
 "metadata": {
  "kernelspec": {
   "display_name": "Python 3 (ipykernel)",
   "language": "python",
   "name": "python3"
  },
  "language_info": {
   "codemirror_mode": {
    "name": "ipython",
    "version": 3
   },
   "file_extension": ".py",
   "mimetype": "text/x-python",
   "name": "python",
   "nbconvert_exporter": "python",
   "pygments_lexer": "ipython3",
   "version": "3.12.0"
  }
 },
 "nbformat": 4,
 "nbformat_minor": 5
}
