{
 "cells": [
  {
   "cell_type": "code",
   "execution_count": 2,
   "id": "682dea6e-2b3d-4a71-bda2-a8d7bf8470a4",
   "metadata": {},
   "outputs": [
    {
     "name": "stdin",
     "output_type": "stream",
     "text": [
      "Enter radius: 4\n"
     ]
    },
    {
     "name": "stdout",
     "output_type": "stream",
     "text": [
      "The volume is 268.082573106329\n"
     ]
    }
   ],
   "source": [
    "import math\n",
    "r = float(input(\"Enter radius:\"))\n",
    "volume = 4 / 3 * math.pi * r ** 3\n",
    "print(f\"The volume is {volume}\")"
   ]
  },
  {
   "cell_type": "code",
   "execution_count": 5,
   "id": "1a23a5cc-5b02-4b96-86cc-25eada25b8ac",
   "metadata": {},
   "outputs": [
    {
     "name": "stdout",
     "output_type": "stream",
     "text": [
      "10\n"
     ]
    }
   ],
   "source": [
    "x = 2\n",
    "y = 4 + 3 * x\n",
    "print(y)"
   ]
  },
  {
   "cell_type": "code",
   "execution_count": 20,
   "id": "e5294ee9-ea6c-4ffb-8d97-236818793072",
   "metadata": {},
   "outputs": [
    {
     "name": "stdin",
     "output_type": "stream",
     "text": [
      "Enter first number: 3\n",
      "Enter second number: 4\n",
      "What operation you want to perform? Click 1 for addition, 2 for substraction, 3 for multiplication and 4 for division: 5\n"
     ]
    },
    {
     "name": "stdout",
     "output_type": "stream",
     "text": [
      "Error\n"
     ]
    }
   ],
   "source": [
    "first_number = float(input(\"Enter first number:\"))\n",
    "second_number = float(input(\"Enter second number:\"))\n",
    "operation = int(input(\"What operation you want to perform? Click 1 for addition, 2 for substraction, 3 for multiplication and 4 for division:\"))\n",
    "if operation == 1:\n",
    "    sum = first_number + second_number\n",
    "    print(f\"The sum is {sum}.\")\n",
    "elif operation == 2:\n",
    "    diff = first_number - second_number\n",
    "    print(f\"The difference is {diff}.\")\n",
    "elif operation == 3:\n",
    "    mul = first_number * second_number\n",
    "    print(f\"The multiplication is {mul}.\")\n",
    "elif operation == 4:\n",
    "    div = first_number / second_number\n",
    "    print(f\"The division is {div}.\")\n",
    "else: \n",
    "    print(\"Error\")"
   ]
  },
  {
   "cell_type": "markdown",
   "id": "6d54cf89-f068-438f-82cd-080d7a6c8464",
   "metadata": {},
   "source": [
    "# Condition and Recursion"
   ]
  },
  {
   "cell_type": "markdown",
   "id": "dc07d463-0939-4567-8c51-3945955bbe44",
   "metadata": {},
   "source": [
    "* Modulus Operator (%) => Gives Remainder"
   ]
  },
  {
   "cell_type": "code",
   "execution_count": 7,
   "id": "6b13e411-aae5-421a-ae52-49ed8aadc1c0",
   "metadata": {},
   "outputs": [
    {
     "data": {
      "text/plain": [
       "1"
      ]
     },
     "execution_count": 7,
     "metadata": {},
     "output_type": "execute_result"
    }
   ],
   "source": [
    "5 % 2"
   ]
  },
  {
   "cell_type": "code",
   "execution_count": 9,
   "id": "51a9fa91-7f0c-4396-9b0d-6716f3add4d5",
   "metadata": {},
   "outputs": [
    {
     "data": {
      "text/plain": [
       "4"
      ]
     },
     "execution_count": 9,
     "metadata": {},
     "output_type": "execute_result"
    }
   ],
   "source": [
    "59 % 11"
   ]
  },
  {
   "cell_type": "markdown",
   "id": "cef62955-8a84-4caf-ae60-0fa0a34317a3",
   "metadata": {},
   "source": [
    "* Boolean Expressions (True, False)"
   ]
  },
  {
   "cell_type": "code",
   "execution_count": 31,
   "id": "840212c1-0e07-4beb-9a51-b3ece58f7434",
   "metadata": {},
   "outputs": [
    {
     "name": "stdout",
     "output_type": "stream",
     "text": [
      "True\n"
     ]
    }
   ],
   "source": [
    "True"
   ]
  },
  {
   "cell_type": "code",
   "execution_count": 30,
   "id": "4b3f5f63-baa8-4197-9849-8266f042c5ec",
   "metadata": {},
   "outputs": [
    {
     "data": {
      "text/plain": [
       "False"
      ]
     },
     "execution_count": 30,
     "metadata": {},
     "output_type": "execute_result"
    }
   ],
   "source": [
    "False"
   ]
  },
  {
   "cell_type": "code",
   "execution_count": 32,
   "id": "0c562384-28dc-4a1c-95ff-d3f82ef08638",
   "metadata": {},
   "outputs": [
    {
     "data": {
      "text/plain": [
       "2"
      ]
     },
     "execution_count": 32,
     "metadata": {},
     "output_type": "execute_result"
    }
   ],
   "source": [
    "True + True"
   ]
  },
  {
   "cell_type": "code",
   "execution_count": 33,
   "id": "6c3e018a-d3f9-40ea-b29e-f596198b3345",
   "metadata": {},
   "outputs": [
    {
     "data": {
      "text/plain": [
       "1"
      ]
     },
     "execution_count": 33,
     "metadata": {},
     "output_type": "execute_result"
    }
   ],
   "source": [
    "True + False"
   ]
  },
  {
   "cell_type": "code",
   "execution_count": 34,
   "id": "fe479609-5267-4b76-a9c9-80a2fe7a2b65",
   "metadata": {},
   "outputs": [
    {
     "data": {
      "text/plain": [
       "1"
      ]
     },
     "execution_count": 34,
     "metadata": {},
     "output_type": "execute_result"
    }
   ],
   "source": [
    "False + True"
   ]
  },
  {
   "cell_type": "code",
   "execution_count": 35,
   "id": "1199e689-c2c7-4a82-b214-e2db64683fa3",
   "metadata": {},
   "outputs": [
    {
     "data": {
      "text/plain": [
       "0"
      ]
     },
     "execution_count": 35,
     "metadata": {},
     "output_type": "execute_result"
    }
   ],
   "source": [
    "False + False"
   ]
  },
  {
   "cell_type": "code",
   "execution_count": 36,
   "id": "ad2fb98b-bc64-4a98-a7a7-204da1a7c690",
   "metadata": {},
   "outputs": [
    {
     "data": {
      "text/plain": [
       "True"
      ]
     },
     "execution_count": 36,
     "metadata": {},
     "output_type": "execute_result"
    }
   ],
   "source": [
    "True == 1 # value of True is 1 and False is 0\n",
    "False == 0"
   ]
  },
  {
   "cell_type": "code",
   "execution_count": 10,
   "id": "8e432ad8-a958-47e3-85a6-ef682f67f4ff",
   "metadata": {},
   "outputs": [
    {
     "name": "stdout",
     "output_type": "stream",
     "text": [
      "Good work.\n"
     ]
    }
   ],
   "source": [
    "# Using Boolean values\n",
    "result_1 = True\n",
    "result_2 = False\n",
    "if result_1 is True:\n",
    "    print(\"Good work.\")"
   ]
  },
  {
   "cell_type": "code",
   "execution_count": 12,
   "id": "f8772256-3a83-462b-b8eb-e7d05233ac6a",
   "metadata": {},
   "outputs": [
    {
     "name": "stdout",
     "output_type": "stream",
     "text": [
      "False True\n"
     ]
    }
   ],
   "source": [
    "# Comparison operators(==, <, >, <=, >=, != )\n",
    "x = 5\n",
    "y = 10\n",
    "z = 10\n",
    "result_1 = x == y\n",
    "result_2 = y == z\n",
    "print(result_1, result_2)"
   ]
  },
  {
   "cell_type": "code",
   "execution_count": 14,
   "id": "d2d174ba-8cc1-4cee-994b-58088db4e515",
   "metadata": {},
   "outputs": [
    {
     "name": "stdout",
     "output_type": "stream",
     "text": [
      "The value of y is equal to z.\n"
     ]
    }
   ],
   "source": [
    "if x == y: # False\n",
    "    print(\"The value of x is equal to y.\")\n",
    "elif x == z:\n",
    "    print(\"The value of x is equal to z.\")\n",
    "elif y == z: # True\n",
    "    print(\"The value of y is equal to z.\")\n",
    "else:\n",
    "    print(\"Other\")"
   ]
  },
  {
   "cell_type": "code",
   "execution_count": 20,
   "id": "99c4f50b-7fc9-466f-a13e-1512d4f828b9",
   "metadata": {},
   "outputs": [
    {
     "name": "stdout",
     "output_type": "stream",
     "text": [
      "The value of y is greater than x.\n",
      "The value of z is greater than x.\n"
     ]
    }
   ],
   "source": [
    "if x > y:\n",
    "    print(\"The value of x is greater than y.\")\n",
    "if x > z:\n",
    "    print(\"The value of x is greater than z.\")\n",
    "if y > x:\n",
    "    print(\"The value of y is greater than x.\")\n",
    "if y > z:\n",
    "    print(\"The value of y is greater than z.\")\n",
    "if z > x:\n",
    "    print(\"The value of z is greater than x.\")\n",
    "if z > y:\n",
    "    print(\"The value of z is greater than y.\")"
   ]
  },
  {
   "cell_type": "code",
   "execution_count": 23,
   "id": "2d6dd1e5-7460-47fd-ae35-391ee553d0d6",
   "metadata": {},
   "outputs": [
    {
     "name": "stdout",
     "output_type": "stream",
     "text": [
      "The value of x is less to y.\n"
     ]
    }
   ],
   "source": [
    "if x <= y:\n",
    "    print(f\"The value of x is {\"less\" if x < y else \"equal\"} to y.\") # one line condition statement"
   ]
  },
  {
   "cell_type": "code",
   "execution_count": 24,
   "id": "7938c25d-0472-41bc-8ca3-2e3370f5d0de",
   "metadata": {},
   "outputs": [
    {
     "name": "stdout",
     "output_type": "stream",
     "text": [
      "The value of y is equal to z.\n"
     ]
    }
   ],
   "source": [
    "if y >= z:\n",
    "    print(f\"The value of y is {\"equal\" if y == z else \"greater\"} to z.\")"
   ]
  },
  {
   "cell_type": "code",
   "execution_count": 25,
   "id": "0d0cf98c-24eb-43d6-9637-f3e8afbbd52e",
   "metadata": {},
   "outputs": [
    {
     "name": "stdout",
     "output_type": "stream",
     "text": [
      "The value of x is not equal to y.\n"
     ]
    }
   ],
   "source": [
    "if x != y:\n",
    "    print(\"The value of x is not equal to y.\")"
   ]
  },
  {
   "cell_type": "code",
   "execution_count": 26,
   "id": "00cf5c17-3f6f-4d1d-9367-4b36940b02c8",
   "metadata": {},
   "outputs": [
    {
     "name": "stdout",
     "output_type": "stream",
     "text": [
      "The value of y and z are equal.\n"
     ]
    }
   ],
   "source": [
    "if y != z:\n",
    "    print(\"The value of y is not equal to z.\")\n",
    "else:\n",
    "    print(\"The value of y and z are equal.\")"
   ]
  },
  {
   "cell_type": "markdown",
   "id": "9285a4e1-f290-4792-bc7e-53e836b2c441",
   "metadata": {},
   "source": [
    "# Logical operators (and, or, not)"
   ]
  },
  {
   "cell_type": "code",
   "execution_count": 37,
   "id": "4d2f17a8-6b29-4775-a80a-4ca545e2993c",
   "metadata": {},
   "outputs": [
    {
     "data": {
      "text/plain": [
       "False"
      ]
     },
     "execution_count": 37,
     "metadata": {},
     "output_type": "execute_result"
    }
   ],
   "source": [
    "x = True\n",
    "y = False\n",
    "result_1 = x and y\n",
    "result_1"
   ]
  },
  {
   "cell_type": "code",
   "execution_count": null,
   "id": "0e8d5c19-f634-4a06-8808-bc31c52fca74",
   "metadata": {},
   "outputs": [],
   "source": [
    "result_2 = x or y\n",
    "result_2"
   ]
  },
  {
   "cell_type": "code",
   "execution_count": null,
   "id": "fff9260f-c1b7-4a45-a7bd-c096cc2ccc60",
   "metadata": {},
   "outputs": [],
   "source": [
    "result_3 = not x\n",
    "print(result_3)"
   ]
  },
  {
   "cell_type": "code",
   "execution_count": null,
   "id": "8d8d8576-45ec-458f-8479-6d66fd12d420",
   "metadata": {},
   "outputs": [],
   "source": [
    "print(\"HEllo world\")"
   ]
  },
  {
   "cell_type": "code",
   "execution_count": null,
   "id": "7e169bd6-e77d-4220-909d-96b5e9e7da6c",
   "metadata": {},
   "outputs": [],
   "source": []
  }
 ],
 "metadata": {
  "kernelspec": {
   "display_name": "Python 3 (ipykernel)",
   "language": "python",
   "name": "python3"
  },
  "language_info": {
   "codemirror_mode": {
    "name": "ipython",
    "version": 3
   },
   "file_extension": ".py",
   "mimetype": "text/x-python",
   "name": "python",
   "nbconvert_exporter": "python",
   "pygments_lexer": "ipython3",
   "version": "3.12.0"
  }
 },
 "nbformat": 4,
 "nbformat_minor": 5
}
