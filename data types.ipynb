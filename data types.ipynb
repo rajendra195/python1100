{
 "cells": [
  {
   "cell_type": "markdown",
   "id": "e307abc2-807b-44cf-b719-69f10b4a257f",
   "metadata": {},
   "source": [
    "# Checking data types"
   ]
  },
  {
   "cell_type": "code",
   "execution_count": 1,
   "id": "cdd39450-7eca-431b-9b7e-2cfdef4147b9",
   "metadata": {},
   "outputs": [
    {
     "data": {
      "text/plain": [
       "int"
      ]
     },
     "execution_count": 1,
     "metadata": {},
     "output_type": "execute_result"
    }
   ],
   "source": [
    "a = 5\n",
    "type(a)"
   ]
  },
  {
   "cell_type": "code",
   "execution_count": 2,
   "id": "73b11c20-cb11-48ed-9732-e03fce4a7dc6",
   "metadata": {},
   "outputs": [
    {
     "data": {
      "text/plain": [
       "float"
      ]
     },
     "execution_count": 2,
     "metadata": {},
     "output_type": "execute_result"
    }
   ],
   "source": [
    "b = 4.3\n",
    "type(b)"
   ]
  },
  {
   "cell_type": "code",
   "execution_count": 3,
   "id": "46967c9a-6b9b-478b-bbb1-331b889c2f3d",
   "metadata": {},
   "outputs": [
    {
     "data": {
      "text/plain": [
       "complex"
      ]
     },
     "execution_count": 3,
     "metadata": {},
     "output_type": "execute_result"
    }
   ],
   "source": [
    "c = 0.3 + 9j\n",
    "type(c)"
   ]
  },
  {
   "cell_type": "code",
   "execution_count": 4,
   "id": "8a7c8dfc-738c-4073-9efb-890ac45a2552",
   "metadata": {},
   "outputs": [
    {
     "data": {
      "text/plain": [
       "bool"
      ]
     },
     "execution_count": 4,
     "metadata": {},
     "output_type": "execute_result"
    }
   ],
   "source": [
    "astra = True\n",
    "type(astra)"
   ]
  },
  {
   "cell_type": "code",
   "execution_count": 5,
   "id": "8ae252ec-6176-4f0c-b07d-45610b280f77",
   "metadata": {},
   "outputs": [
    {
     "data": {
      "text/plain": [
       "str"
      ]
     },
     "execution_count": 5,
     "metadata": {},
     "output_type": "execute_result"
    }
   ],
   "source": [
    "message = \"Hello\"\n",
    "type(message)"
   ]
  },
  {
   "cell_type": "markdown",
   "id": "853e1211-823e-4c80-b6de-9369d0cadf09",
   "metadata": {},
   "source": [
    "# type validation\n",
    "how to check the variable is certain data type or not"
   ]
  },
  {
   "cell_type": "code",
   "execution_count": 6,
   "id": "8437b794-cdb3-4a50-b5c5-a54f8e8f6d38",
   "metadata": {},
   "outputs": [
    {
     "data": {
      "text/plain": [
       "True"
      ]
     },
     "execution_count": 6,
     "metadata": {},
     "output_type": "execute_result"
    }
   ],
   "source": [
    "isinstance(message, str)"
   ]
  },
  {
   "cell_type": "code",
   "execution_count": 7,
   "id": "3f7a320d-e178-4a5d-bb04-9ad7a011f8a3",
   "metadata": {},
   "outputs": [
    {
     "data": {
      "text/plain": [
       "True"
      ]
     },
     "execution_count": 7,
     "metadata": {},
     "output_type": "execute_result"
    }
   ],
   "source": [
    "isinstance(c, complex)"
   ]
  },
  {
   "cell_type": "code",
   "execution_count": 8,
   "id": "ec41005e-41d4-4b56-84c9-cd2631dc0bbf",
   "metadata": {},
   "outputs": [
    {
     "data": {
      "text/plain": [
       "True"
      ]
     },
     "execution_count": 8,
     "metadata": {},
     "output_type": "execute_result"
    }
   ],
   "source": [
    "isinstance(b, float)"
   ]
  },
  {
   "cell_type": "markdown",
   "id": "4007e3b6-8523-43c4-9c83-f87f32737385",
   "metadata": {},
   "source": [
    "# Data Types in Python\n",
    "int, float, string, boolean are primitive data types in python\n",
    "python numbers: int, float, complex\n",
    "* python list\n",
    "* python strings\n",
    "* python tuple\n",
    "* python set \n",
    "* python dictionary\n",
    "\n",
    "Note: List, tuple, set and dictionary are 4 built-in data types in python"
   ]
  },
  {
   "cell_type": "code",
   "execution_count": 9,
   "id": "3d44082d-aa7a-4477-a838-50e703be8420",
   "metadata": {},
   "outputs": [
    {
     "data": {
      "text/plain": [
       "2"
      ]
     },
     "execution_count": 9,
     "metadata": {},
     "output_type": "execute_result"
    }
   ],
   "source": [
    "True + True"
   ]
  },
  {
   "cell_type": "code",
   "execution_count": 11,
   "id": "ce82c301-b7e1-4246-8d71-9ca356d086e1",
   "metadata": {},
   "outputs": [
    {
     "data": {
      "text/plain": [
       "1"
      ]
     },
     "execution_count": 11,
     "metadata": {},
     "output_type": "execute_result"
    }
   ],
   "source": [
    "True + False"
   ]
  },
  {
   "cell_type": "code",
   "execution_count": 12,
   "id": "b708e175-b4a5-4881-bf12-dfa71c96b1a5",
   "metadata": {},
   "outputs": [
    {
     "data": {
      "text/plain": [
       "1"
      ]
     },
     "execution_count": 12,
     "metadata": {},
     "output_type": "execute_result"
    }
   ],
   "source": [
    "False + True"
   ]
  },
  {
   "cell_type": "code",
   "execution_count": 10,
   "id": "ec09e13b-f5dd-4eaa-975f-5d68e555c031",
   "metadata": {},
   "outputs": [
    {
     "data": {
      "text/plain": [
       "0"
      ]
     },
     "execution_count": 10,
     "metadata": {},
     "output_type": "execute_result"
    }
   ],
   "source": [
    "False + False"
   ]
  },
  {
   "cell_type": "markdown",
   "id": "8c8f8b47-77b8-42f1-98a5-835988b71fa3",
   "metadata": {},
   "source": [
    "# input function takes value in string format by default"
   ]
  },
  {
   "cell_type": "code",
   "execution_count": 1,
   "id": "2bbaa332-e185-4065-9322-81c9ef50fa9b",
   "metadata": {},
   "outputs": [
    {
     "name": "stdin",
     "output_type": "stream",
     "text": [
      "Enter a number:  45\n"
     ]
    }
   ],
   "source": [
    "num = input(\"Enter a number: \")"
   ]
  },
  {
   "cell_type": "code",
   "execution_count": 2,
   "id": "12ea02ad-0094-4a4b-b4dc-49b6af6d0de8",
   "metadata": {},
   "outputs": [
    {
     "data": {
      "text/plain": [
       "str"
      ]
     },
     "execution_count": 2,
     "metadata": {},
     "output_type": "execute_result"
    }
   ],
   "source": [
    "type(num)"
   ]
  },
  {
   "cell_type": "code",
   "execution_count": 8,
   "id": "907fc529-9c41-4bea-8a87-bd17034ec721",
   "metadata": {},
   "outputs": [
    {
     "name": "stdin",
     "output_type": "stream",
     "text": [
      "Enter any number: 45\n"
     ]
    }
   ],
   "source": [
    "num = int(input(\"Enter any number:\"))"
   ]
  },
  {
   "cell_type": "code",
   "execution_count": 11,
   "id": "e02a73ba-94e4-4ca8-ab9e-db46516349b2",
   "metadata": {},
   "outputs": [
    {
     "name": "stdout",
     "output_type": "stream",
     "text": [
      "45\n"
     ]
    },
    {
     "data": {
      "text/plain": [
       "int"
      ]
     },
     "execution_count": 11,
     "metadata": {},
     "output_type": "execute_result"
    }
   ],
   "source": [
    "print(num)\n",
    "type(num)"
   ]
  },
  {
   "cell_type": "code",
   "execution_count": 13,
   "id": "9945a5c3-e1eb-461d-bce2-9f1989e4b97d",
   "metadata": {},
   "outputs": [],
   "source": [
    "num = \"0.55\"\n",
    "num = float(num)"
   ]
  },
  {
   "cell_type": "code",
   "execution_count": 14,
   "id": "2ab8c75c-7aa5-4729-8187-92b9b4fe3666",
   "metadata": {},
   "outputs": [
    {
     "data": {
      "text/plain": [
       "float"
      ]
     },
     "execution_count": 14,
     "metadata": {},
     "output_type": "execute_result"
    }
   ],
   "source": [
    "type(num)"
   ]
  },
  {
   "cell_type": "code",
   "execution_count": 15,
   "id": "60e8739b-b0b2-4811-b911-efb47fc9cd15",
   "metadata": {},
   "outputs": [
    {
     "ename": "ValueError",
     "evalue": "invalid literal for int() with base 10: 'Rajendra'",
     "output_type": "error",
     "traceback": [
      "\u001b[1;31m---------------------------------------------------------------------------\u001b[0m",
      "\u001b[1;31mValueError\u001b[0m                                Traceback (most recent call last)",
      "Cell \u001b[1;32mIn[15], line 2\u001b[0m\n\u001b[0;32m      1\u001b[0m name \u001b[38;5;241m=\u001b[39m \u001b[38;5;124m\"\u001b[39m\u001b[38;5;124mRajendra\u001b[39m\u001b[38;5;124m\"\u001b[39m\n\u001b[1;32m----> 2\u001b[0m name \u001b[38;5;241m=\u001b[39m \u001b[38;5;28;43mint\u001b[39;49m\u001b[43m(\u001b[49m\u001b[43mname\u001b[49m\u001b[43m)\u001b[49m\n",
      "\u001b[1;31mValueError\u001b[0m: invalid literal for int() with base 10: 'Rajendra'"
     ]
    }
   ],
   "source": [
    "name = \"Rajendra\"\n",
    "name = int(name)"
   ]
  },
  {
   "cell_type": "code",
   "execution_count": null,
   "id": "fd8f62ae-a822-45ce-a860-14a337c85efb",
   "metadata": {},
   "outputs": [],
   "source": []
  }
 ],
 "metadata": {
  "kernelspec": {
   "display_name": "Python 3 (ipykernel)",
   "language": "python",
   "name": "python3"
  },
  "language_info": {
   "codemirror_mode": {
    "name": "ipython",
    "version": 3
   },
   "file_extension": ".py",
   "mimetype": "text/x-python",
   "name": "python",
   "nbconvert_exporter": "python",
   "pygments_lexer": "ipython3",
   "version": "3.12.0"
  }
 },
 "nbformat": 4,
 "nbformat_minor": 5
}
