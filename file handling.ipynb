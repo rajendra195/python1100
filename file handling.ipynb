{
 "cells": [
  {
   "cell_type": "markdown",
   "id": "7e33630d-c9dc-46e2-a927-262a22d90b0d",
   "metadata": {},
   "source": [
    "# we open the file\n",
    "\n",
    "```python\n",
    "    open(filename, mode)\n",
    "```\n",
    "\n",
    "mode:\n",
    "* read: \"r\"\n",
    "* write: \"w\"\n",
    "* append: \"a\"\n",
    "* create: \"x\""
   ]
  },
  {
   "cell_type": "code",
   "execution_count": 1,
   "id": "a07e1130-f357-4356-9185-35089a68b440",
   "metadata": {},
   "outputs": [
    {
     "ename": "FileNotFoundError",
     "evalue": "[Errno 2] No such file or directory: 'student.txt'",
     "output_type": "error",
     "traceback": [
      "\u001b[1;31m---------------------------------------------------------------------------\u001b[0m",
      "\u001b[1;31mFileNotFoundError\u001b[0m                         Traceback (most recent call last)",
      "Cell \u001b[1;32mIn[1], line 1\u001b[0m\n\u001b[1;32m----> 1\u001b[0m file \u001b[38;5;241m=\u001b[39m \u001b[38;5;28;43mopen\u001b[39;49m\u001b[43m(\u001b[49m\u001b[38;5;124;43m\"\u001b[39;49m\u001b[38;5;124;43mstudent.txt\u001b[39;49m\u001b[38;5;124;43m\"\u001b[39;49m\u001b[43m,\u001b[49m\u001b[43m \u001b[49m\u001b[38;5;124;43m\"\u001b[39;49m\u001b[38;5;124;43mr\u001b[39;49m\u001b[38;5;124;43m\"\u001b[39;49m\u001b[43m)\u001b[49m\n",
      "File \u001b[1;32m~\\AppData\\Local\\Programs\\Python\\Python312\\Lib\\site-packages\\IPython\\core\\interactiveshell.py:310\u001b[0m, in \u001b[0;36m_modified_open\u001b[1;34m(file, *args, **kwargs)\u001b[0m\n\u001b[0;32m    303\u001b[0m \u001b[38;5;28;01mif\u001b[39;00m file \u001b[38;5;129;01min\u001b[39;00m {\u001b[38;5;241m0\u001b[39m, \u001b[38;5;241m1\u001b[39m, \u001b[38;5;241m2\u001b[39m}:\n\u001b[0;32m    304\u001b[0m     \u001b[38;5;28;01mraise\u001b[39;00m \u001b[38;5;167;01mValueError\u001b[39;00m(\n\u001b[0;32m    305\u001b[0m         \u001b[38;5;124mf\u001b[39m\u001b[38;5;124m\"\u001b[39m\u001b[38;5;124mIPython won\u001b[39m\u001b[38;5;124m'\u001b[39m\u001b[38;5;124mt let you open fd=\u001b[39m\u001b[38;5;132;01m{\u001b[39;00mfile\u001b[38;5;132;01m}\u001b[39;00m\u001b[38;5;124m by default \u001b[39m\u001b[38;5;124m\"\u001b[39m\n\u001b[0;32m    306\u001b[0m         \u001b[38;5;124m\"\u001b[39m\u001b[38;5;124mas it is likely to crash IPython. If you know what you are doing, \u001b[39m\u001b[38;5;124m\"\u001b[39m\n\u001b[0;32m    307\u001b[0m         \u001b[38;5;124m\"\u001b[39m\u001b[38;5;124myou can use builtins\u001b[39m\u001b[38;5;124m'\u001b[39m\u001b[38;5;124m open.\u001b[39m\u001b[38;5;124m\"\u001b[39m\n\u001b[0;32m    308\u001b[0m     )\n\u001b[1;32m--> 310\u001b[0m \u001b[38;5;28;01mreturn\u001b[39;00m \u001b[43mio_open\u001b[49m\u001b[43m(\u001b[49m\u001b[43mfile\u001b[49m\u001b[43m,\u001b[49m\u001b[43m \u001b[49m\u001b[38;5;241;43m*\u001b[39;49m\u001b[43margs\u001b[49m\u001b[43m,\u001b[49m\u001b[43m \u001b[49m\u001b[38;5;241;43m*\u001b[39;49m\u001b[38;5;241;43m*\u001b[39;49m\u001b[43mkwargs\u001b[49m\u001b[43m)\u001b[49m\n",
      "\u001b[1;31mFileNotFoundError\u001b[0m: [Errno 2] No such file or directory: 'student.txt'"
     ]
    }
   ],
   "source": [
    "file = open(\"student.txt\", \"r\")"
   ]
  },
  {
   "cell_type": "code",
   "execution_count": 8,
   "id": "36141fee-59ce-4022-8775-3f713290a29c",
   "metadata": {},
   "outputs": [],
   "source": [
    "try:\n",
    "    file = open(\"student.txt\", \"r\")\n",
    "\n",
    "except FileNotFoundError as e:\n",
    "    print(e)"
   ]
  },
  {
   "cell_type": "markdown",
   "id": "dbb96873-5711-45a2-b0a9-b12294d09de3",
   "metadata": {},
   "source": [
    "# Reading a file"
   ]
  },
  {
   "cell_type": "code",
   "execution_count": 15,
   "id": "3650ea13-8c93-4e17-b7f3-72d32fe97b4b",
   "metadata": {},
   "outputs": [
    {
     "name": "stdout",
     "output_type": "stream",
     "text": [
      "Abhinay\n",
      "Roji\n",
      "Rijul\n",
      "Yunish\n",
      "Naresh\n"
     ]
    }
   ],
   "source": [
    "file = open(\"student.txt\", \"r\")\n",
    "text = file.read()\n",
    "print(text)\n",
    "file.close() # yo approach ma file open garepaxi close garnu parxa"
   ]
  },
  {
   "cell_type": "code",
   "execution_count": 22,
   "id": "34e148a3-4cf3-442b-9e64-4101f8e71e27",
   "metadata": {},
   "outputs": [
    {
     "name": "stdout",
     "output_type": "stream",
     "text": [
      "Abhinay\n",
      "Roji\n",
      "Rijul\n",
      "Yunish\n",
      "Naresh\n"
     ]
    }
   ],
   "source": [
    "with open(\"student.txt\", \"r\") as file: # yo approach ma file close garirahanu pardaina aafai automatically hunxa\n",
    "    text = file.read()\n",
    "    \n",
    "print(text)  "
   ]
  },
  {
   "cell_type": "code",
   "execution_count": 20,
   "id": "7946aa9b-7c50-49d3-9231-765438a5dc68",
   "metadata": {},
   "outputs": [
    {
     "name": "stdout",
     "output_type": "stream",
     "text": [
      "['Abhinay\\n', 'Roji\\n', 'Rijul\\n', 'Yunish\\n', 'Naresh']\n"
     ]
    }
   ],
   "source": [
    "with open(\"student.txt\", \"r\") as file:\n",
    "    text = file.readlines() \n",
    "print(text)"
   ]
  },
  {
   "cell_type": "code",
   "execution_count": 21,
   "id": "9b7864ef-309b-4956-9bb7-f8a0f4a7de6d",
   "metadata": {},
   "outputs": [
    {
     "name": "stdout",
     "output_type": "stream",
     "text": [
      "Abhinay\n",
      "\n"
     ]
    }
   ],
   "source": [
    "with open(\"student.txt\", \"r\") as file:\n",
    "    text = file.readline()\n",
    "print(text)"
   ]
  },
  {
   "cell_type": "markdown",
   "id": "85433bd4-adf9-444d-af4c-95498ddae980",
   "metadata": {},
   "source": [
    "# Writing in a file (\"w\")\n",
    "* write mode creates a file if it doesn't exist if it exist its creates a new one and old data is lost"
   ]
  },
  {
   "cell_type": "code",
   "execution_count": 26,
   "id": "22530b7d-4dec-420d-959d-a574215bc2c5",
   "metadata": {},
   "outputs": [],
   "source": [
    "with open(\"name.txt\", \"w\") as file:\n",
    "    text = file.write(\"Yo python 1100 ko student ko name ko file ho.\")"
   ]
  },
  {
   "cell_type": "code",
   "execution_count": 27,
   "id": "3161332b-11a1-450d-b6bb-fed47db72c54",
   "metadata": {},
   "outputs": [
    {
     "data": {
      "text/plain": [
       "True"
      ]
     },
     "execution_count": 27,
     "metadata": {},
     "output_type": "execute_result"
    }
   ],
   "source": [
    "import os\n",
    "os.path.exists(\"name.txt\")"
   ]
  },
  {
   "cell_type": "code",
   "execution_count": 28,
   "id": "2dbbc3dd-dcf3-4caf-80bb-e17ab1b24df5",
   "metadata": {},
   "outputs": [
    {
     "name": "stdout",
     "output_type": "stream",
     "text": [
      "Yo python 1100 ko student ko name ko file ho.\n"
     ]
    }
   ],
   "source": [
    "with open(\"name.txt\", \"r\") as file:\n",
    "    text = file.read()\n",
    "print(text)"
   ]
  },
  {
   "cell_type": "code",
   "execution_count": 33,
   "id": "2ff34e6b-4eeb-4698-a42c-f71363979e4d",
   "metadata": {},
   "outputs": [],
   "source": [
    "with open(\"name.txt\", \"w\") as file:\n",
    "    text = file.write(\"file already exist gartheo tesma kehi data theyo aabo lost vayo.\")"
   ]
  },
  {
   "cell_type": "code",
   "execution_count": 34,
   "id": "839240c8-4215-43d1-99fc-6a8986769211",
   "metadata": {},
   "outputs": [
    {
     "name": "stdout",
     "output_type": "stream",
     "text": [
      "file already exist gartheo tesma kehi data theyo aabo lost vayo.\n"
     ]
    }
   ],
   "source": [
    "with open(\"name.txt\", \"r\") as file:\n",
    "    text = file.read()\n",
    "print(text)"
   ]
  },
  {
   "cell_type": "markdown",
   "id": "65db3c23-3732-4114-890a-2f76faec66ec",
   "metadata": {},
   "source": [
    "# creating a file (\"x\")"
   ]
  },
  {
   "cell_type": "code",
   "execution_count": 2,
   "id": "cbdc540b-fd33-4f12-b06c-ed7ded00ca07",
   "metadata": {},
   "outputs": [],
   "source": [
    "with open(\"newfile1.txt\", \"x\") as file:\n",
    "    file.write(\"I am a newfile cerated using create mode\")"
   ]
  },
  {
   "cell_type": "code",
   "execution_count": 3,
   "id": "060b58da-c445-4630-b7fa-9c2f42c21765",
   "metadata": {},
   "outputs": [],
   "source": [
    "with open(\"newfile2.txt\", \"x\") as file:\n",
    "    pass"
   ]
  },
  {
   "cell_type": "markdown",
   "id": "30273370-0453-4092-a241-97625dcd4f4d",
   "metadata": {},
   "source": [
    "# append mode (\"a\")"
   ]
  },
  {
   "cell_type": "code",
   "execution_count": 4,
   "id": "54a16b08-342b-46ce-9808-293a9bbee3d4",
   "metadata": {},
   "outputs": [],
   "source": [
    "with open(\"lang.txt\", \"a\") as file:\n",
    "    file.write(\"python\")"
   ]
  },
  {
   "cell_type": "code",
   "execution_count": 5,
   "id": "6716e56c-3362-456d-aa64-5a2bd148cc83",
   "metadata": {},
   "outputs": [
    {
     "name": "stdout",
     "output_type": "stream",
     "text": [
      "python\n"
     ]
    }
   ],
   "source": [
    "with open(\"lang.txt\", \"r\") as file:\n",
    "    print(file.read())"
   ]
  },
  {
   "cell_type": "code",
   "execution_count": 6,
   "id": "f474f25b-9cbd-4b89-a061-add861e531b8",
   "metadata": {},
   "outputs": [],
   "source": [
    "# lang.txt exist garxa aaba tyesma write garna khojyo vane append mode ma data loss hudaina"
   ]
  },
  {
   "cell_type": "code",
   "execution_count": 7,
   "id": "b91d865c-cd26-4dbb-b31d-d4760a7bf9e7",
   "metadata": {},
   "outputs": [],
   "source": [
    "with open(\"lang.txt\", \"a\") as file:\n",
    "    file.write(\"Javascript\")"
   ]
  },
  {
   "cell_type": "code",
   "execution_count": 8,
   "id": "63847ef2-093f-4276-8b02-d86e89af6322",
   "metadata": {},
   "outputs": [
    {
     "name": "stdout",
     "output_type": "stream",
     "text": [
      "pythonJavascript\n"
     ]
    }
   ],
   "source": [
    "with open(\"lang.txt\", \"r\") as file:\n",
    "    print(file.read())"
   ]
  },
  {
   "cell_type": "code",
   "execution_count": 10,
   "id": "40ffc46c-03a1-4bae-82da-5f2d8a7deb66",
   "metadata": {},
   "outputs": [
    {
     "ename": "FileNotFoundError",
     "evalue": "[Errno 2] No such file or directory: 'student.txt'",
     "output_type": "error",
     "traceback": [
      "\u001b[1;31m---------------------------------------------------------------------------\u001b[0m",
      "\u001b[1;31mFileNotFoundError\u001b[0m                         Traceback (most recent call last)",
      "Cell \u001b[1;32mIn[10], line 1\u001b[0m\n\u001b[1;32m----> 1\u001b[0m file \u001b[38;5;241m=\u001b[39m \u001b[38;5;28;43mopen\u001b[39;49m\u001b[43m(\u001b[49m\u001b[38;5;124;43m\"\u001b[39;49m\u001b[38;5;124;43mstudent.txt\u001b[39;49m\u001b[38;5;124;43m\"\u001b[39;49m\u001b[43m,\u001b[49m\u001b[43m \u001b[49m\u001b[38;5;124;43m\"\u001b[39;49m\u001b[38;5;124;43mr\u001b[39;49m\u001b[38;5;124;43m\"\u001b[39;49m\u001b[43m)\u001b[49m\n\u001b[0;32m      2\u001b[0m file\u001b[38;5;241m.\u001b[39mread()\n\u001b[0;32m      3\u001b[0m file\u001b[38;5;241m.\u001b[39mclose()\n",
      "File \u001b[1;32m~\\AppData\\Local\\Programs\\Python\\Python312\\Lib\\site-packages\\IPython\\core\\interactiveshell.py:310\u001b[0m, in \u001b[0;36m_modified_open\u001b[1;34m(file, *args, **kwargs)\u001b[0m\n\u001b[0;32m    303\u001b[0m \u001b[38;5;28;01mif\u001b[39;00m file \u001b[38;5;129;01min\u001b[39;00m {\u001b[38;5;241m0\u001b[39m, \u001b[38;5;241m1\u001b[39m, \u001b[38;5;241m2\u001b[39m}:\n\u001b[0;32m    304\u001b[0m     \u001b[38;5;28;01mraise\u001b[39;00m \u001b[38;5;167;01mValueError\u001b[39;00m(\n\u001b[0;32m    305\u001b[0m         \u001b[38;5;124mf\u001b[39m\u001b[38;5;124m\"\u001b[39m\u001b[38;5;124mIPython won\u001b[39m\u001b[38;5;124m'\u001b[39m\u001b[38;5;124mt let you open fd=\u001b[39m\u001b[38;5;132;01m{\u001b[39;00mfile\u001b[38;5;132;01m}\u001b[39;00m\u001b[38;5;124m by default \u001b[39m\u001b[38;5;124m\"\u001b[39m\n\u001b[0;32m    306\u001b[0m         \u001b[38;5;124m\"\u001b[39m\u001b[38;5;124mas it is likely to crash IPython. If you know what you are doing, \u001b[39m\u001b[38;5;124m\"\u001b[39m\n\u001b[0;32m    307\u001b[0m         \u001b[38;5;124m\"\u001b[39m\u001b[38;5;124myou can use builtins\u001b[39m\u001b[38;5;124m'\u001b[39m\u001b[38;5;124m open.\u001b[39m\u001b[38;5;124m\"\u001b[39m\n\u001b[0;32m    308\u001b[0m     )\n\u001b[1;32m--> 310\u001b[0m \u001b[38;5;28;01mreturn\u001b[39;00m \u001b[43mio_open\u001b[49m\u001b[43m(\u001b[49m\u001b[43mfile\u001b[49m\u001b[43m,\u001b[49m\u001b[43m \u001b[49m\u001b[38;5;241;43m*\u001b[39;49m\u001b[43margs\u001b[49m\u001b[43m,\u001b[49m\u001b[43m \u001b[49m\u001b[38;5;241;43m*\u001b[39;49m\u001b[38;5;241;43m*\u001b[39;49m\u001b[43mkwargs\u001b[49m\u001b[43m)\u001b[49m\n",
      "\u001b[1;31mFileNotFoundError\u001b[0m: [Errno 2] No such file or directory: 'student.txt'"
     ]
    }
   ],
   "source": [
    "file = open(\"student.txt\", \"r\")\n",
    "file.read()\n",
    "file.close()"
   ]
  },
  {
   "cell_type": "code",
   "execution_count": 15,
   "id": "44998aa5-8296-45b3-90d9-fbb007d6a07d",
   "metadata": {},
   "outputs": [],
   "source": [
    "file = open(\"student.txt\", \"w\")\n",
    "file.write(\"Hello! Human.\")\n",
    "file.close()"
   ]
  },
  {
   "cell_type": "code",
   "execution_count": 18,
   "id": "15616451-6aa0-4c13-8b41-4fa4cbe280b2",
   "metadata": {},
   "outputs": [
    {
     "name": "stdout",
     "output_type": "stream",
     "text": [
      "Hello! Human.\n"
     ]
    }
   ],
   "source": [
    "file = open(\"student.txt\", \"r\")\n",
    "data = file.read()\n",
    "print(data)\n",
    "file.close()"
   ]
  },
  {
   "cell_type": "code",
   "execution_count": 26,
   "id": "e28026f1-79ff-44fb-8793-8a0db1031600",
   "metadata": {},
   "outputs": [],
   "source": [
    "with open(\"student.txt\", \"a\") as file:\n",
    "    file.write(\"Hello! Alien\")"
   ]
  },
  {
   "cell_type": "code",
   "execution_count": 27,
   "id": "fd882cfe-21df-4774-992b-948a70a4c180",
   "metadata": {},
   "outputs": [
    {
     "name": "stdout",
     "output_type": "stream",
     "text": [
      "Hello! Human.Hello! AlienHello! AlienHello! AlienHello! Alien\n"
     ]
    }
   ],
   "source": [
    "with open(\"student.txt\", \"r\") as file:\n",
    "    print(file.read())"
   ]
  },
  {
   "cell_type": "markdown",
   "id": "8c59a74b-4b4f-4663-a60d-c8d6caa8997a",
   "metadata": {},
   "source": [
    "# CSV (comma separated value)"
   ]
  },
  {
   "cell_type": "code",
   "execution_count": 34,
   "id": "b4cf6647-c1ab-4f6d-a6d0-a2d331864e53",
   "metadata": {},
   "outputs": [],
   "source": [
    "header = [\"roll_no\", \"name\"]\n",
    "import csv\n",
    "\n",
    "with open(\"student.csv\", \"w\") as file:\n",
    "    writer = csv.DictWriter(file, header)\n",
    "    writer.writeheader()\n",
    "    \n",
    "    writer.writerow({\"roll_no\": 1, \"name\": \"Kshitiz\"})\n",
    "    writer.writerow({\"roll_no\": 2, \"name\": \"Naresh\"})"
   ]
  },
  {
   "cell_type": "code",
   "execution_count": 38,
   "id": "33a9649a-8469-4245-b64f-18d01a336cc1",
   "metadata": {},
   "outputs": [
    {
     "name": "stdout",
     "output_type": "stream",
     "text": [
      "1 Kshitiz\n",
      "2 Naresh\n"
     ]
    }
   ],
   "source": [
    "with open(\"student.csv\") as file:\n",
    "    reader = csv.DictReader(file)\n",
    "\n",
    "    for row in reader:\n",
    "        print(row[\"roll_no\"], row[\"name\"])"
   ]
  },
  {
   "cell_type": "code",
   "execution_count": null,
   "id": "3f201d70-5586-4e08-8dc7-17bceca13574",
   "metadata": {},
   "outputs": [],
   "source": []
  }
 ],
 "metadata": {
  "kernelspec": {
   "display_name": "Python 3 (ipykernel)",
   "language": "python",
   "name": "python3"
  },
  "language_info": {
   "codemirror_mode": {
    "name": "ipython",
    "version": 3
   },
   "file_extension": ".py",
   "mimetype": "text/x-python",
   "name": "python",
   "nbconvert_exporter": "python",
   "pygments_lexer": "ipython3",
   "version": "3.12.0"
  }
 },
 "nbformat": 4,
 "nbformat_minor": 5
}
