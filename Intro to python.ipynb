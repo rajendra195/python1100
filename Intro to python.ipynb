{
 "cells": [
  {
   "cell_type": "markdown",
   "id": "caa0834c-1fdc-4707-9ccc-edb338f5f5f1",
   "metadata": {},
   "source": [
    "2 + 2"
   ]
  },
  {
   "cell_type": "code",
   "execution_count": 2,
   "id": "55463977-6c50-43da-a312-750b37716a51",
   "metadata": {},
   "outputs": [
    {
     "data": {
      "text/plain": [
       "10"
      ]
     },
     "execution_count": 2,
     "metadata": {},
     "output_type": "execute_result"
    }
   ],
   "source": [
    "2 * 5"
   ]
  },
  {
   "cell_type": "code",
   "execution_count": 3,
   "id": "a039c4e0-f49b-449b-9645-fb49afb939b1",
   "metadata": {},
   "outputs": [
    {
     "data": {
      "text/plain": [
       "11.2"
      ]
     },
     "execution_count": 3,
     "metadata": {},
     "output_type": "execute_result"
    }
   ],
   "source": [
    "56 / 5"
   ]
  },
  {
   "cell_type": "code",
   "execution_count": 4,
   "id": "e08b6b90-efd7-4d6c-9c23-632120b6f30e",
   "metadata": {},
   "outputs": [
    {
     "data": {
      "text/plain": [
       "-50"
      ]
     },
     "execution_count": 4,
     "metadata": {},
     "output_type": "execute_result"
    }
   ],
   "source": [
    "5 - 55"
   ]
  },
  {
   "cell_type": "code",
   "execution_count": 6,
   "id": "f101f73e-49fb-49f6-bee3-677aa92f3e14",
   "metadata": {},
   "outputs": [
    {
     "data": {
      "text/plain": [
       "2.5"
      ]
     },
     "execution_count": 6,
     "metadata": {},
     "output_type": "execute_result"
    }
   ],
   "source": [
    "5 / 2"
   ]
  },
  {
   "cell_type": "code",
   "execution_count": 7,
   "id": "f39054aa-e542-4428-85e3-ee33d744ecd0",
   "metadata": {},
   "outputs": [
    {
     "name": "stdout",
     "output_type": "stream",
     "text": [
      "10\n"
     ]
    }
   ],
   "source": [
    "print(2 + 8)"
   ]
  },
  {
   "cell_type": "code",
   "execution_count": 8,
   "id": "eae34b45-5f2f-45c5-ba5b-a19e32ceba3a",
   "metadata": {},
   "outputs": [
    {
     "name": "stdout",
     "output_type": "stream",
     "text": [
      "hello world\n"
     ]
    }
   ],
   "source": [
    "print(\"hello world\")"
   ]
  },
  {
   "cell_type": "code",
   "execution_count": 9,
   "id": "8f7941c0-7b1a-4c7c-8305-422b300bdbd5",
   "metadata": {},
   "outputs": [
    {
     "name": "stdout",
     "output_type": "stream",
     "text": [
      "23 + 34\n"
     ]
    }
   ],
   "source": [
    "print(\"23 + 34\")"
   ]
  },
  {
   "cell_type": "code",
   "execution_count": 11,
   "id": "78357dc2-381b-4cae-8471-51e449416deb",
   "metadata": {},
   "outputs": [
    {
     "ename": "NameError",
     "evalue": "name 'hello' is not defined",
     "output_type": "error",
     "traceback": [
      "\u001b[1;31m---------------------------------------------------------------------------\u001b[0m",
      "\u001b[1;31mNameError\u001b[0m                                 Traceback (most recent call last)",
      "Cell \u001b[1;32mIn[11], line 1\u001b[0m\n\u001b[1;32m----> 1\u001b[0m \u001b[38;5;28mprint\u001b[39m(\u001b[43mhello\u001b[49m)\n",
      "\u001b[1;31mNameError\u001b[0m: name 'hello' is not defined"
     ]
    }
   ],
   "source": [
    "print(hello)"
   ]
  },
  {
   "cell_type": "code",
   "execution_count": 14,
   "id": "0e7c724c-7f8c-4154-8a4e-1c4edddad8c5",
   "metadata": {},
   "outputs": [
    {
     "name": "stdout",
     "output_type": "stream",
     "text": [
      "Hello World!\n"
     ]
    }
   ],
   "source": [
    "# hash bata start hune lai comment vanxa ra yeslai python le execute gardaina\n",
    "print(\"Hello World!\") # string should be inside the double quote(\"\")"
   ]
  },
  {
   "cell_type": "code",
   "execution_count": 15,
   "id": "38c44b5c-fd10-46c0-a09d-3c345106e2da",
   "metadata": {},
   "outputs": [
    {
     "name": "stdout",
     "output_type": "stream",
     "text": [
      "My name is Rajendra Niroula.\n"
     ]
    }
   ],
   "source": [
    "print(\"My name is Rajendra Niroula.\")"
   ]
  },
  {
   "cell_type": "code",
   "execution_count": 16,
   "id": "7f2dccb0-e03b-4e31-86a0-17923f0e055b",
   "metadata": {},
   "outputs": [
    {
     "name": "stdout",
     "output_type": "stream",
     "text": [
      "My name is Rajendra Niroula.\n",
      "My name is Rajendra Niroula.\n",
      "My name is Rajendra Niroula.\n"
     ]
    }
   ],
   "source": [
    "print(\"My name is Rajendra Niroula.\")\n",
    "print(\"My name is Rajendra Niroula.\")\n",
    "print(\"My name is Rajendra Niroula.\")"
   ]
  },
  {
   "cell_type": "code",
   "execution_count": 17,
   "id": "5a7bad1d-ba98-405d-a137-0672cb574fd1",
   "metadata": {},
   "outputs": [
    {
     "name": "stdout",
     "output_type": "stream",
     "text": [
      "18\n"
     ]
    }
   ],
   "source": [
    "a = 3\n",
    "b = 6\n",
    "print(a * b)"
   ]
  },
  {
   "cell_type": "markdown",
   "id": "d1038a30-e6d6-44a7-b91e-7a351ca02002",
   "metadata": {},
   "source": [
    "# Python as Calculator (algebra)"
   ]
  },
  {
   "cell_type": "code",
   "execution_count": 18,
   "id": "41bb0af5-0d61-477e-a5a1-42329b933af8",
   "metadata": {},
   "outputs": [
    {
     "name": "stdout",
     "output_type": "stream",
     "text": [
      "11\n"
     ]
    }
   ],
   "source": [
    "a = 5\n",
    "b = 6\n",
    "c = a + b\n",
    "print(c)"
   ]
  },
  {
   "cell_type": "markdown",
   "id": "d62619c0-0efe-4f2d-bc93-c0ea649c2a9d",
   "metadata": {},
   "source": [
    "# In above code `a, b, and c` are variables"
   ]
  },
  {
   "cell_type": "markdown",
   "id": "89dfa494-1c32-4fd0-93e5-26bb34e09c98",
   "metadata": {},
   "source": [
    "# A python variable is a reserved memory location to store values."
   ]
  },
  {
   "cell_type": "code",
   "execution_count": 19,
   "id": "62306f59-2512-479a-b93b-b8a865188f53",
   "metadata": {},
   "outputs": [
    {
     "name": "stdout",
     "output_type": "stream",
     "text": [
      "41\n"
     ]
    }
   ],
   "source": [
    "a = 45\n",
    "b = 4\n",
    "c = a - b\n",
    "print(c)"
   ]
  },
  {
   "cell_type": "code",
   "execution_count": 20,
   "id": "e4b2d290-c942-4b4c-9928-d9225b097b5d",
   "metadata": {},
   "outputs": [
    {
     "name": "stdout",
     "output_type": "stream",
     "text": [
      "12\n"
     ]
    }
   ],
   "source": [
    "x = 4\n",
    "y = 3\n",
    "z = x * y\n",
    "print(z)"
   ]
  },
  {
   "cell_type": "code",
   "execution_count": 21,
   "id": "0daeba94-7dab-4fd3-a8d4-19ea1c303521",
   "metadata": {},
   "outputs": [
    {
     "name": "stdout",
     "output_type": "stream",
     "text": [
      "28.0\n"
     ]
    }
   ],
   "source": [
    "x = 56\n",
    "y = 2\n",
    "z = x / y\n",
    "print(z)"
   ]
  },
  {
   "cell_type": "markdown",
   "id": "7327c884-783a-4678-872a-42e8fe2f0217",
   "metadata": {},
   "source": [
    "# Python is a high level interpreted programming language\n",
    "What is python?\n",
    "=> Python is dyanamic typed language\n",
    "(Data types are checked during execution)."
   ]
  },
  {
   "cell_type": "code",
   "execution_count": 23,
   "id": "d450f722-0d24-49eb-9c9b-59af6b02d5b3",
   "metadata": {},
   "outputs": [
    {
     "name": "stdout",
     "output_type": "stream",
     "text": [
      "30.5\n"
     ]
    }
   ],
   "source": [
    "first_number = 60.5 # first_number is variable, = is assignment operator and 60.5 is value.\n",
    "second_number = 30\n",
    "difference = first_number - second_number\n",
    "print(difference)"
   ]
  },
  {
   "cell_type": "code",
   "execution_count": null,
   "id": "012652ab-5452-4bd8-8292-4187d3d1f945",
   "metadata": {},
   "outputs": [],
   "source": [
    "#lsdfhdsj"
   ]
  },
  {
   "cell_type": "markdown",
   "id": "9a48b6fd-afdb-4194-ad18-aa8bd543d7fd",
   "metadata": {},
   "source": [
    "# this is comment"
   ]
  },
  {
   "cell_type": "markdown",
   "id": "d53d15ee-6cb1-41c9-a47c-226654ed6043",
   "metadata": {},
   "source": [
    "this is comment"
   ]
  },
  {
   "cell_type": "markdown",
   "id": "623656b4-7a9e-4aff-aad6-79a7f882e5f1",
   "metadata": {},
   "source": [
    "``"
   ]
  }
 ],
 "metadata": {
  "kernelspec": {
   "display_name": "Python 3 (ipykernel)",
   "language": "python",
   "name": "python3"
  },
  "language_info": {
   "codemirror_mode": {
    "name": "ipython",
    "version": 3
   },
   "file_extension": ".py",
   "mimetype": "text/x-python",
   "name": "python",
   "nbconvert_exporter": "python",
   "pygments_lexer": "ipython3",
   "version": "3.12.0"
  }
 },
 "nbformat": 4,
 "nbformat_minor": 5
}
