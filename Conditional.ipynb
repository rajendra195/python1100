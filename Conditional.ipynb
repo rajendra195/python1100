{
 "cells": [
  {
   "cell_type": "code",
   "execution_count": 6,
   "id": "67364f57-7bd2-467d-80b9-d16fd45413d6",
   "metadata": {},
   "outputs": [
    {
     "name": "stdout",
     "output_type": "stream",
     "text": [
      "Bye\n",
      "This is after if and else\n"
     ]
    }
   ],
   "source": [
    "if False:\n",
    "    print(\"Hello\")\n",
    "else:\n",
    "    print(\"Bye\")\n",
    "print(\"This is after if and else\")"
   ]
  },
  {
   "cell_type": "code",
   "execution_count": 8,
   "id": "e40e4a65-2808-40ab-b5f1-44e9f5b066ac",
   "metadata": {},
   "outputs": [
    {
     "data": {
      "text/plain": [
       "'Hello'"
      ]
     },
     "execution_count": 8,
     "metadata": {},
     "output_type": "execute_result"
    }
   ],
   "source": [
    "\"Hello\" if 2 < 3 else \"Bye\""
   ]
  },
  {
   "cell_type": "code",
   "execution_count": 9,
   "id": "42de394e-1567-4474-bd52-2ea73a823938",
   "metadata": {},
   "outputs": [
    {
     "name": "stdout",
     "output_type": "stream",
     "text": [
      "Hello\n"
     ]
    }
   ],
   "source": [
    "if True:\n",
    "    print(\"Hello\")\n",
    "else:\n",
    "    print(\"Bye\")"
   ]
  },
  {
   "cell_type": "code",
   "execution_count": 17,
   "id": "2d812e0b-f74b-4f03-b079-082549c09042",
   "metadata": {},
   "outputs": [
    {
     "name": "stdout",
     "output_type": "stream",
     "text": [
      "Enter your age?  11\n"
     ]
    },
    {
     "name": "stdout",
     "output_type": "stream",
     "text": [
      "You are underage. You have to wait for 7 more years.\n"
     ]
    }
   ],
   "source": [
    "age = int(input(\"Enter your age? \"))\n",
    "if age >= 18:\n",
    "    print(\"You are eligible to vote.\")\n",
    "else:\n",
    "    print(f\"You are underage. You have to wait for {18 - age} more years.\")"
   ]
  },
  {
   "cell_type": "code",
   "execution_count": 18,
   "id": "206b0637-6961-427a-802b-4842c7ef790f",
   "metadata": {},
   "outputs": [
    {
     "name": "stdout",
     "output_type": "stream",
     "text": [
      "Both are equal.\n"
     ]
    }
   ],
   "source": [
    "if 10 == 10:\n",
    "    print(\"Both are equal.\")"
   ]
  },
  {
   "cell_type": "code",
   "execution_count": 19,
   "id": "04888931-7cd8-49b7-9744-ca527a3d07f7",
   "metadata": {},
   "outputs": [],
   "source": [
    "if 10 != 10:\n",
    "    print(\"Both are equal.\")"
   ]
  },
  {
   "cell_type": "code",
   "execution_count": 21,
   "id": "479a555c-7a80-4ac9-a024-703c9ba335f4",
   "metadata": {},
   "outputs": [
    {
     "ename": "IndentationError",
     "evalue": "expected an indented block after 'if' statement on line 1 (2624973504.py, line 2)",
     "output_type": "error",
     "traceback": [
      "\u001b[1;36m  Cell \u001b[1;32mIn[21], line 2\u001b[1;36m\u001b[0m\n\u001b[1;33m    print(\"Both are equal.\")\u001b[0m\n\u001b[1;37m    ^\u001b[0m\n\u001b[1;31mIndentationError\u001b[0m\u001b[1;31m:\u001b[0m expected an indented block after 'if' statement on line 1\n"
     ]
    }
   ],
   "source": [
    "if 10 == 10:\n",
    "print(\"Both are equal.\")"
   ]
  },
  {
   "cell_type": "markdown",
   "id": "b8b7beec-a6df-4430-8858-3ac285bd3168",
   "metadata": {},
   "source": [
    "# WAP to identify if user given input number is +ve or -ve and print respective message."
   ]
  },
  {
   "cell_type": "code",
   "execution_count": 28,
   "id": "72c2c795-c165-4376-8baf-d03ee10fb711",
   "metadata": {},
   "outputs": [
    {
     "name": "stdout",
     "output_type": "stream",
     "text": [
      "Enter a number?  5\n"
     ]
    },
    {
     "name": "stdout",
     "output_type": "stream",
     "text": [
      "Positive.\n"
     ]
    }
   ],
   "source": [
    "num = int(input(\"Enter a number? \"))\n",
    "# \"Positive\" if num >=0 else \"Negative\"\n",
    "if num >= 0:\n",
    "    print(\"Positive.\")\n",
    "else:\n",
    "    print(\"Negative.\")"
   ]
  },
  {
   "cell_type": "markdown",
   "id": "46d37f77-e2ee-4618-8245-6421b7e77f1e",
   "metadata": {},
   "source": [
    "# WAP to identify if the user given input is odd or even."
   ]
  },
  {
   "cell_type": "code",
   "execution_count": 35,
   "id": "20d98958-2637-42e6-b637-688fa37a3b3c",
   "metadata": {},
   "outputs": [
    {
     "name": "stdout",
     "output_type": "stream",
     "text": [
      "Enter a number?  34\n"
     ]
    },
    {
     "name": "stdout",
     "output_type": "stream",
     "text": [
      "The number is even.\n"
     ]
    }
   ],
   "source": [
    "num = int(input(\"Enter a number? \"))\n",
    "if num % 2 == 0:\n",
    "    print(\"The number is even.\")\n",
    "else:\n",
    "    print(\"The number is odd.\")"
   ]
  },
  {
   "cell_type": "markdown",
   "id": "d040fb68-1992-4737-882b-08b2249043b8",
   "metadata": {},
   "source": [
    "# WAP to check if user given input is positive, negative or neutral."
   ]
  },
  {
   "cell_type": "code",
   "execution_count": 38,
   "id": "ee877622-e5db-4a15-896f-4b765438c8b2",
   "metadata": {},
   "outputs": [
    {
     "name": "stdout",
     "output_type": "stream",
     "text": [
      "Enter a number?  -1\n"
     ]
    },
    {
     "name": "stdout",
     "output_type": "stream",
     "text": [
      "Negative\n"
     ]
    }
   ],
   "source": [
    "num = int(input(\"Enter a number? \"))\n",
    "if num == 0:\n",
    "    print(\"Neutral\")\n",
    "if num > 0:\n",
    "    print(\"Positive\")\n",
    "if num < 0:\n",
    "    print(\"Negative\")"
   ]
  },
  {
   "cell_type": "markdown",
   "id": "2e610f7d-3edf-4160-af7d-4c2700e5e6ee",
   "metadata": {},
   "source": [
    "# Nesting of conditional"
   ]
  },
  {
   "cell_type": "code",
   "execution_count": 41,
   "id": "cd36f1e1-1f54-4a7f-89d6-9d8950cabb00",
   "metadata": {},
   "outputs": [
    {
     "name": "stdout",
     "output_type": "stream",
     "text": [
      "Enter a number?  0\n"
     ]
    },
    {
     "name": "stdout",
     "output_type": "stream",
     "text": [
      "Nutral\n"
     ]
    }
   ],
   "source": [
    "num = int(input(\"Enter a number? \"))\n",
    "if num == 0:\n",
    "    print(\"Nutral\")\n",
    "else:\n",
    "    if num > 0:\n",
    "        print(\"Positive\")\n",
    "    else:\n",
    "        print(\"Negative\")"
   ]
  },
  {
   "cell_type": "markdown",
   "id": "c5a41367-f31a-4f0a-bfd2-f6bbf1a588bd",
   "metadata": {},
   "source": [
    "# Chaining of conditional"
   ]
  },
  {
   "cell_type": "code",
   "execution_count": 44,
   "id": "f3904d3f-b1bd-4921-9f1a-99cec61776ec",
   "metadata": {},
   "outputs": [
    {
     "name": "stdout",
     "output_type": "stream",
     "text": [
      "Enter a number?  4\n"
     ]
    },
    {
     "name": "stdout",
     "output_type": "stream",
     "text": [
      "Positive\n"
     ]
    }
   ],
   "source": [
    "num = int(input(\"Enter a number? \"))\n",
    "if num == 0:\n",
    "    print(\"Neutral\")\n",
    "elif num > 0:\n",
    "    print(\"Positive\")\n",
    "else:\n",
    "    print(\"Negative\")"
   ]
  },
  {
   "cell_type": "code",
   "execution_count": 47,
   "id": "7ef68a27-4c28-4855-85e0-4905455bcd9f",
   "metadata": {},
   "outputs": [
    {
     "name": "stdout",
     "output_type": "stream",
     "text": [
      "Negative\n"
     ]
    }
   ],
   "source": [
    "num = -5\n",
    "if num == 0:\n",
    "    print(\"Neutral\")\n",
    "elif num > 0:\n",
    "    print(\"Positive\")\n",
    "elif num < 0:\n",
    "    print(\"Negative\")"
   ]
  },
  {
   "cell_type": "code",
   "execution_count": 48,
   "id": "2107364d-dd52-46a5-9732-4d6a1212529a",
   "metadata": {},
   "outputs": [
    {
     "name": "stdout",
     "output_type": "stream",
     "text": [
      "Neutral\n"
     ]
    }
   ],
   "source": [
    "num = 0\n",
    "if num == 0:\n",
    "    print(\"Neutral\")\n",
    "elif num >= 0:\n",
    "    print(\"Positive\")\n",
    "elif num < 0:\n",
    "    print(\"Negative\")"
   ]
  },
  {
   "cell_type": "markdown",
   "id": "70bdf1f7-ceb6-4889-b904-bf38663466a4",
   "metadata": {},
   "source": [
    "If one statement of if or elif is true it doesn't check other elif or else statement."
   ]
  }
 ],
 "metadata": {
  "kernelspec": {
   "display_name": "Python 3 (ipykernel)",
   "language": "python",
   "name": "python3"
  },
  "language_info": {
   "codemirror_mode": {
    "name": "ipython",
    "version": 3
   },
   "file_extension": ".py",
   "mimetype": "text/x-python",
   "name": "python",
   "nbconvert_exporter": "python",
   "pygments_lexer": "ipython3",
   "version": "3.12.0"
  }
 },
 "nbformat": 4,
 "nbformat_minor": 5
}
