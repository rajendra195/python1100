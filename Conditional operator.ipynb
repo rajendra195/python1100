{
 "cells": [
  {
   "cell_type": "code",
   "execution_count": 3,
   "id": "ab6d0965-0e10-47fc-afef-f4f5166dc981",
   "metadata": {},
   "outputs": [
    {
     "name": "stdout",
     "output_type": "stream",
     "text": [
      "10\n"
     ]
    }
   ],
   "source": [
    "num = 10\n",
    "if num == 10:\n",
    "    print(num)"
   ]
  },
  {
   "cell_type": "code",
   "execution_count": 6,
   "id": "7eda81a2-e7af-4f64-9249-ab15fd7ff1c5",
   "metadata": {},
   "outputs": [
    {
     "name": "stdout",
     "output_type": "stream",
     "text": [
      "HEllo\n"
     ]
    }
   ],
   "source": [
    "num = 145\n",
    "if num % 5 == 0:\n",
    "    print(\"HEllo\")\n",
    "else:\n",
    "    print(\"Bye\")"
   ]
  },
  {
   "cell_type": "code",
   "execution_count": 9,
   "id": "69e5f6dc-fe3f-4e36-bf6d-7bd4896768b4",
   "metadata": {},
   "outputs": [
    {
     "name": "stdout",
     "output_type": "stream",
     "text": [
      "You're eligible to vote.\n"
     ]
    }
   ],
   "source": [
    "age = 19\n",
    "if age >= 18:\n",
    "    print(\"You're eligible to vote.\")\n",
    "else:\n",
    "    print(\"You can't vote.\")"
   ]
  },
  {
   "cell_type": "code",
   "execution_count": 28,
   "id": "65782d41-2b48-410e-a15a-017167ec08ae",
   "metadata": {},
   "outputs": [
    {
     "name": "stdin",
     "output_type": "stream",
     "text": [
      "Number of unit of your electricity bill?  100\n"
     ]
    },
    {
     "name": "stdout",
     "output_type": "stream",
     "text": [
      "No charge.\n"
     ]
    }
   ],
   "source": [
    "unit = int(input(\"Number of unit of your electricity bill? \"))\n",
    "if unit <= 100:\n",
    "    print(\"No charge.\")\n",
    "elif unit >= 200:\n",
    "    total_bill = (unit - 200) * 10 + (100 * 5)\n",
    "    print(total_bill)\n",
    "else:\n",
    "    total_bill = (unit - 100) * 5\n",
    "    print(total_bill)"
   ]
  },
  {
   "cell_type": "code",
   "execution_count": null,
   "id": "ed44e080-6679-47d0-8790-472a4687dd2e",
   "metadata": {},
   "outputs": [],
   "source": []
  }
 ],
 "metadata": {
  "kernelspec": {
   "display_name": "Python 3 (ipykernel)",
   "language": "python",
   "name": "python3"
  },
  "language_info": {
   "codemirror_mode": {
    "name": "ipython",
    "version": 3
   },
   "file_extension": ".py",
   "mimetype": "text/x-python",
   "name": "python",
   "nbconvert_exporter": "python",
   "pygments_lexer": "ipython3",
   "version": "3.12.0"
  }
 },
 "nbformat": 4,
 "nbformat_minor": 5
}
